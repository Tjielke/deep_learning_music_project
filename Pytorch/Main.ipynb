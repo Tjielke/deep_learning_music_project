{
 "cells": [
  {
   "cell_type": "code",
   "execution_count": 1,
   "id": "initial_id",
   "metadata": {
    "collapsed": true,
    "ExecuteTime": {
     "end_time": "2024-04-09T08:53:58.743962Z",
     "start_time": "2024-04-09T08:53:50.693900800Z"
    }
   },
   "outputs": [
    {
     "name": "stdout",
     "output_type": "stream",
     "text": [
      "Using device: cpu\n"
     ]
    }
   ],
   "source": [
    "# Imports and GPU check\n",
    "import time\n",
    "\n",
    "import matplotlib.pyplot as plt\n",
    "import numpy as np\n",
    "import torchaudio\n",
    "from torch import nn\n",
    "import torchvision\n",
    "import torchvision.transforms as transforms\n",
    "from torch import nn, optim\n",
    "\n",
    "import os\n",
    "import pandas as pd\n",
    "import librosa\n",
    "import torch\n",
    "from torch.utils.data import Dataset, DataLoader\n",
    "\n",
    "\n",
    "# Check for GPU availability\n",
    "device = torch.device('cuda' if torch.cuda.is_available() else 'cpu')\n",
    "print(f\"Using device: {device}\")"
   ]
  },
  {
   "cell_type": "code",
   "execution_count": 2,
   "outputs": [],
   "source": [
    "# Hyperparameters\n",
    "dataset_size = 5000  # Reduced dataset size for quicker training\n",
    "\n",
    "epochs = 50\n",
    "learning_rate = 0.001\n",
    "\n",
    "METADATA_FILE = 'Pytorch/Data/musicnet_metadata.csv'\n",
    "AUDIO_DIR = 'Pytorch/Data/musicnet/musicnet/train_data'\n",
    "ANNOTATIONS_FILE = 'Pytorch/Data/musicnet/musicnet/train_labels'\n",
    "sample_rate = 44100\n",
    "num_samples = 22050"
   ],
   "metadata": {
    "collapsed": false,
    "ExecuteTime": {
     "end_time": "2024-04-09T08:53:58.758932500Z",
     "start_time": "2024-04-09T08:53:58.744975500Z"
    }
   },
   "id": "85af2c87b90209ab"
  },
  {
   "cell_type": "markdown",
   "source": [
    "We are creating a function to handle Dataloader"
   ],
   "metadata": {
    "collapsed": false
   },
   "id": "47e4a5a7c0110257"
  },
  {
   "cell_type": "code",
   "execution_count": 3,
   "outputs": [],
   "source": [
    "def create_data_loader(train_data, batch_size):\n",
    "    train_dataloader = DataLoader(train_data, batch_size=batch_size)\n",
    "    return train_dataloader"
   ],
   "metadata": {
    "collapsed": false,
    "ExecuteTime": {
     "end_time": "2024-04-09T08:53:58.758932500Z",
     "start_time": "2024-04-09T08:53:58.752402500Z"
    }
   },
   "id": "9bf9dc571ba556e4"
  },
  {
   "cell_type": "markdown",
   "source": [
    "We can use a single function to train our model but we won't. This is placeholder code."
   ],
   "metadata": {
    "collapsed": false
   },
   "id": "103584c09164ef2"
  },
  {
   "cell_type": "code",
   "execution_count": 4,
   "outputs": [],
   "source": [
    "def train_single_epoch(model, data_loader, loss_fn, optimizer, device):\n",
    "    for input ,target in data_loader:\n",
    "        input, target = input.to(device), target.to(device)\n",
    "        # loss\n",
    "        prediction = model(input)\n",
    "        loss = loss_fn(prediction, target)\n",
    "        # backpropogation\n",
    "        optimizer.zero_grad()\n",
    "        loss.backward()\n",
    "        optimizer.step()\n",
    "    print(f\"Loss: {loss.item()}\")"
   ],
   "metadata": {
    "collapsed": false,
    "ExecuteTime": {
     "end_time": "2024-04-09T08:53:58.801307900Z",
     "start_time": "2024-04-09T08:53:58.760930700Z"
    }
   },
   "id": "102aee100de104b3"
  },
  {
   "cell_type": "markdown",
   "source": [
    "We train our model here"
   ],
   "metadata": {
    "collapsed": false
   },
   "id": "a6d56478b29be573"
  },
  {
   "cell_type": "code",
   "execution_count": 5,
   "outputs": [],
   "source": [
    "def train(model, data_loader, loss_fn, optimizer, epochs, device):\n",
    "    for i in range(epochs):\n",
    "        for input ,target in data_loader:\n",
    "            input, target = input.to(device), target.to(device)\n",
    "            # loss\n",
    "            prediction = model(input)\n",
    "            loss = loss_fn(prediction, target)\n",
    "            # backpropogation\n",
    "            optimizer.zero_grad()\n",
    "            loss.backward()\n",
    "            optimizer.step()\n",
    "        print(\"-----------------------------------------------\")\n",
    "        print(f\"Loss: {loss.item()}\")\n",
    "    print(\"Training completed!!\")"
   ],
   "metadata": {
    "collapsed": false,
    "ExecuteTime": {
     "end_time": "2024-04-09T08:53:58.816303300Z",
     "start_time": "2024-04-09T08:53:58.771346300Z"
    }
   },
   "id": "18da4c4fcecc1f53"
  },
  {
   "cell_type": "markdown",
   "source": [
    "We plot our metrics with this function below."
   ],
   "metadata": {
    "collapsed": false
   },
   "id": "c2da1e5a6f515c04"
  },
  {
   "cell_type": "code",
   "execution_count": 6,
   "outputs": [],
   "source": [
    "def plot_metrics(train_losses, train_accuracies, validation_losses, validation_accuracies):\n",
    "    plt.figure(figsize=(12, 5))\n",
    "    \n",
    "    plt.subplot(1, 2, 1)\n",
    "    plt.plot(train_losses, label='Training Loss')\n",
    "    plt.plot(validation_losses, label='Validation Loss')\n",
    "    plt.title('Training vs. Validation Loss')\n",
    "    plt.xlabel('Epoch')\n",
    "    plt.ylabel('Loss')\n",
    "    plt.legend()\n",
    "    \n",
    "    plt.subplot(1, 2, 2)\n",
    "    plt.plot(train_accuracies, label='Training Accuracy')\n",
    "    plt.plot(validation_accuracies, label='Validation Accuracy')\n",
    "    plt.title('Training vs. Validation Accuracy')\n",
    "    plt.xlabel('Epoch')\n",
    "    plt.ylabel('Accuracy (%)')\n",
    "    plt.legend()"
   ],
   "metadata": {
    "collapsed": false,
    "ExecuteTime": {
     "end_time": "2024-04-09T08:53:58.818745200Z",
     "start_time": "2024-04-09T08:53:58.780048900Z"
    }
   },
   "id": "f6eac48db94475b5"
  },
  {
   "cell_type": "markdown",
   "source": [
    "We want to train our data first. So we import all csv files that are in train_label directory. We create a pandas dataframe and we concatenate all the csv files into one dataframe."
   ],
   "metadata": {
    "collapsed": false
   },
   "id": "2f8700d8f23b71e4"
  },
  {
   "cell_type": "code",
   "execution_count": 7,
   "outputs": [],
   "source": [
    "project_dir = os.getcwd()\n",
    "labels_dir = os.path.join(project_dir, 'Data', 'musicnet', 'musicnet', 'train_labels')\n",
    "dfs = []\n",
    "\n",
    "for file in os.listdir(labels_dir):\n",
    "    label_path = os.path.join(labels_dir, file)\n",
    "    df = pd.read_csv(label_path, index_col=None, header=0)\n",
    "    df['ID'] = int(file.split('.')[0])  # Extract ID from file name and add as a new column\n",
    "    dfs.append(df)\n",
    "\n",
    "train_dataframe = pd.concat(dfs, axis=0, ignore_index=True)\n"
   ],
   "metadata": {
    "collapsed": false,
    "ExecuteTime": {
     "end_time": "2024-04-09T08:54:01.128574300Z",
     "start_time": "2024-04-09T08:53:58.789304700Z"
    }
   },
   "id": "2748cd1ac36c8d42"
  },
  {
   "cell_type": "markdown",
   "source": [
    "Below we do some exploratory data analysis on the dataframe"
   ],
   "metadata": {
    "collapsed": false
   },
   "id": "a51240de4cd6eff"
  },
  {
   "cell_type": "code",
   "execution_count": 8,
   "outputs": [
    {
     "data": {
      "text/plain": "   start_time  end_time  instrument  note  start_beat  end_beat  \\\n0        9182     90078          43    53         4.0       1.5   \n1        9182     33758          42    65         4.0       0.5   \n2        9182     62430           1    69         4.0       1.0   \n3        9182    202206          44    41         4.0       3.5   \n4        9182     62430           1    81         4.0       1.0   \n\n       note_value    ID  \n0  Dotted Quarter  1727  \n1          Eighth  1727  \n2         Quarter  1727  \n3           Whole  1727  \n4         Quarter  1727  ",
      "text/html": "<div>\n<style scoped>\n    .dataframe tbody tr th:only-of-type {\n        vertical-align: middle;\n    }\n\n    .dataframe tbody tr th {\n        vertical-align: top;\n    }\n\n    .dataframe thead th {\n        text-align: right;\n    }\n</style>\n<table border=\"1\" class=\"dataframe\">\n  <thead>\n    <tr style=\"text-align: right;\">\n      <th></th>\n      <th>start_time</th>\n      <th>end_time</th>\n      <th>instrument</th>\n      <th>note</th>\n      <th>start_beat</th>\n      <th>end_beat</th>\n      <th>note_value</th>\n      <th>ID</th>\n    </tr>\n  </thead>\n  <tbody>\n    <tr>\n      <th>0</th>\n      <td>9182</td>\n      <td>90078</td>\n      <td>43</td>\n      <td>53</td>\n      <td>4.0</td>\n      <td>1.5</td>\n      <td>Dotted Quarter</td>\n      <td>1727</td>\n    </tr>\n    <tr>\n      <th>1</th>\n      <td>9182</td>\n      <td>33758</td>\n      <td>42</td>\n      <td>65</td>\n      <td>4.0</td>\n      <td>0.5</td>\n      <td>Eighth</td>\n      <td>1727</td>\n    </tr>\n    <tr>\n      <th>2</th>\n      <td>9182</td>\n      <td>62430</td>\n      <td>1</td>\n      <td>69</td>\n      <td>4.0</td>\n      <td>1.0</td>\n      <td>Quarter</td>\n      <td>1727</td>\n    </tr>\n    <tr>\n      <th>3</th>\n      <td>9182</td>\n      <td>202206</td>\n      <td>44</td>\n      <td>41</td>\n      <td>4.0</td>\n      <td>3.5</td>\n      <td>Whole</td>\n      <td>1727</td>\n    </tr>\n    <tr>\n      <th>4</th>\n      <td>9182</td>\n      <td>62430</td>\n      <td>1</td>\n      <td>81</td>\n      <td>4.0</td>\n      <td>1.0</td>\n      <td>Quarter</td>\n      <td>1727</td>\n    </tr>\n  </tbody>\n</table>\n</div>"
     },
     "execution_count": 8,
     "metadata": {},
     "output_type": "execute_result"
    }
   ],
   "source": [
    "train_dataframe.head()"
   ],
   "metadata": {
    "collapsed": false,
    "ExecuteTime": {
     "end_time": "2024-04-09T08:54:01.148038400Z",
     "start_time": "2024-04-09T08:54:01.130652800Z"
    }
   },
   "id": "363d084f158f8430"
  },
  {
   "cell_type": "code",
   "execution_count": 9,
   "outputs": [
    {
     "data": {
      "text/plain": "array([43, 42,  1, 44, 41, 72, 71, 61, 74, 69,  7], dtype=int64)"
     },
     "execution_count": 9,
     "metadata": {},
     "output_type": "execute_result"
    }
   ],
   "source": [
    "train_dataframe.instrument.unique()"
   ],
   "metadata": {
    "collapsed": false,
    "ExecuteTime": {
     "end_time": "2024-04-09T08:54:01.248201500Z",
     "start_time": "2024-04-09T08:54:01.149036Z"
    }
   },
   "id": "1017d6b535e41d6c"
  },
  {
   "cell_type": "code",
   "execution_count": 10,
   "outputs": [
    {
     "data": {
      "text/plain": "(1075951, 8)"
     },
     "execution_count": 10,
     "metadata": {},
     "output_type": "execute_result"
    }
   ],
   "source": [
    "train_dataframe.shape"
   ],
   "metadata": {
    "collapsed": false,
    "ExecuteTime": {
     "end_time": "2024-04-09T08:54:01.285723300Z",
     "start_time": "2024-04-09T08:54:01.169751200Z"
    }
   },
   "id": "5d41e07964a2461"
  },
  {
   "cell_type": "code",
   "execution_count": 11,
   "outputs": [
    {
     "data": {
      "text/plain": "array([1727, 1728, 1729, 1730, 1733, 1734, 1735, 1739, 1742, 1749, 1750,\n       1751, 1752, 1755, 1756, 1757, 1758, 1760, 1763, 1764, 1765, 1766,\n       1768, 1771, 1772, 1773, 1775, 1776, 1777, 1788, 1789, 1790, 1791,\n       1792, 1793, 1805, 1807, 1811, 1812, 1813, 1817, 1818, 1822, 1824,\n       1828, 1829, 1835, 1859, 1872, 1873, 1876, 1893, 1916, 1918, 1919,\n       1922, 1923, 1931, 1932, 1933, 2075, 2076, 2077, 2078, 2079, 2080,\n       2081, 2082, 2083, 2104, 2105, 2112, 2113, 2114, 2116, 2117, 2118,\n       2119, 2127, 2131, 2138, 2140, 2147, 2148, 2149, 2150, 2151, 2154,\n       2155, 2156, 2157, 2158, 2159, 2160, 2161, 2166, 2167, 2168, 2169,\n       2177, 2178, 2179, 2180, 2186, 2194, 2195, 2196, 2198, 2200, 2201,\n       2202, 2203, 2204, 2207, 2208, 2209, 2210, 2211, 2212, 2213, 2214,\n       2215, 2217, 2218, 2219, 2220, 2221, 2222, 2224, 2225, 2227, 2228,\n       2229, 2230, 2231, 2232, 2234, 2237, 2238, 2239, 2240, 2241, 2242,\n       2243, 2244, 2247, 2248, 2282, 2283, 2284, 2285, 2288, 2289, 2292,\n       2293, 2294, 2295, 2296, 2297, 2300, 2302, 2304, 2305, 2307, 2308,\n       2310, 2313, 2314, 2315, 2318, 2319, 2320, 2322, 2325, 2330, 2334,\n       2335, 2336, 2341, 2342, 2343, 2345, 2346, 2348, 2350, 2357, 2358,\n       2359, 2364, 2365, 2366, 2368, 2371, 2372, 2373, 2374, 2376, 2377,\n       2379, 2381, 2383, 2384, 2388, 2389, 2390, 2391, 2392, 2393, 2397,\n       2398, 2403, 2404, 2405, 2406, 2410, 2411, 2415, 2417, 2420, 2422,\n       2423, 2424, 2431, 2432, 2433, 2436, 2441, 2442, 2443, 2444, 2451,\n       2462, 2463, 2466, 2471, 2472, 2473, 2476, 2477, 2478, 2480, 2481,\n       2482, 2483, 2486, 2487, 2488, 2490, 2491, 2492, 2494, 2497, 2501,\n       2502, 2504, 2505, 2506, 2507, 2509, 2510, 2512, 2514, 2516, 2521,\n       2522, 2523, 2527, 2528, 2529, 2530, 2531, 2532, 2533, 2537, 2538,\n       2540, 2542, 2550, 2555, 2557, 2560, 2562, 2564, 2566, 2567, 2568,\n       2570, 2571, 2572, 2573, 2575, 2576, 2581, 2582, 2586, 2588, 2590,\n       2591, 2593, 2594, 2595, 2596, 2603, 2607, 2608, 2611, 2614, 2618,\n       2619, 2620, 2621, 2622, 2626, 2627, 2629, 2632, 2633, 2659, 2677,\n       2678], dtype=int64)"
     },
     "execution_count": 11,
     "metadata": {},
     "output_type": "execute_result"
    }
   ],
   "source": [
    "train_dataframe.ID.unique()"
   ],
   "metadata": {
    "collapsed": false,
    "ExecuteTime": {
     "end_time": "2024-04-09T08:54:01.363964500Z",
     "start_time": "2024-04-09T08:54:01.180120900Z"
    }
   },
   "id": "67b3a1fed9800e88"
  },
  {
   "cell_type": "markdown",
   "source": [
    "We do the same for the test data as we will need them later."
   ],
   "metadata": {
    "collapsed": false
   },
   "id": "f4b23ad45fdd15bf"
  },
  {
   "cell_type": "code",
   "execution_count": 12,
   "outputs": [
    {
     "data": {
      "text/plain": "   start_time  end_time  instrument  note  start_beat  end_beat  \\\n0       90078    124382           1    63         0.0     1.000   \n1       90078    124382           1    75         0.0     1.000   \n2       90078    110558           1    48         0.0     0.375   \n3      114654    122334           1    55         0.5     0.375   \n4      124382    139742           1    65         1.0     1.000   \n\n         note_value    ID  \n0           Quarter  1759  \n1           Quarter  1759  \n2  Dotted Sixteenth  1759  \n3  Dotted Sixteenth  1759  \n4           Quarter  1759  ",
      "text/html": "<div>\n<style scoped>\n    .dataframe tbody tr th:only-of-type {\n        vertical-align: middle;\n    }\n\n    .dataframe tbody tr th {\n        vertical-align: top;\n    }\n\n    .dataframe thead th {\n        text-align: right;\n    }\n</style>\n<table border=\"1\" class=\"dataframe\">\n  <thead>\n    <tr style=\"text-align: right;\">\n      <th></th>\n      <th>start_time</th>\n      <th>end_time</th>\n      <th>instrument</th>\n      <th>note</th>\n      <th>start_beat</th>\n      <th>end_beat</th>\n      <th>note_value</th>\n      <th>ID</th>\n    </tr>\n  </thead>\n  <tbody>\n    <tr>\n      <th>0</th>\n      <td>90078</td>\n      <td>124382</td>\n      <td>1</td>\n      <td>63</td>\n      <td>0.0</td>\n      <td>1.000</td>\n      <td>Quarter</td>\n      <td>1759</td>\n    </tr>\n    <tr>\n      <th>1</th>\n      <td>90078</td>\n      <td>124382</td>\n      <td>1</td>\n      <td>75</td>\n      <td>0.0</td>\n      <td>1.000</td>\n      <td>Quarter</td>\n      <td>1759</td>\n    </tr>\n    <tr>\n      <th>2</th>\n      <td>90078</td>\n      <td>110558</td>\n      <td>1</td>\n      <td>48</td>\n      <td>0.0</td>\n      <td>0.375</td>\n      <td>Dotted Sixteenth</td>\n      <td>1759</td>\n    </tr>\n    <tr>\n      <th>3</th>\n      <td>114654</td>\n      <td>122334</td>\n      <td>1</td>\n      <td>55</td>\n      <td>0.5</td>\n      <td>0.375</td>\n      <td>Dotted Sixteenth</td>\n      <td>1759</td>\n    </tr>\n    <tr>\n      <th>4</th>\n      <td>124382</td>\n      <td>139742</td>\n      <td>1</td>\n      <td>65</td>\n      <td>1.0</td>\n      <td>1.000</td>\n      <td>Quarter</td>\n      <td>1759</td>\n    </tr>\n  </tbody>\n</table>\n</div>"
     },
     "execution_count": 12,
     "metadata": {},
     "output_type": "execute_result"
    }
   ],
   "source": [
    "project_dir = os.getcwd()\n",
    "labels_dir = os.path.join(project_dir, 'Data', 'musicnet', 'musicnet', 'test_labels')\n",
    "dfs = []\n",
    "\n",
    "for file in os.listdir(labels_dir):\n",
    "    label_path = os.path.join(labels_dir, file)\n",
    "    df = pd.read_csv(label_path, index_col=None, header=0)\n",
    "    df['ID'] = int(file.split('.')[0])  # Extract ID from file name and add as a new column\n",
    "    dfs.append(df)\n",
    "\n",
    "test_dataframe = pd.concat(dfs, axis=0, ignore_index=True)\n",
    "test_dataframe.head()"
   ],
   "metadata": {
    "collapsed": false,
    "ExecuteTime": {
     "end_time": "2024-04-09T08:54:01.454031500Z",
     "start_time": "2024-04-09T08:54:01.206359100Z"
    }
   },
   "id": "b4dd49dbc0823eef"
  },
  {
   "cell_type": "markdown",
   "source": [
    "We do some exploratory data analysis on the test dataframe"
   ],
   "metadata": {
    "collapsed": false
   },
   "id": "fe4cce935787e001"
  },
  {
   "cell_type": "code",
   "execution_count": 13,
   "outputs": [
    {
     "data": {
      "text/plain": "array([ 1, 72, 71, 61, 41, 42, 43], dtype=int64)"
     },
     "execution_count": 13,
     "metadata": {},
     "output_type": "execute_result"
    }
   ],
   "source": [
    "test_dataframe.instrument.unique()\n"
   ],
   "metadata": {
    "collapsed": false,
    "ExecuteTime": {
     "end_time": "2024-04-09T08:54:01.474800300Z",
     "start_time": "2024-04-09T08:54:01.281426600Z"
    }
   },
   "id": "2a19f19b7924825c"
  },
  {
   "cell_type": "code",
   "execution_count": 20,
   "outputs": [
    {
     "data": {
      "text/plain": "array([43, 42,  1, 44, 41, 72, 71, 61, 74, 69,  7], dtype=int64)"
     },
     "execution_count": 20,
     "metadata": {},
     "output_type": "execute_result"
    }
   ],
   "source": [
    "train_dataframe.instrument.unique()"
   ],
   "metadata": {
    "collapsed": false,
    "ExecuteTime": {
     "end_time": "2024-04-09T09:01:50.846205200Z",
     "start_time": "2024-04-09T09:01:50.800436600Z"
    }
   },
   "id": "67e09d099b5da42b"
  },
  {
   "cell_type": "markdown",
   "source": [
    "We will now create a dataset class to handle our data. We will use the torchaudio library to create a mel spectrogram of our audio data."
   ],
   "metadata": {
    "collapsed": false
   },
   "id": "d15b1d4d93e83171"
  },
  {
   "cell_type": "code",
   "execution_count": 21,
   "outputs": [
    {
     "name": "stdout",
     "output_type": "stream",
     "text": [
      "CNNNetwork(\n",
      "  (conv1): Sequential(\n",
      "    (0): Conv2d(1, 16, kernel_size=(3, 3), stride=(1, 1), padding=(2, 2))\n",
      "    (1): ReLU()\n",
      "    (2): MaxPool2d(kernel_size=2, stride=2, padding=0, dilation=1, ceil_mode=False)\n",
      "  )\n",
      "  (conv2): Sequential(\n",
      "    (0): Conv2d(16, 32, kernel_size=(3, 3), stride=(1, 1), padding=(2, 2))\n",
      "    (1): ReLU()\n",
      "    (2): MaxPool2d(kernel_size=2, stride=2, padding=0, dilation=1, ceil_mode=False)\n",
      "  )\n",
      "  (conv3): Sequential(\n",
      "    (0): Conv2d(32, 64, kernel_size=(3, 3), stride=(1, 1), padding=(2, 2))\n",
      "    (1): ReLU()\n",
      "    (2): MaxPool2d(kernel_size=2, stride=2, padding=0, dilation=1, ceil_mode=False)\n",
      "  )\n",
      "  (conv4): Sequential(\n",
      "    (0): Conv2d(64, 128, kernel_size=(3, 3), stride=(1, 1), padding=(2, 2))\n",
      "    (1): ReLU()\n",
      "    (2): MaxPool2d(kernel_size=2, stride=2, padding=0, dilation=1, ceil_mode=False)\n",
      "  )\n",
      "  (flatten): Flatten(start_dim=1, end_dim=-1)\n",
      "  (linear): Linear(in_features=2560, out_features=11, bias=True)\n",
      "  (softmax): Softmax(dim=1)\n",
      ")\n"
     ]
    }
   ],
   "source": [
    "from Pytorch.Dataset.MusicDataset import MusicDataset\n",
    "from Pytorch.Model.CNN import CNNNetwork\n",
    "# Example usage:\n",
    " # instantiate dataset\n",
    " \n",
    "mel_spectrogram = torchaudio.transforms.MelSpectrogram(\n",
    " sample_rate=sample_rate,\n",
    "n_fft=1024,\n",
    "hop_length=512,\n",
    "n_mels=64\n",
    ")\n",
    "\n",
    "project_dir = os.getcwd()\n",
    "train_data_dir = os.path.join(project_dir, 'Data', 'musicnet', 'musicnet', 'train_data')\n",
    "metadata_file = os.path.join(project_dir, 'Data', 'musicnet_metadata.csv')\n",
    "#labels_dir = os.path.join(project_dir, 'Data', 'musicnet', 'musicnet', 'train_labels')\n",
    "max_train_data_size = 1 * 1024 * 1024 * 1024  # 1GB in bytes\n",
    "\n",
    "train_dataset = MusicDataset(train_data_dir,train_dataframe,mel_spectrogram,\n",
    "                 sample_rate, num_samples, device, max_size_bytes=max_train_data_size)\n",
    "\n",
    "# Create a DataLoader\n",
    "batch_size = 32\n",
    "#train_loader = DataLoader(train_dataset, batch_size=batch_size, shuffle=True)\n",
    "\n",
    "train_dataloader = create_data_loader(train_dataset, batch_size)\n",
    "\n",
    "cnn = CNNNetwork().to(device)\n",
    "print(cnn)\n",
    "\n",
    "loss_fn = nn.CrossEntropyLoss()\n",
    "optimizer = torch.optim.Adam(cnn.parameters(), lr=learning_rate)\n",
    "\n",
    "\n"
   ],
   "metadata": {
    "collapsed": false,
    "ExecuteTime": {
     "end_time": "2024-04-09T09:02:02.803601200Z",
     "start_time": "2024-04-09T09:02:02.766450300Z"
    }
   },
   "id": "beb2c1bb1ff400da"
  },
  {
   "cell_type": "markdown",
   "source": [
    "We will map our instruments using this dictionary from Kaggle. https://www.kaggle.com/datasets/imsparsh/musicnet-dataset/discussion/303526"
   ],
   "metadata": {
    "collapsed": false
   },
   "id": "490b2e7271cedbca"
  },
  {
   "cell_type": "code",
   "execution_count": 16,
   "outputs": [
    {
     "name": "stdout",
     "output_type": "stream",
     "text": [
      "1\n",
      "2\n",
      "3\n",
      "4\n",
      "5\n",
      "6\n",
      "7\n",
      "8\n",
      "9\n",
      "10\n",
      "11\n",
      "12\n",
      "13\n",
      "14\n",
      "15\n",
      "16\n",
      "17\n",
      "18\n",
      "19\n",
      "20\n",
      "21\n",
      "22\n",
      "23\n",
      "24\n",
      "25\n",
      "26\n",
      "27\n",
      "28\n",
      "29\n",
      "30\n",
      "31\n",
      "32\n",
      "33\n",
      "34\n",
      "35\n",
      "36\n",
      "37\n",
      "38\n",
      "39\n",
      "40\n",
      "41\n",
      "42\n",
      "43\n",
      "44\n",
      "45\n",
      "46\n",
      "47\n",
      "48\n",
      "49\n",
      "50\n",
      "51\n",
      "52\n",
      "53\n",
      "54\n",
      "55\n",
      "56\n",
      "57\n",
      "58\n",
      "59\n",
      "60\n",
      "61\n",
      "62\n",
      "63\n",
      "64\n",
      "65\n",
      "66\n",
      "67\n",
      "68\n",
      "69\n",
      "70\n",
      "71\n",
      "72\n",
      "73\n",
      "74\n",
      "75\n",
      "76\n",
      "77\n",
      "78\n",
      "79\n",
      "80\n",
      "81\n",
      "82\n",
      "83\n",
      "84\n",
      "85\n",
      "86\n",
      "87\n",
      "88\n",
      "89\n",
      "90\n",
      "91\n",
      "92\n",
      "93\n",
      "94\n",
      "95\n",
      "96\n",
      "97\n",
      "98\n",
      "99\n",
      "100\n",
      "101\n",
      "102\n",
      "103\n",
      "104\n",
      "105\n",
      "106\n",
      "107\n",
      "108\n",
      "109\n",
      "110\n",
      "111\n",
      "112\n",
      "113\n",
      "114\n",
      "115\n",
      "116\n",
      "117\n",
      "118\n",
      "119\n",
      "120\n",
      "121\n",
      "122\n",
      "123\n",
      "124\n",
      "125\n",
      "126\n",
      "127\n",
      "128\n"
     ]
    }
   ],
   "source": [
    "instruments_map = {\n",
    "1: \"Acoustic Grand Piano\",\n",
    "2: \"Bright Acoustic Piano\",\n",
    "3: \"Electric Grand Piano\",\n",
    "4: \"Honky-tonk Piano\",\n",
    "5: \"Electric Piano 1\",\n",
    "6: \"Electric Piano 2\",\n",
    "7: \"Harpsichord\",\n",
    "8: \"Clavi\",\n",
    "9: \"Celesta\",\n",
    "10: \"Glockenspiel\",\n",
    "11: \"Music Box\",\n",
    "12: \"Vibraphone\",\n",
    "13: \"Marimba\",\n",
    "14: \"Xylophone\",\n",
    "15: \"Tubular Bells\",\n",
    "16: \"Dulcimer\",\n",
    "17: \"Drawbar Organ\",\n",
    "18: \"Percussive Organ\",\n",
    "19: \"Rock Organ\",\n",
    "20: \"Church Organ\",\n",
    "21: \"Reed Organ\",\n",
    "22: \"Accordion\",\n",
    "23: \"Harmonica\",\n",
    "24: \"Tango Accordion\",\n",
    "25: \"Acoustic Guitar (nylon)\",\n",
    "26: \"Acoustic Guitar (steel)\",\n",
    "27: \"Electric Guitar (jazz)\",\n",
    "28: \"Electric Guitar (clean)\",\n",
    "29: \"Electric Guitar (muted)\",\n",
    "30: \"Overdriven Guitar\",\n",
    "31: \"Distortion Guitar\",\n",
    "32: \"Guitar harmonics\",\n",
    "33: \"Acoustic Bass\",\n",
    "34: \"Electric Bass (finger)\",\n",
    "35: \"Electric Bass (pick)\",\n",
    "36: \"Fretless Bass\",\n",
    "37: \"Slap Bass 1\",\n",
    "38: \"Slap Bass 2\",\n",
    "39: \"Synth Bass 1\",\n",
    "40: \"Synth Bass 2\",\n",
    "41: \"Violin\",\n",
    "42: \"Viola\",\n",
    "43: \"Cello\",\n",
    "44: \"Contrabass\",\n",
    "45: \"Tremolo Strings\",\n",
    "46: \"Pizzicato Strings\",\n",
    "47: \"Orchestral Harp\",\n",
    "48: \"Timpani\",\n",
    "49: \"String Ensemble 1\",\n",
    "50: \"String Ensemble 2\",\n",
    "51: \"SynthStrings 1\",\n",
    "52: \"SynthStrings 2\",\n",
    "53: \"Choir Aahs\",\n",
    "54: \"Voice Oohs\",\n",
    "55: \"Synth Voice\",\n",
    "56: \"Orchestra Hit\",\n",
    "57: \"Trumpet\",\n",
    "58: \"Trombone\",\n",
    "59: \"Tuba\",\n",
    "60: \"Muted Trumpet\",\n",
    "61: \"French Horn\",\n",
    "62: \"Brass Section\",\n",
    "63: \"SynthBrass 1\",\n",
    "64: \"SynthBrass 2\",\n",
    "65: \"Soprano Sax\",\n",
    "66: \"Alto Sax\",\n",
    "67: \"Tenor Sax\",\n",
    "68: \"Baritone Sax\",\n",
    "69: \"Oboe\",\n",
    "70: \"English Horn\",\n",
    "71: \"Bassoon\",\n",
    "72: \"Clarinet\",\n",
    "73: \"Piccolo\",\n",
    "74: \"Flute\",\n",
    "75: \"Recorder\",\n",
    "76: \"Pan Flute\",\n",
    "77: \"Blown Bottle\",\n",
    "78: \"Shakuhachi\",\n",
    "79: \"Whistle\",\n",
    "80: \"Ocarina\",\n",
    "81: \"Lead 1 (square)\",\n",
    "82: \"Lead 2 (sawtooth)\",\n",
    "83: \"Lead 3 (calliope)\",\n",
    "84: \"Lead 4 (chiff)\",\n",
    "85: \"Lead 5 (charang)\",\n",
    "86: \"Lead 6 (voice)\",\n",
    "87: \"Lead 7 (fifths)\",\n",
    "88: \"Lead 8 (bass + lead)\",\n",
    "89: \"Pad 1 (new age)\",\n",
    "90: \"Pad 2 (warm)\",\n",
    "91: \"Pad 3 (polysynth)\",\n",
    "92: \"Pad 4 (choir)\",\n",
    "93: \"Pad 5 (bowed)\",\n",
    "94: \"Pad 6 (metallic)\",\n",
    "95: \"Pad 7 (halo)\",\n",
    "96: \"Pad 8 (sweep)\",\n",
    "97: \"FX 1 (rain)\",\n",
    "98: \"FX 2 (soundtrack)\",\n",
    "99: \"FX 3 (crystal)\",\n",
    "100: \"FX 4 (atmosphere)\",\n",
    "101: \"FX 5 (brightness)\",\n",
    "102: \"FX 6 (goblins)\",\n",
    "103: \"FX 7 (echoes)\",\n",
    "104: \"FX 8 (sci-fi)\",\n",
    "105: \"Sitar\",\n",
    "106: \"Banjo\",\n",
    "107: \"Shamisen\",\n",
    "108: \"Koto\",\n",
    "109: \"Kalimba\",\n",
    "110: \"Bag pipe\",\n",
    "111: \"Fiddle\",\n",
    "112: \"Shanai\",\n",
    "113: \"Tinkle Bell\",\n",
    "114: \"Agogo\",\n",
    "115: \"Steel Drums\",\n",
    "116: \"Woodblock\",\n",
    "117: \"Taiko Drum\",\n",
    "118: \"Melodic Tom\",\n",
    "119: \"Synth Drum\",\n",
    "120: \"Reverse Cymbal\",\n",
    "121: \"Guitar Fret Noise\",\n",
    "122: \"Breath Noise\",\n",
    "123: \"Seashore\",\n",
    "124: \"Bird Tweet\",\n",
    "125: \"Telephone Ring\",\n",
    "126: \"Helicopter\",\n",
    "127: \"Applause\",\n",
    "128: \"Gunshot\"\n",
    "}\n",
    "instruments_np = train_dataframe.instrument.unique()\n",
    "instruments_list =instruments_np.tolist()\n",
    "for keys,values in instruments_map.items():\n",
    "    print(keys)\n",
    "    #instruments_list.append(values)"
   ],
   "metadata": {
    "collapsed": false,
    "ExecuteTime": {
     "end_time": "2024-04-09T08:54:05.066624200Z",
     "start_time": "2024-04-09T08:54:05.032872600Z"
    }
   },
   "id": "dc9aaf1ae9049480"
  },
  {
   "cell_type": "markdown",
   "source": [
    "We will demonstrate the attributes of our instruments list"
   ],
   "metadata": {
    "collapsed": false
   },
   "id": "f83a9006b814d29"
  },
  {
   "cell_type": "code",
   "execution_count": 17,
   "outputs": [
    {
     "data": {
      "text/plain": "list"
     },
     "execution_count": 17,
     "metadata": {},
     "output_type": "execute_result"
    }
   ],
   "source": [
    "type(instruments_list)"
   ],
   "metadata": {
    "collapsed": false,
    "ExecuteTime": {
     "end_time": "2024-04-09T08:54:05.733502600Z",
     "start_time": "2024-04-09T08:54:05.709830900Z"
    }
   },
   "id": "2aa59c5d86c868f6"
  },
  {
   "cell_type": "code",
   "execution_count": 18,
   "outputs": [
    {
     "data": {
      "text/plain": "11"
     },
     "execution_count": 18,
     "metadata": {},
     "output_type": "execute_result"
    }
   ],
   "source": [
    "len(instruments_list)"
   ],
   "metadata": {
    "collapsed": false,
    "ExecuteTime": {
     "end_time": "2024-04-09T08:54:06.698775800Z",
     "start_time": "2024-04-09T08:54:06.678876600Z"
    }
   },
   "id": "6f03bb9764303d0d"
  },
  {
   "cell_type": "code",
   "execution_count": 22,
   "outputs": [
    {
     "data": {
      "text/plain": "[43, 42, 1, 44, 41, 72, 71, 61, 74, 69, 7]"
     },
     "execution_count": 22,
     "metadata": {},
     "output_type": "execute_result"
    }
   ],
   "source": [
    "instruments_list"
   ],
   "metadata": {
    "collapsed": false,
    "ExecuteTime": {
     "end_time": "2024-04-09T09:05:01.559669100Z",
     "start_time": "2024-04-09T09:05:01.542842600Z"
    }
   },
   "id": "15b9e42e380a807d"
  },
  {
   "cell_type": "markdown",
   "source": [
    "We will now train our model"
   ],
   "metadata": {
    "collapsed": false
   },
   "id": "55740c011a88b83b"
  },
  {
   "cell_type": "code",
   "execution_count": 19,
   "outputs": [
    {
     "ename": "IndexError",
     "evalue": "Target 43 is out of bounds.",
     "output_type": "error",
     "traceback": [
      "\u001B[1;31m---------------------------------------------------------------------------\u001B[0m",
      "\u001B[1;31mIndexError\u001B[0m                                Traceback (most recent call last)",
      "Cell \u001B[1;32mIn[19], line 2\u001B[0m\n\u001B[0;32m      1\u001B[0m \u001B[38;5;66;03m# train\u001B[39;00m\n\u001B[1;32m----> 2\u001B[0m \u001B[43mtrain\u001B[49m\u001B[43m(\u001B[49m\u001B[43mcnn\u001B[49m\u001B[43m,\u001B[49m\u001B[43m \u001B[49m\u001B[43mtrain_dataloader\u001B[49m\u001B[43m,\u001B[49m\u001B[43mloss_fn\u001B[49m\u001B[43m,\u001B[49m\u001B[43m \u001B[49m\u001B[43moptimizer\u001B[49m\u001B[43m,\u001B[49m\u001B[43m \u001B[49m\u001B[43mepochs\u001B[49m\u001B[43m,\u001B[49m\u001B[43mdevice\u001B[49m\u001B[43m)\u001B[49m\n",
      "Cell \u001B[1;32mIn[5], line 7\u001B[0m, in \u001B[0;36mtrain\u001B[1;34m(model, data_loader, loss_fn, optimizer, epochs, device)\u001B[0m\n\u001B[0;32m      5\u001B[0m \u001B[38;5;66;03m# loss\u001B[39;00m\n\u001B[0;32m      6\u001B[0m prediction \u001B[38;5;241m=\u001B[39m model(\u001B[38;5;28minput\u001B[39m)\n\u001B[1;32m----> 7\u001B[0m loss \u001B[38;5;241m=\u001B[39m \u001B[43mloss_fn\u001B[49m\u001B[43m(\u001B[49m\u001B[43mprediction\u001B[49m\u001B[43m,\u001B[49m\u001B[43m \u001B[49m\u001B[43mtarget\u001B[49m\u001B[43m)\u001B[49m\n\u001B[0;32m      8\u001B[0m \u001B[38;5;66;03m# backpropogation\u001B[39;00m\n\u001B[0;32m      9\u001B[0m optimizer\u001B[38;5;241m.\u001B[39mzero_grad()\n",
      "File \u001B[1;32m~\\PycharmProjects\\deep_learning_music_project\\venv\\Lib\\site-packages\\torch\\nn\\modules\\module.py:1511\u001B[0m, in \u001B[0;36mModule._wrapped_call_impl\u001B[1;34m(self, *args, **kwargs)\u001B[0m\n\u001B[0;32m   1509\u001B[0m     \u001B[38;5;28;01mreturn\u001B[39;00m \u001B[38;5;28mself\u001B[39m\u001B[38;5;241m.\u001B[39m_compiled_call_impl(\u001B[38;5;241m*\u001B[39margs, \u001B[38;5;241m*\u001B[39m\u001B[38;5;241m*\u001B[39mkwargs)  \u001B[38;5;66;03m# type: ignore[misc]\u001B[39;00m\n\u001B[0;32m   1510\u001B[0m \u001B[38;5;28;01melse\u001B[39;00m:\n\u001B[1;32m-> 1511\u001B[0m     \u001B[38;5;28;01mreturn\u001B[39;00m \u001B[38;5;28;43mself\u001B[39;49m\u001B[38;5;241;43m.\u001B[39;49m\u001B[43m_call_impl\u001B[49m\u001B[43m(\u001B[49m\u001B[38;5;241;43m*\u001B[39;49m\u001B[43margs\u001B[49m\u001B[43m,\u001B[49m\u001B[43m \u001B[49m\u001B[38;5;241;43m*\u001B[39;49m\u001B[38;5;241;43m*\u001B[39;49m\u001B[43mkwargs\u001B[49m\u001B[43m)\u001B[49m\n",
      "File \u001B[1;32m~\\PycharmProjects\\deep_learning_music_project\\venv\\Lib\\site-packages\\torch\\nn\\modules\\module.py:1520\u001B[0m, in \u001B[0;36mModule._call_impl\u001B[1;34m(self, *args, **kwargs)\u001B[0m\n\u001B[0;32m   1515\u001B[0m \u001B[38;5;66;03m# If we don't have any hooks, we want to skip the rest of the logic in\u001B[39;00m\n\u001B[0;32m   1516\u001B[0m \u001B[38;5;66;03m# this function, and just call forward.\u001B[39;00m\n\u001B[0;32m   1517\u001B[0m \u001B[38;5;28;01mif\u001B[39;00m \u001B[38;5;129;01mnot\u001B[39;00m (\u001B[38;5;28mself\u001B[39m\u001B[38;5;241m.\u001B[39m_backward_hooks \u001B[38;5;129;01mor\u001B[39;00m \u001B[38;5;28mself\u001B[39m\u001B[38;5;241m.\u001B[39m_backward_pre_hooks \u001B[38;5;129;01mor\u001B[39;00m \u001B[38;5;28mself\u001B[39m\u001B[38;5;241m.\u001B[39m_forward_hooks \u001B[38;5;129;01mor\u001B[39;00m \u001B[38;5;28mself\u001B[39m\u001B[38;5;241m.\u001B[39m_forward_pre_hooks\n\u001B[0;32m   1518\u001B[0m         \u001B[38;5;129;01mor\u001B[39;00m _global_backward_pre_hooks \u001B[38;5;129;01mor\u001B[39;00m _global_backward_hooks\n\u001B[0;32m   1519\u001B[0m         \u001B[38;5;129;01mor\u001B[39;00m _global_forward_hooks \u001B[38;5;129;01mor\u001B[39;00m _global_forward_pre_hooks):\n\u001B[1;32m-> 1520\u001B[0m     \u001B[38;5;28;01mreturn\u001B[39;00m \u001B[43mforward_call\u001B[49m\u001B[43m(\u001B[49m\u001B[38;5;241;43m*\u001B[39;49m\u001B[43margs\u001B[49m\u001B[43m,\u001B[49m\u001B[43m \u001B[49m\u001B[38;5;241;43m*\u001B[39;49m\u001B[38;5;241;43m*\u001B[39;49m\u001B[43mkwargs\u001B[49m\u001B[43m)\u001B[49m\n\u001B[0;32m   1522\u001B[0m \u001B[38;5;28;01mtry\u001B[39;00m:\n\u001B[0;32m   1523\u001B[0m     result \u001B[38;5;241m=\u001B[39m \u001B[38;5;28;01mNone\u001B[39;00m\n",
      "File \u001B[1;32m~\\PycharmProjects\\deep_learning_music_project\\venv\\Lib\\site-packages\\torch\\nn\\modules\\loss.py:1179\u001B[0m, in \u001B[0;36mCrossEntropyLoss.forward\u001B[1;34m(self, input, target)\u001B[0m\n\u001B[0;32m   1178\u001B[0m \u001B[38;5;28;01mdef\u001B[39;00m \u001B[38;5;21mforward\u001B[39m(\u001B[38;5;28mself\u001B[39m, \u001B[38;5;28minput\u001B[39m: Tensor, target: Tensor) \u001B[38;5;241m-\u001B[39m\u001B[38;5;241m>\u001B[39m Tensor:\n\u001B[1;32m-> 1179\u001B[0m     \u001B[38;5;28;01mreturn\u001B[39;00m \u001B[43mF\u001B[49m\u001B[38;5;241;43m.\u001B[39;49m\u001B[43mcross_entropy\u001B[49m\u001B[43m(\u001B[49m\u001B[38;5;28;43minput\u001B[39;49m\u001B[43m,\u001B[49m\u001B[43m \u001B[49m\u001B[43mtarget\u001B[49m\u001B[43m,\u001B[49m\u001B[43m \u001B[49m\u001B[43mweight\u001B[49m\u001B[38;5;241;43m=\u001B[39;49m\u001B[38;5;28;43mself\u001B[39;49m\u001B[38;5;241;43m.\u001B[39;49m\u001B[43mweight\u001B[49m\u001B[43m,\u001B[49m\n\u001B[0;32m   1180\u001B[0m \u001B[43m                           \u001B[49m\u001B[43mignore_index\u001B[49m\u001B[38;5;241;43m=\u001B[39;49m\u001B[38;5;28;43mself\u001B[39;49m\u001B[38;5;241;43m.\u001B[39;49m\u001B[43mignore_index\u001B[49m\u001B[43m,\u001B[49m\u001B[43m \u001B[49m\u001B[43mreduction\u001B[49m\u001B[38;5;241;43m=\u001B[39;49m\u001B[38;5;28;43mself\u001B[39;49m\u001B[38;5;241;43m.\u001B[39;49m\u001B[43mreduction\u001B[49m\u001B[43m,\u001B[49m\n\u001B[0;32m   1181\u001B[0m \u001B[43m                           \u001B[49m\u001B[43mlabel_smoothing\u001B[49m\u001B[38;5;241;43m=\u001B[39;49m\u001B[38;5;28;43mself\u001B[39;49m\u001B[38;5;241;43m.\u001B[39;49m\u001B[43mlabel_smoothing\u001B[49m\u001B[43m)\u001B[49m\n",
      "File \u001B[1;32m~\\PycharmProjects\\deep_learning_music_project\\venv\\Lib\\site-packages\\torch\\nn\\functional.py:3059\u001B[0m, in \u001B[0;36mcross_entropy\u001B[1;34m(input, target, weight, size_average, ignore_index, reduce, reduction, label_smoothing)\u001B[0m\n\u001B[0;32m   3057\u001B[0m \u001B[38;5;28;01mif\u001B[39;00m size_average \u001B[38;5;129;01mis\u001B[39;00m \u001B[38;5;129;01mnot\u001B[39;00m \u001B[38;5;28;01mNone\u001B[39;00m \u001B[38;5;129;01mor\u001B[39;00m reduce \u001B[38;5;129;01mis\u001B[39;00m \u001B[38;5;129;01mnot\u001B[39;00m \u001B[38;5;28;01mNone\u001B[39;00m:\n\u001B[0;32m   3058\u001B[0m     reduction \u001B[38;5;241m=\u001B[39m _Reduction\u001B[38;5;241m.\u001B[39mlegacy_get_string(size_average, reduce)\n\u001B[1;32m-> 3059\u001B[0m \u001B[38;5;28;01mreturn\u001B[39;00m \u001B[43mtorch\u001B[49m\u001B[38;5;241;43m.\u001B[39;49m\u001B[43m_C\u001B[49m\u001B[38;5;241;43m.\u001B[39;49m\u001B[43m_nn\u001B[49m\u001B[38;5;241;43m.\u001B[39;49m\u001B[43mcross_entropy_loss\u001B[49m\u001B[43m(\u001B[49m\u001B[38;5;28;43minput\u001B[39;49m\u001B[43m,\u001B[49m\u001B[43m \u001B[49m\u001B[43mtarget\u001B[49m\u001B[43m,\u001B[49m\u001B[43m \u001B[49m\u001B[43mweight\u001B[49m\u001B[43m,\u001B[49m\u001B[43m \u001B[49m\u001B[43m_Reduction\u001B[49m\u001B[38;5;241;43m.\u001B[39;49m\u001B[43mget_enum\u001B[49m\u001B[43m(\u001B[49m\u001B[43mreduction\u001B[49m\u001B[43m)\u001B[49m\u001B[43m,\u001B[49m\u001B[43m \u001B[49m\u001B[43mignore_index\u001B[49m\u001B[43m,\u001B[49m\u001B[43m \u001B[49m\u001B[43mlabel_smoothing\u001B[49m\u001B[43m)\u001B[49m\n",
      "\u001B[1;31mIndexError\u001B[0m: Target 43 is out of bounds."
     ]
    }
   ],
   "source": [
    " # train\n",
    "train(cnn, train_dataloader,loss_fn, optimizer, epochs,device)"
   ],
   "metadata": {
    "collapsed": false,
    "ExecuteTime": {
     "end_time": "2024-04-09T08:54:10.300370Z",
     "start_time": "2024-04-09T08:54:07.063191500Z"
    }
   },
   "id": "6916ba297fcca0eb"
  },
  {
   "cell_type": "markdown",
   "source": [
    "We will now save our model"
   ],
   "metadata": {
    "collapsed": false
   },
   "id": "70a23eda92824af4"
  },
  {
   "cell_type": "code",
   "execution_count": null,
   "outputs": [],
   "source": [
    "# save model\n",
    "torch.save(cnn.state_dict(), \"saved_model/soundclassifier.pth\")\n",
    "print(\"Trained model saved at soundclassifier.pth\") "
   ],
   "metadata": {
    "collapsed": false,
    "ExecuteTime": {
     "start_time": "2024-04-09T08:48:19.245057200Z"
    }
   },
   "id": "22964c86b323fedd"
  },
  {
   "cell_type": "markdown",
   "source": [
    "We create a function that makes predictions based on the mapping of instruments"
   ],
   "metadata": {
    "collapsed": false
   },
   "id": "dd5d00d4862704ef"
  },
  {
   "cell_type": "code",
   "execution_count": 53,
   "outputs": [],
   "source": [
    "def predict(model, input, target, class_mapping):\n",
    "    model.eval()\n",
    "    with torch.no_grad():\n",
    "        predictions = model(input)\n",
    "        # Tensor (1, 128) -> [ [0.1, 0.01, ..., 0.6] ]\n",
    "        predicted_index = predictions[0].argmax(0)\n",
    "        predicted = class_mapping[predicted_index]\n",
    "        expected = class_mapping[target]\n",
    "    return predicted, expected\n"
   ],
   "metadata": {
    "collapsed": false,
    "ExecuteTime": {
     "end_time": "2024-04-09T08:48:22.813614600Z",
     "start_time": "2024-04-09T08:48:22.802300400Z"
    }
   },
   "id": "a8e9cab9294247f4"
  },
  {
   "cell_type": "markdown",
   "source": [
    "We will now load our model and make an inference"
   ],
   "metadata": {
    "collapsed": false
   },
   "id": "d004292d9b8ed3b9"
  },
  {
   "cell_type": "code",
   "execution_count": 54,
   "outputs": [
    {
     "ename": "RuntimeError",
     "evalue": "Error(s) in loading state_dict for CNNNetwork:\n\tsize mismatch for linear.weight: copying a param with shape torch.Size([128, 2560]) from checkpoint, the shape in current model is torch.Size([11, 2560]).\n\tsize mismatch for linear.bias: copying a param with shape torch.Size([128]) from checkpoint, the shape in current model is torch.Size([11]).",
     "output_type": "error",
     "traceback": [
      "\u001B[1;31m---------------------------------------------------------------------------\u001B[0m",
      "\u001B[1;31mRuntimeError\u001B[0m                              Traceback (most recent call last)",
      "Cell \u001B[1;32mIn[54], line 2\u001B[0m\n\u001B[0;32m      1\u001B[0m state_dict \u001B[38;5;241m=\u001B[39m torch\u001B[38;5;241m.\u001B[39mload(\u001B[38;5;124m\"\u001B[39m\u001B[38;5;124msaved_model/soundclassifier.pth\u001B[39m\u001B[38;5;124m\"\u001B[39m)\n\u001B[1;32m----> 2\u001B[0m \u001B[43mcnn\u001B[49m\u001B[38;5;241;43m.\u001B[39;49m\u001B[43mload_state_dict\u001B[49m\u001B[43m(\u001B[49m\u001B[43mstate_dict\u001B[49m\u001B[43m)\u001B[49m\n\u001B[0;32m      4\u001B[0m mel_spectrogram \u001B[38;5;241m=\u001B[39m torchaudio\u001B[38;5;241m.\u001B[39mtransforms\u001B[38;5;241m.\u001B[39mMelSpectrogram(\n\u001B[0;32m      5\u001B[0m         sample_rate\u001B[38;5;241m=\u001B[39msample_rate,\n\u001B[0;32m      6\u001B[0m         n_fft\u001B[38;5;241m=\u001B[39m\u001B[38;5;241m1024\u001B[39m,\n\u001B[0;32m      7\u001B[0m         hop_length\u001B[38;5;241m=\u001B[39m\u001B[38;5;241m512\u001B[39m,\n\u001B[0;32m      8\u001B[0m         n_mels\u001B[38;5;241m=\u001B[39m\u001B[38;5;241m64\u001B[39m\n\u001B[0;32m      9\u001B[0m     )\n\u001B[0;32m     11\u001B[0m project_dir \u001B[38;5;241m=\u001B[39m os\u001B[38;5;241m.\u001B[39mgetcwd()\n",
      "File \u001B[1;32m~\\PycharmProjects\\deep_learning_music_project\\venv\\Lib\\site-packages\\torch\\nn\\modules\\module.py:2153\u001B[0m, in \u001B[0;36mModule.load_state_dict\u001B[1;34m(self, state_dict, strict, assign)\u001B[0m\n\u001B[0;32m   2148\u001B[0m         error_msgs\u001B[38;5;241m.\u001B[39minsert(\n\u001B[0;32m   2149\u001B[0m             \u001B[38;5;241m0\u001B[39m, \u001B[38;5;124m'\u001B[39m\u001B[38;5;124mMissing key(s) in state_dict: \u001B[39m\u001B[38;5;132;01m{}\u001B[39;00m\u001B[38;5;124m. \u001B[39m\u001B[38;5;124m'\u001B[39m\u001B[38;5;241m.\u001B[39mformat(\n\u001B[0;32m   2150\u001B[0m                 \u001B[38;5;124m'\u001B[39m\u001B[38;5;124m, \u001B[39m\u001B[38;5;124m'\u001B[39m\u001B[38;5;241m.\u001B[39mjoin(\u001B[38;5;124mf\u001B[39m\u001B[38;5;124m'\u001B[39m\u001B[38;5;124m\"\u001B[39m\u001B[38;5;132;01m{\u001B[39;00mk\u001B[38;5;132;01m}\u001B[39;00m\u001B[38;5;124m\"\u001B[39m\u001B[38;5;124m'\u001B[39m \u001B[38;5;28;01mfor\u001B[39;00m k \u001B[38;5;129;01min\u001B[39;00m missing_keys)))\n\u001B[0;32m   2152\u001B[0m \u001B[38;5;28;01mif\u001B[39;00m \u001B[38;5;28mlen\u001B[39m(error_msgs) \u001B[38;5;241m>\u001B[39m \u001B[38;5;241m0\u001B[39m:\n\u001B[1;32m-> 2153\u001B[0m     \u001B[38;5;28;01mraise\u001B[39;00m \u001B[38;5;167;01mRuntimeError\u001B[39;00m(\u001B[38;5;124m'\u001B[39m\u001B[38;5;124mError(s) in loading state_dict for \u001B[39m\u001B[38;5;132;01m{}\u001B[39;00m\u001B[38;5;124m:\u001B[39m\u001B[38;5;130;01m\\n\u001B[39;00m\u001B[38;5;130;01m\\t\u001B[39;00m\u001B[38;5;132;01m{}\u001B[39;00m\u001B[38;5;124m'\u001B[39m\u001B[38;5;241m.\u001B[39mformat(\n\u001B[0;32m   2154\u001B[0m                        \u001B[38;5;28mself\u001B[39m\u001B[38;5;241m.\u001B[39m\u001B[38;5;18m__class__\u001B[39m\u001B[38;5;241m.\u001B[39m\u001B[38;5;18m__name__\u001B[39m, \u001B[38;5;124m\"\u001B[39m\u001B[38;5;130;01m\\n\u001B[39;00m\u001B[38;5;130;01m\\t\u001B[39;00m\u001B[38;5;124m\"\u001B[39m\u001B[38;5;241m.\u001B[39mjoin(error_msgs)))\n\u001B[0;32m   2155\u001B[0m \u001B[38;5;28;01mreturn\u001B[39;00m _IncompatibleKeys(missing_keys, unexpected_keys)\n",
      "\u001B[1;31mRuntimeError\u001B[0m: Error(s) in loading state_dict for CNNNetwork:\n\tsize mismatch for linear.weight: copying a param with shape torch.Size([128, 2560]) from checkpoint, the shape in current model is torch.Size([11, 2560]).\n\tsize mismatch for linear.bias: copying a param with shape torch.Size([128]) from checkpoint, the shape in current model is torch.Size([11])."
     ]
    }
   ],
   "source": [
    "\n",
    "state_dict = torch.load(\"saved_model/soundclassifier.pth\")\n",
    "cnn.load_state_dict(state_dict)\n",
    "\n",
    "mel_spectrogram = torchaudio.transforms.MelSpectrogram(\n",
    "        sample_rate=sample_rate,\n",
    "        n_fft=1024,\n",
    "        hop_length=512,\n",
    "        n_mels=64\n",
    "    )\n",
    "\n",
    "project_dir = os.getcwd()\n",
    "test_data_dir = os.path.join(project_dir, 'Data', 'musicnet', 'musicnet', 'test_data')\n",
    "max_test_data_size = 1 * 1024 * 1024 * 1024  # 1GB in bytes\n",
    "\n",
    "test_dataset = MusicDataset(test_data_dir,test_dataframe,mel_spectrogram,\n",
    "                 sample_rate, num_samples, device, max_size_bytes=max_test_data_size)\n",
    "\n",
    "test_dataloader = create_data_loader(test_dataset, batch_size)\n",
    "# get a sample from the us dataset for inference\n",
    "input, target = test_dataset[1][0], test_dataset[1][1] # [num_cha, fr, t]\n",
    "input.unsqueeze_(0)\n",
    "# make an inference\n",
    "predicted, expected = predict(cnn, input, target,\n",
    "                              instruments_list)\n",
    "print(f\"Predicted: '{predicted}', expected: '{expected}'\")\n"
   ],
   "metadata": {
    "collapsed": false,
    "ExecuteTime": {
     "end_time": "2024-04-09T08:48:32.901037800Z",
     "start_time": "2024-04-09T08:48:32.826403Z"
    }
   },
   "id": "199ef40f88530b4d"
  },
  {
   "cell_type": "markdown",
   "source": [
    "We will now create a function to train and validate our model\n"
   ],
   "metadata": {
    "collapsed": false
   },
   "id": "76d208fdb784b479"
  },
  {
   "cell_type": "code",
   "execution_count": 23,
   "outputs": [],
   "source": [
    "def train_and_validate(model, train_loader, test_loader, criterion, optimizer, epochs, device):\n",
    "    train_losses = []\n",
    "    train_accuracies = []\n",
    "    validation_losses = []\n",
    "    validation_accuracies = []\n",
    "    \n",
    "    start_time = time.time()\n",
    "    for epoch in range(epochs):\n",
    "        # Training Phase\n",
    "        model.train()\n",
    "        train_loss, correct_train, total_train = 0, 0, 0\n",
    "        for audio, labels in train_loader:\n",
    "            audio, labels = audio.to(device), labels.to(device)\n",
    "            optimizer.zero_grad()\n",
    "            outputs = model(audio)\n",
    "            loss = criterion(outputs, labels)\n",
    "            loss.backward()\n",
    "            optimizer.step()\n",
    "            \n",
    "            train_loss += loss.item() * audio.size(0)\n",
    "            _, predicted = torch.max(outputs, 1)\n",
    "            total_train += labels.size(0)\n",
    "            correct_train += (predicted == labels).sum().item()\n",
    "        \n",
    "        train_loss /= len(train_loader.dataset)\n",
    "        train_accuracy = 100 * correct_train / total_train\n",
    "        \n",
    "        # Validation Phase\n",
    "        model.eval()\n",
    "        validation_loss, correct_val, total_val = 0, 0, 0\n",
    "        with torch.no_grad():\n",
    "            for audio, labels in test_loader:\n",
    "                audio, labels = audio.to(device), labels.to(device)\n",
    "                outputs = model(audio)\n",
    "                loss = criterion(outputs, labels)\n",
    "                \n",
    "                validation_loss += loss.item() * audio.size(0)\n",
    "                _, predicted = torch.max(outputs, 1)\n",
    "                total_val += labels.size(0)\n",
    "                correct_val += (predicted == labels).sum().item()\n",
    "        \n",
    "        validation_loss /= len(test_loader.dataset)\n",
    "        validation_accuracy = 100 * correct_val / total_val\n",
    "        \n",
    "        # Store metrics\n",
    "        train_losses.append(train_loss)\n",
    "        train_accuracies.append(train_accuracy)\n",
    "        validation_losses.append(validation_loss)\n",
    "        validation_accuracies.append(validation_accuracy)\n",
    "        \n",
    "        print(f'Epoch [{epoch+1}/{epochs}], Training Loss: {train_loss:.4f}, Training Accuracy: {train_accuracy:.2f}%, Validation Loss: {validation_loss:.4f}, Validation Accuracy: {validation_accuracy:.2f}%')\n",
    "    \n",
    "    end_time = time.time()\n",
    "    execution_time = end_time - start_time\n",
    "    minutes = int(execution_time // 60)\n",
    "    seconds = int(execution_time % 60)\n",
    "    print(f\"\\nExecution time: {minutes:02}:{seconds:02}\")\n",
    "    \n",
    "    return train_losses, train_accuracies, validation_losses, validation_accuracies"
   ],
   "metadata": {
    "collapsed": false,
    "ExecuteTime": {
     "end_time": "2024-04-09T09:06:40.158278500Z",
     "start_time": "2024-04-09T09:06:40.134326100Z"
    }
   },
   "id": "f4bb6c3cfe30285a"
  },
  {
   "cell_type": "code",
   "execution_count": 36,
   "outputs": [
    {
     "name": "stdout",
     "output_type": "stream",
     "text": [
      "Epoch [1/50], Training Loss: 4.7258, Training Accuracy: 13.95%, Validation Loss: 4.7651, Validation Accuracy: 10.00%\n",
      "Epoch [2/50], Training Loss: 4.7258, Training Accuracy: 13.95%, Validation Loss: 4.7651, Validation Accuracy: 10.00%\n",
      "Epoch [3/50], Training Loss: 4.7258, Training Accuracy: 13.95%, Validation Loss: 4.7651, Validation Accuracy: 10.00%\n",
      "Epoch [4/50], Training Loss: 4.7258, Training Accuracy: 13.95%, Validation Loss: 4.7651, Validation Accuracy: 10.00%\n",
      "Epoch [5/50], Training Loss: 4.7258, Training Accuracy: 13.95%, Validation Loss: 4.7651, Validation Accuracy: 10.00%\n",
      "Epoch [6/50], Training Loss: 4.7258, Training Accuracy: 13.95%, Validation Loss: 4.7651, Validation Accuracy: 10.00%\n",
      "Epoch [7/50], Training Loss: 4.7258, Training Accuracy: 13.95%, Validation Loss: 4.7651, Validation Accuracy: 10.00%\n",
      "Epoch [8/50], Training Loss: 4.7258, Training Accuracy: 13.95%, Validation Loss: 4.7651, Validation Accuracy: 10.00%\n",
      "Epoch [9/50], Training Loss: 4.7258, Training Accuracy: 13.95%, Validation Loss: 4.7651, Validation Accuracy: 10.00%\n",
      "Epoch [10/50], Training Loss: 4.7258, Training Accuracy: 13.95%, Validation Loss: 4.7651, Validation Accuracy: 10.00%\n",
      "Epoch [11/50], Training Loss: 4.7258, Training Accuracy: 13.95%, Validation Loss: 4.7651, Validation Accuracy: 10.00%\n",
      "Epoch [12/50], Training Loss: 4.7258, Training Accuracy: 13.95%, Validation Loss: 4.7651, Validation Accuracy: 10.00%\n",
      "Epoch [13/50], Training Loss: 4.7258, Training Accuracy: 13.95%, Validation Loss: 4.7651, Validation Accuracy: 10.00%\n",
      "Epoch [14/50], Training Loss: 4.7258, Training Accuracy: 13.95%, Validation Loss: 4.7651, Validation Accuracy: 10.00%\n",
      "Epoch [15/50], Training Loss: 4.7258, Training Accuracy: 13.95%, Validation Loss: 4.7651, Validation Accuracy: 10.00%\n",
      "Epoch [16/50], Training Loss: 4.7258, Training Accuracy: 13.95%, Validation Loss: 4.7651, Validation Accuracy: 10.00%\n",
      "Epoch [17/50], Training Loss: 4.7258, Training Accuracy: 13.95%, Validation Loss: 4.7651, Validation Accuracy: 10.00%\n",
      "Epoch [18/50], Training Loss: 4.7258, Training Accuracy: 13.95%, Validation Loss: 4.7651, Validation Accuracy: 10.00%\n",
      "Epoch [19/50], Training Loss: 4.7258, Training Accuracy: 13.95%, Validation Loss: 4.7651, Validation Accuracy: 10.00%\n",
      "Epoch [20/50], Training Loss: 4.7258, Training Accuracy: 13.95%, Validation Loss: 4.7651, Validation Accuracy: 10.00%\n",
      "Epoch [21/50], Training Loss: 4.7258, Training Accuracy: 13.95%, Validation Loss: 4.7651, Validation Accuracy: 10.00%\n",
      "Epoch [22/50], Training Loss: 4.7258, Training Accuracy: 13.95%, Validation Loss: 4.7651, Validation Accuracy: 10.00%\n",
      "Epoch [23/50], Training Loss: 4.7258, Training Accuracy: 13.95%, Validation Loss: 4.7651, Validation Accuracy: 10.00%\n",
      "Epoch [24/50], Training Loss: 4.7258, Training Accuracy: 13.95%, Validation Loss: 4.7651, Validation Accuracy: 10.00%\n",
      "Epoch [25/50], Training Loss: 4.7258, Training Accuracy: 13.95%, Validation Loss: 4.7651, Validation Accuracy: 10.00%\n",
      "Epoch [26/50], Training Loss: 4.7258, Training Accuracy: 13.95%, Validation Loss: 4.7651, Validation Accuracy: 10.00%\n",
      "Epoch [27/50], Training Loss: 4.7258, Training Accuracy: 13.95%, Validation Loss: 4.7651, Validation Accuracy: 10.00%\n",
      "Epoch [28/50], Training Loss: 4.7258, Training Accuracy: 13.95%, Validation Loss: 4.7651, Validation Accuracy: 10.00%\n",
      "Epoch [29/50], Training Loss: 4.7258, Training Accuracy: 13.95%, Validation Loss: 4.7651, Validation Accuracy: 10.00%\n",
      "Epoch [30/50], Training Loss: 4.7258, Training Accuracy: 13.95%, Validation Loss: 4.7651, Validation Accuracy: 10.00%\n",
      "Epoch [31/50], Training Loss: 4.7258, Training Accuracy: 13.95%, Validation Loss: 4.7651, Validation Accuracy: 10.00%\n",
      "Epoch [32/50], Training Loss: 4.7258, Training Accuracy: 13.95%, Validation Loss: 4.7651, Validation Accuracy: 10.00%\n",
      "Epoch [33/50], Training Loss: 4.7258, Training Accuracy: 13.95%, Validation Loss: 4.7651, Validation Accuracy: 10.00%\n",
      "Epoch [34/50], Training Loss: 4.7258, Training Accuracy: 13.95%, Validation Loss: 4.7651, Validation Accuracy: 10.00%\n",
      "Epoch [35/50], Training Loss: 4.7258, Training Accuracy: 13.95%, Validation Loss: 4.7651, Validation Accuracy: 10.00%\n",
      "Epoch [36/50], Training Loss: 4.7258, Training Accuracy: 13.95%, Validation Loss: 4.7651, Validation Accuracy: 10.00%\n",
      "Epoch [37/50], Training Loss: 4.7258, Training Accuracy: 13.95%, Validation Loss: 4.7651, Validation Accuracy: 10.00%\n",
      "Epoch [38/50], Training Loss: 4.7258, Training Accuracy: 13.95%, Validation Loss: 4.7651, Validation Accuracy: 10.00%\n",
      "Epoch [39/50], Training Loss: 4.7258, Training Accuracy: 13.95%, Validation Loss: 4.7651, Validation Accuracy: 10.00%\n",
      "Epoch [40/50], Training Loss: 4.7258, Training Accuracy: 13.95%, Validation Loss: 4.7651, Validation Accuracy: 10.00%\n",
      "Epoch [41/50], Training Loss: 4.7258, Training Accuracy: 13.95%, Validation Loss: 4.7650, Validation Accuracy: 10.00%\n",
      "Epoch [42/50], Training Loss: 4.7258, Training Accuracy: 13.95%, Validation Loss: 4.7650, Validation Accuracy: 10.00%\n",
      "Epoch [43/50], Training Loss: 4.7258, Training Accuracy: 13.95%, Validation Loss: 4.7650, Validation Accuracy: 10.00%\n",
      "Epoch [44/50], Training Loss: 4.7258, Training Accuracy: 13.95%, Validation Loss: 4.7650, Validation Accuracy: 10.00%\n",
      "Epoch [45/50], Training Loss: 4.7258, Training Accuracy: 13.95%, Validation Loss: 4.7650, Validation Accuracy: 10.00%\n",
      "Epoch [46/50], Training Loss: 4.7258, Training Accuracy: 13.95%, Validation Loss: 4.7650, Validation Accuracy: 10.00%\n",
      "Epoch [47/50], Training Loss: 4.7258, Training Accuracy: 13.95%, Validation Loss: 4.7650, Validation Accuracy: 10.00%\n",
      "Epoch [48/50], Training Loss: 4.7258, Training Accuracy: 13.95%, Validation Loss: 4.7650, Validation Accuracy: 10.00%\n",
      "Epoch [49/50], Training Loss: 4.7258, Training Accuracy: 13.95%, Validation Loss: 4.7650, Validation Accuracy: 10.00%\n",
      "Epoch [50/50], Training Loss: 4.7258, Training Accuracy: 13.95%, Validation Loss: 4.7650, Validation Accuracy: 10.00%\n",
      "\n",
      "Execution time: 15:36\n"
     ]
    }
   ],
   "source": [
    "train_losses, train_accuracies, validation_losses, validation_accuracies = train_and_validate(cnn, train_dataloader, test_dataloader, loss_fn, optimizer, epochs, device)"
   ],
   "metadata": {
    "collapsed": false,
    "ExecuteTime": {
     "end_time": "2024-04-08T22:11:25.971982500Z",
     "start_time": "2024-04-08T21:55:49.267236500Z"
    }
   },
   "id": "d1e89c37570e044a"
  },
  {
   "cell_type": "markdown",
   "source": [
    "# We will now plot our metrics"
   ],
   "metadata": {
    "collapsed": false
   },
   "id": "8f71802c5317ab8d"
  },
  {
   "cell_type": "code",
   "execution_count": 37,
   "outputs": [
    {
     "data": {
      "text/plain": "<Figure size 1200x500 with 2 Axes>",
      "image/png": "[encoded data removed]"
     },
     "metadata": {},
     "output_type": "display_data"
    }
   ],
   "source": [
    "plot_metrics(train_losses, train_accuracies, validation_losses, validation_accuracies)"
   ],
   "metadata": {
    "collapsed": false,
    "ExecuteTime": {
     "end_time": "2024-04-08T22:11:26.304161Z",
     "start_time": "2024-04-08T22:11:25.976011600Z"
    }
   },
   "id": "f37c88d5d2cfe850"
  },
  {
   "cell_type": "code",
   "execution_count": 33,
   "outputs": [],
   "source": [],
   "metadata": {
    "collapsed": false,
    "ExecuteTime": {
     "end_time": "2024-04-08T21:55:49.186348600Z",
     "start_time": "2024-04-08T21:55:49.181258600Z"
    }
   },
   "id": "f61faf9e76b11272"
  },
  {
   "cell_type": "code",
   "execution_count": 47,
   "outputs": [],
   "source": [],
   "metadata": {
    "collapsed": false,
    "ExecuteTime": {
     "end_time": "2024-04-08T20:17:00.401112300Z",
     "start_time": "2024-04-08T20:17:00.397902500Z"
    }
   },
   "id": "3eb817cad7227910"
  },
  {
   "cell_type": "code",
   "execution_count": null,
   "outputs": [],
   "source": [],
   "metadata": {
    "collapsed": false
   },
   "id": "3f2953c6660142df"
  }
 ],
 "metadata": {
  "kernelspec": {
   "display_name": "Python 3",
   "language": "python",
   "name": "python3"
  },
  "language_info": {
   "codemirror_mode": {
    "name": "ipython",
    "version": 2
   },
   "file_extension": ".py",
   "mimetype": "text/x-python",
   "name": "python",
   "nbconvert_exporter": "python",
   "pygments_lexer": "ipython2",
   "version": "2.7.6"
  }
 },
 "nbformat": 4,
 "nbformat_minor": 5
}
