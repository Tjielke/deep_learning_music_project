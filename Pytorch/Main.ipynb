{
 "cells": [
  {
   "cell_type": "code",
   "execution_count": 19,
   "id": "initial_id",
   "metadata": {
    "collapsed": true,
    "ExecuteTime": {
     "end_time": "2024-04-04T12:24:29.464853700Z",
     "start_time": "2024-04-04T12:24:29.432926100Z"
    }
   },
   "outputs": [
    {
     "name": "stdout",
     "output_type": "stream",
     "text": [
      "Using device: cpu\n"
     ]
    }
   ],
   "source": [
    "# Imports and GPU check\n",
    "%matplotlib inline\n",
    "import os\n",
    "import random\n",
    "import time\n",
    "\n",
    "import librosa\n",
    "import matplotlib.pyplot as plt\n",
    "import numpy as np\n",
    "import torchaudio\n",
    "import torch\n",
    "from torch import nn\n",
    "from torchsummary import summary\n",
    "import torch.nn.init as init\n",
    "import torchvision\n",
    "import torchvision.transforms as transforms\n",
    "from torch import nn, optim\n",
    "from torch.utils.data import Dataset, DataLoader\n",
    "from torch.utils.data import DataLoader, Subset\n",
    "from torchvision import models\n",
    "from tqdm import tqdm\n",
    "from itertools import product\n",
    "\n",
    "# Fix HTTPS certificate error\n",
    "import ssl\n",
    "ssl_create_default_https_context = ssl._create_unverified_context\n",
    "\n",
    "# Check for GPU availability\n",
    "device = torch.device('cuda' if torch.cuda.is_available() else 'cpu')\n",
    "print(f\"Using device: {device}\")"
   ]
  },
  {
   "cell_type": "markdown",
   "source": [
    "Setting seed as 42 - COMMENT: This is from the Bootcamp! It is not used for now"
   ],
   "metadata": {
    "collapsed": false
   },
   "id": "735dfad5b073e620"
  },
  {
   "cell_type": "code",
   "execution_count": 20,
   "outputs": [],
   "source": [
    "def set_seed(seed=42):\n",
    "    \"\"\"Sets the seed for reproducibility.\"\"\"\n",
    "    # Python RNG\n",
    "    random.seed(seed)\n",
    "    \n",
    "    # PyTorch RNGs\n",
    "    torch.manual_seed(seed)\n",
    "    torch.cuda.manual_seed(seed)\n",
    "    torch.cuda.manual_seed_all(seed)  \n",
    "    torch.backends.cudnn.benchmark = False\n",
    "    torch.backends.cudnn.deterministic = True\n",
    "    \n",
    "    # Numpy RNG\n",
    "    np.random.seed(seed)\n",
    "    \n",
    "    # OS RNG\n",
    "    os.environ['PYTHONHASHSEED'] = str(seed)\n",
    "\n",
    "def worker_init_fn(worker_id):    \n",
    "    \"\"\"Ensure that the data loading process is deterministic.\"\"\"\n",
    "    np.random.seed(np.random.get_state()[1][0] + worker_id)\n",
    "    \n",
    "set_seed(42)  "
   ],
   "metadata": {
    "collapsed": false,
    "ExecuteTime": {
     "end_time": "2024-04-04T12:24:30.345296300Z",
     "start_time": "2024-04-04T12:24:30.316312600Z"
    }
   },
   "id": "6481f00b403cda36"
  },
  {
   "cell_type": "markdown",
   "source": [
    "Hyperparameters - COMMENT: This is from the Bootcamp! It is not used for now"
   ],
   "metadata": {
    "collapsed": false
   },
   "id": "dd294368010e8d33"
  },
  {
   "cell_type": "code",
   "execution_count": null,
   "outputs": [],
   "source": [
    "# Hyperparameters\n",
    "batch_size = 128\n",
    "dataset_size = 5000  # Reduced dataset size for quicker training\n",
    "\n",
    "epochs = 50\n",
    "learning_rate = 0.001\n",
    "\n",
    "ANNOTATIONS_FILE = ‘UrbanSound8K/metadata/UrbanSound8K.csv’\n",
    "AUDIO_DIR = ‘UrbanSound8K/audio’\n",
    "SAMPLE_RATE = 44100\n",
    "NUM_SAMPLES = 22050"
   ],
   "metadata": {
    "collapsed": false
   },
   "id": "e6f713a4a3b83f7f"
  },
  {
   "cell_type": "markdown",
   "source": [
    "NOW IT FOLLOWS AN ADAPTATION OF https://www.analyticsvidhya.com/blog/2022/04/guide-to-audio-classification-using-deep-learning/ "
   ],
   "metadata": {
    "collapsed": false
   },
   "id": "e1fbcdb36e099c"
  },
  {
   "cell_type": "markdown",
   "source": [
    "This is a test on using creating the MusicDataset as a class and importing sound, labels and metadata accordingly. It is made from Chatgpt"
   ],
   "metadata": {
    "collapsed": false
   },
   "id": "227e01b8d6d7de8f"
  },
  {
   "cell_type": "code",
   "execution_count": 22,
   "outputs": [
    {
     "data": {
      "text/plain": "'for batch in train_loader:\\n    audio_batch, composer_batch, composition_batch, movement_batch, ensemble_batch, labels_batch = batch\\n    # Do something with the batch of audio data, metadata, and labels'"
     },
     "execution_count": 22,
     "metadata": {},
     "output_type": "execute_result"
    }
   ],
   "source": [
    "import os\n",
    "import pandas as pd\n",
    "import librosa\n",
    "import torch\n",
    "from torch.utils.data import Dataset, DataLoader\n",
    "\n",
    "class MusicDataset(Dataset):\n",
    "    #Initialising the \n",
    "    def __init__(self, data_dir, metadata_file, labels_dir, max_size_bytes=None):\n",
    "        self.data_dir = data_dir\n",
    "        self.metadata = pd.read_csv(metadata_file)\n",
    "        self.labels_dir = labels_dir\n",
    "        self.filenames = [filename for filename in os.listdir(data_dir) if filename.endswith('.wav')]\n",
    "        if max_size_bytes is not None:\n",
    "            total_size = 0\n",
    "            new_filenames = []\n",
    "            for filename in self.filenames:\n",
    "                file_path = os.path.join(data_dir, filename)\n",
    "                file_size = os.path.getsize(file_path)\n",
    "                if total_size + file_size <= max_size_bytes:\n",
    "                    new_filenames.append(filename)\n",
    "                    total_size += file_size\n",
    "                else:\n",
    "                    break\n",
    "            self.filenames = new_filenames\n",
    "\n",
    "    def __len__(self):\n",
    "        return len(self.filenames)\n",
    "    \n",
    "    \n",
    "    def _cut_if_necessary(self, signal):\n",
    "    # signal -> (1, num_sample)\n",
    "        if signal.shape[1] > self.num_samples:\n",
    "         signal = signal[:, :self.num_samples]\n",
    "        return signal\n",
    "    \n",
    "    def __getitem__(self, idx):\n",
    "        filename = self.filenames[idx]\n",
    "        file_path = os.path.join(self.data_dir, filename)\n",
    "        audio, sr = librosa.load(file_path, sr=None)\n",
    "        \n",
    "        # Extract metadata for the current filename\n",
    "        metadata_row = self.metadata[self.metadata['id'] == filename[:-4]]  # Removing '.wav' extension\n",
    "        composer = metadata_row['composer'].values[0]\n",
    "        composition = metadata_row['composition'].values[0]\n",
    "        movement = metadata_row['movement'].values[0]\n",
    "        ensemble = metadata_row['ensemble'].values[0]\n",
    "        \n",
    "        # Load labels for the current filename\n",
    "        labels_file = os.path.join(self.labels_dir, filename[:-4] + '.csv')  # Removing '.wav' extension\n",
    "        labels_data = pd.read_csv(labels_file)\n",
    "        \n",
    "        # You can process labels_data further as needed\n",
    "        \n",
    "        # You might want to perform additional preprocessing here\n",
    "        \n",
    "        return audio, composer, composition, movement, ensemble, labels_data\n",
    "    \n",
    "    def _right_pad_if_necessary(self, signal):\n",
    "        len_signal = signal.shape[1]\n",
    "        if len_signal < self.num_samples: # apply right pad\n",
    "            num_missing_samples = self.num_samples - len_signal\n",
    "            last_dim_padding = (0, num_missing_samples)\n",
    "            signal = torch.nn.functional.pad(signal, last_dim_padding)\n",
    "        return signal\n",
    "    \n",
    "    def _resample_if_necessary(self, signal, sr):\n",
    "        if sr != self.target_sample_rate:\n",
    "            resampler = torchaudio.transforms.Resample(sr, self.target_sample_rate)\n",
    "            signal = resampler(signal)\n",
    "        return signal\n",
    "    \n",
    "    def _mix_down_if_necessary(self, signal):\n",
    "        # signal = (channels, num_samples) -> (2, 16000) -> (1, 16000)\n",
    "        if signal.shape[0] > 1:\n",
    "            signal = torch.mean(signal, dim=0, keepdim=True)\n",
    "        return signal\n",
    "    \n",
    "    def _get_audio_sample_path(self, item):\n",
    "        fold = f\"fold{self.annotations.iloc[item, 5]}\"\n",
    "        path = os.path.join(self.audio_dir, fold, self.annotations.iloc[item, 0])\n",
    "        return path\n",
    "# Example usage:\n",
    "project_dir = os.getcwd()\n",
    "train_data_dir = os.path.join(project_dir, 'Data', 'musicnet', 'musicnet', 'train_data')\n",
    "metadata_file = os.path.join(project_dir, 'Data', 'musicnet_metadata.csv')\n",
    "labels_dir = os.path.join(project_dir, 'Data', 'musicnet', 'musicnet', 'train_labels')\n",
    "max_train_data_size = 1 * 1024 * 1024 * 1024  # 1GB in bytes\n",
    "train_dataset = MusicDataset(train_data_dir, metadata_file, labels_dir, max_size_bytes=max_train_data_size)\n",
    "\n",
    "# Create a DataLoader\n",
    "batch_size = 32\n",
    "train_loader = DataLoader(train_dataset, batch_size=batch_size, shuffle=True)\n",
    "\n",
    "# Iterate over the DataLoader\n",
    "\"\"\"for batch in train_loader:\n",
    "    audio_batch, composer_batch, composition_batch, movement_batch, ensemble_batch, labels_batch = batch\n",
    "    # Do something with the batch of audio data, metadata, and labels\"\"\"\n"
   ],
   "metadata": {
    "collapsed": false,
    "ExecuteTime": {
     "end_time": "2024-04-04T12:24:32.322220400Z",
     "start_time": "2024-04-04T12:24:32.271712500Z"
    }
   },
   "id": "493b4da816b17d2b"
  },
  {
   "cell_type": "code",
   "execution_count": 30,
   "outputs": [
    {
     "name": "stdout",
     "output_type": "stream",
     "text": [
      "<__main__.MusicDataset object at 0x0000021380C9A750>\n",
      "<torch.utils.data.dataloader.DataLoader object at 0x0000021380C9C990>\n"
     ]
    }
   ],
   "source": [
    "print(train_dataset)\n",
    "\n",
    "print(train_loader)"
   ],
   "metadata": {
    "collapsed": false,
    "ExecuteTime": {
     "end_time": "2024-04-04T12:37:08.703065800Z",
     "start_time": "2024-04-04T12:37:08.671018200Z"
    }
   },
   "id": "fc23e6c56d484c00"
  },
  {
   "cell_type": "markdown",
   "source": [
    "All instruments on a dictionary - Found in Kaggle (it is a quickfix) - https://www.kaggle.com/datasets/imsparsh/musicnet-dataset/discussion/303526"
   ],
   "metadata": {
    "collapsed": false
   },
   "id": "ac0ba411519fd139"
  },
  {
   "cell_type": "code",
   "execution_count": 38,
   "outputs": [
    {
     "name": "stdout",
     "output_type": "stream",
     "text": [
      "1\n",
      "2\n",
      "3\n",
      "4\n",
      "5\n",
      "6\n",
      "7\n",
      "8\n",
      "9\n",
      "10\n",
      "11\n",
      "12\n",
      "13\n",
      "14\n",
      "15\n",
      "16\n",
      "17\n",
      "18\n",
      "19\n",
      "20\n",
      "21\n",
      "22\n",
      "23\n",
      "24\n",
      "25\n",
      "26\n",
      "27\n",
      "28\n",
      "29\n",
      "30\n",
      "31\n",
      "32\n",
      "33\n",
      "34\n",
      "35\n",
      "36\n",
      "37\n",
      "38\n",
      "39\n",
      "40\n",
      "41\n",
      "42\n",
      "43\n",
      "44\n",
      "45\n",
      "46\n",
      "47\n",
      "48\n",
      "49\n",
      "50\n",
      "51\n",
      "52\n",
      "53\n",
      "54\n",
      "55\n",
      "56\n",
      "57\n",
      "58\n",
      "59\n",
      "60\n",
      "61\n",
      "62\n",
      "63\n",
      "64\n",
      "65\n",
      "66\n",
      "67\n",
      "68\n",
      "69\n",
      "70\n",
      "71\n",
      "72\n",
      "73\n",
      "74\n",
      "75\n",
      "76\n",
      "77\n",
      "78\n",
      "79\n",
      "80\n",
      "81\n",
      "82\n",
      "83\n",
      "84\n",
      "85\n",
      "86\n",
      "87\n",
      "88\n",
      "89\n",
      "90\n",
      "91\n",
      "92\n",
      "93\n",
      "94\n",
      "95\n",
      "96\n",
      "97\n",
      "98\n",
      "99\n",
      "100\n",
      "101\n",
      "102\n",
      "103\n",
      "104\n",
      "105\n",
      "106\n",
      "107\n",
      "108\n",
      "109\n",
      "110\n",
      "111\n",
      "112\n",
      "113\n",
      "114\n",
      "115\n",
      "116\n",
      "117\n",
      "118\n",
      "119\n",
      "120\n",
      "121\n",
      "122\n",
      "123\n",
      "124\n",
      "125\n",
      "126\n",
      "127\n",
      "128\n"
     ]
    }
   ],
   "source": [
    "instruments_map = {\n",
    "1: \"Acoustic Grand Piano\",\n",
    "2: \"Bright Acoustic Piano\",\n",
    "3: \"Electric Grand Piano\",\n",
    "4: \"Honky-tonk Piano\",\n",
    "5: \"Electric Piano 1\",\n",
    "6: \"Electric Piano 2\",\n",
    "7: \"Harpsichord\",\n",
    "8: \"Clavi\",\n",
    "9: \"Celesta\",\n",
    "10: \"Glockenspiel\",\n",
    "11: \"Music Box\",\n",
    "12: \"Vibraphone\",\n",
    "13: \"Marimba\",\n",
    "14: \"Xylophone\",\n",
    "15: \"Tubular Bells\",\n",
    "16: \"Dulcimer\",\n",
    "17: \"Drawbar Organ\",\n",
    "18: \"Percussive Organ\",\n",
    "19: \"Rock Organ\",\n",
    "20: \"Church Organ\",\n",
    "21: \"Reed Organ\",\n",
    "22: \"Accordion\",\n",
    "23: \"Harmonica\",\n",
    "24: \"Tango Accordion\",\n",
    "25: \"Acoustic Guitar (nylon)\",\n",
    "26: \"Acoustic Guitar (steel)\",\n",
    "27: \"Electric Guitar (jazz)\",\n",
    "28: \"Electric Guitar (clean)\",\n",
    "29: \"Electric Guitar (muted)\",\n",
    "30: \"Overdriven Guitar\",\n",
    "31: \"Distortion Guitar\",\n",
    "32: \"Guitar harmonics\",\n",
    "33: \"Acoustic Bass\",\n",
    "34: \"Electric Bass (finger)\",\n",
    "35: \"Electric Bass (pick)\",\n",
    "36: \"Fretless Bass\",\n",
    "37: \"Slap Bass 1\",\n",
    "38: \"Slap Bass 2\",\n",
    "39: \"Synth Bass 1\",\n",
    "40: \"Synth Bass 2\",\n",
    "41: \"Violin\",\n",
    "42: \"Viola\",\n",
    "43: \"Cello\",\n",
    "44: \"Contrabass\",\n",
    "45: \"Tremolo Strings\",\n",
    "46: \"Pizzicato Strings\",\n",
    "47: \"Orchestral Harp\",\n",
    "48: \"Timpani\",\n",
    "49: \"String Ensemble 1\",\n",
    "50: \"String Ensemble 2\",\n",
    "51: \"SynthStrings 1\",\n",
    "52: \"SynthStrings 2\",\n",
    "53: \"Choir Aahs\",\n",
    "54: \"Voice Oohs\",\n",
    "55: \"Synth Voice\",\n",
    "56: \"Orchestra Hit\",\n",
    "57: \"Trumpet\",\n",
    "58: \"Trombone\",\n",
    "59: \"Tuba\",\n",
    "60: \"Muted Trumpet\",\n",
    "61: \"French Horn\",\n",
    "62: \"Brass Section\",\n",
    "63: \"SynthBrass 1\",\n",
    "64: \"SynthBrass 2\",\n",
    "65: \"Soprano Sax\",\n",
    "66: \"Alto Sax\",\n",
    "67: \"Tenor Sax\",\n",
    "68: \"Baritone Sax\",\n",
    "69: \"Oboe\",\n",
    "70: \"English Horn\",\n",
    "71: \"Bassoon\",\n",
    "72: \"Clarinet\",\n",
    "73: \"Piccolo\",\n",
    "74: \"Flute\",\n",
    "75: \"Recorder\",\n",
    "76: \"Pan Flute\",\n",
    "77: \"Blown Bottle\",\n",
    "78: \"Shakuhachi\",\n",
    "79: \"Whistle\",\n",
    "80: \"Ocarina\",\n",
    "81: \"Lead 1 (square)\",\n",
    "82: \"Lead 2 (sawtooth)\",\n",
    "83: \"Lead 3 (calliope)\",\n",
    "84: \"Lead 4 (chiff)\",\n",
    "85: \"Lead 5 (charang)\",\n",
    "86: \"Lead 6 (voice)\",\n",
    "87: \"Lead 7 (fifths)\",\n",
    "88: \"Lead 8 (bass + lead)\",\n",
    "89: \"Pad 1 (new age)\",\n",
    "90: \"Pad 2 (warm)\",\n",
    "91: \"Pad 3 (polysynth)\",\n",
    "92: \"Pad 4 (choir)\",\n",
    "93: \"Pad 5 (bowed)\",\n",
    "94: \"Pad 6 (metallic)\",\n",
    "95: \"Pad 7 (halo)\",\n",
    "96: \"Pad 8 (sweep)\",\n",
    "97: \"FX 1 (rain)\",\n",
    "98: \"FX 2 (soundtrack)\",\n",
    "99: \"FX 3 (crystal)\",\n",
    "100: \"FX 4 (atmosphere)\",\n",
    "101: \"FX 5 (brightness)\",\n",
    "102: \"FX 6 (goblins)\",\n",
    "103: \"FX 7 (echoes)\",\n",
    "104: \"FX 8 (sci-fi)\",\n",
    "105: \"Sitar\",\n",
    "106: \"Banjo\",\n",
    "107: \"Shamisen\",\n",
    "108: \"Koto\",\n",
    "109: \"Kalimba\",\n",
    "110: \"Bag pipe\",\n",
    "111: \"Fiddle\",\n",
    "112: \"Shanai\",\n",
    "113: \"Tinkle Bell\",\n",
    "114: \"Agogo\",\n",
    "115: \"Steel Drums\",\n",
    "116: \"Woodblock\",\n",
    "117: \"Taiko Drum\",\n",
    "118: \"Melodic Tom\",\n",
    "119: \"Synth Drum\",\n",
    "120: \"Reverse Cymbal\",\n",
    "121: \"Guitar Fret Noise\",\n",
    "122: \"Breath Noise\",\n",
    "123: \"Seashore\",\n",
    "124: \"Bird Tweet\",\n",
    "125: \"Telephone Ring\",\n",
    "126: \"Helicopter\",\n",
    "127: \"Applause\",\n",
    "128: \"Gunshot\"\n",
    "}\n",
    "instruments_list = []\n",
    "for keys,values in instruments_map.items():\n",
    "    print(keys)\n",
    "    instruments_list.append(values)\n",
    "    "
   ],
   "metadata": {
    "collapsed": false,
    "ExecuteTime": {
     "end_time": "2024-04-04T13:01:30.457266400Z",
     "start_time": "2024-04-04T13:01:30.441593500Z"
    }
   },
   "id": "96d7507376c58c32"
  },
  {
   "cell_type": "markdown",
   "source": [
    "This is a CNN network from the website - https://www.analyticsvidhya.com/blog/2022/04/guide-to-audio-classification-using-deep-learning/"
   ],
   "metadata": {
    "collapsed": false
   },
   "id": "6853b386e08b358"
  },
  {
   "cell_type": "code",
   "execution_count": 33,
   "outputs": [
    {
     "name": "stdout",
     "output_type": "stream",
     "text": [
      "----------------------------------------------------------------\n",
      "        Layer (type)               Output Shape         Param #\n",
      "================================================================\n",
      "            Conv2d-1           [-1, 16, 66, 46]             160\n",
      "              ReLU-2           [-1, 16, 66, 46]               0\n",
      "         MaxPool2d-3           [-1, 16, 33, 23]               0\n",
      "            Conv2d-4           [-1, 32, 35, 25]           4,640\n",
      "              ReLU-5           [-1, 32, 35, 25]               0\n",
      "         MaxPool2d-6           [-1, 32, 17, 12]               0\n",
      "            Conv2d-7           [-1, 64, 19, 14]          18,496\n",
      "              ReLU-8           [-1, 64, 19, 14]               0\n",
      "         MaxPool2d-9             [-1, 64, 9, 7]               0\n",
      "           Conv2d-10           [-1, 128, 11, 9]          73,856\n",
      "             ReLU-11           [-1, 128, 11, 9]               0\n",
      "        MaxPool2d-12            [-1, 128, 5, 4]               0\n",
      "          Flatten-13                 [-1, 2560]               0\n",
      "           Linear-14                   [-1, 10]          25,610\n",
      "          Softmax-15                   [-1, 10]               0\n",
      "================================================================\n",
      "Total params: 122,762\n",
      "Trainable params: 122,762\n",
      "Non-trainable params: 0\n",
      "----------------------------------------------------------------\n",
      "Input size (MB): 0.01\n",
      "Forward/backward pass size (MB): 1.83\n",
      "Params size (MB): 0.47\n",
      "Estimated Total Size (MB): 2.31\n",
      "----------------------------------------------------------------\n"
     ]
    }
   ],
   "source": [
    "from torch import nn\n",
    "from torchsummary import summary\n",
    "\n",
    "\n",
    "class CNNNetwork(nn.Module):\n",
    "    def __init__(self):\n",
    "        super().__init__()\n",
    "        # 4 CNN block / flatten / linear / softmax\n",
    "        self.conv1 = nn.Sequential(\n",
    "            nn.Conv2d(\n",
    "                in_channels=1,\n",
    "                out_channels=16,\n",
    "                kernel_size=3,\n",
    "                stride=1,\n",
    "                padding=2\n",
    "            ),\n",
    "            nn.ReLU(),\n",
    "            nn.MaxPool2d(kernel_size=2)\n",
    "        )\n",
    "        self.conv2 = nn.Sequential(\n",
    "            nn.Conv2d(\n",
    "                in_channels=16,\n",
    "                out_channels=32,\n",
    "                kernel_size=3,\n",
    "                stride=1,\n",
    "                padding=2\n",
    "            ),\n",
    "            nn.ReLU(),\n",
    "            nn.MaxPool2d(kernel_size=2)\n",
    "        )\n",
    "        self.conv3 = nn.Sequential(\n",
    "            nn.Conv2d(\n",
    "                in_channels=32,\n",
    "                out_channels=64,\n",
    "                kernel_size=3,\n",
    "                stride=1,\n",
    "                padding=2\n",
    "            ),\n",
    "            nn.ReLU(),\n",
    "            nn.MaxPool2d(kernel_size=2)\n",
    "        )\n",
    "        self.conv4 = nn.Sequential(\n",
    "            nn.Conv2d(\n",
    "                in_channels=64,\n",
    "                out_channels=128,\n",
    "                kernel_size=3,\n",
    "                stride=1,\n",
    "                padding=2\n",
    "            ),\n",
    "            nn.ReLU(),\n",
    "            nn.MaxPool2d(kernel_size=2)\n",
    "        )\n",
    "        self.flatten = nn.Flatten()\n",
    "        self.linear = nn.Linear(in_features=128*5*4, out_features=128)\n",
    "        self.softmax = nn.Softmax(dim=1)\n",
    "\n",
    "    def forward(self, input_data):\n",
    "        x = self.conv1(input_data)\n",
    "        x = self.conv2(x)\n",
    "        x = self.conv3(x)\n",
    "        x = self.conv4(x)\n",
    "        x = self.flatten(x)\n",
    "        logits = self.linear(x)\n",
    "        predictions = self.softmax(logits)\n",
    "        return predictions\n",
    "\n"
   ],
   "metadata": {
    "collapsed": false,
    "ExecuteTime": {
     "end_time": "2024-04-04T12:38:40.984051Z",
     "start_time": "2024-04-04T12:38:40.843837900Z"
    }
   },
   "id": "2279789b15d1ebf9"
  },
  {
   "cell_type": "code",
   "execution_count": 35,
   "outputs": [
    {
     "name": "stdout",
     "output_type": "stream",
     "text": [
      "----------------------------------------------------------------\n",
      "        Layer (type)               Output Shape         Param #\n",
      "================================================================\n",
      "            Conv2d-1           [-1, 16, 66, 46]             160\n",
      "              ReLU-2           [-1, 16, 66, 46]               0\n",
      "         MaxPool2d-3           [-1, 16, 33, 23]               0\n",
      "            Conv2d-4           [-1, 32, 35, 25]           4,640\n",
      "              ReLU-5           [-1, 32, 35, 25]               0\n",
      "         MaxPool2d-6           [-1, 32, 17, 12]               0\n",
      "            Conv2d-7           [-1, 64, 19, 14]          18,496\n",
      "              ReLU-8           [-1, 64, 19, 14]               0\n",
      "         MaxPool2d-9             [-1, 64, 9, 7]               0\n",
      "           Conv2d-10           [-1, 128, 11, 9]          73,856\n",
      "             ReLU-11           [-1, 128, 11, 9]               0\n",
      "        MaxPool2d-12            [-1, 128, 5, 4]               0\n",
      "          Flatten-13                 [-1, 2560]               0\n",
      "           Linear-14                   [-1, 10]          25,610\n",
      "          Softmax-15                   [-1, 10]               0\n",
      "================================================================\n",
      "Total params: 122,762\n",
      "Trainable params: 122,762\n",
      "Non-trainable params: 0\n",
      "----------------------------------------------------------------\n",
      "Input size (MB): 0.01\n",
      "Forward/backward pass size (MB): 1.83\n",
      "Params size (MB): 0.47\n",
      "Estimated Total Size (MB): 2.31\n",
      "----------------------------------------------------------------\n"
     ]
    }
   ],
   "source": [
    "cnn = CNNNetwork()\n",
    "summary(cnn.cpu(), (1, 64, 44))\n",
    "# (1, 64, 44) is the shape of the signal which obtained in dataset.py by https://www.analyticsvidhya.com/blog/2022/04/guide-to-audio-classification-using-deep-learning/\n",
    "#Our project is different"
   ],
   "metadata": {
    "collapsed": false,
    "ExecuteTime": {
     "end_time": "2024-04-04T12:39:02.894709800Z",
     "start_time": "2024-04-04T12:39:02.869577600Z"
    }
   },
   "id": "58cf19334449a310"
  },
  {
   "cell_type": "code",
   "execution_count": null,
   "outputs": [],
   "source": [
    "def create_data_loader(train_data, batch_size):\n",
    "    train_dataloader = DataLoader(train_data, batch_size=batch_size)\n",
    "    return train_dataloader"
   ],
   "metadata": {
    "collapsed": false
   },
   "id": "7de06762565799b3"
  },
  {
   "cell_type": "code",
   "execution_count": null,
   "outputs": [],
   "source": [
    "def train_single_epoch(model, data_loader, loss_fn, optimizer, device):\n",
    "    for input , target in data_loader:\n",
    "        input, target = input.to(device), target.to(device)\n",
    "        # loss\n",
    "        prediction = model(input)\n",
    "        loss = loss_fn(prediction, target)\n",
    "        # backpropogation\n",
    "        optimizer.zero_grad()\n",
    "        loss.backward()\n",
    "        optimizer.step()\n",
    "    print(f\"Loss: {loss.item()}\")"
   ],
   "metadata": {
    "collapsed": false
   },
   "id": "fa7efeecc0f46ccc"
  },
  {
   "cell_type": "code",
   "execution_count": null,
   "outputs": [],
   "source": [
    "def train(model, data_loader, loss_fn, optimizer, epochs, device):\n",
    "    for i in range(epochs):\n",
    "        print(f\"Epoch {i+1}\")\n",
    "        train_single_epoch(model, data_loader, loss_fn, optimizer, device)\n",
    "        print(\"-----------------------------------------------\")\n",
    "    print(\"Training completed!!\")"
   ],
   "metadata": {
    "collapsed": false
   },
   "id": "98b578fc6b91eb50"
  },
  {
   "cell_type": "code",
   "execution_count": null,
   "outputs": [],
   "source": [
    "if torch.cuda.is_available():\n",
    "device = \"cuda\"\n",
    "else:\n",
    "device = \"cpu\"\n",
    "print(f\"Using device {device}\")\n",
    "\n",
    " # instantiate dataset\n",
    "mel_spectrogram = torchaudio.transforms.MelSpectrogram(\n",
    " sample_rate=SAMPLE_RATE,\n",
    "n_fft=1024,\n",
    "hop_length=512,\n",
    "n_mels=64\n",
    ")\n",
    "\n",
    " usd = UrbanSoundDataset(ANNOTATIONS_FILE, AUDIO_DIR, mel_spectrogram,\n",
    "SAMPLE_RATE, NUM_SAMPLES, device)\n",
    "\n",
    " train_dataloader = create_data_loader(usd, BATCH_SIZE)\n",
    "\n",
    " cnn = CNNNetwork().to(device)\n",
    " print(cnn)\n",
    "\n",
    " loss_fn = nn.CrossEntropyLoss()\n",
    " optimizer = torch.optim.Adam(cnn.parameters(), lr=LEARNING_RATE)\n",
    "\n",
    " # train\n",
    "train(cnn, train_dataloader,loss_fn, optimizer, EPOCHS,device)"
   ],
   "metadata": {
    "collapsed": false
   },
   "id": "5f8a9ad5361e17d5"
  },
  {
   "cell_type": "markdown",
   "source": [
    "BELOW IS THE ORIGINAL CODE. Only exploration of data and data types of .wav is being featured."
   ],
   "metadata": {
    "collapsed": false
   },
   "id": "f15907d38f3babd4"
  },
  {
   "cell_type": "markdown",
   "source": [
    "Loading the whole dataset (20gbs, takes 4 and a half minutes and freezes pc)"
   ],
   "metadata": {
    "collapsed": false
   },
   "id": "c63f38b48fb89c31"
  },
  {
   "cell_type": "code",
   "execution_count": 6,
   "outputs": [
    {
     "data": {
      "text/plain": "'import os\\nimport librosa\\n\\ndef load_data_chunked(data_dir, chunk_size=100):\\n    data = []\\n    labels = []\\n    filenames = [filename for filename in os.listdir(data_dir) if filename.endswith(\\'.wav\\')]\\n    num_files = len(filenames)\\n    num_chunks = num_files // chunk_size + 1\\n\\n    for i in range(num_chunks):\\n        start_index = i * chunk_size\\n        end_index = min((i + 1) * chunk_size, num_files)\\n        chunk_data = []\\n        chunk_labels = []\\n\\n        for filename in filenames[start_index:end_index]:\\n            file_path = os.path.join(data_dir, filename)\\n            audio, sr = librosa.load(file_path, sr=None)\\n            chunk_data.append(audio)\\n            chunk_labels.append(filename)  # Assuming labels are the filenames in this case\\n        \\n        data.append(chunk_data)\\n        labels.append(chunk_labels)\\n    \\n    return data, labels\\n\\n# Assuming your project directory structure is like this:\\n# /PyCharm_project_folder\\n#     /Data\\n#         /musicnet\\n#             /train_data\\n#             /test_data\\n#             /train_labels\\n#             /test_labels\\n\\nproject_dir = os.getcwd()\\ntrain_data_dir = os.path.join(project_dir, \\'Data\\', \\'musicnet\\',\\'musicnet\\', \\'train_data\\')\\ntest_data_dir = os.path.join(project_dir, \\'Data\\', \\'musicnet\\',\\'musicnet\\', \\'test_data\\')\\ntrain_labels_dir = os.path.join(project_dir, \\'Data\\', \\'musicnet\\',\\'musicnet\\', \\'train_labels\\')\\ntest_labels_dir = os.path.join(project_dir, \\'Data\\', \\'musicnet\\',\\'musicnet\\', \\'test_labels\\')\\n\\n# Load data in chunks\\nchunk_size = 10  # Adjust the chunk size as needed\\ntrain_data_chunks, train_labels_chunks = load_data_chunked(train_data_dir, chunk_size=chunk_size)\\ntest_data_chunks, test_labels_chunks = load_data_chunked(test_data_dir, chunk_size=chunk_size)\\n\\n# Do something with the loaded data chunks\\nfor i, (chunk_data, chunk_labels) in enumerate(zip(train_data_chunks, train_labels_chunks)):\\n    print(f\"Train data chunk {i+1}: {len(chunk_data)} files\")\\n    print(f\"Train labels chunk {i+1}: {len(chunk_labels)} labels\")\\n\\nfor i, (chunk_data, chunk_labels) in enumerate(zip(test_data_chunks, test_labels_chunks)):\\n    print(f\"Test data chunk {i+1}: {len(chunk_data)} files\")\\n    print(f\"Test labels chunk {i+1}: {len(chunk_labels)} labels\")'"
     },
     "execution_count": 6,
     "metadata": {},
     "output_type": "execute_result"
    }
   ],
   "source": [
    "\"\"\"import os\n",
    "import librosa\n",
    "\n",
    "def load_data_chunked(data_dir, chunk_size=100):\n",
    "    data = []\n",
    "    labels = []\n",
    "    filenames = [filename for filename in os.listdir(data_dir) if filename.endswith('.wav')]\n",
    "    num_files = len(filenames)\n",
    "    num_chunks = num_files // chunk_size + 1\n",
    "\n",
    "    for i in range(num_chunks):\n",
    "        start_index = i * chunk_size\n",
    "        end_index = min((i + 1) * chunk_size, num_files)\n",
    "        chunk_data = []\n",
    "        chunk_labels = []\n",
    "\n",
    "        for filename in filenames[start_index:end_index]:\n",
    "            file_path = os.path.join(data_dir, filename)\n",
    "            audio, sr = librosa.load(file_path, sr=None)\n",
    "            chunk_data.append(audio)\n",
    "            chunk_labels.append(filename)  # Assuming labels are the filenames in this case\n",
    "        \n",
    "        data.append(chunk_data)\n",
    "        labels.append(chunk_labels)\n",
    "    \n",
    "    return data, labels\n",
    "\n",
    "# Assuming your project directory structure is like this:\n",
    "# /PyCharm_project_folder\n",
    "#     /Data\n",
    "#         /musicnet\n",
    "#             /train_data\n",
    "#             /test_data\n",
    "#             /train_labels\n",
    "#             /test_labels\n",
    "\n",
    "project_dir = os.getcwd()\n",
    "train_data_dir = os.path.join(project_dir, 'Data', 'musicnet','musicnet', 'train_data')\n",
    "test_data_dir = os.path.join(project_dir, 'Data', 'musicnet','musicnet', 'test_data')\n",
    "train_labels_dir = os.path.join(project_dir, 'Data', 'musicnet','musicnet', 'train_labels')\n",
    "test_labels_dir = os.path.join(project_dir, 'Data', 'musicnet','musicnet', 'test_labels')\n",
    "\n",
    "# Load data in chunks\n",
    "chunk_size = 10  # Adjust the chunk size as needed\n",
    "train_data_chunks, train_labels_chunks = load_data_chunked(train_data_dir, chunk_size=chunk_size)\n",
    "test_data_chunks, test_labels_chunks = load_data_chunked(test_data_dir, chunk_size=chunk_size)\n",
    "\n",
    "# Do something with the loaded data chunks\n",
    "for i, (chunk_data, chunk_labels) in enumerate(zip(train_data_chunks, train_labels_chunks)):\n",
    "    print(f\"Train data chunk {i+1}: {len(chunk_data)} files\")\n",
    "    print(f\"Train labels chunk {i+1}: {len(chunk_labels)} labels\")\n",
    "\n",
    "for i, (chunk_data, chunk_labels) in enumerate(zip(test_data_chunks, test_labels_chunks)):\n",
    "    print(f\"Test data chunk {i+1}: {len(chunk_data)} files\")\n",
    "    print(f\"Test labels chunk {i+1}: {len(chunk_labels)} labels\")\"\"\"\n",
    "\n",
    "\n",
    "\n"
   ],
   "metadata": {
    "collapsed": false,
    "ExecuteTime": {
     "end_time": "2024-04-04T11:12:17.105611100Z",
     "start_time": "2024-04-04T11:12:17.059299600Z"
    }
   },
   "id": "c7e352bc9b2d749f"
  },
  {
   "cell_type": "markdown",
   "source": [
    "Loading only 1gb of train_data "
   ],
   "metadata": {
    "collapsed": false
   },
   "id": "8c00b7bbcdc6bad9"
  },
  {
   "cell_type": "code",
   "execution_count": 7,
   "outputs": [
    {
     "name": "stdout",
     "output_type": "stream",
     "text": [
      "Wave Forms: [tensor([[0., 0., 0.,  ..., 0., 0., 0.]]), tensor([[0., 0., 0.,  ..., 0., 0., 0.]]), tensor([[0., 0., 0.,  ..., 0., 0., 0.]]), tensor([[0., 0., 0.,  ..., 0., 0., 0.]]), tensor([[0., 0., 0.,  ..., 0., 0., 0.]]), tensor([[0., 0., 0.,  ..., 0., 0., 0.]]), tensor([[0., 0., 0.,  ..., 0., 0., 0.]]), tensor([[ 0.0000e+00, -3.0518e-05,  0.0000e+00,  ...,  0.0000e+00,\n",
      "          0.0000e+00,  0.0000e+00]]), tensor([[0., 0., 0.,  ..., 0., 0., 0.]]), tensor([[0., 0., 0.,  ..., 0., 0., 0.]]), tensor([[0., 0., 0.,  ..., 0., 0., 0.]])]\n"
     ]
    }
   ],
   "source": [
    "# \n",
    "def load_data(data_dir, max_size_bytes):\n",
    "    waveform = []\n",
    "    sample_rate = []\n",
    "    filenames = []\n",
    "    total_size = 0\n",
    "    for filename in os.listdir(data_dir):\n",
    "        if filename.endswith('.wav'):\n",
    "            file_path = os.path.join(data_dir, filename)\n",
    "            file_size = os.path.getsize(file_path)\n",
    "            if total_size + file_size <= max_size_bytes:\n",
    "                audio, sr = torchaudio.load(file_path)\n",
    "                waveform.append(audio)\n",
    "                sample_rate.append(sr)\n",
    "                filenames.append(filename)  # Assuming labels are the filenames in this case\n",
    "                total_size += file_size\n",
    "            else:\n",
    "                break\n",
    "    return waveform, sample_rate, filenames\n",
    "\n",
    "# Assuming your project directory structure is like this:\n",
    "# /PyCharm_project_folder\n",
    "#     /Data\n",
    "#         /musicnet\n",
    "#             /train_data\n",
    "#             /test_data\n",
    "#             /train_labels\n",
    "#             /test_labels\n",
    "\n",
    "project_dir = os.getcwd()\n",
    "train_data_dir = os.path.join(project_dir, 'Data', 'musicnet', 'musicnet', 'train_data')\n",
    "test_data_dir = os.path.join(project_dir, 'Data', 'musicnet', 'musicnet', 'test_data')\n",
    "train_labels_dir = os.path.join(project_dir, 'Data', 'musicnet', 'musicnet', 'train_labels')\n",
    "test_labels_dir = os.path.join(project_dir, 'Data', 'musicnet', 'musicnet', 'test_labels')\n",
    "\n",
    "# Load approximately 1GB of training data\n",
    "max_train_data_size = 1 * 1024 * 1024 * 1024  # 1GB in bytes\n",
    "waveform, sample_rate, filenames = load_data(train_data_dir, max_train_data_size)\n",
    "\n",
    "# Do something with the loaded data\n",
    "print(\"Wave Forms:\", waveform)\n",
    "\n"
   ],
   "metadata": {
    "collapsed": false,
    "ExecuteTime": {
     "end_time": "2024-04-04T11:12:18.420272500Z",
     "start_time": "2024-04-04T11:12:17.067770600Z"
    }
   },
   "id": "19e2aabeb7edbfe3"
  },
  {
   "cell_type": "code",
   "execution_count": 8,
   "outputs": [
    {
     "name": "stdout",
     "output_type": "stream",
     "text": [
      "tensor([[0., 0., 0.,  ..., 0., 0., 0.]])\n"
     ]
    }
   ],
   "source": [
    "print(waveform[0])"
   ],
   "metadata": {
    "collapsed": false,
    "ExecuteTime": {
     "end_time": "2024-04-04T11:12:18.421385900Z",
     "start_time": "2024-04-04T11:12:18.411303100Z"
    }
   },
   "id": "fdc315d1c1b8d5ab"
  },
  {
   "cell_type": "code",
   "execution_count": 9,
   "outputs": [
    {
     "name": "stdout",
     "output_type": "stream",
     "text": [
      "Filenames: ['1727.wav', '1728.wav', '1729.wav', '1730.wav', '1733.wav', '1734.wav', '1735.wav', '1739.wav', '1742.wav', '1749.wav', '1750.wav']\n"
     ]
    }
   ],
   "source": [
    "print(\"Filenames:\", filenames)"
   ],
   "metadata": {
    "collapsed": false,
    "ExecuteTime": {
     "end_time": "2024-04-04T11:12:18.424117400Z",
     "start_time": "2024-04-04T11:12:18.417790100Z"
    }
   },
   "id": "28132b31b684272"
  },
  {
   "cell_type": "code",
   "execution_count": 10,
   "outputs": [
    {
     "name": "stdout",
     "output_type": "stream",
     "text": [
      "SampleRate: [44100, 44100, 44100, 44100, 44100, 44100, 44100, 44100, 44100, 44100, 44100]\n"
     ]
    }
   ],
   "source": [
    "print(\"SampleRate:\",sample_rate)"
   ],
   "metadata": {
    "collapsed": false,
    "ExecuteTime": {
     "end_time": "2024-04-04T11:12:18.505669200Z",
     "start_time": "2024-04-04T11:12:18.425171100Z"
    }
   },
   "id": "2ad341647f2fdc8d"
  },
  {
   "cell_type": "code",
   "execution_count": 11,
   "outputs": [
    {
     "ename": "AttributeError",
     "evalue": "'Tensor' object has no attribute 'raw'",
     "output_type": "error",
     "traceback": [
      "\u001B[1;31m---------------------------------------------------------------------------\u001B[0m",
      "\u001B[1;31mAttributeError\u001B[0m                            Traceback (most recent call last)",
      "Cell \u001B[1;32mIn[11], line 2\u001B[0m\n\u001B[0;32m      1\u001B[0m \u001B[38;5;66;03m#Check metadata of the file to see it form\u001B[39;00m\n\u001B[1;32m----> 2\u001B[0m metadata \u001B[38;5;241m=\u001B[39m torchaudio\u001B[38;5;241m.\u001B[39minfo(\u001B[43mwaveform\u001B[49m\u001B[43m[\u001B[49m\u001B[38;5;241;43m0\u001B[39;49m\u001B[43m]\u001B[49m\u001B[38;5;241;43m.\u001B[39;49m\u001B[43mraw\u001B[49m)\n",
      "\u001B[1;31mAttributeError\u001B[0m: 'Tensor' object has no attribute 'raw'"
     ]
    }
   ],
   "source": [
    "#Check metadata of the file to see it form\n",
    "#metadata = torchaudio.info(waveform[0].raw)\n"
   ],
   "metadata": {
    "collapsed": false,
    "ExecuteTime": {
     "end_time": "2024-04-04T11:12:18.604946700Z",
     "start_time": "2024-04-04T11:12:18.431468900Z"
    }
   },
   "id": "ce29f9938d94543"
  },
  {
   "cell_type": "code",
   "execution_count": 12,
   "outputs": [],
   "source": [
    "def plot_specgram(waveform, sample_rate, title=\"Spectrogram\", xlim=None):\n",
    "  waveform = waveform.numpy()\n",
    "\n",
    "  num_channels, num_frames = waveform.shape\n",
    "  time_axis = torch.arange(0, num_frames) / sample_rate\n",
    "\n",
    "  figure, axes = plt.subplots(num_channels, 1)\n",
    "  if num_channels == 1:\n",
    "    axes = [axes]\n",
    "  for c in range(num_channels):\n",
    "    axes[c].specgram(waveform[c], Fs=sample_rate)\n",
    "    if num_channels > 1:\n",
    "      axes[c].set_ylabel(f'Channel {c+1}')\n",
    "    if xlim:\n",
    "      axes[c].set_xlim(xlim)\n",
    "  figure.suptitle(title)\n",
    "  plt.show(block=False)"
   ],
   "metadata": {
    "collapsed": false,
    "ExecuteTime": {
     "end_time": "2024-04-04T11:12:26.129347100Z",
     "start_time": "2024-04-04T11:12:26.115580500Z"
    }
   },
   "id": "8806a0aeef77df9"
  },
  {
   "cell_type": "code",
   "execution_count": 13,
   "outputs": [
    {
     "name": "stderr",
     "output_type": "stream",
     "text": [
      "C:\\Users\\georg\\PycharmProjects\\deep_learning_music_project\\venv\\Lib\\site-packages\\matplotlib\\axes\\_axes.py:7947: RuntimeWarning: divide by zero encountered in log10\n",
      "  Z = 10. * np.log10(spec)\n"
     ]
    },
    {
     "data": {
      "text/plain": "<Figure size 640x480 with 1 Axes>",
      "image/png": "[encoded data removed]"
     },
     "metadata": {},
     "output_type": "display_data"
    }
   ],
   "source": [
    "# It is running indefinitely\n",
    "plot_specgram(waveform[0], sample_rate[0])"
   ],
   "metadata": {
    "collapsed": false,
    "ExecuteTime": {
     "end_time": "2024-04-04T11:12:31.744380Z",
     "start_time": "2024-04-04T11:12:26.757890800Z"
    }
   },
   "id": "be8a975360d15482"
  },
  {
   "cell_type": "code",
   "execution_count": null,
   "outputs": [],
   "source": [],
   "metadata": {
    "collapsed": false,
    "is_executing": true
   },
   "id": "c084bf0cd8fbdb2b"
  },
  {
   "cell_type": "code",
   "execution_count": null,
   "outputs": [],
   "source": [],
   "metadata": {
    "collapsed": false,
    "ExecuteTime": {
     "start_time": "2024-04-01T19:23:38.879307500Z"
    }
   },
   "id": "b2e969debe345c44"
  }
 ],
 "metadata": {
  "kernelspec": {
   "display_name": "Python 3",
   "language": "python",
   "name": "python3"
  },
  "language_info": {
   "codemirror_mode": {
    "name": "ipython",
    "version": 2
   },
   "file_extension": ".py",
   "mimetype": "text/x-python",
   "name": "python",
   "nbconvert_exporter": "python",
   "pygments_lexer": "ipython2",
   "version": "2.7.6"
  }
 },
 "nbformat": 4,
 "nbformat_minor": 5
}
