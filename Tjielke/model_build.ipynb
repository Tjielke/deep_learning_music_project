{
 "cells": [
  {
   "cell_type": "code",
   "execution_count": 5,
   "metadata": {
    "pycharm": {
     "is_executing": true,
     "name": "#%%\n"
    }
   },
   "outputs": [],
   "source": [
    "import torch\n",
    "import torch.nn as nn\n",
    "import torch.nn.functional as F\n",
    "\n",
    "# Initialize the convolutional block\n",
    "conv_block = nn.Sequential(\n",
    "    # Conv Layer 1\n",
    "    nn.Conv2d(1, 48, kernel_size=(3, 7), padding=(1,3)),\n",
    "    nn.BatchNorm2d(48),\n",
    "    nn.ELU(),\n",
    "    nn.MaxPool2d((2,4)),\n",
    "\n",
    "    # Conv Layer 2\n",
    "    nn.Conv2d(48, 64, kernel_size=(3, 7), padding=(1,3)),\n",
    "    nn.BatchNorm2d(64),\n",
    "    nn.ELU(),\n",
    "    nn.MaxPool2d((3,5)),\n",
    "\n",
    "    # Conv Layer 3\n",
    "    nn.Conv2d(64, 128, kernel_size=(3, 7), padding=(1,3)),\n",
    "    nn.BatchNorm2d(128),\n",
    "    nn.ELU(),\n",
    "    nn.MaxPool2d((3,5))\n",
    ")\n",
    "\n",
    "# Initialize the GRU layer\n",
    "input_size = 640  # This should be calculated based on the output shape of the convolutional block\n",
    "hidden_size = 200\n",
    "gru_layer = nn.GRU(input_size, hidden_size, batch_first=True)\n",
    "\n",
    "# Initialize the fully connected layer\n",
    "fc_layer = nn.Linear(hidden_size, 1)\n",
    "\n",
    "# Define a function to initialize the hidden state of the GRU layer\n",
    "def init_hidden(batch_size):\n",
    "    hidden = torch.zeros(1, batch_size, hidden_size)\n",
    "    if torch.cuda.is_available():\n",
    "        hidden = hidden.cuda()\n",
    "    return hidden\n",
    "\n",
    "# Define the forward pass function\n",
    "def forward_pass(x):\n",
    "    # Pass through convolutional block\n",
    "    out = conv_block(x)\n",
    "    # Reshape and transpose the output\n",
    "    out = out.view(out.size(0), -1, out.size(3))\n",
    "    out = out.transpose(1, 2)\n",
    "\n",
    "    # Initialize hidden state\n",
    "    batch_size = x.size(0)\n",
    "    hidden = init_hidden(batch_size)\n",
    "\n",
    "    # Pass through GRU layer\n",
    "    out, _ = gru_layer(out, hidden)\n",
    "\n",
    "    # Get the last time step output\n",
    "    out = out[:, -1, :]\n",
    "\n",
    "    # Pass through fully connected layer\n",
    "    out = fc_layer(out)\n",
    "\n",
    "    return out\n",
    "\n",
    "# Use the forward_pass function in your script\n",
    "# Assume x is the input tensor (mel spectrogram images)\n",
    "# output = forward_pass(x)\n"
   ]
  },
  {
   "cell_type": "code",
   "execution_count": null,
   "metadata": {},
   "outputs": [],
   "source": []
  }
 ],
 "metadata": {
  "kernelspec": {
   "display_name": "Python 3 (ipykernel)",
   "language": "python",
   "name": "python3"
  },
  "language_info": {
   "codemirror_mode": {
    "name": "ipython",
    "version": 3
   },
   "file_extension": ".py",
   "mimetype": "text/x-python",
   "name": "python",
   "nbconvert_exporter": "python",
   "pygments_lexer": "ipython3",
   "version": "3.11.0"
  }
 },
 "nbformat": 4,
 "nbformat_minor": 4
}