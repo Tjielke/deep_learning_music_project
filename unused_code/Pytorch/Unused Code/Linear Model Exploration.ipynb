{
 "cells": [
  {
   "cell_type": "code",
   "execution_count": 4,
   "id": "initial_id",
   "metadata": {
    "collapsed": true,
    "ExecuteTime": {
     "end_time": "2024-04-06T11:58:47.078471300Z",
     "start_time": "2024-04-06T11:58:43.312740900Z"
    }
   },
   "outputs": [
    {
     "ename": "TypeError",
     "evalue": "MusicDataset.__init__() missing 1 required positional argument: 'labels_dir'",
     "output_type": "error",
     "traceback": [
      "\u001B[1;31m---------------------------------------------------------------------------\u001B[0m",
      "\u001B[1;31mTypeError\u001B[0m                                 Traceback (most recent call last)",
      "Cell \u001B[1;32mIn[4], line 44\u001B[0m\n\u001B[0;32m     42\u001B[0m data_dir \u001B[38;5;241m=\u001B[39m \u001B[38;5;124m'\u001B[39m\u001B[38;5;124mData/musicnet/musicnet/train_data\u001B[39m\u001B[38;5;124m'\u001B[39m\n\u001B[0;32m     43\u001B[0m labels_dir \u001B[38;5;241m=\u001B[39m \u001B[38;5;124m'\u001B[39m\u001B[38;5;124mData/musicnet/musicnet/train_labels\u001B[39m\u001B[38;5;124m'\u001B[39m\n\u001B[1;32m---> 44\u001B[0m dataset \u001B[38;5;241m=\u001B[39m \u001B[43mMusicDataset\u001B[49m\u001B[43m(\u001B[49m\u001B[43mdata_dir\u001B[49m\u001B[43m,\u001B[49m\u001B[43m \u001B[49m\u001B[43mlabels_dir\u001B[49m\u001B[43m)\u001B[49m\n\u001B[0;32m     46\u001B[0m \u001B[38;5;66;03m# Split the data into training and validation sets\u001B[39;00m\n\u001B[0;32m     47\u001B[0m train_data, val_data \u001B[38;5;241m=\u001B[39m train_test_split(dataset, test_size\u001B[38;5;241m=\u001B[39m\u001B[38;5;241m0.2\u001B[39m, random_state\u001B[38;5;241m=\u001B[39m\u001B[38;5;241m42\u001B[39m)\n",
      "\u001B[1;31mTypeError\u001B[0m: MusicDataset.__init__() missing 1 required positional argument: 'labels_dir'"
     ]
    }
   ],
   "source": [
    "import os\n",
    "import torch\n",
    "import pandas as pd\n",
    "from torch.utils.data import Dataset, DataLoader\n",
    "from sklearn.model_selection import train_test_split\n",
    "from sklearn.preprocessing import LabelEncoder\n",
    "import torchaudio\n",
    "\n",
    "class MusicDataset(Dataset):\n",
    "    def __init__(self, data_dir, metadata_file, labels_dir, max_size_bytes=None):\n",
    "        self.data_dir = data_dir\n",
    "        self.metadata = pd.read_csv(metadata_file)\n",
    "        self.labels_dir = labels_dir\n",
    "        self.filenames = [filename for filename in os.listdir(data_dir) if filename.endswith('.wav')]\n",
    "        if max_size_bytes is not None:\n",
    "            total_size = 0\n",
    "            new_filenames = []\n",
    "            for filename in self.filenames:\n",
    "                file_path = os.path.join(data_dir, filename)\n",
    "                file_size = os.path.getsize(file_path)\n",
    "                if total_size + file_size <= max_size_bytes:\n",
    "                    new_filenames.append(filename)\n",
    "                    total_size += file_size\n",
    "                else:\n",
    "                    break\n",
    "            self.filenames = new_filenames\n",
    "\n",
    "    def __len__(self):\n",
    "        return len(self.filenames)\n",
    "\n",
    "    def __getitem__(self, idx):\n",
    "        filename = self.filenames[idx]\n",
    "        audio_file_path = os.path.join(self.data_dir, filename)\n",
    "        waveform, sample_rate = torchaudio.load(audio_file_path)\n",
    "\n",
    "        label_file_path = os.path.join(self.labels_dir, filename.replace('.wav', '.csv'))\n",
    "        labels = pd.read_csv(label_file_path)\n",
    "\n",
    "        return waveform, sample_rate, labels\n",
    "\n",
    "# Load the data\n",
    "data_dir = 'Data/musicnet/musicnet/train_data'\n",
    "labels_dir = 'Data/musicnet/musicnet/train_labels'\n",
    "dataset = MusicDataset(data_dir, labels_dir)\n",
    "\n",
    "# Split the data into training and validation sets\n",
    "train_data, val_data = train_test_split(dataset, test_size=0.2, random_state=42)\n",
    "\n",
    "# Define your model\n",
    "model = torch.nn.Linear(1, 1)  # Simple linear regression\n",
    "\n",
    "# Define a loss function and optimizer\n",
    "criterion = torch.nn.MSELoss()\n",
    "optimizer = torch.optim.SGD(model.parameters(), lr=0.01)\n",
    "\n",
    "# Train the model\n",
    "for epoch in range(50):  # Number of epochs\n",
    "    for waveform, label in train_data:\n",
    "        # Convert the label to a tensor\n",
    "        label = torch.tensor([float(label)])\n",
    "\n",
    "        # Forward pass\n",
    "        outputs = model(waveform)\n",
    "        loss = criterion(outputs, label)\n",
    "\n",
    "        # Backward pass and optimize\n",
    "        optimizer.zero_grad()\n",
    "        loss.backward()\n",
    "        optimizer.step()\n",
    "\n",
    "    print ('Epoch [{}/{}], Loss: {:.4f}'.format(epoch+1, 100, loss.item()))\n",
    "\n",
    "# Evaluate the model\n",
    "model.eval()\n",
    "with torch.no_grad():\n",
    "    correct = 0\n",
    "    total = 0\n",
    "    for waveform, label in val_data:\n",
    "        label = torch.tensor([float(label)])\n",
    "        outputs = model(waveform)\n",
    "        _, predicted = torch.max(outputs.data, 1)\n",
    "        total += label.size(0)\n",
    "        correct += (predicted == label).sum().item()\n",
    "\n",
    "    print('Accuracy of the model on the test data: {} %'.format(100 * correct / total))"
   ]
  },
  {
   "cell_type": "code",
   "execution_count": null,
   "outputs": [],
   "source": [],
   "metadata": {
    "collapsed": false
   },
   "id": "9db360ad12e358ff"
  }
 ],
 "metadata": {
  "kernelspec": {
   "display_name": "Python 3",
   "language": "python",
   "name": "python3"
  },
  "language_info": {
   "codemirror_mode": {
    "name": "ipython",
    "version": 2
   },
   "file_extension": ".py",
   "mimetype": "text/x-python",
   "name": "python",
   "nbconvert_exporter": "python",
   "pygments_lexer": "ipython2",
   "version": "2.7.6"
  }
 },
 "nbformat": 4,
 "nbformat_minor": 5
}
