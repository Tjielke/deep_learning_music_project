{
 "cells": [
  {
   "cell_type": "code",
   "execution_count": 17,
   "id": "initial_id",
   "metadata": {
    "collapsed": true,
    "ExecuteTime": {
     "end_time": "2024-04-09T08:50:48.424383Z",
     "start_time": "2024-04-09T08:50:48.412740500Z"
    }
   },
   "outputs": [
    {
     "name": "stdout",
     "output_type": "stream",
     "text": [
      "Using device: cpu\n"
     ]
    }
   ],
   "source": [
    "import os\n",
    "\n",
    "import pandas as pd\n",
    "import torch\n",
    "import torchaudio\n",
    "import torchaudio.functional as F\n",
    "import torchaudio.transforms as T\n",
    "\n",
    "from IPython.display import Audio\n",
    "import librosa\n",
    "import matplotlib.pyplot as plt\n",
    "from torchaudio.utils import download_asset\n",
    "\n",
    "# Check for GPU availability\n",
    "device = torch.device('cuda' if torch.cuda.is_available() else 'cpu')\n",
    "print(f\"Using device: {device}\")"
   ]
  },
  {
   "cell_type": "code",
   "execution_count": 18,
   "outputs": [
    {
     "name": "stdout",
     "output_type": "stream",
     "text": [
      "NpzFile '../Data/musicnet.npz' with keys: 1788, 1789, 2659, 2127, 1818...\n",
      "['1788', '1789', '2659', '2127', '1818', '1819', '2614', '2138', '2297', '2131', '1812', '1775', '2322', '1777', '1776', '1771', '2325', '1772', '2486', '2487', '2564', '2529', '2528', '2480', '2481', '2154', '2155', '2156', '2157', '2150', '2151', '2244', '1752', '2247', '2158', '2159', '2242', '2243', '2466', '1759', '2462', '2463', '1793', '1792', '1791', '1790', '2562', '1757', '2210', '2619', '2106', '1859', '2294', '1755', '2555', '2550', '1829', '1828', '2318', '2319', '2491', '1824', '2314', '2315', '2313', '2310', '1822', '2411', '2397', '2392', '2393', '2390', '2140', '2283', '2194', '1750', '2149', '2148', '2477', '2476', '2492', '2473', '2472', '2471', '2289', '2147', '2557', '2568', '2494', '2209', '1922', '1923', '2497', '2542', '2540', '2195', '2556', '2410', '2300', '2303', '2302', '2305', '2304', '2307', '2228', '2381', '2177', '2383', '2382', '2384', '2389', '2415', '2178', '2179', '2077', '2076', '2075', '2288', '2443', '2607', '1742', '2444', '2603', '2608', '2282', '2391', '2284', '2527', '2285', '1933', '1932', '1931', '2320', '2521', '2398', '2523', '2350', '2081', '1763', '2239', '1773', '1728', '1729', '2576', '1727', '1835', '2572', '2573', '2570', '2571', '2169', '2379', '2677', '2560', '2374', '2490', '2167', '2166', '2161', '2160', '2372', '2373', '2594', '2595', '2596', '2298', '2590', '2591', '2611', '2593', '2293', '2292', '2451', '2296', '2295', '2483', '1876', '2191', '1872', '1873', '2196', '2198', '1739', '2201', '2202', '1813', '2204', '2207', '2208', '1730', '1733', '2678', '1735', '2404', '2567', '2566', '2118', '2119', '2405', '2368', '2248', '2112', '2364', '2114', '2417', '2116', '2117', '2622', '2586', '2620', '2621', '2626', '2627', '2581', '2420', '2203', '2628', '2423', '2424', '2588', '1919', '1918', '2180', '2186', '2232', '2366', '2416', '2365', '1916', '2213', '2212', '2211', '2113', '2217', '2336', '2215', '2214', '2240', '2219', '2218', '2241', '2082', '2358', '2359', '1749', '1760', '2083', '2514', '2516', '2510', '2357', '2512', '2104', '2575', '1807', '2433', '2432', '2431', '2442', '2403', '2633', '2632', '2522', '1768', '2335', '2488', '2582', '2345', '1817', '2341', '1811', '2343', '2342', '2227', '2224', '2225', '2222', '2348', '2220', '2221', '2388', '1751', '2501', '2509', '1758', '2507', '2506', '2505', '2504', '2478', '2502', '2406', '2168', '2618', '1756', '1893', '2629', '1734', '2308', '2436', '2482', '2346', '2079', '2422', '2376', '2330', '2238', '1805', '2377', '2334', '2200', '2441', '2105', '2231', '2230', '2080', '2229', '2234', '2237', '2371', '2538', '2078', '2532', '2533', '2530', '2531', '1766', '2537', '1764', '1765']\n"
     ]
    }
   ],
   "source": [
    "from numpy import load\n",
    "\n",
    "data = '../Data/musicnet.npz'\n",
    "#lst = data.files\n",
    "with load(data,allow_pickle=True) as items:\n",
    "    print(items)\n",
    "    print(items.files)\n"
   ],
   "metadata": {
    "collapsed": false,
    "ExecuteTime": {
     "end_time": "2024-04-09T08:50:48.924575600Z",
     "start_time": "2024-04-09T08:50:48.897593900Z"
    }
   },
   "id": "f4f3058d99fd42b"
  },
  {
   "cell_type": "code",
   "execution_count": 19,
   "outputs": [],
   "source": [
    "metadata_df =pd.read_csv('../Data/musicnet_metadata.csv')"
   ],
   "metadata": {
    "collapsed": false,
    "ExecuteTime": {
     "end_time": "2024-04-09T08:50:49.324296300Z",
     "start_time": "2024-04-09T08:50:49.308112Z"
    }
   },
   "id": "413b9888cb325566"
  },
  {
   "cell_type": "code",
   "execution_count": 20,
   "outputs": [
    {
     "data": {
      "text/plain": "     id  composer               composition                   movement  \\\n0  1727  Schubert  Piano Quintet in A major                 2. Andante   \n1  1728  Schubert  Piano Quintet in A major         3. Scherzo: Presto   \n2  1729  Schubert  Piano Quintet in A major  4. Andantino - Allegretto   \n3  1730  Schubert  Piano Quintet in A major          5. Allegro giusto   \n4  1733  Schubert   Piano Sonata in A major               2. Andantino   \n\n        ensemble            source                      transcriber  \\\n0  Piano Quintet  European Archive  http://tirolmusic.blogspot.com/   \n1  Piano Quintet  European Archive  http://tirolmusic.blogspot.com/   \n2  Piano Quintet  European Archive  http://tirolmusic.blogspot.com/   \n3  Piano Quintet  European Archive  http://tirolmusic.blogspot.com/   \n4     Solo Piano          Museopen                Segundo G. Yogore   \n\n  catalog_name  seconds  \n0        OP114      447  \n1        OP114      251  \n2        OP114      444  \n3        OP114      368  \n4         D959      546  ",
      "text/html": "<div>\n<style scoped>\n    .dataframe tbody tr th:only-of-type {\n        vertical-align: middle;\n    }\n\n    .dataframe tbody tr th {\n        vertical-align: top;\n    }\n\n    .dataframe thead th {\n        text-align: right;\n    }\n</style>\n<table border=\"1\" class=\"dataframe\">\n  <thead>\n    <tr style=\"text-align: right;\">\n      <th></th>\n      <th>id</th>\n      <th>composer</th>\n      <th>composition</th>\n      <th>movement</th>\n      <th>ensemble</th>\n      <th>source</th>\n      <th>transcriber</th>\n      <th>catalog_name</th>\n      <th>seconds</th>\n    </tr>\n  </thead>\n  <tbody>\n    <tr>\n      <th>0</th>\n      <td>1727</td>\n      <td>Schubert</td>\n      <td>Piano Quintet in A major</td>\n      <td>2. Andante</td>\n      <td>Piano Quintet</td>\n      <td>European Archive</td>\n      <td>http://tirolmusic.blogspot.com/</td>\n      <td>OP114</td>\n      <td>447</td>\n    </tr>\n    <tr>\n      <th>1</th>\n      <td>1728</td>\n      <td>Schubert</td>\n      <td>Piano Quintet in A major</td>\n      <td>3. Scherzo: Presto</td>\n      <td>Piano Quintet</td>\n      <td>European Archive</td>\n      <td>http://tirolmusic.blogspot.com/</td>\n      <td>OP114</td>\n      <td>251</td>\n    </tr>\n    <tr>\n      <th>2</th>\n      <td>1729</td>\n      <td>Schubert</td>\n      <td>Piano Quintet in A major</td>\n      <td>4. Andantino - Allegretto</td>\n      <td>Piano Quintet</td>\n      <td>European Archive</td>\n      <td>http://tirolmusic.blogspot.com/</td>\n      <td>OP114</td>\n      <td>444</td>\n    </tr>\n    <tr>\n      <th>3</th>\n      <td>1730</td>\n      <td>Schubert</td>\n      <td>Piano Quintet in A major</td>\n      <td>5. Allegro giusto</td>\n      <td>Piano Quintet</td>\n      <td>European Archive</td>\n      <td>http://tirolmusic.blogspot.com/</td>\n      <td>OP114</td>\n      <td>368</td>\n    </tr>\n    <tr>\n      <th>4</th>\n      <td>1733</td>\n      <td>Schubert</td>\n      <td>Piano Sonata in A major</td>\n      <td>2. Andantino</td>\n      <td>Solo Piano</td>\n      <td>Museopen</td>\n      <td>Segundo G. Yogore</td>\n      <td>D959</td>\n      <td>546</td>\n    </tr>\n  </tbody>\n</table>\n</div>"
     },
     "execution_count": 20,
     "metadata": {},
     "output_type": "execute_result"
    }
   ],
   "source": [
    "metadata_df.head()"
   ],
   "metadata": {
    "collapsed": false,
    "ExecuteTime": {
     "end_time": "2024-04-09T08:50:49.889158600Z",
     "start_time": "2024-04-09T08:50:49.868749400Z"
    }
   },
   "id": "8dc5eaf9916e2e41"
  },
  {
   "cell_type": "code",
   "execution_count": 20,
   "outputs": [],
   "source": [],
   "metadata": {
    "collapsed": false,
    "ExecuteTime": {
     "end_time": "2024-04-09T08:50:50.677599200Z",
     "start_time": "2024-04-09T08:50:50.642720900Z"
    }
   },
   "id": "e62810b863ec2a35"
  },
  {
   "cell_type": "code",
   "execution_count": 21,
   "outputs": [
    {
     "ename": "FileNotFoundError",
     "evalue": "[WinError 3] The system cannot find the path specified: 'C:\\\\Users\\\\georg\\\\PycharmProjects\\\\deep_learning_music_project\\\\Pytorch\\\\Unused Code\\\\Data\\\\musicnet\\\\musicnet\\\\train_data'",
     "output_type": "error",
     "traceback": [
      "\u001B[1;31m---------------------------------------------------------------------------\u001B[0m",
      "\u001B[1;31mFileNotFoundError\u001B[0m                         Traceback (most recent call last)",
      "Cell \u001B[1;32mIn[21], line 38\u001B[0m\n\u001B[0;32m     36\u001B[0m \u001B[38;5;66;03m# Load approximately 1GB of training data\u001B[39;00m\n\u001B[0;32m     37\u001B[0m max_train_data_size \u001B[38;5;241m=\u001B[39m \u001B[38;5;241m1\u001B[39m \u001B[38;5;241m*\u001B[39m \u001B[38;5;241m1024\u001B[39m \u001B[38;5;241m*\u001B[39m \u001B[38;5;241m1024\u001B[39m \u001B[38;5;241m*\u001B[39m \u001B[38;5;241m1024\u001B[39m  \u001B[38;5;66;03m# 1GB in bytes\u001B[39;00m\n\u001B[1;32m---> 38\u001B[0m waveform, sample_rate, filenames \u001B[38;5;241m=\u001B[39m \u001B[43mload_data\u001B[49m\u001B[43m(\u001B[49m\u001B[43mtrain_data_dir\u001B[49m\u001B[43m,\u001B[49m\u001B[43m \u001B[49m\u001B[43mmax_train_data_size\u001B[49m\u001B[43m)\u001B[49m\n\u001B[0;32m     40\u001B[0m \u001B[38;5;66;03m# Do something with the loaded data\u001B[39;00m\n\u001B[0;32m     41\u001B[0m \u001B[38;5;28mprint\u001B[39m(\u001B[38;5;124m\"\u001B[39m\u001B[38;5;124mWave Forms:\u001B[39m\u001B[38;5;124m\"\u001B[39m, waveform)\n",
      "Cell \u001B[1;32mIn[21], line 7\u001B[0m, in \u001B[0;36mload_data\u001B[1;34m(data_dir, max_size_bytes)\u001B[0m\n\u001B[0;32m      5\u001B[0m filenames \u001B[38;5;241m=\u001B[39m []\n\u001B[0;32m      6\u001B[0m total_size \u001B[38;5;241m=\u001B[39m \u001B[38;5;241m0\u001B[39m\n\u001B[1;32m----> 7\u001B[0m \u001B[38;5;28;01mfor\u001B[39;00m filename \u001B[38;5;129;01min\u001B[39;00m \u001B[43mos\u001B[49m\u001B[38;5;241;43m.\u001B[39;49m\u001B[43mlistdir\u001B[49m\u001B[43m(\u001B[49m\u001B[43mdata_dir\u001B[49m\u001B[43m)\u001B[49m:\n\u001B[0;32m      8\u001B[0m     \u001B[38;5;28;01mif\u001B[39;00m filename\u001B[38;5;241m.\u001B[39mendswith(\u001B[38;5;124m'\u001B[39m\u001B[38;5;124m.wav\u001B[39m\u001B[38;5;124m'\u001B[39m):\n\u001B[0;32m      9\u001B[0m         file_path \u001B[38;5;241m=\u001B[39m os\u001B[38;5;241m.\u001B[39mpath\u001B[38;5;241m.\u001B[39mjoin(data_dir, filename)\n",
      "\u001B[1;31mFileNotFoundError\u001B[0m: [WinError 3] The system cannot find the path specified: 'C:\\\\Users\\\\georg\\\\PycharmProjects\\\\deep_learning_music_project\\\\Pytorch\\\\Unused Code\\\\Data\\\\musicnet\\\\musicnet\\\\train_data'"
     ]
    }
   ],
   "source": [
    "# \n",
    "def load_data(data_dir, max_size_bytes):\n",
    "    waveform = []\n",
    "    sample_rate = []\n",
    "    filenames = []\n",
    "    total_size = 0\n",
    "    for filename in os.listdir(data_dir):\n",
    "        if filename.endswith('.wav'):\n",
    "            file_path = os.path.join(data_dir, filename)\n",
    "            file_size = os.path.getsize(file_path)\n",
    "            if total_size + file_size <= max_size_bytes:\n",
    "                audio, sr = torchaudio.load(file_path)\n",
    "                waveform.append(audio)\n",
    "                sample_rate.append(sr)\n",
    "                filenames.append(filename)  # Assuming labels are the filenames in this case\n",
    "                total_size += file_size\n",
    "            else:\n",
    "                break\n",
    "    return waveform, sample_rate, filenames\n",
    "\n",
    "# Assuming your project directory structure is like this:\n",
    "# /PyCharm_project_folder\n",
    "#     /Data\n",
    "#         /musicnet\n",
    "#             /train_data\n",
    "#             /test_data\n",
    "#             /train_labels\n",
    "#             /test_labels\n",
    "\n",
    "project_dir = os.getcwd()\n",
    "train_data_dir = os.path.join(project_dir, 'Data', 'musicnet', 'musicnet', 'train_data')\n",
    "test_data_dir = os.path.join(project_dir, 'Data', 'musicnet', 'musicnet', 'test_data')\n",
    "train_labels_dir = os.path.join(project_dir, 'Data', 'musicnet', 'musicnet', 'train_labels')\n",
    "test_labels_dir = os.path.join(project_dir, 'Data', 'musicnet', 'musicnet', 'test_labels')\n",
    "\n",
    "# Load approximately 1GB of training data\n",
    "max_train_data_size = 1 * 1024 * 1024 * 1024  # 1GB in bytes\n",
    "waveform, sample_rate, filenames = load_data(train_data_dir, max_train_data_size)\n",
    "\n",
    "# Do something with the loaded data\n",
    "print(\"Wave Forms:\", waveform)\n",
    "\n"
   ],
   "metadata": {
    "collapsed": false,
    "ExecuteTime": {
     "end_time": "2024-04-09T08:50:51.383287600Z",
     "start_time": "2024-04-09T08:50:51.264131400Z"
    }
   },
   "id": "93411a5c5cae2b1a"
  },
  {
   "cell_type": "code",
   "execution_count": 2,
   "outputs": [],
   "source": [],
   "metadata": {
    "collapsed": false,
    "ExecuteTime": {
     "end_time": "2024-04-04T11:21:37.747824Z",
     "start_time": "2024-04-04T11:21:37.738622300Z"
    }
   },
   "id": "fec86551ed37658a"
  },
  {
   "cell_type": "code",
   "execution_count": null,
   "outputs": [],
   "source": [],
   "metadata": {
    "collapsed": false,
    "ExecuteTime": {
     "start_time": "2024-04-04T11:18:22.902041700Z"
    }
   },
   "id": "aff91e619dee5f13"
  },
  {
   "cell_type": "code",
   "execution_count": 5,
   "outputs": [],
   "source": [
    "pitch = F.detect_pitch_frequency(waveform[0], sample_rate[0])"
   ],
   "metadata": {
    "collapsed": false,
    "ExecuteTime": {
     "end_time": "2024-04-04T11:27:57.215336400Z",
     "start_time": "2024-04-04T11:27:31.875699500Z"
    }
   },
   "id": "aa242426bae34242"
  },
  {
   "cell_type": "code",
   "execution_count": 6,
   "outputs": [],
   "source": [
    "def plot_pitch(waveform, sr, pitch):\n",
    "    figure, axis = plt.subplots(1, 1)\n",
    "    axis.set_title(\"Pitch Feature\")\n",
    "    axis.grid(True)\n",
    "\n",
    "    end_time = waveform.shape[1] / sr\n",
    "    time_axis = torch.linspace(0, end_time, waveform.shape[1])\n",
    "    axis.plot(time_axis, waveform[0], linewidth=1, color=\"gray\", alpha=0.3)\n",
    "\n",
    "    axis2 = axis.twinx()\n",
    "    time_axis = torch.linspace(0, end_time, pitch.shape[1])\n",
    "    axis2.plot(time_axis, pitch[0], linewidth=2, label=\"Pitch\", color=\"green\")\n",
    "\n",
    "    axis2.legend(loc=0)\n",
    "    plt.show(block=False)\n"
   ],
   "metadata": {
    "collapsed": false,
    "ExecuteTime": {
     "end_time": "2024-04-04T11:27:57.227834600Z",
     "start_time": "2024-04-04T11:27:57.218694900Z"
    }
   },
   "id": "5d23f3a99c57e44d"
  },
  {
   "cell_type": "code",
   "execution_count": 7,
   "outputs": [
    {
     "data": {
      "text/plain": "<Figure size 640x480 with 2 Axes>",
      "image/png": "[encoded data removed]"
     },
     "metadata": {},
     "output_type": "display_data"
    }
   ],
   "source": [
    "plot_pitch(waveform[0], sample_rate[0], pitch)"
   ],
   "metadata": {
    "collapsed": false,
    "ExecuteTime": {
     "end_time": "2024-04-04T11:58:40.716320700Z",
     "start_time": "2024-04-04T11:27:57.223827500Z"
    }
   },
   "id": "81234d3a618ae176"
  },
  {
   "cell_type": "markdown",
   "source": [],
   "metadata": {
    "collapsed": false
   },
   "id": "fc3dd8016c7b315f"
  },
  {
   "cell_type": "code",
   "execution_count": null,
   "outputs": [],
   "source": [],
   "metadata": {
    "collapsed": false
   },
   "id": "aa78a269ed0bb762"
  }
 ],
 "metadata": {
  "kernelspec": {
   "display_name": "Python 3",
   "language": "python",
   "name": "python3"
  },
  "language_info": {
   "codemirror_mode": {
    "name": "ipython",
    "version": 2
   },
   "file_extension": ".py",
   "mimetype": "text/x-python",
   "name": "python",
   "nbconvert_exporter": "python",
   "pygments_lexer": "ipython2",
   "version": "2.7.6"
  }
 },
 "nbformat": 4,
 "nbformat_minor": 5
}
