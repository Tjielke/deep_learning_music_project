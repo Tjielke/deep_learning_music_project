{
 "cells": [
  {
   "cell_type": "code",
   "execution_count": 7,
   "metadata": {},
   "outputs": [],
   "source": [
    "import librosa\n",
    "import librosa.display\n",
    "import numpy as np\n",
    "import matplotlib.pyplot as plt\n",
    "import pandas as pd"
   ]
  },
  {
   "cell_type": "code",
   "execution_count": 25,
   "metadata": {},
   "outputs": [],
   "source": [
    "def create_training_data_chat(file, n_mels, n_fft, hop_length, onset_list):\n",
    "    # Load the audio file\n",
    "    print(file)\n",
    "    y, sr = librosa.load(file)\n",
    "    print(sr)\n",
    "    \n",
    "    # Compute the Mel spectrogram\n",
    "    mel_spectrogram = librosa.feature.melspectrogram(y=y, sr=sr, n_fft=n_fft, hop_length=hop_length, n_mels=n_mels)\n",
    "    num_frames = mel_spectrogram.shape[1]\n",
    "    \n",
    "    # Determine the time per frame\n",
    "    frame_duration = hop_length / sr\n",
    "    \n",
    "    # Initialize empty DataFrame\n",
    "    start_end_spect_target = pd.DataFrame(columns=['Start sample', 'End sample', 'Spectogram', 'onset'])\n",
    "    \n",
    "    if n_fft == hop_length:\n",
    "        # Case where n_fft equals hop_length\n",
    "        start_samples = np.arange(num_frames) * frame_duration\n",
    "        end_samples = start_samples + frame_duration\n",
    "        \n",
    "        start_end_spect_target = pd.DataFrame({\n",
    "            'Start sample': start_samples,\n",
    "            'End sample': end_samples,\n",
    "            'Spectogram': [mel_spectrogram[:, i] for i in range(num_frames)],\n",
    "            'onset': 0\n",
    "        })\n",
    "    else:\n",
    "        # Case where n_fft is not equal to hop_length\n",
    "        start_samples = np.arange(1, num_frames) * frame_duration\n",
    "        end_samples = start_samples + frame_duration\n",
    "        \n",
    "        diffs = [mel_spectrogram[:, i - 1] - mel_spectrogram[:, i] for i in range(1, num_frames)]\n",
    "        \n",
    "        start_end_spect_target = pd.DataFrame({\n",
    "            'Start sample': start_samples,\n",
    "            'End sample': end_samples,\n",
    "            'Spectogram': diffs,\n",
    "            'onset': 0\n",
    "        })\n",
    "    \n",
    "    # Mark the onset frames based on the onset list\n",
    "    for onset in onset_list:\n",
    "        mask = (start_end_spect_target['Start sample'] <= onset) & (onset <= start_end_spect_target['End sample'])\n",
    "        start_end_spect_target.loc[mask, 'onset'] = 1\n",
    "\n",
    "    return start_end_spect_target\n"
   ]
  },
  {
   "cell_type": "code",
   "execution_count": 30,
   "metadata": {},
   "outputs": [
    {
     "name": "stdout",
     "output_type": "stream",
     "text": [
      "../onsets_ISMIR_2012/audio/ah_development_percussion_castagnet1.flac\n",
      "22050\n"
     ]
    },
    {
     "name": "stderr",
     "output_type": "stream",
     "text": [
      "c:\\Users\\20192801\\Anaconda3\\envs\\DeepLearning_labs\\Lib\\site-packages\\librosa\\feature\\spectral.py:2143: UserWarning: Empty filters detected in mel frequency basis. Some channels will produce empty responses. Try increasing your sampling rate (and fmax) or reducing n_mels.\n",
      "  mel_basis = filters.mel(sr=sr, n_fft=n_fft, **kwargs)\n"
     ]
    },
    {
     "data": {
      "text/html": [
       "<div>\n",
       "<style scoped>\n",
       "    .dataframe tbody tr th:only-of-type {\n",
       "        vertical-align: middle;\n",
       "    }\n",
       "\n",
       "    .dataframe tbody tr th {\n",
       "        vertical-align: top;\n",
       "    }\n",
       "\n",
       "    .dataframe thead th {\n",
       "        text-align: right;\n",
       "    }\n",
       "</style>\n",
       "<table border=\"1\" class=\"dataframe\">\n",
       "  <thead>\n",
       "    <tr style=\"text-align: right;\">\n",
       "      <th></th>\n",
       "      <th>Start sample</th>\n",
       "      <th>End sample</th>\n",
       "      <th>Spectogram</th>\n",
       "      <th>onset</th>\n",
       "    </tr>\n",
       "  </thead>\n",
       "  <tbody>\n",
       "    <tr>\n",
       "      <th>0</th>\n",
       "      <td>0.000000</td>\n",
       "      <td>0.002902</td>\n",
       "      <td>[0.0, 0.0, 0.0, 0.0, 0.0, 0.0, 0.0, 0.0, 0.0, ...</td>\n",
       "      <td>0</td>\n",
       "    </tr>\n",
       "    <tr>\n",
       "      <th>1</th>\n",
       "      <td>0.002902</td>\n",
       "      <td>0.005805</td>\n",
       "      <td>[0.0, 0.0, 0.0, 0.0, 0.0, 0.0, 0.0, 0.0, 0.0, ...</td>\n",
       "      <td>0</td>\n",
       "    </tr>\n",
       "    <tr>\n",
       "      <th>2</th>\n",
       "      <td>0.005805</td>\n",
       "      <td>0.008707</td>\n",
       "      <td>[0.0, 0.0, 0.0, 0.0, 0.0, 0.0, 0.0, 0.0, 0.0, ...</td>\n",
       "      <td>0</td>\n",
       "    </tr>\n",
       "    <tr>\n",
       "      <th>3</th>\n",
       "      <td>0.008707</td>\n",
       "      <td>0.011610</td>\n",
       "      <td>[0.0, 0.0, 0.0, 0.0, 0.0, 0.0, 0.0, 0.0, 0.0, ...</td>\n",
       "      <td>0</td>\n",
       "    </tr>\n",
       "    <tr>\n",
       "      <th>4</th>\n",
       "      <td>0.011610</td>\n",
       "      <td>0.014512</td>\n",
       "      <td>[0.0, 0.0, 0.0, 0.0, 0.0, 0.0, 0.0, 0.0, 0.0, ...</td>\n",
       "      <td>0</td>\n",
       "    </tr>\n",
       "    <tr>\n",
       "      <th>...</th>\n",
       "      <td>...</td>\n",
       "      <td>...</td>\n",
       "      <td>...</td>\n",
       "      <td>...</td>\n",
       "    </tr>\n",
       "    <tr>\n",
       "      <th>3096</th>\n",
       "      <td>8.986122</td>\n",
       "      <td>8.989025</td>\n",
       "      <td>[0.0, 0.0, 0.0, 0.0, 0.0, 0.0, 0.0, 0.0, 0.0, ...</td>\n",
       "      <td>0</td>\n",
       "    </tr>\n",
       "    <tr>\n",
       "      <th>3097</th>\n",
       "      <td>8.989025</td>\n",
       "      <td>8.991927</td>\n",
       "      <td>[0.0, 0.0, 0.0, 0.0, 0.0, 0.0, 0.0, 0.0, 0.0, ...</td>\n",
       "      <td>0</td>\n",
       "    </tr>\n",
       "    <tr>\n",
       "      <th>3098</th>\n",
       "      <td>8.991927</td>\n",
       "      <td>8.994830</td>\n",
       "      <td>[0.0, 0.0, 0.0, 0.0, 0.0, 0.0, 0.0, 0.0, 0.0, ...</td>\n",
       "      <td>0</td>\n",
       "    </tr>\n",
       "    <tr>\n",
       "      <th>3099</th>\n",
       "      <td>8.994830</td>\n",
       "      <td>8.997732</td>\n",
       "      <td>[0.0, 0.0, 0.0, 0.0, 0.0, 0.0, 0.0, 0.0, 0.0, ...</td>\n",
       "      <td>0</td>\n",
       "    </tr>\n",
       "    <tr>\n",
       "      <th>3100</th>\n",
       "      <td>8.997732</td>\n",
       "      <td>9.000635</td>\n",
       "      <td>[0.0, 0.0, 0.0, 0.0, 0.0, 0.0, 0.0, 0.0, 0.0, ...</td>\n",
       "      <td>0</td>\n",
       "    </tr>\n",
       "  </tbody>\n",
       "</table>\n",
       "<p>3101 rows × 4 columns</p>\n",
       "</div>"
      ],
      "text/plain": [
       "      Start sample  End sample  \\\n",
       "0         0.000000    0.002902   \n",
       "1         0.002902    0.005805   \n",
       "2         0.005805    0.008707   \n",
       "3         0.008707    0.011610   \n",
       "4         0.011610    0.014512   \n",
       "...            ...         ...   \n",
       "3096      8.986122    8.989025   \n",
       "3097      8.989025    8.991927   \n",
       "3098      8.991927    8.994830   \n",
       "3099      8.994830    8.997732   \n",
       "3100      8.997732    9.000635   \n",
       "\n",
       "                                             Spectogram  onset  \n",
       "0     [0.0, 0.0, 0.0, 0.0, 0.0, 0.0, 0.0, 0.0, 0.0, ...      0  \n",
       "1     [0.0, 0.0, 0.0, 0.0, 0.0, 0.0, 0.0, 0.0, 0.0, ...      0  \n",
       "2     [0.0, 0.0, 0.0, 0.0, 0.0, 0.0, 0.0, 0.0, 0.0, ...      0  \n",
       "3     [0.0, 0.0, 0.0, 0.0, 0.0, 0.0, 0.0, 0.0, 0.0, ...      0  \n",
       "4     [0.0, 0.0, 0.0, 0.0, 0.0, 0.0, 0.0, 0.0, 0.0, ...      0  \n",
       "...                                                 ...    ...  \n",
       "3096  [0.0, 0.0, 0.0, 0.0, 0.0, 0.0, 0.0, 0.0, 0.0, ...      0  \n",
       "3097  [0.0, 0.0, 0.0, 0.0, 0.0, 0.0, 0.0, 0.0, 0.0, ...      0  \n",
       "3098  [0.0, 0.0, 0.0, 0.0, 0.0, 0.0, 0.0, 0.0, 0.0, ...      0  \n",
       "3099  [0.0, 0.0, 0.0, 0.0, 0.0, 0.0, 0.0, 0.0, 0.0, ...      0  \n",
       "3100  [0.0, 0.0, 0.0, 0.0, 0.0, 0.0, 0.0, 0.0, 0.0, ...      0  \n",
       "\n",
       "[3101 rows x 4 columns]"
      ]
     },
     "execution_count": 30,
     "metadata": {},
     "output_type": "execute_result"
    }
   ],
   "source": [
    "'''\n",
    "    Do for every file:\n",
    "        n_fft: 128, hop_length: 64\n",
    "        n_fft: 128, hop_length: 128\n",
    "        n_fft: 256, hop_length: 128\n",
    "        n_fft: 256, hop_length: 256\n",
    "\n",
    "'''\n",
    "onset = pd.read_csv('../onsets_ISMIR_2012/annotations/onsets/ah_development_percussion_castagnet1.onsets',header=None)\n",
    "onset = onset[0].values.tolist()\n",
    "n_mels = 254\n",
    "n_fft = 64\n",
    "hop_length = 64\n",
    "file_path = '../onsets_ISMIR_2012/audio/ah_development_percussion_castagnet1.flac'\n",
    "test1 = create_training_data_chat(file_path,n_mels,n_fft,hop_length,onset)\n",
    "test1"
   ]
  },
  {
   "cell_type": "code",
   "execution_count": 36,
   "metadata": {},
   "outputs": [
    {
     "name": "stdout",
     "output_type": "stream",
     "text": [
      "Dataset 1: [176, 175, 135, 27, 105, 109, 72, 123, 8, 71, 110, 55, 7, 64, 54, 90, 17, 80, 138, 181, 151, 148, 74, 18, 58, 171, 188, 166, 46, 196, 66, 117, 146, 106, 36, 40, 48, 163, 149, 184, 83, 82, 28, 200, 172, 2, 157, 122, 120, 79, 98, 189, 67, 154, 37, 52, 31, 127, 161, 15, 12, 60, 165, 102, 75, 155, 115, 1, 187, 132, 49, 158, 9, 6, 21, 50, 85, 152, 91, 92, 76, 29, 142, 53, 47, 3, 11, 167, 99, 111, 139, 133, 137, 199, 131, 164, 51, 194, 134, 42, 100, 197, 124, 177, 160, 56, 61, 114, 186, 153, 65, 23, 14, 183, 96, 125, 192, 173, 170, 32]\n",
      "Dataset 2: [81, 119, 118, 5, 159, 150, 198, 84, 108, 103, 57, 104, 73, 107, 143, 190, 156, 128, 97, 94, 129, 113, 16, 185, 78, 147, 33, 168, 191, 121, 95, 162, 89, 144, 20, 38, 178, 35, 193, 24]\n",
      "Dataset 3: [145, 70, 10, 44, 34, 116, 63, 136, 43, 112, 68, 62, 45, 195, 69, 86, 13, 140, 169, 130, 22, 39, 25, 88, 19, 93, 4, 30, 41, 101, 59, 141, 179, 26, 182, 126, 180, 174, 87, 77]\n"
     ]
    }
   ],
   "source": [
    "import random\n",
    "\n",
    "# Total number of files\n",
    "total_files = 200\n",
    "\n",
    "# Create a list of file indices from 1 to 200\n",
    "file_indices = list(range(1, total_files + 1))\n",
    "\n",
    "# Shuffle the list of file indices to ensure random order\n",
    "random.shuffle(file_indices)\n",
    "\n",
    "# Calculate the number of files for each dataset\n",
    "num_files_dataset1 = int(0.60 * total_files)  # 60% of files\n",
    "num_files_dataset2 = int(0.20 * total_files)  # 20% of files\n",
    "# The last 20% can simply be the remainder of the list\n",
    "num_files_dataset3 = total_files - num_files_dataset1 - num_files_dataset2\n",
    "\n",
    "# Assign files to datasets\n",
    "dataset1 = file_indices[:num_files_dataset1]\n",
    "dataset2 = file_indices[num_files_dataset1:num_files_dataset1 + num_files_dataset2]\n",
    "dataset3 = file_indices[num_files_dataset1 + num_files_dataset2:]\n",
    "\n",
    "# Print the datasets (optional)\n",
    "print(\"Dataset 1:\", dataset1)\n",
    "print(\"Dataset 2:\", dataset2)\n",
    "print(\"Dataset 3:\", dataset3)\n"
   ]
  },
  {
   "cell_type": "code",
   "execution_count": 35,
   "metadata": {},
   "outputs": [
    {
     "name": "stderr",
     "output_type": "stream",
     "text": [
      "c:\\Users\\20192801\\Anaconda3\\envs\\DeepLearning_labs\\Lib\\site-packages\\librosa\\feature\\spectral.py:2143: UserWarning: Empty filters detected in mel frequency basis. Some channels will produce empty responses. Try increasing your sampling rate (and fmax) or reducing n_mels.\n",
      "  mel_basis = filters.mel(sr=sr, n_fft=n_fft, **kwargs)\n"
     ]
    },
    {
     "name": "stdout",
     "output_type": "stream",
     "text": [
      "C:/Users/20192801/Documents/deep_learning_music_project\\onsets_ISMIR_2012\\csv_large_label\\ah_development_guitar_2684_TexasMusicForge_Dandelion_pt1_start_end_spect_target.csv\n"
     ]
    },
    {
     "name": "stderr",
     "output_type": "stream",
     "text": [
      "c:\\Users\\20192801\\Anaconda3\\envs\\DeepLearning_labs\\Lib\\site-packages\\librosa\\feature\\spectral.py:2143: UserWarning: Empty filters detected in mel frequency basis. Some channels will produce empty responses. Try increasing your sampling rate (and fmax) or reducing n_mels.\n",
      "  mel_basis = filters.mel(sr=sr, n_fft=n_fft, **kwargs)\n"
     ]
    },
    {
     "name": "stdout",
     "output_type": "stream",
     "text": [
      "C:/Users/20192801/Documents/deep_learning_music_project\\onsets_ISMIR_2012\\csv_large_label\\ah_development_guitar_Guitar_Licks_06-11_start_end_spect_target.csv\n"
     ]
    },
    {
     "name": "stderr",
     "output_type": "stream",
     "text": [
      "c:\\Users\\20192801\\Anaconda3\\envs\\DeepLearning_labs\\Lib\\site-packages\\librosa\\feature\\spectral.py:2143: UserWarning: Empty filters detected in mel frequency basis. Some channels will produce empty responses. Try increasing your sampling rate (and fmax) or reducing n_mels.\n",
      "  mel_basis = filters.mel(sr=sr, n_fft=n_fft, **kwargs)\n"
     ]
    },
    {
     "name": "stdout",
     "output_type": "stream",
     "text": [
      "C:/Users/20192801/Documents/deep_learning_music_project\\onsets_ISMIR_2012\\csv_large_label\\ah_development_guitar_Guitar_Licks_06-12_start_end_spect_target.csv\n"
     ]
    },
    {
     "name": "stderr",
     "output_type": "stream",
     "text": [
      "c:\\Users\\20192801\\Anaconda3\\envs\\DeepLearning_labs\\Lib\\site-packages\\librosa\\feature\\spectral.py:2143: UserWarning: Empty filters detected in mel frequency basis. Some channels will produce empty responses. Try increasing your sampling rate (and fmax) or reducing n_mels.\n",
      "  mel_basis = filters.mel(sr=sr, n_fft=n_fft, **kwargs)\n"
     ]
    },
    {
     "name": "stdout",
     "output_type": "stream",
     "text": [
      "C:/Users/20192801/Documents/deep_learning_music_project\\onsets_ISMIR_2012\\csv_large_label\\ah_development_guitar_Guitar_Licks_07-06_start_end_spect_target.csv\n"
     ]
    },
    {
     "name": "stderr",
     "output_type": "stream",
     "text": [
      "c:\\Users\\20192801\\Anaconda3\\envs\\DeepLearning_labs\\Lib\\site-packages\\librosa\\feature\\spectral.py:2143: UserWarning: Empty filters detected in mel frequency basis. Some channels will produce empty responses. Try increasing your sampling rate (and fmax) or reducing n_mels.\n",
      "  mel_basis = filters.mel(sr=sr, n_fft=n_fft, **kwargs)\n"
     ]
    },
    {
     "name": "stdout",
     "output_type": "stream",
     "text": [
      "C:/Users/20192801/Documents/deep_learning_music_project\\onsets_ISMIR_2012\\csv_large_label\\ah_development_guitar_Guitar_Licks_07-11_start_end_spect_target.csv\n"
     ]
    },
    {
     "name": "stderr",
     "output_type": "stream",
     "text": [
      "c:\\Users\\20192801\\Anaconda3\\envs\\DeepLearning_labs\\Lib\\site-packages\\librosa\\feature\\spectral.py:2143: UserWarning: Empty filters detected in mel frequency basis. Some channels will produce empty responses. Try increasing your sampling rate (and fmax) or reducing n_mels.\n",
      "  mel_basis = filters.mel(sr=sr, n_fft=n_fft, **kwargs)\n"
     ]
    },
    {
     "name": "stdout",
     "output_type": "stream",
     "text": [
      "C:/Users/20192801/Documents/deep_learning_music_project\\onsets_ISMIR_2012\\csv_large_label\\ah_development_guitar_Guitar_Licks_15-05_start_end_spect_target.csv\n"
     ]
    },
    {
     "name": "stderr",
     "output_type": "stream",
     "text": [
      "c:\\Users\\20192801\\Anaconda3\\envs\\DeepLearning_labs\\Lib\\site-packages\\librosa\\feature\\spectral.py:2143: UserWarning: Empty filters detected in mel frequency basis. Some channels will produce empty responses. Try increasing your sampling rate (and fmax) or reducing n_mels.\n",
      "  mel_basis = filters.mel(sr=sr, n_fft=n_fft, **kwargs)\n"
     ]
    },
    {
     "name": "stdout",
     "output_type": "stream",
     "text": [
      "C:/Users/20192801/Documents/deep_learning_music_project\\onsets_ISMIR_2012\\csv_large_label\\ah_development_guitar_my_guitar1_start_end_spect_target.csv\n"
     ]
    },
    {
     "name": "stderr",
     "output_type": "stream",
     "text": [
      "c:\\Users\\20192801\\Anaconda3\\envs\\DeepLearning_labs\\Lib\\site-packages\\librosa\\feature\\spectral.py:2143: UserWarning: Empty filters detected in mel frequency basis. Some channels will produce empty responses. Try increasing your sampling rate (and fmax) or reducing n_mels.\n",
      "  mel_basis = filters.mel(sr=sr, n_fft=n_fft, **kwargs)\n"
     ]
    },
    {
     "name": "stdout",
     "output_type": "stream",
     "text": [
      "C:/Users/20192801/Documents/deep_learning_music_project\\onsets_ISMIR_2012\\csv_large_label\\ah_development_oud_1_start_end_spect_target.csv\n"
     ]
    },
    {
     "name": "stderr",
     "output_type": "stream",
     "text": [
      "c:\\Users\\20192801\\Anaconda3\\envs\\DeepLearning_labs\\Lib\\site-packages\\librosa\\feature\\spectral.py:2143: UserWarning: Empty filters detected in mel frequency basis. Some channels will produce empty responses. Try increasing your sampling rate (and fmax) or reducing n_mels.\n",
      "  mel_basis = filters.mel(sr=sr, n_fft=n_fft, **kwargs)\n"
     ]
    },
    {
     "name": "stdout",
     "output_type": "stream",
     "text": [
      "C:/Users/20192801/Documents/deep_learning_music_project\\onsets_ISMIR_2012\\csv_large_label\\ah_development_oud_8_start_end_spect_target.csv\n"
     ]
    },
    {
     "name": "stderr",
     "output_type": "stream",
     "text": [
      "c:\\Users\\20192801\\Anaconda3\\envs\\DeepLearning_labs\\Lib\\site-packages\\librosa\\feature\\spectral.py:2143: UserWarning: Empty filters detected in mel frequency basis. Some channels will produce empty responses. Try increasing your sampling rate (and fmax) or reducing n_mels.\n",
      "  mel_basis = filters.mel(sr=sr, n_fft=n_fft, **kwargs)\n"
     ]
    },
    {
     "name": "stdout",
     "output_type": "stream",
     "text": [
      "C:/Users/20192801/Documents/deep_learning_music_project\\onsets_ISMIR_2012\\csv_large_label\\ah_development_oud_Diverse_-_01_-_Taksim_pt1_start_end_spect_target.csv\n"
     ]
    },
    {
     "name": "stderr",
     "output_type": "stream",
     "text": [
      "c:\\Users\\20192801\\Anaconda3\\envs\\DeepLearning_labs\\Lib\\site-packages\\librosa\\feature\\spectral.py:2143: UserWarning: Empty filters detected in mel frequency basis. Some channels will produce empty responses. Try increasing your sampling rate (and fmax) or reducing n_mels.\n",
      "  mel_basis = filters.mel(sr=sr, n_fft=n_fft, **kwargs)\n"
     ]
    },
    {
     "name": "stdout",
     "output_type": "stream",
     "text": [
      "C:/Users/20192801/Documents/deep_learning_music_project\\onsets_ISMIR_2012\\csv_large_label\\ah_development_oud_rast_taksim1_start_end_spect_target.csv\n"
     ]
    },
    {
     "name": "stderr",
     "output_type": "stream",
     "text": [
      "c:\\Users\\20192801\\Anaconda3\\envs\\DeepLearning_labs\\Lib\\site-packages\\librosa\\feature\\spectral.py:2143: UserWarning: Empty filters detected in mel frequency basis. Some channels will produce empty responses. Try increasing your sampling rate (and fmax) or reducing n_mels.\n",
      "  mel_basis = filters.mel(sr=sr, n_fft=n_fft, **kwargs)\n"
     ]
    },
    {
     "name": "stdout",
     "output_type": "stream",
     "text": [
      "C:/Users/20192801/Documents/deep_learning_music_project\\onsets_ISMIR_2012\\csv_large_label\\ah_development_oud_ud_taksimleri_-_02_-_huezzam_taksim_pt1_start_end_spect_target.csv\n"
     ]
    },
    {
     "name": "stderr",
     "output_type": "stream",
     "text": [
      "c:\\Users\\20192801\\Anaconda3\\envs\\DeepLearning_labs\\Lib\\site-packages\\librosa\\feature\\spectral.py:2143: UserWarning: Empty filters detected in mel frequency basis. Some channels will produce empty responses. Try increasing your sampling rate (and fmax) or reducing n_mels.\n",
      "  mel_basis = filters.mel(sr=sr, n_fft=n_fft, **kwargs)\n"
     ]
    },
    {
     "name": "stdout",
     "output_type": "stream",
     "text": [
      "C:/Users/20192801/Documents/deep_learning_music_project\\onsets_ISMIR_2012\\csv_large_label\\ah_development_percussion_bongo1_start_end_spect_target.csv\n"
     ]
    },
    {
     "name": "stderr",
     "output_type": "stream",
     "text": [
      "c:\\Users\\20192801\\Anaconda3\\envs\\DeepLearning_labs\\Lib\\site-packages\\librosa\\feature\\spectral.py:2143: UserWarning: Empty filters detected in mel frequency basis. Some channels will produce empty responses. Try increasing your sampling rate (and fmax) or reducing n_mels.\n",
      "  mel_basis = filters.mel(sr=sr, n_fft=n_fft, **kwargs)\n"
     ]
    },
    {
     "name": "stdout",
     "output_type": "stream",
     "text": [
      "C:/Users/20192801/Documents/deep_learning_music_project\\onsets_ISMIR_2012\\csv_large_label\\ah_development_percussion_cajon116_13_start_end_spect_target.csv\n"
     ]
    },
    {
     "name": "stderr",
     "output_type": "stream",
     "text": [
      "c:\\Users\\20192801\\Anaconda3\\envs\\DeepLearning_labs\\Lib\\site-packages\\librosa\\feature\\spectral.py:2143: UserWarning: Empty filters detected in mel frequency basis. Some channels will produce empty responses. Try increasing your sampling rate (and fmax) or reducing n_mels.\n",
      "  mel_basis = filters.mel(sr=sr, n_fft=n_fft, **kwargs)\n"
     ]
    },
    {
     "name": "stdout",
     "output_type": "stream",
     "text": [
      "C:/Users/20192801/Documents/deep_learning_music_project\\onsets_ISMIR_2012\\csv_large_label\\ah_development_percussion_castagnet1_start_end_spect_target.csv\n"
     ]
    },
    {
     "name": "stderr",
     "output_type": "stream",
     "text": [
      "c:\\Users\\20192801\\Anaconda3\\envs\\DeepLearning_labs\\Lib\\site-packages\\librosa\\feature\\spectral.py:2143: UserWarning: Empty filters detected in mel frequency basis. Some channels will produce empty responses. Try increasing your sampling rate (and fmax) or reducing n_mels.\n",
      "  mel_basis = filters.mel(sr=sr, n_fft=n_fft, **kwargs)\n"
     ]
    },
    {
     "name": "stdout",
     "output_type": "stream",
     "text": [
      "C:/Users/20192801/Documents/deep_learning_music_project\\onsets_ISMIR_2012\\csv_large_label\\ah_development_percussion_conga1_start_end_spect_target.csv\n"
     ]
    },
    {
     "name": "stderr",
     "output_type": "stream",
     "text": [
      "c:\\Users\\20192801\\Anaconda3\\envs\\DeepLearning_labs\\Lib\\site-packages\\librosa\\feature\\spectral.py:2143: UserWarning: Empty filters detected in mel frequency basis. Some channels will produce empty responses. Try increasing your sampling rate (and fmax) or reducing n_mels.\n",
      "  mel_basis = filters.mel(sr=sr, n_fft=n_fft, **kwargs)\n"
     ]
    },
    {
     "name": "stdout",
     "output_type": "stream",
     "text": [
      "C:/Users/20192801/Documents/deep_learning_music_project\\onsets_ISMIR_2012\\csv_large_label\\ah_development_percussion_tambourine_start_end_spect_target.csv\n"
     ]
    },
    {
     "name": "stderr",
     "output_type": "stream",
     "text": [
      "c:\\Users\\20192801\\Anaconda3\\envs\\DeepLearning_labs\\Lib\\site-packages\\librosa\\feature\\spectral.py:2143: UserWarning: Empty filters detected in mel frequency basis. Some channels will produce empty responses. Try increasing your sampling rate (and fmax) or reducing n_mels.\n",
      "  mel_basis = filters.mel(sr=sr, n_fft=n_fft, **kwargs)\n"
     ]
    },
    {
     "name": "stdout",
     "output_type": "stream",
     "text": [
      "C:/Users/20192801/Documents/deep_learning_music_project\\onsets_ISMIR_2012\\csv_large_label\\ah_development_percussion_triangle_start_end_spect_target.csv\n"
     ]
    },
    {
     "name": "stderr",
     "output_type": "stream",
     "text": [
      "c:\\Users\\20192801\\Anaconda3\\envs\\DeepLearning_labs\\Lib\\site-packages\\librosa\\feature\\spectral.py:2143: UserWarning: Empty filters detected in mel frequency basis. Some channels will produce empty responses. Try increasing your sampling rate (and fmax) or reducing n_mels.\n",
      "  mel_basis = filters.mel(sr=sr, n_fft=n_fft, **kwargs)\n"
     ]
    },
    {
     "name": "stdout",
     "output_type": "stream",
     "text": [
      "C:/Users/20192801/Documents/deep_learning_music_project\\onsets_ISMIR_2012\\csv_large_label\\ah_development_piano_autumn_start_end_spect_target.csv\n"
     ]
    },
    {
     "name": "stderr",
     "output_type": "stream",
     "text": [
      "c:\\Users\\20192801\\Anaconda3\\envs\\DeepLearning_labs\\Lib\\site-packages\\librosa\\feature\\spectral.py:2143: UserWarning: Empty filters detected in mel frequency basis. Some channels will produce empty responses. Try increasing your sampling rate (and fmax) or reducing n_mels.\n",
      "  mel_basis = filters.mel(sr=sr, n_fft=n_fft, **kwargs)\n"
     ]
    },
    {
     "name": "stdout",
     "output_type": "stream",
     "text": [
      "C:/Users/20192801/Documents/deep_learning_music_project\\onsets_ISMIR_2012\\csv_large_label\\ah_development_piano_MOON_start_end_spect_target.csv\n"
     ]
    },
    {
     "name": "stderr",
     "output_type": "stream",
     "text": [
      "c:\\Users\\20192801\\Anaconda3\\envs\\DeepLearning_labs\\Lib\\site-packages\\librosa\\feature\\spectral.py:2143: UserWarning: Empty filters detected in mel frequency basis. Some channels will produce empty responses. Try increasing your sampling rate (and fmax) or reducing n_mels.\n",
      "  mel_basis = filters.mel(sr=sr, n_fft=n_fft, **kwargs)\n"
     ]
    },
    {
     "name": "stdout",
     "output_type": "stream",
     "text": [
      "C:/Users/20192801/Documents/deep_learning_music_project\\onsets_ISMIR_2012\\csv_large_label\\ah_development_piano_mussorgsky_start_end_spect_target.csv\n"
     ]
    },
    {
     "name": "stderr",
     "output_type": "stream",
     "text": [
      "c:\\Users\\20192801\\Anaconda3\\envs\\DeepLearning_labs\\Lib\\site-packages\\librosa\\feature\\spectral.py:2143: UserWarning: Empty filters detected in mel frequency basis. Some channels will produce empty responses. Try increasing your sampling rate (and fmax) or reducing n_mels.\n",
      "  mel_basis = filters.mel(sr=sr, n_fft=n_fft, **kwargs)\n"
     ]
    },
    {
     "name": "stdout",
     "output_type": "stream",
     "text": [
      "C:/Users/20192801/Documents/deep_learning_music_project\\onsets_ISMIR_2012\\csv_large_label\\ah_development_piano_p3_start_end_spect_target.csv\n"
     ]
    },
    {
     "name": "stderr",
     "output_type": "stream",
     "text": [
      "c:\\Users\\20192801\\Anaconda3\\envs\\DeepLearning_labs\\Lib\\site-packages\\librosa\\feature\\spectral.py:2143: UserWarning: Empty filters detected in mel frequency basis. Some channels will produce empty responses. Try increasing your sampling rate (and fmax) or reducing n_mels.\n",
      "  mel_basis = filters.mel(sr=sr, n_fft=n_fft, **kwargs)\n"
     ]
    },
    {
     "name": "stdout",
     "output_type": "stream",
     "text": [
      "C:/Users/20192801/Documents/deep_learning_music_project\\onsets_ISMIR_2012\\csv_large_label\\ah_development_piano_p5_start_end_spect_target.csv\n"
     ]
    },
    {
     "name": "stderr",
     "output_type": "stream",
     "text": [
      "c:\\Users\\20192801\\Anaconda3\\envs\\DeepLearning_labs\\Lib\\site-packages\\librosa\\feature\\spectral.py:2143: UserWarning: Empty filters detected in mel frequency basis. Some channels will produce empty responses. Try increasing your sampling rate (and fmax) or reducing n_mels.\n",
      "  mel_basis = filters.mel(sr=sr, n_fft=n_fft, **kwargs)\n"
     ]
    },
    {
     "name": "stdout",
     "output_type": "stream",
     "text": [
      "C:/Users/20192801/Documents/deep_learning_music_project\\onsets_ISMIR_2012\\csv_large_label\\ah_development_piano_piano1_start_end_spect_target.csv\n"
     ]
    },
    {
     "name": "stderr",
     "output_type": "stream",
     "text": [
      "c:\\Users\\20192801\\Anaconda3\\envs\\DeepLearning_labs\\Lib\\site-packages\\librosa\\feature\\spectral.py:2143: UserWarning: Empty filters detected in mel frequency basis. Some channels will produce empty responses. Try increasing your sampling rate (and fmax) or reducing n_mels.\n",
      "  mel_basis = filters.mel(sr=sr, n_fft=n_fft, **kwargs)\n"
     ]
    },
    {
     "name": "stdout",
     "output_type": "stream",
     "text": [
      "C:/Users/20192801/Documents/deep_learning_music_project\\onsets_ISMIR_2012\\csv_large_label\\ah_development_violin_01__hicaz__keman_start_end_spect_target.csv\n"
     ]
    },
    {
     "name": "stderr",
     "output_type": "stream",
     "text": [
      "c:\\Users\\20192801\\Anaconda3\\envs\\DeepLearning_labs\\Lib\\site-packages\\librosa\\feature\\spectral.py:2143: UserWarning: Empty filters detected in mel frequency basis. Some channels will produce empty responses. Try increasing your sampling rate (and fmax) or reducing n_mels.\n",
      "  mel_basis = filters.mel(sr=sr, n_fft=n_fft, **kwargs)\n"
     ]
    },
    {
     "name": "stdout",
     "output_type": "stream",
     "text": [
      "C:/Users/20192801/Documents/deep_learning_music_project\\onsets_ISMIR_2012\\csv_large_label\\ah_development_violin_my_violin1_start_end_spect_target.csv\n"
     ]
    },
    {
     "name": "stderr",
     "output_type": "stream",
     "text": [
      "c:\\Users\\20192801\\Anaconda3\\envs\\DeepLearning_labs\\Lib\\site-packages\\librosa\\feature\\spectral.py:2143: UserWarning: Empty filters detected in mel frequency basis. Some channels will produce empty responses. Try increasing your sampling rate (and fmax) or reducing n_mels.\n",
      "  mel_basis = filters.mel(sr=sr, n_fft=n_fft, **kwargs)\n"
     ]
    },
    {
     "name": "stdout",
     "output_type": "stream",
     "text": [
      "C:/Users/20192801/Documents/deep_learning_music_project\\onsets_ISMIR_2012\\csv_large_label\\ah_development_violin_violin2_start_end_spect_target.csv\n"
     ]
    },
    {
     "name": "stderr",
     "output_type": "stream",
     "text": [
      "c:\\Users\\20192801\\Anaconda3\\envs\\DeepLearning_labs\\Lib\\site-packages\\librosa\\feature\\spectral.py:2143: UserWarning: Empty filters detected in mel frequency basis. Some channels will produce empty responses. Try increasing your sampling rate (and fmax) or reducing n_mels.\n",
      "  mel_basis = filters.mel(sr=sr, n_fft=n_fft, **kwargs)\n"
     ]
    },
    {
     "name": "stdout",
     "output_type": "stream",
     "text": [
      "C:/Users/20192801/Documents/deep_learning_music_project\\onsets_ISMIR_2012\\csv_large_label\\ah_test_cello_03-Cello_Sonata_3__I_Allegro_ma_non_tanto_pt1_start_end_spect_target.csv\n"
     ]
    },
    {
     "name": "stderr",
     "output_type": "stream",
     "text": [
      "c:\\Users\\20192801\\Anaconda3\\envs\\DeepLearning_labs\\Lib\\site-packages\\librosa\\feature\\spectral.py:2143: UserWarning: Empty filters detected in mel frequency basis. Some channels will produce empty responses. Try increasing your sampling rate (and fmax) or reducing n_mels.\n",
      "  mel_basis = filters.mel(sr=sr, n_fft=n_fft, **kwargs)\n"
     ]
    },
    {
     "name": "stdout",
     "output_type": "stream",
     "text": [
      "C:/Users/20192801/Documents/deep_learning_music_project\\onsets_ISMIR_2012\\csv_large_label\\ah_test_cello_03_CelloTaksimi_pt1_start_end_spect_target.csv\n"
     ]
    },
    {
     "name": "stderr",
     "output_type": "stream",
     "text": [
      "c:\\Users\\20192801\\Anaconda3\\envs\\DeepLearning_labs\\Lib\\site-packages\\librosa\\feature\\spectral.py:2143: UserWarning: Empty filters detected in mel frequency basis. Some channels will produce empty responses. Try increasing your sampling rate (and fmax) or reducing n_mels.\n",
      "  mel_basis = filters.mel(sr=sr, n_fft=n_fft, **kwargs)\n"
     ]
    },
    {
     "name": "stdout",
     "output_type": "stream",
     "text": [
      "C:/Users/20192801/Documents/deep_learning_music_project\\onsets_ISMIR_2012\\csv_large_label\\ah_test_cello_08_-_Bach_(JS)-_Cello_Suite_-4_In_E_Flat_BWV_1010i_-_1._Preludium_start_end_spect_target.csv\n"
     ]
    },
    {
     "name": "stderr",
     "output_type": "stream",
     "text": [
      "c:\\Users\\20192801\\Anaconda3\\envs\\DeepLearning_labs\\Lib\\site-packages\\librosa\\feature\\spectral.py:2143: UserWarning: Empty filters detected in mel frequency basis. Some channels will produce empty responses. Try increasing your sampling rate (and fmax) or reducing n_mels.\n",
      "  mel_basis = filters.mel(sr=sr, n_fft=n_fft, **kwargs)\n"
     ]
    },
    {
     "name": "stdout",
     "output_type": "stream",
     "text": [
      "C:/Users/20192801/Documents/deep_learning_music_project\\onsets_ISMIR_2012\\csv_large_label\\ah_test_cello_14_VioloncelloTaksim_pt1_start_end_spect_target.csv\n"
     ]
    },
    {
     "name": "stderr",
     "output_type": "stream",
     "text": [
      "c:\\Users\\20192801\\Anaconda3\\envs\\DeepLearning_labs\\Lib\\site-packages\\librosa\\feature\\spectral.py:2143: UserWarning: Empty filters detected in mel frequency basis. Some channels will produce empty responses. Try increasing your sampling rate (and fmax) or reducing n_mels.\n",
      "  mel_basis = filters.mel(sr=sr, n_fft=n_fft, **kwargs)\n"
     ]
    },
    {
     "name": "stdout",
     "output_type": "stream",
     "text": [
      "C:/Users/20192801/Documents/deep_learning_music_project\\onsets_ISMIR_2012\\csv_large_label\\ah_test_cello_cello1_start_end_spect_target.csv\n"
     ]
    },
    {
     "name": "stderr",
     "output_type": "stream",
     "text": [
      "c:\\Users\\20192801\\Anaconda3\\envs\\DeepLearning_labs\\Lib\\site-packages\\librosa\\feature\\spectral.py:2143: UserWarning: Empty filters detected in mel frequency basis. Some channels will produce empty responses. Try increasing your sampling rate (and fmax) or reducing n_mels.\n",
      "  mel_basis = filters.mel(sr=sr, n_fft=n_fft, **kwargs)\n"
     ]
    },
    {
     "name": "stdout",
     "output_type": "stream",
     "text": [
      "C:/Users/20192801/Documents/deep_learning_music_project\\onsets_ISMIR_2012\\csv_large_label\\ah_test_clarinet_44361_debudding_Clarinet_ORTF_Stereo_Pair_NT_5_s_01_start_end_spect_target.csv\n"
     ]
    },
    {
     "name": "stderr",
     "output_type": "stream",
     "text": [
      "c:\\Users\\20192801\\Anaconda3\\envs\\DeepLearning_labs\\Lib\\site-packages\\librosa\\feature\\spectral.py:2143: UserWarning: Empty filters detected in mel frequency basis. Some channels will produce empty responses. Try increasing your sampling rate (and fmax) or reducing n_mels.\n",
      "  mel_basis = filters.mel(sr=sr, n_fft=n_fft, **kwargs)\n"
     ]
    },
    {
     "name": "stdout",
     "output_type": "stream",
     "text": [
      "C:/Users/20192801/Documents/deep_learning_music_project\\onsets_ISMIR_2012\\csv_large_label\\ah_test_clarinet_44784_alikirodgers_AB_Clarinet_01_pt1_start_end_spect_target.csv\n"
     ]
    },
    {
     "name": "stderr",
     "output_type": "stream",
     "text": [
      "c:\\Users\\20192801\\Anaconda3\\envs\\DeepLearning_labs\\Lib\\site-packages\\librosa\\feature\\spectral.py:2143: UserWarning: Empty filters detected in mel frequency basis. Some channels will produce empty responses. Try increasing your sampling rate (and fmax) or reducing n_mels.\n",
      "  mel_basis = filters.mel(sr=sr, n_fft=n_fft, **kwargs)\n"
     ]
    },
    {
     "name": "stdout",
     "output_type": "stream",
     "text": [
      "C:/Users/20192801/Documents/deep_learning_music_project\\onsets_ISMIR_2012\\csv_large_label\\ah_test_clarinet_clarinet1_start_end_spect_target.csv\n"
     ]
    },
    {
     "name": "stderr",
     "output_type": "stream",
     "text": [
      "c:\\Users\\20192801\\Anaconda3\\envs\\DeepLearning_labs\\Lib\\site-packages\\librosa\\feature\\spectral.py:2143: UserWarning: Empty filters detected in mel frequency basis. Some channels will produce empty responses. Try increasing your sampling rate (and fmax) or reducing n_mels.\n",
      "  mel_basis = filters.mel(sr=sr, n_fft=n_fft, **kwargs)\n"
     ]
    },
    {
     "name": "stdout",
     "output_type": "stream",
     "text": [
      "C:/Users/20192801/Documents/deep_learning_music_project\\onsets_ISMIR_2012\\csv_large_label\\ah_test_clarinet_my_clarinet1_start_end_spect_target.csv\n"
     ]
    },
    {
     "name": "stderr",
     "output_type": "stream",
     "text": [
      "c:\\Users\\20192801\\Anaconda3\\envs\\DeepLearning_labs\\Lib\\site-packages\\librosa\\feature\\spectral.py:2143: UserWarning: Empty filters detected in mel frequency basis. Some channels will produce empty responses. Try increasing your sampling rate (and fmax) or reducing n_mels.\n",
      "  mel_basis = filters.mel(sr=sr, n_fft=n_fft, **kwargs)\n"
     ]
    },
    {
     "name": "stdout",
     "output_type": "stream",
     "text": [
      "C:/Users/20192801/Documents/deep_learning_music_project\\onsets_ISMIR_2012\\csv_large_label\\ah_test_clarinet_SL1_pt1_start_end_spect_target.csv\n"
     ]
    },
    {
     "name": "stderr",
     "output_type": "stream",
     "text": [
      "c:\\Users\\20192801\\Anaconda3\\envs\\DeepLearning_labs\\Lib\\site-packages\\librosa\\feature\\spectral.py:2143: UserWarning: Empty filters detected in mel frequency basis. Some channels will produce empty responses. Try increasing your sampling rate (and fmax) or reducing n_mels.\n",
      "  mel_basis = filters.mel(sr=sr, n_fft=n_fft, **kwargs)\n"
     ]
    },
    {
     "name": "stdout",
     "output_type": "stream",
     "text": [
      "C:/Users/20192801/Documents/deep_learning_music_project\\onsets_ISMIR_2012\\csv_large_label\\ah_test_guitar_guitar2_start_end_spect_target.csv\n"
     ]
    },
    {
     "name": "stderr",
     "output_type": "stream",
     "text": [
      "c:\\Users\\20192801\\Anaconda3\\envs\\DeepLearning_labs\\Lib\\site-packages\\librosa\\feature\\spectral.py:2143: UserWarning: Empty filters detected in mel frequency basis. Some channels will produce empty responses. Try increasing your sampling rate (and fmax) or reducing n_mels.\n",
      "  mel_basis = filters.mel(sr=sr, n_fft=n_fft, **kwargs)\n"
     ]
    },
    {
     "name": "stdout",
     "output_type": "stream",
     "text": [
      "C:/Users/20192801/Documents/deep_learning_music_project\\onsets_ISMIR_2012\\csv_large_label\\ah_test_guitar_guitar3_start_end_spect_target.csv\n"
     ]
    },
    {
     "name": "stderr",
     "output_type": "stream",
     "text": [
      "c:\\Users\\20192801\\Anaconda3\\envs\\DeepLearning_labs\\Lib\\site-packages\\librosa\\feature\\spectral.py:2143: UserWarning: Empty filters detected in mel frequency basis. Some channels will produce empty responses. Try increasing your sampling rate (and fmax) or reducing n_mels.\n",
      "  mel_basis = filters.mel(sr=sr, n_fft=n_fft, **kwargs)\n"
     ]
    },
    {
     "name": "stdout",
     "output_type": "stream",
     "text": [
      "C:/Users/20192801/Documents/deep_learning_music_project\\onsets_ISMIR_2012\\csv_large_label\\ah_test_guitar_Guitar_Licks_15-06_start_end_spect_target.csv\n"
     ]
    },
    {
     "name": "stderr",
     "output_type": "stream",
     "text": [
      "c:\\Users\\20192801\\Anaconda3\\envs\\DeepLearning_labs\\Lib\\site-packages\\librosa\\feature\\spectral.py:2143: UserWarning: Empty filters detected in mel frequency basis. Some channels will produce empty responses. Try increasing your sampling rate (and fmax) or reducing n_mels.\n",
      "  mel_basis = filters.mel(sr=sr, n_fft=n_fft, **kwargs)\n"
     ]
    },
    {
     "name": "stdout",
     "output_type": "stream",
     "text": [
      "C:/Users/20192801/Documents/deep_learning_music_project\\onsets_ISMIR_2012\\csv_large_label\\ah_test_guitar_Guitar_Licks_51-10_start_end_spect_target.csv\n"
     ]
    },
    {
     "name": "stderr",
     "output_type": "stream",
     "text": [
      "c:\\Users\\20192801\\Anaconda3\\envs\\DeepLearning_labs\\Lib\\site-packages\\librosa\\feature\\spectral.py:2143: UserWarning: Empty filters detected in mel frequency basis. Some channels will produce empty responses. Try increasing your sampling rate (and fmax) or reducing n_mels.\n",
      "  mel_basis = filters.mel(sr=sr, n_fft=n_fft, **kwargs)\n"
     ]
    },
    {
     "name": "stdout",
     "output_type": "stream",
     "text": [
      "C:/Users/20192801/Documents/deep_learning_music_project\\onsets_ISMIR_2012\\csv_large_label\\ah_test_guitar_Summer_Together_110_pt1_start_end_spect_target.csv\n"
     ]
    },
    {
     "name": "stderr",
     "output_type": "stream",
     "text": [
      "c:\\Users\\20192801\\Anaconda3\\envs\\DeepLearning_labs\\Lib\\site-packages\\librosa\\feature\\spectral.py:2143: UserWarning: Empty filters detected in mel frequency basis. Some channels will produce empty responses. Try increasing your sampling rate (and fmax) or reducing n_mels.\n",
      "  mel_basis = filters.mel(sr=sr, n_fft=n_fft, **kwargs)\n"
     ]
    },
    {
     "name": "stdout",
     "output_type": "stream",
     "text": [
      "C:/Users/20192801/Documents/deep_learning_music_project\\onsets_ISMIR_2012\\csv_large_label\\ah_test_kemence_01_sultaniyghtaksim_Kemence_start_end_spect_target.csv\n"
     ]
    },
    {
     "name": "stderr",
     "output_type": "stream",
     "text": [
      "c:\\Users\\20192801\\Anaconda3\\envs\\DeepLearning_labs\\Lib\\site-packages\\librosa\\feature\\spectral.py:2143: UserWarning: Empty filters detected in mel frequency basis. Some channels will produce empty responses. Try increasing your sampling rate (and fmax) or reducing n_mels.\n",
      "  mel_basis = filters.mel(sr=sr, n_fft=n_fft, **kwargs)\n"
     ]
    },
    {
     "name": "stdout",
     "output_type": "stream",
     "text": [
      "C:/Users/20192801/Documents/deep_learning_music_project\\onsets_ISMIR_2012\\csv_large_label\\ah_test_kemence_08_-_HicazTaksim_cut_start_end_spect_target.csv\n"
     ]
    },
    {
     "name": "stderr",
     "output_type": "stream",
     "text": [
      "c:\\Users\\20192801\\Anaconda3\\envs\\DeepLearning_labs\\Lib\\site-packages\\librosa\\feature\\spectral.py:2143: UserWarning: Empty filters detected in mel frequency basis. Some channels will produce empty responses. Try increasing your sampling rate (and fmax) or reducing n_mels.\n",
      "  mel_basis = filters.mel(sr=sr, n_fft=n_fft, **kwargs)\n"
     ]
    },
    {
     "name": "stdout",
     "output_type": "stream",
     "text": [
      "C:/Users/20192801/Documents/deep_learning_music_project\\onsets_ISMIR_2012\\csv_large_label\\ah_test_kemence_10_huseyni_taksim_ve_cecenkizi_cut_start_end_spect_target.csv\n"
     ]
    },
    {
     "name": "stderr",
     "output_type": "stream",
     "text": [
      "c:\\Users\\20192801\\Anaconda3\\envs\\DeepLearning_labs\\Lib\\site-packages\\librosa\\feature\\spectral.py:2143: UserWarning: Empty filters detected in mel frequency basis. Some channels will produce empty responses. Try increasing your sampling rate (and fmax) or reducing n_mels.\n",
      "  mel_basis = filters.mel(sr=sr, n_fft=n_fft, **kwargs)\n"
     ]
    },
    {
     "name": "stdout",
     "output_type": "stream",
     "text": [
      "C:/Users/20192801/Documents/deep_learning_music_project\\onsets_ISMIR_2012\\csv_large_label\\ah_test_kemence_11_RastTaksim_Kemence_start_end_spect_target.csv\n"
     ]
    },
    {
     "name": "stderr",
     "output_type": "stream",
     "text": [
      "c:\\Users\\20192801\\Anaconda3\\envs\\DeepLearning_labs\\Lib\\site-packages\\librosa\\feature\\spectral.py:2143: UserWarning: Empty filters detected in mel frequency basis. Some channels will produce empty responses. Try increasing your sampling rate (and fmax) or reducing n_mels.\n",
      "  mel_basis = filters.mel(sr=sr, n_fft=n_fft, **kwargs)\n"
     ]
    },
    {
     "name": "stdout",
     "output_type": "stream",
     "text": [
      "C:/Users/20192801/Documents/deep_learning_music_project\\onsets_ISMIR_2012\\csv_large_label\\ah_test_kemence_22_NevaTaksim_Kemence_start_end_spect_target.csv\n"
     ]
    },
    {
     "name": "stderr",
     "output_type": "stream",
     "text": [
      "c:\\Users\\20192801\\Anaconda3\\envs\\DeepLearning_labs\\Lib\\site-packages\\librosa\\feature\\spectral.py:2143: UserWarning: Empty filters detected in mel frequency basis. Some channels will produce empty responses. Try increasing your sampling rate (and fmax) or reducing n_mels.\n",
      "  mel_basis = filters.mel(sr=sr, n_fft=n_fft, **kwargs)\n"
     ]
    },
    {
     "name": "stdout",
     "output_type": "stream",
     "text": [
      "C:/Users/20192801/Documents/deep_learning_music_project\\onsets_ISMIR_2012\\csv_large_label\\ah_test_mixtures_classic2_start_end_spect_target.csv\n"
     ]
    },
    {
     "name": "stderr",
     "output_type": "stream",
     "text": [
      "c:\\Users\\20192801\\Anaconda3\\envs\\DeepLearning_labs\\Lib\\site-packages\\librosa\\feature\\spectral.py:2143: UserWarning: Empty filters detected in mel frequency basis. Some channels will produce empty responses. Try increasing your sampling rate (and fmax) or reducing n_mels.\n",
      "  mel_basis = filters.mel(sr=sr, n_fft=n_fft, **kwargs)\n"
     ]
    },
    {
     "name": "stdout",
     "output_type": "stream",
     "text": [
      "C:/Users/20192801/Documents/deep_learning_music_project\\onsets_ISMIR_2012\\csv_large_label\\ah_test_mixtures_classic3_start_end_spect_target.csv\n"
     ]
    },
    {
     "name": "stderr",
     "output_type": "stream",
     "text": [
      "c:\\Users\\20192801\\Anaconda3\\envs\\DeepLearning_labs\\Lib\\site-packages\\librosa\\feature\\spectral.py:2143: UserWarning: Empty filters detected in mel frequency basis. Some channels will produce empty responses. Try increasing your sampling rate (and fmax) or reducing n_mels.\n",
      "  mel_basis = filters.mel(sr=sr, n_fft=n_fft, **kwargs)\n"
     ]
    },
    {
     "name": "stdout",
     "output_type": "stream",
     "text": [
      "C:/Users/20192801/Documents/deep_learning_music_project\\onsets_ISMIR_2012\\csv_large_label\\ah_test_mixtures_jazz2_start_end_spect_target.csv\n"
     ]
    },
    {
     "name": "stderr",
     "output_type": "stream",
     "text": [
      "c:\\Users\\20192801\\Anaconda3\\envs\\DeepLearning_labs\\Lib\\site-packages\\librosa\\feature\\spectral.py:2143: UserWarning: Empty filters detected in mel frequency basis. Some channels will produce empty responses. Try increasing your sampling rate (and fmax) or reducing n_mels.\n",
      "  mel_basis = filters.mel(sr=sr, n_fft=n_fft, **kwargs)\n"
     ]
    },
    {
     "name": "stdout",
     "output_type": "stream",
     "text": [
      "C:/Users/20192801/Documents/deep_learning_music_project\\onsets_ISMIR_2012\\csv_large_label\\ah_test_mixtures_jazz3_start_end_spect_target.csv\n"
     ]
    },
    {
     "name": "stderr",
     "output_type": "stream",
     "text": [
      "c:\\Users\\20192801\\Anaconda3\\envs\\DeepLearning_labs\\Lib\\site-packages\\librosa\\feature\\spectral.py:2143: UserWarning: Empty filters detected in mel frequency basis. Some channels will produce empty responses. Try increasing your sampling rate (and fmax) or reducing n_mels.\n",
      "  mel_basis = filters.mel(sr=sr, n_fft=n_fft, **kwargs)\n"
     ]
    },
    {
     "name": "stdout",
     "output_type": "stream",
     "text": [
      "C:/Users/20192801/Documents/deep_learning_music_project\\onsets_ISMIR_2012\\csv_large_label\\ah_test_mixtures_pop1_start_end_spect_target.csv\n"
     ]
    },
    {
     "name": "stderr",
     "output_type": "stream",
     "text": [
      "c:\\Users\\20192801\\Anaconda3\\envs\\DeepLearning_labs\\Lib\\site-packages\\librosa\\feature\\spectral.py:2143: UserWarning: Empty filters detected in mel frequency basis. Some channels will produce empty responses. Try increasing your sampling rate (and fmax) or reducing n_mels.\n",
      "  mel_basis = filters.mel(sr=sr, n_fft=n_fft, **kwargs)\n"
     ]
    },
    {
     "name": "stdout",
     "output_type": "stream",
     "text": [
      "C:/Users/20192801/Documents/deep_learning_music_project\\onsets_ISMIR_2012\\csv_large_label\\ah_test_mixtures_rock1_start_end_spect_target.csv\n"
     ]
    },
    {
     "name": "stderr",
     "output_type": "stream",
     "text": [
      "c:\\Users\\20192801\\Anaconda3\\envs\\DeepLearning_labs\\Lib\\site-packages\\librosa\\feature\\spectral.py:2143: UserWarning: Empty filters detected in mel frequency basis. Some channels will produce empty responses. Try increasing your sampling rate (and fmax) or reducing n_mels.\n",
      "  mel_basis = filters.mel(sr=sr, n_fft=n_fft, **kwargs)\n"
     ]
    },
    {
     "name": "stdout",
     "output_type": "stream",
     "text": [
      "C:/Users/20192801/Documents/deep_learning_music_project\\onsets_ISMIR_2012\\csv_large_label\\ah_test_ney_ne_icm05_start_end_spect_target.csv\n"
     ]
    },
    {
     "name": "stderr",
     "output_type": "stream",
     "text": [
      "c:\\Users\\20192801\\Anaconda3\\envs\\DeepLearning_labs\\Lib\\site-packages\\librosa\\feature\\spectral.py:2143: UserWarning: Empty filters detected in mel frequency basis. Some channels will produce empty responses. Try increasing your sampling rate (and fmax) or reducing n_mels.\n",
      "  mel_basis = filters.mel(sr=sr, n_fft=n_fft, **kwargs)\n"
     ]
    },
    {
     "name": "stdout",
     "output_type": "stream",
     "text": [
      "C:/Users/20192801/Documents/deep_learning_music_project\\onsets_ISMIR_2012\\csv_large_label\\ah_test_ney_ne_icm09_start_end_spect_target.csv\n"
     ]
    },
    {
     "name": "stderr",
     "output_type": "stream",
     "text": [
      "c:\\Users\\20192801\\Anaconda3\\envs\\DeepLearning_labs\\Lib\\site-packages\\librosa\\feature\\spectral.py:2143: UserWarning: Empty filters detected in mel frequency basis. Some channels will produce empty responses. Try increasing your sampling rate (and fmax) or reducing n_mels.\n",
      "  mel_basis = filters.mel(sr=sr, n_fft=n_fft, **kwargs)\n"
     ]
    },
    {
     "name": "stdout",
     "output_type": "stream",
     "text": [
      "C:/Users/20192801/Documents/deep_learning_music_project\\onsets_ISMIR_2012\\csv_large_label\\ah_test_ney_ne_icm13_start_end_spect_target.csv\n"
     ]
    },
    {
     "name": "stderr",
     "output_type": "stream",
     "text": [
      "c:\\Users\\20192801\\Anaconda3\\envs\\DeepLearning_labs\\Lib\\site-packages\\librosa\\feature\\spectral.py:2143: UserWarning: Empty filters detected in mel frequency basis. Some channels will produce empty responses. Try increasing your sampling rate (and fmax) or reducing n_mels.\n",
      "  mel_basis = filters.mel(sr=sr, n_fft=n_fft, **kwargs)\n"
     ]
    },
    {
     "name": "stdout",
     "output_type": "stream",
     "text": [
      "C:/Users/20192801/Documents/deep_learning_music_project\\onsets_ISMIR_2012\\csv_large_label\\ah_test_ney_ne_se01_start_end_spect_target.csv\n"
     ]
    },
    {
     "name": "stderr",
     "output_type": "stream",
     "text": [
      "c:\\Users\\20192801\\Anaconda3\\envs\\DeepLearning_labs\\Lib\\site-packages\\librosa\\feature\\spectral.py:2143: UserWarning: Empty filters detected in mel frequency basis. Some channels will produce empty responses. Try increasing your sampling rate (and fmax) or reducing n_mels.\n",
      "  mel_basis = filters.mel(sr=sr, n_fft=n_fft, **kwargs)\n"
     ]
    },
    {
     "name": "stdout",
     "output_type": "stream",
     "text": [
      "C:/Users/20192801/Documents/deep_learning_music_project\\onsets_ISMIR_2012\\csv_large_label\\ah_test_ney_ne_se03_start_end_spect_target.csv\n"
     ]
    },
    {
     "name": "stderr",
     "output_type": "stream",
     "text": [
      "c:\\Users\\20192801\\Anaconda3\\envs\\DeepLearning_labs\\Lib\\site-packages\\librosa\\feature\\spectral.py:2143: UserWarning: Empty filters detected in mel frequency basis. Some channels will produce empty responses. Try increasing your sampling rate (and fmax) or reducing n_mels.\n",
      "  mel_basis = filters.mel(sr=sr, n_fft=n_fft, **kwargs)\n"
     ]
    },
    {
     "name": "stdout",
     "output_type": "stream",
     "text": [
      "C:/Users/20192801/Documents/deep_learning_music_project\\onsets_ISMIR_2012\\csv_large_label\\ah_test_ney_ne_se04_start_end_spect_target.csv\n"
     ]
    },
    {
     "name": "stderr",
     "output_type": "stream",
     "text": [
      "c:\\Users\\20192801\\Anaconda3\\envs\\DeepLearning_labs\\Lib\\site-packages\\librosa\\feature\\spectral.py:2143: UserWarning: Empty filters detected in mel frequency basis. Some channels will produce empty responses. Try increasing your sampling rate (and fmax) or reducing n_mels.\n",
      "  mel_basis = filters.mel(sr=sr, n_fft=n_fft, **kwargs)\n"
     ]
    },
    {
     "name": "stdout",
     "output_type": "stream",
     "text": [
      "C:/Users/20192801/Documents/deep_learning_music_project\\onsets_ISMIR_2012\\csv_large_label\\ah_test_ney_ne_tmu2n06_start_end_spect_target.csv\n"
     ]
    },
    {
     "name": "stderr",
     "output_type": "stream",
     "text": [
      "c:\\Users\\20192801\\Anaconda3\\envs\\DeepLearning_labs\\Lib\\site-packages\\librosa\\feature\\spectral.py:2143: UserWarning: Empty filters detected in mel frequency basis. Some channels will produce empty responses. Try increasing your sampling rate (and fmax) or reducing n_mels.\n",
      "  mel_basis = filters.mel(sr=sr, n_fft=n_fft, **kwargs)\n"
     ]
    },
    {
     "name": "stdout",
     "output_type": "stream",
     "text": [
      "C:/Users/20192801/Documents/deep_learning_music_project\\onsets_ISMIR_2012\\csv_large_label\\ah_test_oud_Diverse_-_02_-_Mahur_Pesrev_(Ud)_start_end_spect_target.csv\n"
     ]
    },
    {
     "name": "stderr",
     "output_type": "stream",
     "text": [
      "c:\\Users\\20192801\\Anaconda3\\envs\\DeepLearning_labs\\Lib\\site-packages\\librosa\\feature\\spectral.py:2143: UserWarning: Empty filters detected in mel frequency basis. Some channels will produce empty responses. Try increasing your sampling rate (and fmax) or reducing n_mels.\n",
      "  mel_basis = filters.mel(sr=sr, n_fft=n_fft, **kwargs)\n"
     ]
    },
    {
     "name": "stdout",
     "output_type": "stream",
     "text": [
      "C:/Users/20192801/Documents/deep_learning_music_project\\onsets_ISMIR_2012\\csv_large_label\\ah_test_oud_Diverse_-_03_-_Muayyer_Kurdi_Taksim_start_end_spect_target.csv\n"
     ]
    },
    {
     "name": "stderr",
     "output_type": "stream",
     "text": [
      "c:\\Users\\20192801\\Anaconda3\\envs\\DeepLearning_labs\\Lib\\site-packages\\librosa\\feature\\spectral.py:2143: UserWarning: Empty filters detected in mel frequency basis. Some channels will produce empty responses. Try increasing your sampling rate (and fmax) or reducing n_mels.\n",
      "  mel_basis = filters.mel(sr=sr, n_fft=n_fft, **kwargs)\n"
     ]
    },
    {
     "name": "stdout",
     "output_type": "stream",
     "text": [
      "C:/Users/20192801/Documents/deep_learning_music_project\\onsets_ISMIR_2012\\csv_large_label\\ah_test_oud_Trio_Joubran-04-Safarcut_start_end_spect_target.csv\n"
     ]
    },
    {
     "name": "stderr",
     "output_type": "stream",
     "text": [
      "c:\\Users\\20192801\\Anaconda3\\envs\\DeepLearning_labs\\Lib\\site-packages\\librosa\\feature\\spectral.py:2143: UserWarning: Empty filters detected in mel frequency basis. Some channels will produce empty responses. Try increasing your sampling rate (and fmax) or reducing n_mels.\n",
      "  mel_basis = filters.mel(sr=sr, n_fft=n_fft, **kwargs)\n"
     ]
    },
    {
     "name": "stdout",
     "output_type": "stream",
     "text": [
      "C:/Users/20192801/Documents/deep_learning_music_project\\onsets_ISMIR_2012\\csv_large_label\\ah_test_oud_ud_taksimleri_-_06_-_segah_taksim_start_end_spect_target.csv\n"
     ]
    },
    {
     "name": "stderr",
     "output_type": "stream",
     "text": [
      "c:\\Users\\20192801\\Anaconda3\\envs\\DeepLearning_labs\\Lib\\site-packages\\librosa\\feature\\spectral.py:2143: UserWarning: Empty filters detected in mel frequency basis. Some channels will produce empty responses. Try increasing your sampling rate (and fmax) or reducing n_mels.\n",
      "  mel_basis = filters.mel(sr=sr, n_fft=n_fft, **kwargs)\n"
     ]
    },
    {
     "name": "stdout",
     "output_type": "stream",
     "text": [
      "C:/Users/20192801/Documents/deep_learning_music_project\\onsets_ISMIR_2012\\csv_large_label\\ah_test_oud_ud_taksimleri_-_17_-_ussak_taksim_start_end_spect_target.csv\n"
     ]
    },
    {
     "name": "stderr",
     "output_type": "stream",
     "text": [
      "c:\\Users\\20192801\\Anaconda3\\envs\\DeepLearning_labs\\Lib\\site-packages\\librosa\\feature\\spectral.py:2143: UserWarning: Empty filters detected in mel frequency basis. Some channels will produce empty responses. Try increasing your sampling rate (and fmax) or reducing n_mels.\n",
      "  mel_basis = filters.mel(sr=sr, n_fft=n_fft, **kwargs)\n"
     ]
    },
    {
     "name": "stdout",
     "output_type": "stream",
     "text": [
      "C:/Users/20192801/Documents/deep_learning_music_project\\onsets_ISMIR_2012\\csv_large_label\\ah_test_piano_Chick_Corea_-_03_-_Folk_Song_start_end_spect_target.csv\n"
     ]
    },
    {
     "name": "stderr",
     "output_type": "stream",
     "text": [
      "c:\\Users\\20192801\\Anaconda3\\envs\\DeepLearning_labs\\Lib\\site-packages\\librosa\\feature\\spectral.py:2143: UserWarning: Empty filters detected in mel frequency basis. Some channels will produce empty responses. Try increasing your sampling rate (and fmax) or reducing n_mels.\n",
      "  mel_basis = filters.mel(sr=sr, n_fft=n_fft, **kwargs)\n"
     ]
    },
    {
     "name": "stdout",
     "output_type": "stream",
     "text": [
      "C:/Users/20192801/Documents/deep_learning_music_project\\onsets_ISMIR_2012\\csv_large_label\\ah_test_piano_Chick_Corea_-_08_-_So_in_Love_start_end_spect_target.csv\n"
     ]
    },
    {
     "name": "stderr",
     "output_type": "stream",
     "text": [
      "c:\\Users\\20192801\\Anaconda3\\envs\\DeepLearning_labs\\Lib\\site-packages\\librosa\\feature\\spectral.py:2143: UserWarning: Empty filters detected in mel frequency basis. Some channels will produce empty responses. Try increasing your sampling rate (and fmax) or reducing n_mels.\n",
      "  mel_basis = filters.mel(sr=sr, n_fft=n_fft, **kwargs)\n"
     ]
    },
    {
     "name": "stdout",
     "output_type": "stream",
     "text": [
      "C:/Users/20192801/Documents/deep_learning_music_project\\onsets_ISMIR_2012\\csv_large_label\\ah_test_piano_Oscar_Peterson_-_02_-_Love_Ballade_start_end_spect_target.csv\n"
     ]
    },
    {
     "name": "stderr",
     "output_type": "stream",
     "text": [
      "c:\\Users\\20192801\\Anaconda3\\envs\\DeepLearning_labs\\Lib\\site-packages\\librosa\\feature\\spectral.py:2143: UserWarning: Empty filters detected in mel frequency basis. Some channels will produce empty responses. Try increasing your sampling rate (and fmax) or reducing n_mels.\n",
      "  mel_basis = filters.mel(sr=sr, n_fft=n_fft, **kwargs)\n"
     ]
    },
    {
     "name": "stdout",
     "output_type": "stream",
     "text": [
      "C:/Users/20192801/Documents/deep_learning_music_project\\onsets_ISMIR_2012\\csv_large_label\\ah_test_piano_Oscar_Peterson_-_08_-_I_Love_You_Porgy_start_end_spect_target.csv\n"
     ]
    },
    {
     "name": "stderr",
     "output_type": "stream",
     "text": [
      "c:\\Users\\20192801\\Anaconda3\\envs\\DeepLearning_labs\\Lib\\site-packages\\librosa\\feature\\spectral.py:2143: UserWarning: Empty filters detected in mel frequency basis. Some channels will produce empty responses. Try increasing your sampling rate (and fmax) or reducing n_mels.\n",
      "  mel_basis = filters.mel(sr=sr, n_fft=n_fft, **kwargs)\n"
     ]
    },
    {
     "name": "stdout",
     "output_type": "stream",
     "text": [
      "C:/Users/20192801/Documents/deep_learning_music_project\\onsets_ISMIR_2012\\csv_large_label\\ah_test_piano_PianoMic_full_stick_start_end_spect_target.csv\n"
     ]
    },
    {
     "name": "stderr",
     "output_type": "stream",
     "text": [
      "c:\\Users\\20192801\\Anaconda3\\envs\\DeepLearning_labs\\Lib\\site-packages\\librosa\\feature\\spectral.py:2143: UserWarning: Empty filters detected in mel frequency basis. Some channels will produce empty responses. Try increasing your sampling rate (and fmax) or reducing n_mels.\n",
      "  mel_basis = filters.mel(sr=sr, n_fft=n_fft, **kwargs)\n"
     ]
    },
    {
     "name": "stdout",
     "output_type": "stream",
     "text": [
      "C:/Users/20192801/Documents/deep_learning_music_project\\onsets_ISMIR_2012\\csv_large_label\\ah_test_sax_20928_stephenchai_Gypsy_1_Alto_Sax_B_103bpm_start_end_spect_target.csv\n"
     ]
    },
    {
     "name": "stderr",
     "output_type": "stream",
     "text": [
      "c:\\Users\\20192801\\Anaconda3\\envs\\DeepLearning_labs\\Lib\\site-packages\\librosa\\feature\\spectral.py:2143: UserWarning: Empty filters detected in mel frequency basis. Some channels will produce empty responses. Try increasing your sampling rate (and fmax) or reducing n_mels.\n",
      "  mel_basis = filters.mel(sr=sr, n_fft=n_fft, **kwargs)\n"
     ]
    },
    {
     "name": "stdout",
     "output_type": "stream",
     "text": [
      "C:/Users/20192801/Documents/deep_learning_music_project\\onsets_ISMIR_2012\\csv_large_label\\ah_test_sax_george_russel2_-_dimensions_pt1_start_end_spect_target.csv\n"
     ]
    },
    {
     "name": "stderr",
     "output_type": "stream",
     "text": [
      "c:\\Users\\20192801\\Anaconda3\\envs\\DeepLearning_labs\\Lib\\site-packages\\librosa\\feature\\spectral.py:2143: UserWarning: Empty filters detected in mel frequency basis. Some channels will produce empty responses. Try increasing your sampling rate (and fmax) or reducing n_mels.\n",
      "  mel_basis = filters.mel(sr=sr, n_fft=n_fft, **kwargs)\n"
     ]
    },
    {
     "name": "stdout",
     "output_type": "stream",
     "text": [
      "C:/Users/20192801/Documents/deep_learning_music_project\\onsets_ISMIR_2012\\csv_large_label\\ah_test_sax_herbieHanckockTrack06_pt1_start_end_spect_target.csv\n"
     ]
    },
    {
     "name": "stderr",
     "output_type": "stream",
     "text": [
      "c:\\Users\\20192801\\Anaconda3\\envs\\DeepLearning_labs\\Lib\\site-packages\\librosa\\feature\\spectral.py:2143: UserWarning: Empty filters detected in mel frequency basis. Some channels will produce empty responses. Try increasing your sampling rate (and fmax) or reducing n_mels.\n",
      "  mel_basis = filters.mel(sr=sr, n_fft=n_fft, **kwargs)\n"
     ]
    },
    {
     "name": "stdout",
     "output_type": "stream",
     "text": [
      "C:/Users/20192801/Documents/deep_learning_music_project\\onsets_ISMIR_2012\\csv_large_label\\ah_test_sax_sax1_start_end_spect_target.csv\n"
     ]
    },
    {
     "name": "stderr",
     "output_type": "stream",
     "text": [
      "c:\\Users\\20192801\\Anaconda3\\envs\\DeepLearning_labs\\Lib\\site-packages\\librosa\\feature\\spectral.py:2143: UserWarning: Empty filters detected in mel frequency basis. Some channels will produce empty responses. Try increasing your sampling rate (and fmax) or reducing n_mels.\n",
      "  mel_basis = filters.mel(sr=sr, n_fft=n_fft, **kwargs)\n"
     ]
    },
    {
     "name": "stdout",
     "output_type": "stream",
     "text": [
      "C:/Users/20192801/Documents/deep_learning_music_project\\onsets_ISMIR_2012\\csv_large_label\\ah_test_sax_Tubby_Hayes_-_The_Eighth_Wonder_-_11_-_Unidentified_12_Bar_Theme_pt1_start_end_spect_target.csv\n"
     ]
    },
    {
     "name": "stderr",
     "output_type": "stream",
     "text": [
      "c:\\Users\\20192801\\Anaconda3\\envs\\DeepLearning_labs\\Lib\\site-packages\\librosa\\feature\\spectral.py:2143: UserWarning: Empty filters detected in mel frequency basis. Some channels will produce empty responses. Try increasing your sampling rate (and fmax) or reducing n_mels.\n",
      "  mel_basis = filters.mel(sr=sr, n_fft=n_fft, **kwargs)\n"
     ]
    },
    {
     "name": "stdout",
     "output_type": "stream",
     "text": [
      "C:/Users/20192801/Documents/deep_learning_music_project\\onsets_ISMIR_2012\\csv_large_label\\ah_test_tanburpluck_ta_1eb03_start_end_spect_target.csv\n"
     ]
    },
    {
     "name": "stderr",
     "output_type": "stream",
     "text": [
      "c:\\Users\\20192801\\Anaconda3\\envs\\DeepLearning_labs\\Lib\\site-packages\\librosa\\feature\\spectral.py:2143: UserWarning: Empty filters detected in mel frequency basis. Some channels will produce empty responses. Try increasing your sampling rate (and fmax) or reducing n_mels.\n",
      "  mel_basis = filters.mel(sr=sr, n_fft=n_fft, **kwargs)\n"
     ]
    },
    {
     "name": "stdout",
     "output_type": "stream",
     "text": [
      "C:/Users/20192801/Documents/deep_learning_music_project\\onsets_ISMIR_2012\\csv_large_label\\ah_test_tanburpluck_ta_1eb06_start_end_spect_target.csv\n"
     ]
    },
    {
     "name": "stderr",
     "output_type": "stream",
     "text": [
      "c:\\Users\\20192801\\Anaconda3\\envs\\DeepLearning_labs\\Lib\\site-packages\\librosa\\feature\\spectral.py:2143: UserWarning: Empty filters detected in mel frequency basis. Some channels will produce empty responses. Try increasing your sampling rate (and fmax) or reducing n_mels.\n",
      "  mel_basis = filters.mel(sr=sr, n_fft=n_fft, **kwargs)\n"
     ]
    },
    {
     "name": "stdout",
     "output_type": "stream",
     "text": [
      "C:/Users/20192801/Documents/deep_learning_music_project\\onsets_ISMIR_2012\\csv_large_label\\ah_test_tanburpluck_ta_1eb07_start_end_spect_target.csv\n"
     ]
    },
    {
     "name": "stderr",
     "output_type": "stream",
     "text": [
      "c:\\Users\\20192801\\Anaconda3\\envs\\DeepLearning_labs\\Lib\\site-packages\\librosa\\feature\\spectral.py:2143: UserWarning: Empty filters detected in mel frequency basis. Some channels will produce empty responses. Try increasing your sampling rate (and fmax) or reducing n_mels.\n",
      "  mel_basis = filters.mel(sr=sr, n_fft=n_fft, **kwargs)\n"
     ]
    },
    {
     "name": "stdout",
     "output_type": "stream",
     "text": [
      "C:/Users/20192801/Documents/deep_learning_music_project\\onsets_ISMIR_2012\\csv_large_label\\ah_test_tanburpluck_ta_1eb08_start_end_spect_target.csv\n"
     ]
    },
    {
     "name": "stderr",
     "output_type": "stream",
     "text": [
      "c:\\Users\\20192801\\Anaconda3\\envs\\DeepLearning_labs\\Lib\\site-packages\\librosa\\feature\\spectral.py:2143: UserWarning: Empty filters detected in mel frequency basis. Some channels will produce empty responses. Try increasing your sampling rate (and fmax) or reducing n_mels.\n",
      "  mel_basis = filters.mel(sr=sr, n_fft=n_fft, **kwargs)\n"
     ]
    },
    {
     "name": "stdout",
     "output_type": "stream",
     "text": [
      "C:/Users/20192801/Documents/deep_learning_music_project\\onsets_ISMIR_2012\\csv_large_label\\ah_test_tanburpluck_ta_1mc08_start_end_spect_target.csv\n"
     ]
    },
    {
     "name": "stderr",
     "output_type": "stream",
     "text": [
      "c:\\Users\\20192801\\Anaconda3\\envs\\DeepLearning_labs\\Lib\\site-packages\\librosa\\feature\\spectral.py:2143: UserWarning: Empty filters detected in mel frequency basis. Some channels will produce empty responses. Try increasing your sampling rate (and fmax) or reducing n_mels.\n",
      "  mel_basis = filters.mel(sr=sr, n_fft=n_fft, **kwargs)\n"
     ]
    },
    {
     "name": "stdout",
     "output_type": "stream",
     "text": [
      "C:/Users/20192801/Documents/deep_learning_music_project\\onsets_ISMIR_2012\\csv_large_label\\ah_test_trumpet_1_-_Lost_In_Madrid_Part_1_start_end_spect_target.csv\n"
     ]
    },
    {
     "name": "stderr",
     "output_type": "stream",
     "text": [
      "c:\\Users\\20192801\\Anaconda3\\envs\\DeepLearning_labs\\Lib\\site-packages\\librosa\\feature\\spectral.py:2143: UserWarning: Empty filters detected in mel frequency basis. Some channels will produce empty responses. Try increasing your sampling rate (and fmax) or reducing n_mels.\n",
      "  mel_basis = filters.mel(sr=sr, n_fft=n_fft, **kwargs)\n"
     ]
    },
    {
     "name": "stdout",
     "output_type": "stream",
     "text": [
      "C:/Users/20192801/Documents/deep_learning_music_project\\onsets_ISMIR_2012\\csv_large_label\\ah_test_trumpet_chetbaker_start_end_spect_target.csv\n"
     ]
    },
    {
     "name": "stderr",
     "output_type": "stream",
     "text": [
      "c:\\Users\\20192801\\Anaconda3\\envs\\DeepLearning_labs\\Lib\\site-packages\\librosa\\feature\\spectral.py:2143: UserWarning: Empty filters detected in mel frequency basis. Some channels will produce empty responses. Try increasing your sampling rate (and fmax) or reducing n_mels.\n",
      "  mel_basis = filters.mel(sr=sr, n_fft=n_fft, **kwargs)\n"
     ]
    },
    {
     "name": "stdout",
     "output_type": "stream",
     "text": [
      "C:/Users/20192801/Documents/deep_learning_music_project\\onsets_ISMIR_2012\\csv_large_label\\ah_test_trumpet_Miles_DAVIS__Michel_LEGRAND_DINGO_02_start_end_spect_target.csv\n"
     ]
    },
    {
     "name": "stderr",
     "output_type": "stream",
     "text": [
      "c:\\Users\\20192801\\Anaconda3\\envs\\DeepLearning_labs\\Lib\\site-packages\\librosa\\feature\\spectral.py:2143: UserWarning: Empty filters detected in mel frequency basis. Some channels will produce empty responses. Try increasing your sampling rate (and fmax) or reducing n_mels.\n",
      "  mel_basis = filters.mel(sr=sr, n_fft=n_fft, **kwargs)\n"
     ]
    },
    {
     "name": "stdout",
     "output_type": "stream",
     "text": [
      "C:/Users/20192801/Documents/deep_learning_music_project\\onsets_ISMIR_2012\\csv_large_label\\ah_test_trumpet_trumpet1_start_end_spect_target.csv\n"
     ]
    },
    {
     "name": "stderr",
     "output_type": "stream",
     "text": [
      "c:\\Users\\20192801\\Anaconda3\\envs\\DeepLearning_labs\\Lib\\site-packages\\librosa\\feature\\spectral.py:2143: UserWarning: Empty filters detected in mel frequency basis. Some channels will produce empty responses. Try increasing your sampling rate (and fmax) or reducing n_mels.\n",
      "  mel_basis = filters.mel(sr=sr, n_fft=n_fft, **kwargs)\n"
     ]
    },
    {
     "name": "stdout",
     "output_type": "stream",
     "text": [
      "C:/Users/20192801/Documents/deep_learning_music_project\\onsets_ISMIR_2012\\csv_large_label\\ah_test_trumpet_waldhorn33_-_Paloseco_pt1_start_end_spect_target.csv\n"
     ]
    },
    {
     "name": "stderr",
     "output_type": "stream",
     "text": [
      "c:\\Users\\20192801\\Anaconda3\\envs\\DeepLearning_labs\\Lib\\site-packages\\librosa\\feature\\spectral.py:2143: UserWarning: Empty filters detected in mel frequency basis. Some channels will produce empty responses. Try increasing your sampling rate (and fmax) or reducing n_mels.\n",
      "  mel_basis = filters.mel(sr=sr, n_fft=n_fft, **kwargs)\n"
     ]
    },
    {
     "name": "stdout",
     "output_type": "stream",
     "text": [
      "C:/Users/20192801/Documents/deep_learning_music_project\\onsets_ISMIR_2012\\csv_large_label\\ah_test_violin_03__kurdilihicazkar__keman_start_end_spect_target.csv\n"
     ]
    },
    {
     "name": "stderr",
     "output_type": "stream",
     "text": [
      "c:\\Users\\20192801\\Anaconda3\\envs\\DeepLearning_labs\\Lib\\site-packages\\librosa\\feature\\spectral.py:2143: UserWarning: Empty filters detected in mel frequency basis. Some channels will produce empty responses. Try increasing your sampling rate (and fmax) or reducing n_mels.\n",
      "  mel_basis = filters.mel(sr=sr, n_fft=n_fft, **kwargs)\n"
     ]
    },
    {
     "name": "stdout",
     "output_type": "stream",
     "text": [
      "C:/Users/20192801/Documents/deep_learning_music_project\\onsets_ISMIR_2012\\csv_large_label\\ah_test_violin_42954_FreqMan_hoochie_violin_pt1_start_end_spect_target.csv\n"
     ]
    },
    {
     "name": "stderr",
     "output_type": "stream",
     "text": [
      "c:\\Users\\20192801\\Anaconda3\\envs\\DeepLearning_labs\\Lib\\site-packages\\librosa\\feature\\spectral.py:2143: UserWarning: Empty filters detected in mel frequency basis. Some channels will produce empty responses. Try increasing your sampling rate (and fmax) or reducing n_mels.\n",
      "  mel_basis = filters.mel(sr=sr, n_fft=n_fft, **kwargs)\n"
     ]
    },
    {
     "name": "stdout",
     "output_type": "stream",
     "text": [
      "C:/Users/20192801/Documents/deep_learning_music_project\\onsets_ISMIR_2012\\csv_large_label\\ah_test_violin_dark_eyes_viol_start_end_spect_target.csv\n"
     ]
    },
    {
     "name": "stderr",
     "output_type": "stream",
     "text": [
      "c:\\Users\\20192801\\Anaconda3\\envs\\DeepLearning_labs\\Lib\\site-packages\\librosa\\feature\\spectral.py:2143: UserWarning: Empty filters detected in mel frequency basis. Some channels will produce empty responses. Try increasing your sampling rate (and fmax) or reducing n_mels.\n",
      "  mel_basis = filters.mel(sr=sr, n_fft=n_fft, **kwargs)\n"
     ]
    },
    {
     "name": "stdout",
     "output_type": "stream",
     "text": [
      "C:/Users/20192801/Documents/deep_learning_music_project\\onsets_ISMIR_2012\\csv_large_label\\ah_test_violin_my_violin2_start_end_spect_target.csv\n"
     ]
    },
    {
     "name": "stderr",
     "output_type": "stream",
     "text": [
      "c:\\Users\\20192801\\Anaconda3\\envs\\DeepLearning_labs\\Lib\\site-packages\\librosa\\feature\\spectral.py:2143: UserWarning: Empty filters detected in mel frequency basis. Some channels will produce empty responses. Try increasing your sampling rate (and fmax) or reducing n_mels.\n",
      "  mel_basis = filters.mel(sr=sr, n_fft=n_fft, **kwargs)\n"
     ]
    },
    {
     "name": "stdout",
     "output_type": "stream",
     "text": [
      "C:/Users/20192801/Documents/deep_learning_music_project\\onsets_ISMIR_2012\\csv_large_label\\ah_test_violin_my_violin3_start_end_spect_target.csv\n"
     ]
    },
    {
     "name": "stderr",
     "output_type": "stream",
     "text": [
      "c:\\Users\\20192801\\Anaconda3\\envs\\DeepLearning_labs\\Lib\\site-packages\\librosa\\feature\\spectral.py:2143: UserWarning: Empty filters detected in mel frequency basis. Some channels will produce empty responses. Try increasing your sampling rate (and fmax) or reducing n_mels.\n",
      "  mel_basis = filters.mel(sr=sr, n_fft=n_fft, **kwargs)\n"
     ]
    },
    {
     "name": "stdout",
     "output_type": "stream",
     "text": [
      "C:/Users/20192801/Documents/deep_learning_music_project\\onsets_ISMIR_2012\\csv_large_label\\al_Albums-AnaBelen_Veneo-13(1.8-11.8)_start_end_spect_target.csv\n"
     ]
    },
    {
     "name": "stderr",
     "output_type": "stream",
     "text": [
      "c:\\Users\\20192801\\Anaconda3\\envs\\DeepLearning_labs\\Lib\\site-packages\\librosa\\feature\\spectral.py:2143: UserWarning: Empty filters detected in mel frequency basis. Some channels will produce empty responses. Try increasing your sampling rate (and fmax) or reducing n_mels.\n",
      "  mel_basis = filters.mel(sr=sr, n_fft=n_fft, **kwargs)\n"
     ]
    },
    {
     "name": "stdout",
     "output_type": "stream",
     "text": [
      "C:/Users/20192801/Documents/deep_learning_music_project\\onsets_ISMIR_2012\\csv_large_label\\al_Albums-Ballroom_Classics4-07(9.8-19.8)_start_end_spect_target.csv\n"
     ]
    },
    {
     "name": "stderr",
     "output_type": "stream",
     "text": [
      "c:\\Users\\20192801\\Anaconda3\\envs\\DeepLearning_labs\\Lib\\site-packages\\librosa\\feature\\spectral.py:2143: UserWarning: Empty filters detected in mel frequency basis. Some channels will produce empty responses. Try increasing your sampling rate (and fmax) or reducing n_mels.\n",
      "  mel_basis = filters.mel(sr=sr, n_fft=n_fft, **kwargs)\n"
     ]
    },
    {
     "name": "stdout",
     "output_type": "stream",
     "text": [
      "C:/Users/20192801/Documents/deep_learning_music_project\\onsets_ISMIR_2012\\csv_large_label\\al_Albums-Cafe_Paradiso-09(14.9-24.9)_start_end_spect_target.csv\n"
     ]
    },
    {
     "name": "stderr",
     "output_type": "stream",
     "text": [
      "c:\\Users\\20192801\\Anaconda3\\envs\\DeepLearning_labs\\Lib\\site-packages\\librosa\\feature\\spectral.py:2143: UserWarning: Empty filters detected in mel frequency basis. Some channels will produce empty responses. Try increasing your sampling rate (and fmax) or reducing n_mels.\n",
      "  mel_basis = filters.mel(sr=sr, n_fft=n_fft, **kwargs)\n"
     ]
    },
    {
     "name": "stdout",
     "output_type": "stream",
     "text": [
      "C:/Users/20192801/Documents/deep_learning_music_project\\onsets_ISMIR_2012\\csv_large_label\\al_Albums-Cafe_Paradiso-10(1.5-11.5)_start_end_spect_target.csv\n"
     ]
    },
    {
     "name": "stderr",
     "output_type": "stream",
     "text": [
      "c:\\Users\\20192801\\Anaconda3\\envs\\DeepLearning_labs\\Lib\\site-packages\\librosa\\feature\\spectral.py:2143: UserWarning: Empty filters detected in mel frequency basis. Some channels will produce empty responses. Try increasing your sampling rate (and fmax) or reducing n_mels.\n",
      "  mel_basis = filters.mel(sr=sr, n_fft=n_fft, **kwargs)\n"
     ]
    },
    {
     "name": "stdout",
     "output_type": "stream",
     "text": [
      "C:/Users/20192801/Documents/deep_learning_music_project\\onsets_ISMIR_2012\\csv_large_label\\al_Albums-Cafe_Paradiso-14(15.9-25.9)_start_end_spect_target.csv\n"
     ]
    },
    {
     "name": "stderr",
     "output_type": "stream",
     "text": [
      "c:\\Users\\20192801\\Anaconda3\\envs\\DeepLearning_labs\\Lib\\site-packages\\librosa\\feature\\spectral.py:2143: UserWarning: Empty filters detected in mel frequency basis. Some channels will produce empty responses. Try increasing your sampling rate (and fmax) or reducing n_mels.\n",
      "  mel_basis = filters.mel(sr=sr, n_fft=n_fft, **kwargs)\n"
     ]
    },
    {
     "name": "stdout",
     "output_type": "stream",
     "text": [
      "C:/Users/20192801/Documents/deep_learning_music_project\\onsets_ISMIR_2012\\csv_large_label\\al_Albums-Cafe_Paradiso-16(17.0-27.0)_start_end_spect_target.csv\n"
     ]
    },
    {
     "name": "stderr",
     "output_type": "stream",
     "text": [
      "c:\\Users\\20192801\\Anaconda3\\envs\\DeepLearning_labs\\Lib\\site-packages\\librosa\\feature\\spectral.py:2143: UserWarning: Empty filters detected in mel frequency basis. Some channels will produce empty responses. Try increasing your sampling rate (and fmax) or reducing n_mels.\n",
      "  mel_basis = filters.mel(sr=sr, n_fft=n_fft, **kwargs)\n"
     ]
    },
    {
     "name": "stdout",
     "output_type": "stream",
     "text": [
      "C:/Users/20192801/Documents/deep_learning_music_project\\onsets_ISMIR_2012\\csv_large_label\\al_Albums-Fire-03(12.4-22.4)_start_end_spect_target.csv\n"
     ]
    },
    {
     "name": "stderr",
     "output_type": "stream",
     "text": [
      "c:\\Users\\20192801\\Anaconda3\\envs\\DeepLearning_labs\\Lib\\site-packages\\librosa\\feature\\spectral.py:2143: UserWarning: Empty filters detected in mel frequency basis. Some channels will produce empty responses. Try increasing your sampling rate (and fmax) or reducing n_mels.\n",
      "  mel_basis = filters.mel(sr=sr, n_fft=n_fft, **kwargs)\n"
     ]
    },
    {
     "name": "stdout",
     "output_type": "stream",
     "text": [
      "C:/Users/20192801/Documents/deep_learning_music_project\\onsets_ISMIR_2012\\csv_large_label\\al_Albums-Latino_Latino-05(3.4-13.4)_start_end_spect_target.csv\n"
     ]
    },
    {
     "name": "stderr",
     "output_type": "stream",
     "text": [
      "c:\\Users\\20192801\\Anaconda3\\envs\\DeepLearning_labs\\Lib\\site-packages\\librosa\\feature\\spectral.py:2143: UserWarning: Empty filters detected in mel frequency basis. Some channels will produce empty responses. Try increasing your sampling rate (and fmax) or reducing n_mels.\n",
      "  mel_basis = filters.mel(sr=sr, n_fft=n_fft, **kwargs)\n"
     ]
    },
    {
     "name": "stdout",
     "output_type": "stream",
     "text": [
      "C:/Users/20192801/Documents/deep_learning_music_project\\onsets_ISMIR_2012\\csv_large_label\\al_Albums-Latino_Latino-05(7.8-17.8)_start_end_spect_target.csv\n"
     ]
    },
    {
     "name": "stderr",
     "output_type": "stream",
     "text": [
      "c:\\Users\\20192801\\Anaconda3\\envs\\DeepLearning_labs\\Lib\\site-packages\\librosa\\feature\\spectral.py:2143: UserWarning: Empty filters detected in mel frequency basis. Some channels will produce empty responses. Try increasing your sampling rate (and fmax) or reducing n_mels.\n",
      "  mel_basis = filters.mel(sr=sr, n_fft=n_fft, **kwargs)\n"
     ]
    },
    {
     "name": "stdout",
     "output_type": "stream",
     "text": [
      "C:/Users/20192801/Documents/deep_learning_music_project\\onsets_ISMIR_2012\\csv_large_label\\al_Albums-Latino_Latino-09(8.8-18.8)_start_end_spect_target.csv\n"
     ]
    },
    {
     "name": "stderr",
     "output_type": "stream",
     "text": [
      "c:\\Users\\20192801\\Anaconda3\\envs\\DeepLearning_labs\\Lib\\site-packages\\librosa\\feature\\spectral.py:2143: UserWarning: Empty filters detected in mel frequency basis. Some channels will produce empty responses. Try increasing your sampling rate (and fmax) or reducing n_mels.\n",
      "  mel_basis = filters.mel(sr=sr, n_fft=n_fft, **kwargs)\n"
     ]
    },
    {
     "name": "stdout",
     "output_type": "stream",
     "text": [
      "C:/Users/20192801/Documents/deep_learning_music_project\\onsets_ISMIR_2012\\csv_large_label\\al_Albums-Latin_Jam-02(6.8-16.8)_start_end_spect_target.csv\n"
     ]
    },
    {
     "name": "stderr",
     "output_type": "stream",
     "text": [
      "c:\\Users\\20192801\\Anaconda3\\envs\\DeepLearning_labs\\Lib\\site-packages\\librosa\\feature\\spectral.py:2143: UserWarning: Empty filters detected in mel frequency basis. Some channels will produce empty responses. Try increasing your sampling rate (and fmax) or reducing n_mels.\n",
      "  mel_basis = filters.mel(sr=sr, n_fft=n_fft, **kwargs)\n"
     ]
    },
    {
     "name": "stdout",
     "output_type": "stream",
     "text": [
      "C:/Users/20192801/Documents/deep_learning_music_project\\onsets_ISMIR_2012\\csv_large_label\\al_Albums-Latin_Jam2-03(6.1-16.1)_start_end_spect_target.csv\n"
     ]
    },
    {
     "name": "stderr",
     "output_type": "stream",
     "text": [
      "c:\\Users\\20192801\\Anaconda3\\envs\\DeepLearning_labs\\Lib\\site-packages\\librosa\\feature\\spectral.py:2143: UserWarning: Empty filters detected in mel frequency basis. Some channels will produce empty responses. Try increasing your sampling rate (and fmax) or reducing n_mels.\n",
      "  mel_basis = filters.mel(sr=sr, n_fft=n_fft, **kwargs)\n"
     ]
    },
    {
     "name": "stdout",
     "output_type": "stream",
     "text": [
      "C:/Users/20192801/Documents/deep_learning_music_project\\onsets_ISMIR_2012\\csv_large_label\\al_Albums-Latin_Jam2-09(5.3-15.3)_start_end_spect_target.csv\n"
     ]
    },
    {
     "name": "stderr",
     "output_type": "stream",
     "text": [
      "c:\\Users\\20192801\\Anaconda3\\envs\\DeepLearning_labs\\Lib\\site-packages\\librosa\\feature\\spectral.py:2143: UserWarning: Empty filters detected in mel frequency basis. Some channels will produce empty responses. Try increasing your sampling rate (and fmax) or reducing n_mels.\n",
      "  mel_basis = filters.mel(sr=sr, n_fft=n_fft, **kwargs)\n"
     ]
    },
    {
     "name": "stdout",
     "output_type": "stream",
     "text": [
      "C:/Users/20192801/Documents/deep_learning_music_project\\onsets_ISMIR_2012\\csv_large_label\\al_Albums-Latin_Jam3-11(11.5-21.5)_start_end_spect_target.csv\n"
     ]
    },
    {
     "name": "stderr",
     "output_type": "stream",
     "text": [
      "c:\\Users\\20192801\\Anaconda3\\envs\\DeepLearning_labs\\Lib\\site-packages\\librosa\\feature\\spectral.py:2143: UserWarning: Empty filters detected in mel frequency basis. Some channels will produce empty responses. Try increasing your sampling rate (and fmax) or reducing n_mels.\n",
      "  mel_basis = filters.mel(sr=sr, n_fft=n_fft, **kwargs)\n"
     ]
    },
    {
     "name": "stdout",
     "output_type": "stream",
     "text": [
      "C:/Users/20192801/Documents/deep_learning_music_project\\onsets_ISMIR_2012\\csv_large_label\\al_Albums-Latin_Jam5-01(7.9-17.9)_start_end_spect_target.csv\n"
     ]
    },
    {
     "name": "stderr",
     "output_type": "stream",
     "text": [
      "c:\\Users\\20192801\\Anaconda3\\envs\\DeepLearning_labs\\Lib\\site-packages\\librosa\\feature\\spectral.py:2143: UserWarning: Empty filters detected in mel frequency basis. Some channels will produce empty responses. Try increasing your sampling rate (and fmax) or reducing n_mels.\n",
      "  mel_basis = filters.mel(sr=sr, n_fft=n_fft, **kwargs)\n"
     ]
    },
    {
     "name": "stdout",
     "output_type": "stream",
     "text": [
      "C:/Users/20192801/Documents/deep_learning_music_project\\onsets_ISMIR_2012\\csv_large_label\\al_Albums-Step_By_Step-07(1.1-11.1)_start_end_spect_target.csv\n"
     ]
    },
    {
     "name": "stderr",
     "output_type": "stream",
     "text": [
      "c:\\Users\\20192801\\Anaconda3\\envs\\DeepLearning_labs\\Lib\\site-packages\\librosa\\feature\\spectral.py:2143: UserWarning: Empty filters detected in mel frequency basis. Some channels will produce empty responses. Try increasing your sampling rate (and fmax) or reducing n_mels.\n",
      "  mel_basis = filters.mel(sr=sr, n_fft=n_fft, **kwargs)\n"
     ]
    },
    {
     "name": "stdout",
     "output_type": "stream",
     "text": [
      "C:/Users/20192801/Documents/deep_learning_music_project\\onsets_ISMIR_2012\\csv_large_label\\al_Media-103505(1.9-11.9)_start_end_spect_target.csv\n"
     ]
    },
    {
     "name": "stderr",
     "output_type": "stream",
     "text": [
      "c:\\Users\\20192801\\Anaconda3\\envs\\DeepLearning_labs\\Lib\\site-packages\\librosa\\feature\\spectral.py:2143: UserWarning: Empty filters detected in mel frequency basis. Some channels will produce empty responses. Try increasing your sampling rate (and fmax) or reducing n_mels.\n",
      "  mel_basis = filters.mel(sr=sr, n_fft=n_fft, **kwargs)\n"
     ]
    },
    {
     "name": "stdout",
     "output_type": "stream",
     "text": [
      "C:/Users/20192801/Documents/deep_learning_music_project\\onsets_ISMIR_2012\\csv_large_label\\al_Media-103515(19.7-29.7)_start_end_spect_target.csv\n"
     ]
    },
    {
     "name": "stderr",
     "output_type": "stream",
     "text": [
      "c:\\Users\\20192801\\Anaconda3\\envs\\DeepLearning_labs\\Lib\\site-packages\\librosa\\feature\\spectral.py:2143: UserWarning: Empty filters detected in mel frequency basis. Some channels will produce empty responses. Try increasing your sampling rate (and fmax) or reducing n_mels.\n",
      "  mel_basis = filters.mel(sr=sr, n_fft=n_fft, **kwargs)\n"
     ]
    },
    {
     "name": "stdout",
     "output_type": "stream",
     "text": [
      "C:/Users/20192801/Documents/deep_learning_music_project\\onsets_ISMIR_2012\\csv_large_label\\al_Media-103515(9.1-19.1)_start_end_spect_target.csv\n"
     ]
    },
    {
     "name": "stderr",
     "output_type": "stream",
     "text": [
      "c:\\Users\\20192801\\Anaconda3\\envs\\DeepLearning_labs\\Lib\\site-packages\\librosa\\feature\\spectral.py:2143: UserWarning: Empty filters detected in mel frequency basis. Some channels will produce empty responses. Try increasing your sampling rate (and fmax) or reducing n_mels.\n",
      "  mel_basis = filters.mel(sr=sr, n_fft=n_fft, **kwargs)\n"
     ]
    },
    {
     "name": "stdout",
     "output_type": "stream",
     "text": [
      "C:/Users/20192801/Documents/deep_learning_music_project\\onsets_ISMIR_2012\\csv_large_label\\al_Media-103605(10.0-20.0)_start_end_spect_target.csv\n"
     ]
    },
    {
     "name": "stderr",
     "output_type": "stream",
     "text": [
      "c:\\Users\\20192801\\Anaconda3\\envs\\DeepLearning_labs\\Lib\\site-packages\\librosa\\feature\\spectral.py:2143: UserWarning: Empty filters detected in mel frequency basis. Some channels will produce empty responses. Try increasing your sampling rate (and fmax) or reducing n_mels.\n",
      "  mel_basis = filters.mel(sr=sr, n_fft=n_fft, **kwargs)\n"
     ]
    },
    {
     "name": "stdout",
     "output_type": "stream",
     "text": [
      "C:/Users/20192801/Documents/deep_learning_music_project\\onsets_ISMIR_2012\\csv_large_label\\al_Media-103611(0.2-10.2)_start_end_spect_target.csv\n"
     ]
    },
    {
     "name": "stderr",
     "output_type": "stream",
     "text": [
      "c:\\Users\\20192801\\Anaconda3\\envs\\DeepLearning_labs\\Lib\\site-packages\\librosa\\feature\\spectral.py:2143: UserWarning: Empty filters detected in mel frequency basis. Some channels will produce empty responses. Try increasing your sampling rate (and fmax) or reducing n_mels.\n",
      "  mel_basis = filters.mel(sr=sr, n_fft=n_fft, **kwargs)\n"
     ]
    },
    {
     "name": "stdout",
     "output_type": "stream",
     "text": [
      "C:/Users/20192801/Documents/deep_learning_music_project\\onsets_ISMIR_2012\\csv_large_label\\al_Media-103611(8.2-18.2)_start_end_spect_target.csv\n"
     ]
    },
    {
     "name": "stderr",
     "output_type": "stream",
     "text": [
      "c:\\Users\\20192801\\Anaconda3\\envs\\DeepLearning_labs\\Lib\\site-packages\\librosa\\feature\\spectral.py:2143: UserWarning: Empty filters detected in mel frequency basis. Some channels will produce empty responses. Try increasing your sampling rate (and fmax) or reducing n_mels.\n",
      "  mel_basis = filters.mel(sr=sr, n_fft=n_fft, **kwargs)\n"
     ]
    },
    {
     "name": "stdout",
     "output_type": "stream",
     "text": [
      "C:/Users/20192801/Documents/deep_learning_music_project\\onsets_ISMIR_2012\\csv_large_label\\al_Media-103714(4.2-14.2)_start_end_spect_target.csv\n"
     ]
    },
    {
     "name": "stderr",
     "output_type": "stream",
     "text": [
      "c:\\Users\\20192801\\Anaconda3\\envs\\DeepLearning_labs\\Lib\\site-packages\\librosa\\feature\\spectral.py:2143: UserWarning: Empty filters detected in mel frequency basis. Some channels will produce empty responses. Try increasing your sampling rate (and fmax) or reducing n_mels.\n",
      "  mel_basis = filters.mel(sr=sr, n_fft=n_fft, **kwargs)\n"
     ]
    },
    {
     "name": "stdout",
     "output_type": "stream",
     "text": [
      "C:/Users/20192801/Documents/deep_learning_music_project\\onsets_ISMIR_2012\\csv_large_label\\al_Media-103814(13.8-23.8)_start_end_spect_target.csv\n"
     ]
    },
    {
     "name": "stderr",
     "output_type": "stream",
     "text": [
      "c:\\Users\\20192801\\Anaconda3\\envs\\DeepLearning_labs\\Lib\\site-packages\\librosa\\feature\\spectral.py:2143: UserWarning: Empty filters detected in mel frequency basis. Some channels will produce empty responses. Try increasing your sampling rate (and fmax) or reducing n_mels.\n",
      "  mel_basis = filters.mel(sr=sr, n_fft=n_fft, **kwargs)\n"
     ]
    },
    {
     "name": "stdout",
     "output_type": "stream",
     "text": [
      "C:/Users/20192801/Documents/deep_learning_music_project\\onsets_ISMIR_2012\\csv_large_label\\al_Media-103917(13.5-23.5)_start_end_spect_target.csv\n"
     ]
    },
    {
     "name": "stderr",
     "output_type": "stream",
     "text": [
      "c:\\Users\\20192801\\Anaconda3\\envs\\DeepLearning_labs\\Lib\\site-packages\\librosa\\feature\\spectral.py:2143: UserWarning: Empty filters detected in mel frequency basis. Some channels will produce empty responses. Try increasing your sampling rate (and fmax) or reducing n_mels.\n",
      "  mel_basis = filters.mel(sr=sr, n_fft=n_fft, **kwargs)\n"
     ]
    },
    {
     "name": "stdout",
     "output_type": "stream",
     "text": [
      "C:/Users/20192801/Documents/deep_learning_music_project\\onsets_ISMIR_2012\\csv_large_label\\al_Media-103919(8.0-18.0)_start_end_spect_target.csv\n"
     ]
    },
    {
     "name": "stderr",
     "output_type": "stream",
     "text": [
      "c:\\Users\\20192801\\Anaconda3\\envs\\DeepLearning_labs\\Lib\\site-packages\\librosa\\feature\\spectral.py:2143: UserWarning: Empty filters detected in mel frequency basis. Some channels will produce empty responses. Try increasing your sampling rate (and fmax) or reducing n_mels.\n",
      "  mel_basis = filters.mel(sr=sr, n_fft=n_fft, **kwargs)\n"
     ]
    },
    {
     "name": "stdout",
     "output_type": "stream",
     "text": [
      "C:/Users/20192801/Documents/deep_learning_music_project\\onsets_ISMIR_2012\\csv_large_label\\al_Media-104002(11.3-21.3)_start_end_spect_target.csv\n"
     ]
    },
    {
     "name": "stderr",
     "output_type": "stream",
     "text": [
      "c:\\Users\\20192801\\Anaconda3\\envs\\DeepLearning_labs\\Lib\\site-packages\\librosa\\feature\\spectral.py:2143: UserWarning: Empty filters detected in mel frequency basis. Some channels will produce empty responses. Try increasing your sampling rate (and fmax) or reducing n_mels.\n",
      "  mel_basis = filters.mel(sr=sr, n_fft=n_fft, **kwargs)\n"
     ]
    },
    {
     "name": "stdout",
     "output_type": "stream",
     "text": [
      "C:/Users/20192801/Documents/deep_learning_music_project\\onsets_ISMIR_2012\\csv_large_label\\al_Media-104016(5.1-15.1)_start_end_spect_target.csv\n"
     ]
    },
    {
     "name": "stderr",
     "output_type": "stream",
     "text": [
      "c:\\Users\\20192801\\Anaconda3\\envs\\DeepLearning_labs\\Lib\\site-packages\\librosa\\feature\\spectral.py:2143: UserWarning: Empty filters detected in mel frequency basis. Some channels will produce empty responses. Try increasing your sampling rate (and fmax) or reducing n_mels.\n",
      "  mel_basis = filters.mel(sr=sr, n_fft=n_fft, **kwargs)\n"
     ]
    },
    {
     "name": "stdout",
     "output_type": "stream",
     "text": [
      "C:/Users/20192801/Documents/deep_learning_music_project\\onsets_ISMIR_2012\\csv_large_label\\al_Media-104105(15.6-25.6)_start_end_spect_target.csv\n"
     ]
    },
    {
     "name": "stderr",
     "output_type": "stream",
     "text": [
      "c:\\Users\\20192801\\Anaconda3\\envs\\DeepLearning_labs\\Lib\\site-packages\\librosa\\feature\\spectral.py:2143: UserWarning: Empty filters detected in mel frequency basis. Some channels will produce empty responses. Try increasing your sampling rate (and fmax) or reducing n_mels.\n",
      "  mel_basis = filters.mel(sr=sr, n_fft=n_fft, **kwargs)\n"
     ]
    },
    {
     "name": "stdout",
     "output_type": "stream",
     "text": [
      "C:/Users/20192801/Documents/deep_learning_music_project\\onsets_ISMIR_2012\\csv_large_label\\al_Media-104218(9.3-19.3)_start_end_spect_target.csv\n"
     ]
    },
    {
     "name": "stderr",
     "output_type": "stream",
     "text": [
      "c:\\Users\\20192801\\Anaconda3\\envs\\DeepLearning_labs\\Lib\\site-packages\\librosa\\feature\\spectral.py:2143: UserWarning: Empty filters detected in mel frequency basis. Some channels will produce empty responses. Try increasing your sampling rate (and fmax) or reducing n_mels.\n",
      "  mel_basis = filters.mel(sr=sr, n_fft=n_fft, **kwargs)\n"
     ]
    },
    {
     "name": "stdout",
     "output_type": "stream",
     "text": [
      "C:/Users/20192801/Documents/deep_learning_music_project\\onsets_ISMIR_2012\\csv_large_label\\al_Media-104306(5.0-15.0)_start_end_spect_target.csv\n"
     ]
    },
    {
     "name": "stderr",
     "output_type": "stream",
     "text": [
      "c:\\Users\\20192801\\Anaconda3\\envs\\DeepLearning_labs\\Lib\\site-packages\\librosa\\feature\\spectral.py:2143: UserWarning: Empty filters detected in mel frequency basis. Some channels will produce empty responses. Try increasing your sampling rate (and fmax) or reducing n_mels.\n",
      "  mel_basis = filters.mel(sr=sr, n_fft=n_fft, **kwargs)\n"
     ]
    },
    {
     "name": "stdout",
     "output_type": "stream",
     "text": [
      "C:/Users/20192801/Documents/deep_learning_music_project\\onsets_ISMIR_2012\\csv_large_label\\al_Media-104317(12.3-22.3)_start_end_spect_target.csv\n"
     ]
    },
    {
     "name": "stderr",
     "output_type": "stream",
     "text": [
      "c:\\Users\\20192801\\Anaconda3\\envs\\DeepLearning_labs\\Lib\\site-packages\\librosa\\feature\\spectral.py:2143: UserWarning: Empty filters detected in mel frequency basis. Some channels will produce empty responses. Try increasing your sampling rate (and fmax) or reducing n_mels.\n",
      "  mel_basis = filters.mel(sr=sr, n_fft=n_fft, **kwargs)\n"
     ]
    },
    {
     "name": "stdout",
     "output_type": "stream",
     "text": [
      "C:/Users/20192801/Documents/deep_learning_music_project\\onsets_ISMIR_2012\\csv_large_label\\al_Media-104415(10.7-20.7)_start_end_spect_target.csv\n"
     ]
    },
    {
     "name": "stderr",
     "output_type": "stream",
     "text": [
      "c:\\Users\\20192801\\Anaconda3\\envs\\DeepLearning_labs\\Lib\\site-packages\\librosa\\feature\\spectral.py:2143: UserWarning: Empty filters detected in mel frequency basis. Some channels will produce empty responses. Try increasing your sampling rate (and fmax) or reducing n_mels.\n",
      "  mel_basis = filters.mel(sr=sr, n_fft=n_fft, **kwargs)\n"
     ]
    },
    {
     "name": "stdout",
     "output_type": "stream",
     "text": [
      "C:/Users/20192801/Documents/deep_learning_music_project\\onsets_ISMIR_2012\\csv_large_label\\al_Media-104506(3.8-13.8)_start_end_spect_target.csv\n"
     ]
    },
    {
     "name": "stderr",
     "output_type": "stream",
     "text": [
      "c:\\Users\\20192801\\Anaconda3\\envs\\DeepLearning_labs\\Lib\\site-packages\\librosa\\feature\\spectral.py:2143: UserWarning: Empty filters detected in mel frequency basis. Some channels will produce empty responses. Try increasing your sampling rate (and fmax) or reducing n_mels.\n",
      "  mel_basis = filters.mel(sr=sr, n_fft=n_fft, **kwargs)\n"
     ]
    },
    {
     "name": "stdout",
     "output_type": "stream",
     "text": [
      "C:/Users/20192801/Documents/deep_learning_music_project\\onsets_ISMIR_2012\\csv_large_label\\al_Media-104717(18.2-28.2)_start_end_spect_target.csv\n"
     ]
    },
    {
     "name": "stderr",
     "output_type": "stream",
     "text": [
      "c:\\Users\\20192801\\Anaconda3\\envs\\DeepLearning_labs\\Lib\\site-packages\\librosa\\feature\\spectral.py:2143: UserWarning: Empty filters detected in mel frequency basis. Some channels will produce empty responses. Try increasing your sampling rate (and fmax) or reducing n_mels.\n",
      "  mel_basis = filters.mel(sr=sr, n_fft=n_fft, **kwargs)\n"
     ]
    },
    {
     "name": "stdout",
     "output_type": "stream",
     "text": [
      "C:/Users/20192801/Documents/deep_learning_music_project\\onsets_ISMIR_2012\\csv_large_label\\al_Media-104807(16.5-26.5)_start_end_spect_target.csv\n"
     ]
    },
    {
     "name": "stderr",
     "output_type": "stream",
     "text": [
      "c:\\Users\\20192801\\Anaconda3\\envs\\DeepLearning_labs\\Lib\\site-packages\\librosa\\feature\\spectral.py:2143: UserWarning: Empty filters detected in mel frequency basis. Some channels will produce empty responses. Try increasing your sampling rate (and fmax) or reducing n_mels.\n",
      "  mel_basis = filters.mel(sr=sr, n_fft=n_fft, **kwargs)\n"
     ]
    },
    {
     "name": "stdout",
     "output_type": "stream",
     "text": [
      "C:/Users/20192801/Documents/deep_learning_music_project\\onsets_ISMIR_2012\\csv_large_label\\al_Media-104917(15.6-25.6)_start_end_spect_target.csv\n"
     ]
    },
    {
     "name": "stderr",
     "output_type": "stream",
     "text": [
      "c:\\Users\\20192801\\Anaconda3\\envs\\DeepLearning_labs\\Lib\\site-packages\\librosa\\feature\\spectral.py:2143: UserWarning: Empty filters detected in mel frequency basis. Some channels will produce empty responses. Try increasing your sampling rate (and fmax) or reducing n_mels.\n",
      "  mel_basis = filters.mel(sr=sr, n_fft=n_fft, **kwargs)\n"
     ]
    },
    {
     "name": "stdout",
     "output_type": "stream",
     "text": [
      "C:/Users/20192801/Documents/deep_learning_music_project\\onsets_ISMIR_2012\\csv_large_label\\al_Media-105009(20.3-30.3)_start_end_spect_target.csv\n"
     ]
    },
    {
     "name": "stderr",
     "output_type": "stream",
     "text": [
      "c:\\Users\\20192801\\Anaconda3\\envs\\DeepLearning_labs\\Lib\\site-packages\\librosa\\feature\\spectral.py:2143: UserWarning: Empty filters detected in mel frequency basis. Some channels will produce empty responses. Try increasing your sampling rate (and fmax) or reducing n_mels.\n",
      "  mel_basis = filters.mel(sr=sr, n_fft=n_fft, **kwargs)\n"
     ]
    },
    {
     "name": "stdout",
     "output_type": "stream",
     "text": [
      "C:/Users/20192801/Documents/deep_learning_music_project\\onsets_ISMIR_2012\\csv_large_label\\al_Media-105016(4.1-14.1)_start_end_spect_target.csv\n"
     ]
    },
    {
     "name": "stderr",
     "output_type": "stream",
     "text": [
      "c:\\Users\\20192801\\Anaconda3\\envs\\DeepLearning_labs\\Lib\\site-packages\\librosa\\feature\\spectral.py:2143: UserWarning: Empty filters detected in mel frequency basis. Some channels will produce empty responses. Try increasing your sampling rate (and fmax) or reducing n_mels.\n",
      "  mel_basis = filters.mel(sr=sr, n_fft=n_fft, **kwargs)\n"
     ]
    },
    {
     "name": "stdout",
     "output_type": "stream",
     "text": [
      "C:/Users/20192801/Documents/deep_learning_music_project\\onsets_ISMIR_2012\\csv_large_label\\al_Media-105020(11.1-21.1)_start_end_spect_target.csv\n"
     ]
    },
    {
     "name": "stderr",
     "output_type": "stream",
     "text": [
      "c:\\Users\\20192801\\Anaconda3\\envs\\DeepLearning_labs\\Lib\\site-packages\\librosa\\feature\\spectral.py:2143: UserWarning: Empty filters detected in mel frequency basis. Some channels will produce empty responses. Try increasing your sampling rate (and fmax) or reducing n_mels.\n",
      "  mel_basis = filters.mel(sr=sr, n_fft=n_fft, **kwargs)\n"
     ]
    },
    {
     "name": "stdout",
     "output_type": "stream",
     "text": [
      "C:/Users/20192801/Documents/deep_learning_music_project\\onsets_ISMIR_2012\\csv_large_label\\al_Media-105306(21.1-31.1)_start_end_spect_target.csv\n"
     ]
    },
    {
     "name": "stderr",
     "output_type": "stream",
     "text": [
      "c:\\Users\\20192801\\Anaconda3\\envs\\DeepLearning_labs\\Lib\\site-packages\\librosa\\feature\\spectral.py:2143: UserWarning: Empty filters detected in mel frequency basis. Some channels will produce empty responses. Try increasing your sampling rate (and fmax) or reducing n_mels.\n",
      "  mel_basis = filters.mel(sr=sr, n_fft=n_fft, **kwargs)\n"
     ]
    },
    {
     "name": "stdout",
     "output_type": "stream",
     "text": [
      "C:/Users/20192801/Documents/deep_learning_music_project\\onsets_ISMIR_2012\\csv_large_label\\al_Media-105320(2.5-12.5)_start_end_spect_target.csv\n"
     ]
    },
    {
     "name": "stderr",
     "output_type": "stream",
     "text": [
      "c:\\Users\\20192801\\Anaconda3\\envs\\DeepLearning_labs\\Lib\\site-packages\\librosa\\feature\\spectral.py:2143: UserWarning: Empty filters detected in mel frequency basis. Some channels will produce empty responses. Try increasing your sampling rate (and fmax) or reducing n_mels.\n",
      "  mel_basis = filters.mel(sr=sr, n_fft=n_fft, **kwargs)\n"
     ]
    },
    {
     "name": "stdout",
     "output_type": "stream",
     "text": [
      "C:/Users/20192801/Documents/deep_learning_music_project\\onsets_ISMIR_2012\\csv_large_label\\al_Media-105402(9.7-19.7)_start_end_spect_target.csv\n"
     ]
    },
    {
     "name": "stderr",
     "output_type": "stream",
     "text": [
      "c:\\Users\\20192801\\Anaconda3\\envs\\DeepLearning_labs\\Lib\\site-packages\\librosa\\feature\\spectral.py:2143: UserWarning: Empty filters detected in mel frequency basis. Some channels will produce empty responses. Try increasing your sampling rate (and fmax) or reducing n_mels.\n",
      "  mel_basis = filters.mel(sr=sr, n_fft=n_fft, **kwargs)\n"
     ]
    },
    {
     "name": "stdout",
     "output_type": "stream",
     "text": [
      "C:/Users/20192801/Documents/deep_learning_music_project\\onsets_ISMIR_2012\\csv_large_label\\al_Media-105404(8.0-18.0)_start_end_spect_target.csv\n"
     ]
    },
    {
     "name": "stderr",
     "output_type": "stream",
     "text": [
      "c:\\Users\\20192801\\Anaconda3\\envs\\DeepLearning_labs\\Lib\\site-packages\\librosa\\feature\\spectral.py:2143: UserWarning: Empty filters detected in mel frequency basis. Some channels will produce empty responses. Try increasing your sampling rate (and fmax) or reducing n_mels.\n",
      "  mel_basis = filters.mel(sr=sr, n_fft=n_fft, **kwargs)\n"
     ]
    },
    {
     "name": "stdout",
     "output_type": "stream",
     "text": [
      "C:/Users/20192801/Documents/deep_learning_music_project\\onsets_ISMIR_2012\\csv_large_label\\al_Media-105506(11.4-21.4)_start_end_spect_target.csv\n"
     ]
    },
    {
     "name": "stderr",
     "output_type": "stream",
     "text": [
      "c:\\Users\\20192801\\Anaconda3\\envs\\DeepLearning_labs\\Lib\\site-packages\\librosa\\feature\\spectral.py:2143: UserWarning: Empty filters detected in mel frequency basis. Some channels will produce empty responses. Try increasing your sampling rate (and fmax) or reducing n_mels.\n",
      "  mel_basis = filters.mel(sr=sr, n_fft=n_fft, **kwargs)\n"
     ]
    },
    {
     "name": "stdout",
     "output_type": "stream",
     "text": [
      "C:/Users/20192801/Documents/deep_learning_music_project\\onsets_ISMIR_2012\\csv_large_label\\al_Media-105614(20.9-30.9)_start_end_spect_target.csv\n"
     ]
    },
    {
     "name": "stderr",
     "output_type": "stream",
     "text": [
      "c:\\Users\\20192801\\Anaconda3\\envs\\DeepLearning_labs\\Lib\\site-packages\\librosa\\feature\\spectral.py:2143: UserWarning: Empty filters detected in mel frequency basis. Some channels will produce empty responses. Try increasing your sampling rate (and fmax) or reducing n_mels.\n",
      "  mel_basis = filters.mel(sr=sr, n_fft=n_fft, **kwargs)\n"
     ]
    },
    {
     "name": "stdout",
     "output_type": "stream",
     "text": [
      "C:/Users/20192801/Documents/deep_learning_music_project\\onsets_ISMIR_2012\\csv_large_label\\al_Media-105615(12.4-22.4)_start_end_spect_target.csv\n"
     ]
    },
    {
     "name": "stderr",
     "output_type": "stream",
     "text": [
      "c:\\Users\\20192801\\Anaconda3\\envs\\DeepLearning_labs\\Lib\\site-packages\\librosa\\feature\\spectral.py:2143: UserWarning: Empty filters detected in mel frequency basis. Some channels will produce empty responses. Try increasing your sampling rate (and fmax) or reducing n_mels.\n",
      "  mel_basis = filters.mel(sr=sr, n_fft=n_fft, **kwargs)\n"
     ]
    },
    {
     "name": "stdout",
     "output_type": "stream",
     "text": [
      "C:/Users/20192801/Documents/deep_learning_music_project\\onsets_ISMIR_2012\\csv_large_label\\al_Media-105808(15.5-25.5)_start_end_spect_target.csv\n"
     ]
    },
    {
     "name": "stderr",
     "output_type": "stream",
     "text": [
      "c:\\Users\\20192801\\Anaconda3\\envs\\DeepLearning_labs\\Lib\\site-packages\\librosa\\feature\\spectral.py:2143: UserWarning: Empty filters detected in mel frequency basis. Some channels will produce empty responses. Try increasing your sampling rate (and fmax) or reducing n_mels.\n",
      "  mel_basis = filters.mel(sr=sr, n_fft=n_fft, **kwargs)\n"
     ]
    },
    {
     "name": "stdout",
     "output_type": "stream",
     "text": [
      "C:/Users/20192801/Documents/deep_learning_music_project\\onsets_ISMIR_2012\\csv_large_label\\al_Media-105819(8.1-18.1)_start_end_spect_target.csv\n"
     ]
    },
    {
     "name": "stderr",
     "output_type": "stream",
     "text": [
      "c:\\Users\\20192801\\Anaconda3\\envs\\DeepLearning_labs\\Lib\\site-packages\\librosa\\feature\\spectral.py:2143: UserWarning: Empty filters detected in mel frequency basis. Some channels will produce empty responses. Try increasing your sampling rate (and fmax) or reducing n_mels.\n",
      "  mel_basis = filters.mel(sr=sr, n_fft=n_fft, **kwargs)\n"
     ]
    },
    {
     "name": "stdout",
     "output_type": "stream",
     "text": [
      "C:/Users/20192801/Documents/deep_learning_music_project\\onsets_ISMIR_2012\\csv_large_label\\al_Media-105905(7.8-17.8)_start_end_spect_target.csv\n"
     ]
    },
    {
     "name": "stderr",
     "output_type": "stream",
     "text": [
      "c:\\Users\\20192801\\Anaconda3\\envs\\DeepLearning_labs\\Lib\\site-packages\\librosa\\feature\\spectral.py:2143: UserWarning: Empty filters detected in mel frequency basis. Some channels will produce empty responses. Try increasing your sampling rate (and fmax) or reducing n_mels.\n",
      "  mel_basis = filters.mel(sr=sr, n_fft=n_fft, **kwargs)\n"
     ]
    },
    {
     "name": "stdout",
     "output_type": "stream",
     "text": [
      "C:/Users/20192801/Documents/deep_learning_music_project\\onsets_ISMIR_2012\\csv_large_label\\al_Media-105913(10.6-20.6)_start_end_spect_target.csv\n"
     ]
    },
    {
     "name": "stderr",
     "output_type": "stream",
     "text": [
      "c:\\Users\\20192801\\Anaconda3\\envs\\DeepLearning_labs\\Lib\\site-packages\\librosa\\feature\\spectral.py:2143: UserWarning: Empty filters detected in mel frequency basis. Some channels will produce empty responses. Try increasing your sampling rate (and fmax) or reducing n_mels.\n",
      "  mel_basis = filters.mel(sr=sr, n_fft=n_fft, **kwargs)\n"
     ]
    },
    {
     "name": "stdout",
     "output_type": "stream",
     "text": [
      "C:/Users/20192801/Documents/deep_learning_music_project\\onsets_ISMIR_2012\\csv_large_label\\al_Media-106001(9.7-19.7)_start_end_spect_target.csv\n"
     ]
    },
    {
     "name": "stderr",
     "output_type": "stream",
     "text": [
      "c:\\Users\\20192801\\Anaconda3\\envs\\DeepLearning_labs\\Lib\\site-packages\\librosa\\feature\\spectral.py:2143: UserWarning: Empty filters detected in mel frequency basis. Some channels will produce empty responses. Try increasing your sampling rate (and fmax) or reducing n_mels.\n",
      "  mel_basis = filters.mel(sr=sr, n_fft=n_fft, **kwargs)\n"
     ]
    },
    {
     "name": "stdout",
     "output_type": "stream",
     "text": [
      "C:/Users/20192801/Documents/deep_learning_music_project\\onsets_ISMIR_2012\\csv_large_label\\al_Media-106011(14.8-24.8)_start_end_spect_target.csv\n"
     ]
    },
    {
     "name": "stderr",
     "output_type": "stream",
     "text": [
      "c:\\Users\\20192801\\Anaconda3\\envs\\DeepLearning_labs\\Lib\\site-packages\\librosa\\feature\\spectral.py:2143: UserWarning: Empty filters detected in mel frequency basis. Some channels will produce empty responses. Try increasing your sampling rate (and fmax) or reducing n_mels.\n",
      "  mel_basis = filters.mel(sr=sr, n_fft=n_fft, **kwargs)\n"
     ]
    },
    {
     "name": "stdout",
     "output_type": "stream",
     "text": [
      "C:/Users/20192801/Documents/deep_learning_music_project\\onsets_ISMIR_2012\\csv_large_label\\al_Media-106015(16.4-26.4)_start_end_spect_target.csv\n"
     ]
    },
    {
     "name": "stderr",
     "output_type": "stream",
     "text": [
      "c:\\Users\\20192801\\Anaconda3\\envs\\DeepLearning_labs\\Lib\\site-packages\\librosa\\feature\\spectral.py:2143: UserWarning: Empty filters detected in mel frequency basis. Some channels will produce empty responses. Try increasing your sampling rate (and fmax) or reducing n_mels.\n",
      "  mel_basis = filters.mel(sr=sr, n_fft=n_fft, **kwargs)\n"
     ]
    },
    {
     "name": "stdout",
     "output_type": "stream",
     "text": [
      "C:/Users/20192801/Documents/deep_learning_music_project\\onsets_ISMIR_2012\\csv_large_label\\al_Media-106109(12.4-22.4)_start_end_spect_target.csv\n"
     ]
    },
    {
     "name": "stderr",
     "output_type": "stream",
     "text": [
      "c:\\Users\\20192801\\Anaconda3\\envs\\DeepLearning_labs\\Lib\\site-packages\\librosa\\feature\\spectral.py:2143: UserWarning: Empty filters detected in mel frequency basis. Some channels will produce empty responses. Try increasing your sampling rate (and fmax) or reducing n_mels.\n",
      "  mel_basis = filters.mel(sr=sr, n_fft=n_fft, **kwargs)\n"
     ]
    },
    {
     "name": "stdout",
     "output_type": "stream",
     "text": [
      "C:/Users/20192801/Documents/deep_learning_music_project\\onsets_ISMIR_2012\\csv_large_label\\al_Media-106110(6.4-16.4)_start_end_spect_target.csv\n"
     ]
    },
    {
     "name": "stderr",
     "output_type": "stream",
     "text": [
      "c:\\Users\\20192801\\Anaconda3\\envs\\DeepLearning_labs\\Lib\\site-packages\\librosa\\feature\\spectral.py:2143: UserWarning: Empty filters detected in mel frequency basis. Some channels will produce empty responses. Try increasing your sampling rate (and fmax) or reducing n_mels.\n",
      "  mel_basis = filters.mel(sr=sr, n_fft=n_fft, **kwargs)\n"
     ]
    },
    {
     "name": "stdout",
     "output_type": "stream",
     "text": [
      "C:/Users/20192801/Documents/deep_learning_music_project\\onsets_ISMIR_2012\\csv_large_label\\al_Media-106113(16.4-26.4)_start_end_spect_target.csv\n"
     ]
    },
    {
     "name": "stderr",
     "output_type": "stream",
     "text": [
      "c:\\Users\\20192801\\Anaconda3\\envs\\DeepLearning_labs\\Lib\\site-packages\\librosa\\feature\\spectral.py:2143: UserWarning: Empty filters detected in mel frequency basis. Some channels will produce empty responses. Try increasing your sampling rate (and fmax) or reducing n_mels.\n",
      "  mel_basis = filters.mel(sr=sr, n_fft=n_fft, **kwargs)\n"
     ]
    },
    {
     "name": "stdout",
     "output_type": "stream",
     "text": [
      "C:/Users/20192801/Documents/deep_learning_music_project\\onsets_ISMIR_2012\\csv_large_label\\al_Media-106115(15.9-25.9)_start_end_spect_target.csv\n"
     ]
    },
    {
     "name": "stderr",
     "output_type": "stream",
     "text": [
      "c:\\Users\\20192801\\Anaconda3\\envs\\DeepLearning_labs\\Lib\\site-packages\\librosa\\feature\\spectral.py:2143: UserWarning: Empty filters detected in mel frequency basis. Some channels will produce empty responses. Try increasing your sampling rate (and fmax) or reducing n_mels.\n",
      "  mel_basis = filters.mel(sr=sr, n_fft=n_fft, **kwargs)\n"
     ]
    },
    {
     "name": "stdout",
     "output_type": "stream",
     "text": [
      "C:/Users/20192801/Documents/deep_learning_music_project\\onsets_ISMIR_2012\\csv_large_label\\api_15-tamerlano_act_i_track_15b_start_end_spect_target.csv\n"
     ]
    },
    {
     "name": "stderr",
     "output_type": "stream",
     "text": [
      "c:\\Users\\20192801\\Anaconda3\\envs\\DeepLearning_labs\\Lib\\site-packages\\librosa\\feature\\spectral.py:2143: UserWarning: Empty filters detected in mel frequency basis. Some channels will produce empty responses. Try increasing your sampling rate (and fmax) or reducing n_mels.\n",
      "  mel_basis = filters.mel(sr=sr, n_fft=n_fft, **kwargs)\n"
     ]
    },
    {
     "name": "stdout",
     "output_type": "stream",
     "text": [
      "C:/Users/20192801/Documents/deep_learning_music_project\\onsets_ISMIR_2012\\csv_large_label\\api_2-artificial_start_end_spect_target.csv\n"
     ]
    },
    {
     "name": "stderr",
     "output_type": "stream",
     "text": [
      "c:\\Users\\20192801\\Anaconda3\\envs\\DeepLearning_labs\\Lib\\site-packages\\librosa\\feature\\spectral.py:2143: UserWarning: Empty filters detected in mel frequency basis. Some channels will produce empty responses. Try increasing your sampling rate (and fmax) or reducing n_mels.\n",
      "  mel_basis = filters.mel(sr=sr, n_fft=n_fft, **kwargs)\n"
     ]
    },
    {
     "name": "stdout",
     "output_type": "stream",
     "text": [
      "C:/Users/20192801/Documents/deep_learning_music_project\\onsets_ISMIR_2012\\csv_large_label\\api_2-uncle_mean_start_end_spect_target.csv\n"
     ]
    },
    {
     "name": "stderr",
     "output_type": "stream",
     "text": [
      "c:\\Users\\20192801\\Anaconda3\\envs\\DeepLearning_labs\\Lib\\site-packages\\librosa\\feature\\spectral.py:2143: UserWarning: Empty filters detected in mel frequency basis. Some channels will produce empty responses. Try increasing your sampling rate (and fmax) or reducing n_mels.\n",
      "  mel_basis = filters.mel(sr=sr, n_fft=n_fft, **kwargs)\n"
     ]
    },
    {
     "name": "stdout",
     "output_type": "stream",
     "text": [
      "C:/Users/20192801/Documents/deep_learning_music_project\\onsets_ISMIR_2012\\csv_large_label\\api_25-rujero_start_end_spect_target.csv\n"
     ]
    },
    {
     "name": "stderr",
     "output_type": "stream",
     "text": [
      "c:\\Users\\20192801\\Anaconda3\\envs\\DeepLearning_labs\\Lib\\site-packages\\librosa\\feature\\spectral.py:2143: UserWarning: Empty filters detected in mel frequency basis. Some channels will produce empty responses. Try increasing your sampling rate (and fmax) or reducing n_mels.\n",
      "  mel_basis = filters.mel(sr=sr, n_fft=n_fft, **kwargs)\n"
     ]
    },
    {
     "name": "stdout",
     "output_type": "stream",
     "text": [
      "C:/Users/20192801/Documents/deep_learning_music_project\\onsets_ISMIR_2012\\csv_large_label\\api_3-long_gone_start_end_spect_target.csv\n"
     ]
    },
    {
     "name": "stderr",
     "output_type": "stream",
     "text": [
      "c:\\Users\\20192801\\Anaconda3\\envs\\DeepLearning_labs\\Lib\\site-packages\\librosa\\feature\\spectral.py:2143: UserWarning: Empty filters detected in mel frequency basis. Some channels will produce empty responses. Try increasing your sampling rate (and fmax) or reducing n_mels.\n",
      "  mel_basis = filters.mel(sr=sr, n_fft=n_fft, **kwargs)\n"
     ]
    },
    {
     "name": "stdout",
     "output_type": "stream",
     "text": [
      "C:/Users/20192801/Documents/deep_learning_music_project\\onsets_ISMIR_2012\\csv_large_label\\api_3-you_think_too_muchb_start_end_spect_target.csv\n"
     ]
    },
    {
     "name": "stderr",
     "output_type": "stream",
     "text": [
      "c:\\Users\\20192801\\Anaconda3\\envs\\DeepLearning_labs\\Lib\\site-packages\\librosa\\feature\\spectral.py:2143: UserWarning: Empty filters detected in mel frequency basis. Some channels will produce empty responses. Try increasing your sampling rate (and fmax) or reducing n_mels.\n",
      "  mel_basis = filters.mel(sr=sr, n_fft=n_fft, **kwargs)\n"
     ]
    },
    {
     "name": "stdout",
     "output_type": "stream",
     "text": [
      "C:/Users/20192801/Documents/deep_learning_music_project\\onsets_ISMIR_2012\\csv_large_label\\api_6-three_start_end_spect_target.csv\n"
     ]
    },
    {
     "name": "stderr",
     "output_type": "stream",
     "text": [
      "c:\\Users\\20192801\\Anaconda3\\envs\\DeepLearning_labs\\Lib\\site-packages\\librosa\\feature\\spectral.py:2143: UserWarning: Empty filters detected in mel frequency basis. Some channels will produce empty responses. Try increasing your sampling rate (and fmax) or reducing n_mels.\n",
      "  mel_basis = filters.mel(sr=sr, n_fft=n_fft, **kwargs)\n"
     ]
    },
    {
     "name": "stdout",
     "output_type": "stream",
     "text": [
      "C:/Users/20192801/Documents/deep_learning_music_project\\onsets_ISMIR_2012\\csv_large_label\\api_8-ambrielb_start_end_spect_target.csv\n"
     ]
    },
    {
     "name": "stderr",
     "output_type": "stream",
     "text": [
      "c:\\Users\\20192801\\Anaconda3\\envs\\DeepLearning_labs\\Lib\\site-packages\\librosa\\feature\\spectral.py:2143: UserWarning: Empty filters detected in mel frequency basis. Some channels will produce empty responses. Try increasing your sampling rate (and fmax) or reducing n_mels.\n",
      "  mel_basis = filters.mel(sr=sr, n_fft=n_fft, **kwargs)\n"
     ]
    },
    {
     "name": "stdout",
     "output_type": "stream",
     "text": [
      "C:/Users/20192801/Documents/deep_learning_music_project\\onsets_ISMIR_2012\\csv_large_label\\api_its_alright_for_you_o_start_end_spect_target.csv\n"
     ]
    },
    {
     "name": "stderr",
     "output_type": "stream",
     "text": [
      "c:\\Users\\20192801\\Anaconda3\\envs\\DeepLearning_labs\\Lib\\site-packages\\librosa\\feature\\spectral.py:2143: UserWarning: Empty filters detected in mel frequency basis. Some channels will produce empty responses. Try increasing your sampling rate (and fmax) or reducing n_mels.\n",
      "  mel_basis = filters.mel(sr=sr, n_fft=n_fft, **kwargs)\n"
     ]
    },
    {
     "name": "stdout",
     "output_type": "stream",
     "text": [
      "C:/Users/20192801/Documents/deep_learning_music_project\\onsets_ISMIR_2012\\csv_large_label\\api_realorgan3_start_end_spect_target.csv\n"
     ]
    },
    {
     "name": "stderr",
     "output_type": "stream",
     "text": [
      "c:\\Users\\20192801\\Anaconda3\\envs\\DeepLearning_labs\\Lib\\site-packages\\librosa\\feature\\spectral.py:2143: UserWarning: Empty filters detected in mel frequency basis. Some channels will produce empty responses. Try increasing your sampling rate (and fmax) or reducing n_mels.\n",
      "  mel_basis = filters.mel(sr=sr, n_fft=n_fft, **kwargs)\n"
     ]
    },
    {
     "name": "stdout",
     "output_type": "stream",
     "text": [
      "C:/Users/20192801/Documents/deep_learning_music_project\\onsets_ISMIR_2012\\csv_large_label\\api_RM-C002_start_end_spect_target.csv\n"
     ]
    },
    {
     "name": "stderr",
     "output_type": "stream",
     "text": [
      "c:\\Users\\20192801\\Anaconda3\\envs\\DeepLearning_labs\\Lib\\site-packages\\librosa\\feature\\spectral.py:2143: UserWarning: Empty filters detected in mel frequency basis. Some channels will produce empty responses. Try increasing your sampling rate (and fmax) or reducing n_mels.\n",
      "  mel_basis = filters.mel(sr=sr, n_fft=n_fft, **kwargs)\n"
     ]
    },
    {
     "name": "stdout",
     "output_type": "stream",
     "text": [
      "C:/Users/20192801/Documents/deep_learning_music_project\\onsets_ISMIR_2012\\csv_large_label\\api_RM-C003_start_end_spect_target.csv\n"
     ]
    },
    {
     "name": "stderr",
     "output_type": "stream",
     "text": [
      "c:\\Users\\20192801\\Anaconda3\\envs\\DeepLearning_labs\\Lib\\site-packages\\librosa\\feature\\spectral.py:2143: UserWarning: Empty filters detected in mel frequency basis. Some channels will produce empty responses. Try increasing your sampling rate (and fmax) or reducing n_mels.\n",
      "  mel_basis = filters.mel(sr=sr, n_fft=n_fft, **kwargs)\n"
     ]
    },
    {
     "name": "stdout",
     "output_type": "stream",
     "text": [
      "C:/Users/20192801/Documents/deep_learning_music_project\\onsets_ISMIR_2012\\csv_large_label\\api_RM-C026_start_end_spect_target.csv\n"
     ]
    },
    {
     "name": "stderr",
     "output_type": "stream",
     "text": [
      "c:\\Users\\20192801\\Anaconda3\\envs\\DeepLearning_labs\\Lib\\site-packages\\librosa\\feature\\spectral.py:2143: UserWarning: Empty filters detected in mel frequency basis. Some channels will produce empty responses. Try increasing your sampling rate (and fmax) or reducing n_mels.\n",
      "  mel_basis = filters.mel(sr=sr, n_fft=n_fft, **kwargs)\n"
     ]
    },
    {
     "name": "stdout",
     "output_type": "stream",
     "text": [
      "C:/Users/20192801/Documents/deep_learning_music_project\\onsets_ISMIR_2012\\csv_large_label\\api_RM-C027_start_end_spect_target.csv\n"
     ]
    },
    {
     "name": "stderr",
     "output_type": "stream",
     "text": [
      "c:\\Users\\20192801\\Anaconda3\\envs\\DeepLearning_labs\\Lib\\site-packages\\librosa\\feature\\spectral.py:2143: UserWarning: Empty filters detected in mel frequency basis. Some channels will produce empty responses. Try increasing your sampling rate (and fmax) or reducing n_mels.\n",
      "  mel_basis = filters.mel(sr=sr, n_fft=n_fft, **kwargs)\n"
     ]
    },
    {
     "name": "stdout",
     "output_type": "stream",
     "text": [
      "C:/Users/20192801/Documents/deep_learning_music_project\\onsets_ISMIR_2012\\csv_large_label\\api_RM-C036_start_end_spect_target.csv\n"
     ]
    },
    {
     "name": "stderr",
     "output_type": "stream",
     "text": [
      "c:\\Users\\20192801\\Anaconda3\\envs\\DeepLearning_labs\\Lib\\site-packages\\librosa\\feature\\spectral.py:2143: UserWarning: Empty filters detected in mel frequency basis. Some channels will produce empty responses. Try increasing your sampling rate (and fmax) or reducing n_mels.\n",
      "  mel_basis = filters.mel(sr=sr, n_fft=n_fft, **kwargs)\n"
     ]
    },
    {
     "name": "stdout",
     "output_type": "stream",
     "text": [
      "C:/Users/20192801/Documents/deep_learning_music_project\\onsets_ISMIR_2012\\csv_large_label\\api_RM-C038_start_end_spect_target.csv\n"
     ]
    },
    {
     "name": "stderr",
     "output_type": "stream",
     "text": [
      "c:\\Users\\20192801\\Anaconda3\\envs\\DeepLearning_labs\\Lib\\site-packages\\librosa\\feature\\spectral.py:2143: UserWarning: Empty filters detected in mel frequency basis. Some channels will produce empty responses. Try increasing your sampling rate (and fmax) or reducing n_mels.\n",
      "  mel_basis = filters.mel(sr=sr, n_fft=n_fft, **kwargs)\n"
     ]
    },
    {
     "name": "stdout",
     "output_type": "stream",
     "text": [
      "C:/Users/20192801/Documents/deep_learning_music_project\\onsets_ISMIR_2012\\csv_large_label\\api_RM-G008_start_end_spect_target.csv\n"
     ]
    },
    {
     "name": "stderr",
     "output_type": "stream",
     "text": [
      "c:\\Users\\20192801\\Anaconda3\\envs\\DeepLearning_labs\\Lib\\site-packages\\librosa\\feature\\spectral.py:2143: UserWarning: Empty filters detected in mel frequency basis. Some channels will produce empty responses. Try increasing your sampling rate (and fmax) or reducing n_mels.\n",
      "  mel_basis = filters.mel(sr=sr, n_fft=n_fft, **kwargs)\n"
     ]
    },
    {
     "name": "stdout",
     "output_type": "stream",
     "text": [
      "C:/Users/20192801/Documents/deep_learning_music_project\\onsets_ISMIR_2012\\csv_large_label\\api_RM-J001_start_end_spect_target.csv\n"
     ]
    },
    {
     "name": "stderr",
     "output_type": "stream",
     "text": [
      "c:\\Users\\20192801\\Anaconda3\\envs\\DeepLearning_labs\\Lib\\site-packages\\librosa\\feature\\spectral.py:2143: UserWarning: Empty filters detected in mel frequency basis. Some channels will produce empty responses. Try increasing your sampling rate (and fmax) or reducing n_mels.\n",
      "  mel_basis = filters.mel(sr=sr, n_fft=n_fft, **kwargs)\n"
     ]
    },
    {
     "name": "stdout",
     "output_type": "stream",
     "text": [
      "C:/Users/20192801/Documents/deep_learning_music_project\\onsets_ISMIR_2012\\csv_large_label\\api_tiersen11_start_end_spect_target.csv\n"
     ]
    },
    {
     "name": "stderr",
     "output_type": "stream",
     "text": [
      "c:\\Users\\20192801\\Anaconda3\\envs\\DeepLearning_labs\\Lib\\site-packages\\librosa\\feature\\spectral.py:2143: UserWarning: Empty filters detected in mel frequency basis. Some channels will produce empty responses. Try increasing your sampling rate (and fmax) or reducing n_mels.\n",
      "  mel_basis = filters.mel(sr=sr, n_fft=n_fft, **kwargs)\n"
     ]
    },
    {
     "name": "stdout",
     "output_type": "stream",
     "text": [
      "C:/Users/20192801/Documents/deep_learning_music_project\\onsets_ISMIR_2012\\csv_large_label\\ff123_2nd_vent_clip_start_end_spect_target.csv\n"
     ]
    },
    {
     "name": "stderr",
     "output_type": "stream",
     "text": [
      "c:\\Users\\20192801\\Anaconda3\\envs\\DeepLearning_labs\\Lib\\site-packages\\librosa\\feature\\spectral.py:2143: UserWarning: Empty filters detected in mel frequency basis. Some channels will produce empty responses. Try increasing your sampling rate (and fmax) or reducing n_mels.\n",
      "  mel_basis = filters.mel(sr=sr, n_fft=n_fft, **kwargs)\n"
     ]
    },
    {
     "name": "stdout",
     "output_type": "stream",
     "text": [
      "C:/Users/20192801/Documents/deep_learning_music_project\\onsets_ISMIR_2012\\csv_large_label\\ff123_41_30sec_start_end_spect_target.csv\n"
     ]
    },
    {
     "name": "stderr",
     "output_type": "stream",
     "text": [
      "c:\\Users\\20192801\\Anaconda3\\envs\\DeepLearning_labs\\Lib\\site-packages\\librosa\\feature\\spectral.py:2143: UserWarning: Empty filters detected in mel frequency basis. Some channels will produce empty responses. Try increasing your sampling rate (and fmax) or reducing n_mels.\n",
      "  mel_basis = filters.mel(sr=sr, n_fft=n_fft, **kwargs)\n"
     ]
    },
    {
     "name": "stdout",
     "output_type": "stream",
     "text": [
      "C:/Users/20192801/Documents/deep_learning_music_project\\onsets_ISMIR_2012\\csv_large_label\\ff123_ATrain_start_end_spect_target.csv\n"
     ]
    },
    {
     "name": "stderr",
     "output_type": "stream",
     "text": [
      "c:\\Users\\20192801\\Anaconda3\\envs\\DeepLearning_labs\\Lib\\site-packages\\librosa\\feature\\spectral.py:2143: UserWarning: Empty filters detected in mel frequency basis. Some channels will produce empty responses. Try increasing your sampling rate (and fmax) or reducing n_mels.\n",
      "  mel_basis = filters.mel(sr=sr, n_fft=n_fft, **kwargs)\n"
     ]
    },
    {
     "name": "stdout",
     "output_type": "stream",
     "text": [
      "C:/Users/20192801/Documents/deep_learning_music_project\\onsets_ISMIR_2012\\csv_large_label\\ff123_BachS1007_start_end_spect_target.csv\n"
     ]
    },
    {
     "name": "stderr",
     "output_type": "stream",
     "text": [
      "c:\\Users\\20192801\\Anaconda3\\envs\\DeepLearning_labs\\Lib\\site-packages\\librosa\\feature\\spectral.py:2143: UserWarning: Empty filters detected in mel frequency basis. Some channels will produce empty responses. Try increasing your sampling rate (and fmax) or reducing n_mels.\n",
      "  mel_basis = filters.mel(sr=sr, n_fft=n_fft, **kwargs)\n"
     ]
    },
    {
     "name": "stdout",
     "output_type": "stream",
     "text": [
      "C:/Users/20192801/Documents/deep_learning_music_project\\onsets_ISMIR_2012\\csv_large_label\\ff123_BeautySlept_start_end_spect_target.csv\n"
     ]
    },
    {
     "name": "stderr",
     "output_type": "stream",
     "text": [
      "c:\\Users\\20192801\\Anaconda3\\envs\\DeepLearning_labs\\Lib\\site-packages\\librosa\\feature\\spectral.py:2143: UserWarning: Empty filters detected in mel frequency basis. Some channels will produce empty responses. Try increasing your sampling rate (and fmax) or reducing n_mels.\n",
      "  mel_basis = filters.mel(sr=sr, n_fft=n_fft, **kwargs)\n"
     ]
    },
    {
     "name": "stdout",
     "output_type": "stream",
     "text": [
      "C:/Users/20192801/Documents/deep_learning_music_project\\onsets_ISMIR_2012\\csv_large_label\\ff123_beo1test_start_end_spect_target.csv\n"
     ]
    },
    {
     "name": "stderr",
     "output_type": "stream",
     "text": [
      "c:\\Users\\20192801\\Anaconda3\\envs\\DeepLearning_labs\\Lib\\site-packages\\librosa\\feature\\spectral.py:2143: UserWarning: Empty filters detected in mel frequency basis. Some channels will produce empty responses. Try increasing your sampling rate (and fmax) or reducing n_mels.\n",
      "  mel_basis = filters.mel(sr=sr, n_fft=n_fft, **kwargs)\n"
     ]
    },
    {
     "name": "stdout",
     "output_type": "stream",
     "text": [
      "C:/Users/20192801/Documents/deep_learning_music_project\\onsets_ISMIR_2012\\csv_large_label\\ff123_BigYellow_start_end_spect_target.csv\n"
     ]
    },
    {
     "name": "stderr",
     "output_type": "stream",
     "text": [
      "c:\\Users\\20192801\\Anaconda3\\envs\\DeepLearning_labs\\Lib\\site-packages\\librosa\\feature\\spectral.py:2143: UserWarning: Empty filters detected in mel frequency basis. Some channels will produce empty responses. Try increasing your sampling rate (and fmax) or reducing n_mels.\n",
      "  mel_basis = filters.mel(sr=sr, n_fft=n_fft, **kwargs)\n"
     ]
    },
    {
     "name": "stdout",
     "output_type": "stream",
     "text": [
      "C:/Users/20192801/Documents/deep_learning_music_project\\onsets_ISMIR_2012\\csv_large_label\\ff123_Blackwater_start_end_spect_target.csv\n"
     ]
    },
    {
     "name": "stderr",
     "output_type": "stream",
     "text": [
      "c:\\Users\\20192801\\Anaconda3\\envs\\DeepLearning_labs\\Lib\\site-packages\\librosa\\feature\\spectral.py:2143: UserWarning: Empty filters detected in mel frequency basis. Some channels will produce empty responses. Try increasing your sampling rate (and fmax) or reducing n_mels.\n",
      "  mel_basis = filters.mel(sr=sr, n_fft=n_fft, **kwargs)\n"
     ]
    },
    {
     "name": "stdout",
     "output_type": "stream",
     "text": [
      "C:/Users/20192801/Documents/deep_learning_music_project\\onsets_ISMIR_2012\\csv_large_label\\ff123_bloodline_start_end_spect_target.csv\n"
     ]
    },
    {
     "name": "stderr",
     "output_type": "stream",
     "text": [
      "c:\\Users\\20192801\\Anaconda3\\envs\\DeepLearning_labs\\Lib\\site-packages\\librosa\\feature\\spectral.py:2143: UserWarning: Empty filters detected in mel frequency basis. Some channels will produce empty responses. Try increasing your sampling rate (and fmax) or reducing n_mels.\n",
      "  mel_basis = filters.mel(sr=sr, n_fft=n_fft, **kwargs)\n"
     ]
    },
    {
     "name": "stdout",
     "output_type": "stream",
     "text": [
      "C:/Users/20192801/Documents/deep_learning_music_project\\onsets_ISMIR_2012\\csv_large_label\\ff123_BlueEyesExcerpt_start_end_spect_target.csv\n"
     ]
    },
    {
     "name": "stderr",
     "output_type": "stream",
     "text": [
      "c:\\Users\\20192801\\Anaconda3\\envs\\DeepLearning_labs\\Lib\\site-packages\\librosa\\feature\\spectral.py:2143: UserWarning: Empty filters detected in mel frequency basis. Some channels will produce empty responses. Try increasing your sampling rate (and fmax) or reducing n_mels.\n",
      "  mel_basis = filters.mel(sr=sr, n_fft=n_fft, **kwargs)\n"
     ]
    },
    {
     "name": "stdout",
     "output_type": "stream",
     "text": [
      "C:/Users/20192801/Documents/deep_learning_music_project\\onsets_ISMIR_2012\\csv_large_label\\ff123_charlies_start_end_spect_target.csv\n"
     ]
    },
    {
     "name": "stderr",
     "output_type": "stream",
     "text": [
      "c:\\Users\\20192801\\Anaconda3\\envs\\DeepLearning_labs\\Lib\\site-packages\\librosa\\feature\\spectral.py:2143: UserWarning: Empty filters detected in mel frequency basis. Some channels will produce empty responses. Try increasing your sampling rate (and fmax) or reducing n_mels.\n",
      "  mel_basis = filters.mel(sr=sr, n_fft=n_fft, **kwargs)\n"
     ]
    },
    {
     "name": "stdout",
     "output_type": "stream",
     "text": [
      "C:/Users/20192801/Documents/deep_learning_music_project\\onsets_ISMIR_2012\\csv_large_label\\ff123_cymbals_start_end_spect_target.csv\n"
     ]
    },
    {
     "name": "stderr",
     "output_type": "stream",
     "text": [
      "c:\\Users\\20192801\\Anaconda3\\envs\\DeepLearning_labs\\Lib\\site-packages\\librosa\\feature\\spectral.py:2143: UserWarning: Empty filters detected in mel frequency basis. Some channels will produce empty responses. Try increasing your sampling rate (and fmax) or reducing n_mels.\n",
      "  mel_basis = filters.mel(sr=sr, n_fft=n_fft, **kwargs)\n"
     ]
    },
    {
     "name": "stdout",
     "output_type": "stream",
     "text": [
      "C:/Users/20192801/Documents/deep_learning_music_project\\onsets_ISMIR_2012\\csv_large_label\\ff123_DaFunk_start_end_spect_target.csv\n"
     ]
    },
    {
     "name": "stderr",
     "output_type": "stream",
     "text": [
      "c:\\Users\\20192801\\Anaconda3\\envs\\DeepLearning_labs\\Lib\\site-packages\\librosa\\feature\\spectral.py:2143: UserWarning: Empty filters detected in mel frequency basis. Some channels will produce empty responses. Try increasing your sampling rate (and fmax) or reducing n_mels.\n",
      "  mel_basis = filters.mel(sr=sr, n_fft=n_fft, **kwargs)\n"
     ]
    },
    {
     "name": "stdout",
     "output_type": "stream",
     "text": [
      "C:/Users/20192801/Documents/deep_learning_music_project\\onsets_ISMIR_2012\\csv_large_label\\ff123_Debussy_start_end_spect_target.csv\n"
     ]
    },
    {
     "name": "stderr",
     "output_type": "stream",
     "text": [
      "c:\\Users\\20192801\\Anaconda3\\envs\\DeepLearning_labs\\Lib\\site-packages\\librosa\\feature\\spectral.py:2143: UserWarning: Empty filters detected in mel frequency basis. Some channels will produce empty responses. Try increasing your sampling rate (and fmax) or reducing n_mels.\n",
      "  mel_basis = filters.mel(sr=sr, n_fft=n_fft, **kwargs)\n"
     ]
    },
    {
     "name": "stdout",
     "output_type": "stream",
     "text": [
      "C:/Users/20192801/Documents/deep_learning_music_project\\onsets_ISMIR_2012\\csv_large_label\\ff123_deerhunter_start_end_spect_target.csv\n"
     ]
    },
    {
     "name": "stderr",
     "output_type": "stream",
     "text": [
      "c:\\Users\\20192801\\Anaconda3\\envs\\DeepLearning_labs\\Lib\\site-packages\\librosa\\feature\\spectral.py:2143: UserWarning: Empty filters detected in mel frequency basis. Some channels will produce empty responses. Try increasing your sampling rate (and fmax) or reducing n_mels.\n",
      "  mel_basis = filters.mel(sr=sr, n_fft=n_fft, **kwargs)\n"
     ]
    },
    {
     "name": "stdout",
     "output_type": "stream",
     "text": [
      "C:/Users/20192801/Documents/deep_learning_music_project\\onsets_ISMIR_2012\\csv_large_label\\ff123_dogies_start_end_spect_target.csv\n"
     ]
    },
    {
     "name": "stderr",
     "output_type": "stream",
     "text": [
      "c:\\Users\\20192801\\Anaconda3\\envs\\DeepLearning_labs\\Lib\\site-packages\\librosa\\feature\\spectral.py:2143: UserWarning: Empty filters detected in mel frequency basis. Some channels will produce empty responses. Try increasing your sampling rate (and fmax) or reducing n_mels.\n",
      "  mel_basis = filters.mel(sr=sr, n_fft=n_fft, **kwargs)\n"
     ]
    },
    {
     "name": "stdout",
     "output_type": "stream",
     "text": [
      "C:/Users/20192801/Documents/deep_learning_music_project\\onsets_ISMIR_2012\\csv_large_label\\ff123_drone_short_start_end_spect_target.csv\n"
     ]
    },
    {
     "name": "stderr",
     "output_type": "stream",
     "text": [
      "c:\\Users\\20192801\\Anaconda3\\envs\\DeepLearning_labs\\Lib\\site-packages\\librosa\\feature\\spectral.py:2143: UserWarning: Empty filters detected in mel frequency basis. Some channels will produce empty responses. Try increasing your sampling rate (and fmax) or reducing n_mels.\n",
      "  mel_basis = filters.mel(sr=sr, n_fft=n_fft, **kwargs)\n"
     ]
    },
    {
     "name": "stdout",
     "output_type": "stream",
     "text": [
      "C:/Users/20192801/Documents/deep_learning_music_project\\onsets_ISMIR_2012\\csv_large_label\\ff123_duel_start_end_spect_target.csv\n"
     ]
    },
    {
     "name": "stderr",
     "output_type": "stream",
     "text": [
      "c:\\Users\\20192801\\Anaconda3\\envs\\DeepLearning_labs\\Lib\\site-packages\\librosa\\feature\\spectral.py:2143: UserWarning: Empty filters detected in mel frequency basis. Some channels will produce empty responses. Try increasing your sampling rate (and fmax) or reducing n_mels.\n",
      "  mel_basis = filters.mel(sr=sr, n_fft=n_fft, **kwargs)\n"
     ]
    },
    {
     "name": "stdout",
     "output_type": "stream",
     "text": [
      "C:/Users/20192801/Documents/deep_learning_music_project\\onsets_ISMIR_2012\\csv_large_label\\ff123_eb_andul_short_start_end_spect_target.csv\n"
     ]
    },
    {
     "name": "stderr",
     "output_type": "stream",
     "text": [
      "c:\\Users\\20192801\\Anaconda3\\envs\\DeepLearning_labs\\Lib\\site-packages\\librosa\\feature\\spectral.py:2143: UserWarning: Empty filters detected in mel frequency basis. Some channels will produce empty responses. Try increasing your sampling rate (and fmax) or reducing n_mels.\n",
      "  mel_basis = filters.mel(sr=sr, n_fft=n_fft, **kwargs)\n"
     ]
    },
    {
     "name": "stdout",
     "output_type": "stream",
     "text": [
      "C:/Users/20192801/Documents/deep_learning_music_project\\onsets_ISMIR_2012\\csv_large_label\\ff123_Enchantment_start_end_spect_target.csv\n"
     ]
    },
    {
     "name": "stderr",
     "output_type": "stream",
     "text": [
      "c:\\Users\\20192801\\Anaconda3\\envs\\DeepLearning_labs\\Lib\\site-packages\\librosa\\feature\\spectral.py:2143: UserWarning: Empty filters detected in mel frequency basis. Some channels will produce empty responses. Try increasing your sampling rate (and fmax) or reducing n_mels.\n",
      "  mel_basis = filters.mel(sr=sr, n_fft=n_fft, **kwargs)\n"
     ]
    },
    {
     "name": "stdout",
     "output_type": "stream",
     "text": [
      "C:/Users/20192801/Documents/deep_learning_music_project\\onsets_ISMIR_2012\\csv_large_label\\ff123_ExitMusic_start_end_spect_target.csv\n"
     ]
    },
    {
     "name": "stderr",
     "output_type": "stream",
     "text": [
      "c:\\Users\\20192801\\Anaconda3\\envs\\DeepLearning_labs\\Lib\\site-packages\\librosa\\feature\\spectral.py:2143: UserWarning: Empty filters detected in mel frequency basis. Some channels will produce empty responses. Try increasing your sampling rate (and fmax) or reducing n_mels.\n",
      "  mel_basis = filters.mel(sr=sr, n_fft=n_fft, **kwargs)\n"
     ]
    },
    {
     "name": "stdout",
     "output_type": "stream",
     "text": [
      "C:/Users/20192801/Documents/deep_learning_music_project\\onsets_ISMIR_2012\\csv_large_label\\ff123_FloorEssence_start_end_spect_target.csv\n"
     ]
    },
    {
     "name": "stderr",
     "output_type": "stream",
     "text": [
      "c:\\Users\\20192801\\Anaconda3\\envs\\DeepLearning_labs\\Lib\\site-packages\\librosa\\feature\\spectral.py:2143: UserWarning: Empty filters detected in mel frequency basis. Some channels will produce empty responses. Try increasing your sampling rate (and fmax) or reducing n_mels.\n",
      "  mel_basis = filters.mel(sr=sr, n_fft=n_fft, **kwargs)\n"
     ]
    },
    {
     "name": "stdout",
     "output_type": "stream",
     "text": [
      "C:/Users/20192801/Documents/deep_learning_music_project\\onsets_ISMIR_2012\\csv_large_label\\ff123_fossiles_start_end_spect_target.csv\n"
     ]
    },
    {
     "name": "stderr",
     "output_type": "stream",
     "text": [
      "c:\\Users\\20192801\\Anaconda3\\envs\\DeepLearning_labs\\Lib\\site-packages\\librosa\\feature\\spectral.py:2143: UserWarning: Empty filters detected in mel frequency basis. Some channels will produce empty responses. Try increasing your sampling rate (and fmax) or reducing n_mels.\n",
      "  mel_basis = filters.mel(sr=sr, n_fft=n_fft, **kwargs)\n"
     ]
    },
    {
     "name": "stdout",
     "output_type": "stream",
     "text": [
      "C:/Users/20192801/Documents/deep_learning_music_project\\onsets_ISMIR_2012\\csv_large_label\\ff123_freeup_start_end_spect_target.csv\n"
     ]
    },
    {
     "name": "stderr",
     "output_type": "stream",
     "text": [
      "c:\\Users\\20192801\\Anaconda3\\envs\\DeepLearning_labs\\Lib\\site-packages\\librosa\\feature\\spectral.py:2143: UserWarning: Empty filters detected in mel frequency basis. Some channels will produce empty responses. Try increasing your sampling rate (and fmax) or reducing n_mels.\n",
      "  mel_basis = filters.mel(sr=sr, n_fft=n_fft, **kwargs)\n"
     ]
    },
    {
     "name": "stdout",
     "output_type": "stream",
     "text": [
      "C:/Users/20192801/Documents/deep_learning_music_project\\onsets_ISMIR_2012\\csv_large_label\\ff123_gekkou-intro_start_end_spect_target.csv\n"
     ]
    },
    {
     "name": "stderr",
     "output_type": "stream",
     "text": [
      "c:\\Users\\20192801\\Anaconda3\\envs\\DeepLearning_labs\\Lib\\site-packages\\librosa\\feature\\spectral.py:2143: UserWarning: Empty filters detected in mel frequency basis. Some channels will produce empty responses. Try increasing your sampling rate (and fmax) or reducing n_mels.\n",
      "  mel_basis = filters.mel(sr=sr, n_fft=n_fft, **kwargs)\n"
     ]
    },
    {
     "name": "stdout",
     "output_type": "stream",
     "text": [
      "C:/Users/20192801/Documents/deep_learning_music_project\\onsets_ISMIR_2012\\csv_large_label\\ff123_grace1_start_end_spect_target.csv\n"
     ]
    },
    {
     "name": "stderr",
     "output_type": "stream",
     "text": [
      "c:\\Users\\20192801\\Anaconda3\\envs\\DeepLearning_labs\\Lib\\site-packages\\librosa\\feature\\spectral.py:2143: UserWarning: Empty filters detected in mel frequency basis. Some channels will produce empty responses. Try increasing your sampling rate (and fmax) or reducing n_mels.\n",
      "  mel_basis = filters.mel(sr=sr, n_fft=n_fft, **kwargs)\n"
     ]
    },
    {
     "name": "stdout",
     "output_type": "stream",
     "text": [
      "C:/Users/20192801/Documents/deep_learning_music_project\\onsets_ISMIR_2012\\csv_large_label\\ff123_Hongroise_start_end_spect_target.csv\n"
     ]
    },
    {
     "name": "stderr",
     "output_type": "stream",
     "text": [
      "c:\\Users\\20192801\\Anaconda3\\envs\\DeepLearning_labs\\Lib\\site-packages\\librosa\\feature\\spectral.py:2143: UserWarning: Empty filters detected in mel frequency basis. Some channels will produce empty responses. Try increasing your sampling rate (and fmax) or reducing n_mels.\n",
      "  mel_basis = filters.mel(sr=sr, n_fft=n_fft, **kwargs)\n"
     ]
    },
    {
     "name": "stdout",
     "output_type": "stream",
     "text": [
      "C:/Users/20192801/Documents/deep_learning_music_project\\onsets_ISMIR_2012\\csv_large_label\\ff123_ItCouldBeSweet_start_end_spect_target.csv\n"
     ]
    },
    {
     "name": "stderr",
     "output_type": "stream",
     "text": [
      "c:\\Users\\20192801\\Anaconda3\\envs\\DeepLearning_labs\\Lib\\site-packages\\librosa\\feature\\spectral.py:2143: UserWarning: Empty filters detected in mel frequency basis. Some channels will produce empty responses. Try increasing your sampling rate (and fmax) or reducing n_mels.\n",
      "  mel_basis = filters.mel(sr=sr, n_fft=n_fft, **kwargs)\n"
     ]
    },
    {
     "name": "stdout",
     "output_type": "stream",
     "text": [
      "C:/Users/20192801/Documents/deep_learning_music_project\\onsets_ISMIR_2012\\csv_large_label\\ff123_kraftwerk_start_end_spect_target.csv\n"
     ]
    },
    {
     "name": "stderr",
     "output_type": "stream",
     "text": [
      "c:\\Users\\20192801\\Anaconda3\\envs\\DeepLearning_labs\\Lib\\site-packages\\librosa\\feature\\spectral.py:2143: UserWarning: Empty filters detected in mel frequency basis. Some channels will produce empty responses. Try increasing your sampling rate (and fmax) or reducing n_mels.\n",
      "  mel_basis = filters.mel(sr=sr, n_fft=n_fft, **kwargs)\n"
     ]
    },
    {
     "name": "stdout",
     "output_type": "stream",
     "text": [
      "C:/Users/20192801/Documents/deep_learning_music_project\\onsets_ISMIR_2012\\csv_large_label\\ff123_rushing_start_end_spect_target.csv\n"
     ]
    },
    {
     "name": "stderr",
     "output_type": "stream",
     "text": [
      "c:\\Users\\20192801\\Anaconda3\\envs\\DeepLearning_labs\\Lib\\site-packages\\librosa\\feature\\spectral.py:2143: UserWarning: Empty filters detected in mel frequency basis. Some channels will produce empty responses. Try increasing your sampling rate (and fmax) or reducing n_mels.\n",
      "  mel_basis = filters.mel(sr=sr, n_fft=n_fft, **kwargs)\n"
     ]
    },
    {
     "name": "stdout",
     "output_type": "stream",
     "text": [
      "C:/Users/20192801/Documents/deep_learning_music_project\\onsets_ISMIR_2012\\csv_large_label\\ff123_TheSource_start_end_spect_target.csv\n"
     ]
    },
    {
     "name": "stderr",
     "output_type": "stream",
     "text": [
      "c:\\Users\\20192801\\Anaconda3\\envs\\DeepLearning_labs\\Lib\\site-packages\\librosa\\feature\\spectral.py:2143: UserWarning: Empty filters detected in mel frequency basis. Some channels will produce empty responses. Try increasing your sampling rate (and fmax) or reducing n_mels.\n",
      "  mel_basis = filters.mel(sr=sr, n_fft=n_fft, **kwargs)\n"
     ]
    },
    {
     "name": "stdout",
     "output_type": "stream",
     "text": [
      "C:/Users/20192801/Documents/deep_learning_music_project\\onsets_ISMIR_2012\\csv_large_label\\ff123_wait_start_end_spect_target.csv\n"
     ]
    },
    {
     "name": "stderr",
     "output_type": "stream",
     "text": [
      "c:\\Users\\20192801\\Anaconda3\\envs\\DeepLearning_labs\\Lib\\site-packages\\librosa\\feature\\spectral.py:2143: UserWarning: Empty filters detected in mel frequency basis. Some channels will produce empty responses. Try increasing your sampling rate (and fmax) or reducing n_mels.\n",
      "  mel_basis = filters.mel(sr=sr, n_fft=n_fft, **kwargs)\n"
     ]
    },
    {
     "name": "stdout",
     "output_type": "stream",
     "text": [
      "C:/Users/20192801/Documents/deep_learning_music_project\\onsets_ISMIR_2012\\csv_large_label\\ff123_Waiting_start_end_spect_target.csv\n"
     ]
    },
    {
     "name": "stderr",
     "output_type": "stream",
     "text": [
      "c:\\Users\\20192801\\Anaconda3\\envs\\DeepLearning_labs\\Lib\\site-packages\\librosa\\feature\\spectral.py:2143: UserWarning: Empty filters detected in mel frequency basis. Some channels will produce empty responses. Try increasing your sampling rate (and fmax) or reducing n_mels.\n",
      "  mel_basis = filters.mel(sr=sr, n_fft=n_fft, **kwargs)\n"
     ]
    },
    {
     "name": "stdout",
     "output_type": "stream",
     "text": [
      "C:/Users/20192801/Documents/deep_learning_music_project\\onsets_ISMIR_2012\\csv_large_label\\gs_mix1_0dB_start_end_spect_target.csv\n"
     ]
    },
    {
     "name": "stderr",
     "output_type": "stream",
     "text": [
      "c:\\Users\\20192801\\Anaconda3\\envs\\DeepLearning_labs\\Lib\\site-packages\\librosa\\feature\\spectral.py:2143: UserWarning: Empty filters detected in mel frequency basis. Some channels will produce empty responses. Try increasing your sampling rate (and fmax) or reducing n_mels.\n",
      "  mel_basis = filters.mel(sr=sr, n_fft=n_fft, **kwargs)\n"
     ]
    },
    {
     "name": "stdout",
     "output_type": "stream",
     "text": [
      "C:/Users/20192801/Documents/deep_learning_music_project\\onsets_ISMIR_2012\\csv_large_label\\gs_mix2_0dB_start_end_spect_target.csv\n"
     ]
    },
    {
     "name": "stderr",
     "output_type": "stream",
     "text": [
      "c:\\Users\\20192801\\Anaconda3\\envs\\DeepLearning_labs\\Lib\\site-packages\\librosa\\feature\\spectral.py:2143: UserWarning: Empty filters detected in mel frequency basis. Some channels will produce empty responses. Try increasing your sampling rate (and fmax) or reducing n_mels.\n",
      "  mel_basis = filters.mel(sr=sr, n_fft=n_fft, **kwargs)\n"
     ]
    },
    {
     "name": "stdout",
     "output_type": "stream",
     "text": [
      "C:/Users/20192801/Documents/deep_learning_music_project\\onsets_ISMIR_2012\\csv_large_label\\jpb_arab60s_start_end_spect_target.csv\n"
     ]
    },
    {
     "name": "stderr",
     "output_type": "stream",
     "text": [
      "c:\\Users\\20192801\\Anaconda3\\envs\\DeepLearning_labs\\Lib\\site-packages\\librosa\\feature\\spectral.py:2143: UserWarning: Empty filters detected in mel frequency basis. Some channels will produce empty responses. Try increasing your sampling rate (and fmax) or reducing n_mels.\n",
      "  mel_basis = filters.mel(sr=sr, n_fft=n_fft, **kwargs)\n"
     ]
    },
    {
     "name": "stdout",
     "output_type": "stream",
     "text": [
      "C:/Users/20192801/Documents/deep_learning_music_project\\onsets_ISMIR_2012\\csv_large_label\\jpb_dido_start_end_spect_target.csv\n"
     ]
    },
    {
     "name": "stderr",
     "output_type": "stream",
     "text": [
      "c:\\Users\\20192801\\Anaconda3\\envs\\DeepLearning_labs\\Lib\\site-packages\\librosa\\feature\\spectral.py:2143: UserWarning: Empty filters detected in mel frequency basis. Some channels will produce empty responses. Try increasing your sampling rate (and fmax) or reducing n_mels.\n",
      "  mel_basis = filters.mel(sr=sr, n_fft=n_fft, **kwargs)\n"
     ]
    },
    {
     "name": "stdout",
     "output_type": "stream",
     "text": [
      "C:/Users/20192801/Documents/deep_learning_music_project\\onsets_ISMIR_2012\\csv_large_label\\jpb_fiona_start_end_spect_target.csv\n"
     ]
    },
    {
     "name": "stderr",
     "output_type": "stream",
     "text": [
      "c:\\Users\\20192801\\Anaconda3\\envs\\DeepLearning_labs\\Lib\\site-packages\\librosa\\feature\\spectral.py:2143: UserWarning: Empty filters detected in mel frequency basis. Some channels will produce empty responses. Try increasing your sampling rate (and fmax) or reducing n_mels.\n",
      "  mel_basis = filters.mel(sr=sr, n_fft=n_fft, **kwargs)\n"
     ]
    },
    {
     "name": "stdout",
     "output_type": "stream",
     "text": [
      "C:/Users/20192801/Documents/deep_learning_music_project\\onsets_ISMIR_2012\\csv_large_label\\jpb_Jaillet15_start_end_spect_target.csv\n"
     ]
    },
    {
     "name": "stderr",
     "output_type": "stream",
     "text": [
      "c:\\Users\\20192801\\Anaconda3\\envs\\DeepLearning_labs\\Lib\\site-packages\\librosa\\feature\\spectral.py:2143: UserWarning: Empty filters detected in mel frequency basis. Some channels will produce empty responses. Try increasing your sampling rate (and fmax) or reducing n_mels.\n",
      "  mel_basis = filters.mel(sr=sr, n_fft=n_fft, **kwargs)\n"
     ]
    },
    {
     "name": "stdout",
     "output_type": "stream",
     "text": [
      "C:/Users/20192801/Documents/deep_learning_music_project\\onsets_ISMIR_2012\\csv_large_label\\jpb_Jaillet17_start_end_spect_target.csv\n"
     ]
    },
    {
     "name": "stderr",
     "output_type": "stream",
     "text": [
      "c:\\Users\\20192801\\Anaconda3\\envs\\DeepLearning_labs\\Lib\\site-packages\\librosa\\feature\\spectral.py:2143: UserWarning: Empty filters detected in mel frequency basis. Some channels will produce empty responses. Try increasing your sampling rate (and fmax) or reducing n_mels.\n",
      "  mel_basis = filters.mel(sr=sr, n_fft=n_fft, **kwargs)\n"
     ]
    },
    {
     "name": "stdout",
     "output_type": "stream",
     "text": [
      "C:/Users/20192801/Documents/deep_learning_music_project\\onsets_ISMIR_2012\\csv_large_label\\jpb_Jaillet21_start_end_spect_target.csv\n"
     ]
    },
    {
     "name": "stderr",
     "output_type": "stream",
     "text": [
      "c:\\Users\\20192801\\Anaconda3\\envs\\DeepLearning_labs\\Lib\\site-packages\\librosa\\feature\\spectral.py:2143: UserWarning: Empty filters detected in mel frequency basis. Some channels will produce empty responses. Try increasing your sampling rate (and fmax) or reducing n_mels.\n",
      "  mel_basis = filters.mel(sr=sr, n_fft=n_fft, **kwargs)\n"
     ]
    },
    {
     "name": "stdout",
     "output_type": "stream",
     "text": [
      "C:/Users/20192801/Documents/deep_learning_music_project\\onsets_ISMIR_2012\\csv_large_label\\jpb_Jaillet27_start_end_spect_target.csv\n"
     ]
    },
    {
     "name": "stderr",
     "output_type": "stream",
     "text": [
      "c:\\Users\\20192801\\Anaconda3\\envs\\DeepLearning_labs\\Lib\\site-packages\\librosa\\feature\\spectral.py:2143: UserWarning: Empty filters detected in mel frequency basis. Some channels will produce empty responses. Try increasing your sampling rate (and fmax) or reducing n_mels.\n",
      "  mel_basis = filters.mel(sr=sr, n_fft=n_fft, **kwargs)\n"
     ]
    },
    {
     "name": "stdout",
     "output_type": "stream",
     "text": [
      "C:/Users/20192801/Documents/deep_learning_music_project\\onsets_ISMIR_2012\\csv_large_label\\jpb_Jaillet29_start_end_spect_target.csv\n"
     ]
    },
    {
     "name": "stderr",
     "output_type": "stream",
     "text": [
      "c:\\Users\\20192801\\Anaconda3\\envs\\DeepLearning_labs\\Lib\\site-packages\\librosa\\feature\\spectral.py:2143: UserWarning: Empty filters detected in mel frequency basis. Some channels will produce empty responses. Try increasing your sampling rate (and fmax) or reducing n_mels.\n",
      "  mel_basis = filters.mel(sr=sr, n_fft=n_fft, **kwargs)\n"
     ]
    },
    {
     "name": "stdout",
     "output_type": "stream",
     "text": [
      "C:/Users/20192801/Documents/deep_learning_music_project\\onsets_ISMIR_2012\\csv_large_label\\jpb_Jaillet34_start_end_spect_target.csv\n"
     ]
    },
    {
     "name": "stderr",
     "output_type": "stream",
     "text": [
      "c:\\Users\\20192801\\Anaconda3\\envs\\DeepLearning_labs\\Lib\\site-packages\\librosa\\feature\\spectral.py:2143: UserWarning: Empty filters detected in mel frequency basis. Some channels will produce empty responses. Try increasing your sampling rate (and fmax) or reducing n_mels.\n",
      "  mel_basis = filters.mel(sr=sr, n_fft=n_fft, **kwargs)\n",
      "c:\\Users\\20192801\\Anaconda3\\envs\\DeepLearning_labs\\Lib\\site-packages\\librosa\\feature\\spectral.py:2143: UserWarning: Empty filters detected in mel frequency basis. Some channels will produce empty responses. Try increasing your sampling rate (and fmax) or reducing n_mels.\n",
      "  mel_basis = filters.mel(sr=sr, n_fft=n_fft, **kwargs)\n"
     ]
    },
    {
     "name": "stdout",
     "output_type": "stream",
     "text": [
      "C:/Users/20192801/Documents/deep_learning_music_project\\onsets_ISMIR_2012\\csv_large_label\\jpb_Jaillet64_start_end_spect_target.csv\n",
      "C:/Users/20192801/Documents/deep_learning_music_project\\onsets_ISMIR_2012\\csv_large_label\\jpb_Jaillet65_start_end_spect_target.csv\n"
     ]
    },
    {
     "name": "stderr",
     "output_type": "stream",
     "text": [
      "c:\\Users\\20192801\\Anaconda3\\envs\\DeepLearning_labs\\Lib\\site-packages\\librosa\\feature\\spectral.py:2143: UserWarning: Empty filters detected in mel frequency basis. Some channels will produce empty responses. Try increasing your sampling rate (and fmax) or reducing n_mels.\n",
      "  mel_basis = filters.mel(sr=sr, n_fft=n_fft, **kwargs)\n"
     ]
    },
    {
     "name": "stdout",
     "output_type": "stream",
     "text": [
      "C:/Users/20192801/Documents/deep_learning_music_project\\onsets_ISMIR_2012\\csv_large_label\\jpb_Jaillet66_start_end_spect_target.csv\n"
     ]
    },
    {
     "name": "stderr",
     "output_type": "stream",
     "text": [
      "c:\\Users\\20192801\\Anaconda3\\envs\\DeepLearning_labs\\Lib\\site-packages\\librosa\\feature\\spectral.py:2143: UserWarning: Empty filters detected in mel frequency basis. Some channels will produce empty responses. Try increasing your sampling rate (and fmax) or reducing n_mels.\n",
      "  mel_basis = filters.mel(sr=sr, n_fft=n_fft, **kwargs)\n"
     ]
    },
    {
     "name": "stdout",
     "output_type": "stream",
     "text": [
      "C:/Users/20192801/Documents/deep_learning_music_project\\onsets_ISMIR_2012\\csv_large_label\\jpb_Jaillet67_start_end_spect_target.csv\n"
     ]
    },
    {
     "name": "stderr",
     "output_type": "stream",
     "text": [
      "c:\\Users\\20192801\\Anaconda3\\envs\\DeepLearning_labs\\Lib\\site-packages\\librosa\\feature\\spectral.py:2143: UserWarning: Empty filters detected in mel frequency basis. Some channels will produce empty responses. Try increasing your sampling rate (and fmax) or reducing n_mels.\n",
      "  mel_basis = filters.mel(sr=sr, n_fft=n_fft, **kwargs)\n"
     ]
    },
    {
     "name": "stdout",
     "output_type": "stream",
     "text": [
      "C:/Users/20192801/Documents/deep_learning_music_project\\onsets_ISMIR_2012\\csv_large_label\\jpb_Jaillet70_start_end_spect_target.csv\n"
     ]
    },
    {
     "name": "stderr",
     "output_type": "stream",
     "text": [
      "c:\\Users\\20192801\\Anaconda3\\envs\\DeepLearning_labs\\Lib\\site-packages\\librosa\\feature\\spectral.py:2143: UserWarning: Empty filters detected in mel frequency basis. Some channels will produce empty responses. Try increasing your sampling rate (and fmax) or reducing n_mels.\n",
      "  mel_basis = filters.mel(sr=sr, n_fft=n_fft, **kwargs)\n"
     ]
    },
    {
     "name": "stdout",
     "output_type": "stream",
     "text": [
      "C:/Users/20192801/Documents/deep_learning_music_project\\onsets_ISMIR_2012\\csv_large_label\\jpb_Jaillet73_start_end_spect_target.csv\n"
     ]
    },
    {
     "name": "stderr",
     "output_type": "stream",
     "text": [
      "c:\\Users\\20192801\\Anaconda3\\envs\\DeepLearning_labs\\Lib\\site-packages\\librosa\\feature\\spectral.py:2143: UserWarning: Empty filters detected in mel frequency basis. Some channels will produce empty responses. Try increasing your sampling rate (and fmax) or reducing n_mels.\n",
      "  mel_basis = filters.mel(sr=sr, n_fft=n_fft, **kwargs)\n",
      "c:\\Users\\20192801\\Anaconda3\\envs\\DeepLearning_labs\\Lib\\site-packages\\librosa\\feature\\spectral.py:2143: UserWarning: Empty filters detected in mel frequency basis. Some channels will produce empty responses. Try increasing your sampling rate (and fmax) or reducing n_mels.\n",
      "  mel_basis = filters.mel(sr=sr, n_fft=n_fft, **kwargs)\n"
     ]
    },
    {
     "name": "stdout",
     "output_type": "stream",
     "text": [
      "C:/Users/20192801/Documents/deep_learning_music_project\\onsets_ISMIR_2012\\csv_large_label\\jpb_Jaillet74_start_end_spect_target.csv\n",
      "C:/Users/20192801/Documents/deep_learning_music_project\\onsets_ISMIR_2012\\csv_large_label\\jpb_Jaillet75_start_end_spect_target.csv\n"
     ]
    },
    {
     "name": "stderr",
     "output_type": "stream",
     "text": [
      "c:\\Users\\20192801\\Anaconda3\\envs\\DeepLearning_labs\\Lib\\site-packages\\librosa\\feature\\spectral.py:2143: UserWarning: Empty filters detected in mel frequency basis. Some channels will produce empty responses. Try increasing your sampling rate (and fmax) or reducing n_mels.\n",
      "  mel_basis = filters.mel(sr=sr, n_fft=n_fft, **kwargs)\n"
     ]
    },
    {
     "name": "stdout",
     "output_type": "stream",
     "text": [
      "C:/Users/20192801/Documents/deep_learning_music_project\\onsets_ISMIR_2012\\csv_large_label\\jpb_jaxx_start_end_spect_target.csv\n"
     ]
    },
    {
     "name": "stderr",
     "output_type": "stream",
     "text": [
      "c:\\Users\\20192801\\Anaconda3\\envs\\DeepLearning_labs\\Lib\\site-packages\\librosa\\feature\\spectral.py:2143: UserWarning: Empty filters detected in mel frequency basis. Some channels will produce empty responses. Try increasing your sampling rate (and fmax) or reducing n_mels.\n",
      "  mel_basis = filters.mel(sr=sr, n_fft=n_fft, **kwargs)\n"
     ]
    },
    {
     "name": "stdout",
     "output_type": "stream",
     "text": [
      "C:/Users/20192801/Documents/deep_learning_music_project\\onsets_ISMIR_2012\\csv_large_label\\jpb_metheny_start_end_spect_target.csv\n"
     ]
    },
    {
     "name": "stderr",
     "output_type": "stream",
     "text": [
      "c:\\Users\\20192801\\Anaconda3\\envs\\DeepLearning_labs\\Lib\\site-packages\\librosa\\feature\\spectral.py:2143: UserWarning: Empty filters detected in mel frequency basis. Some channels will produce empty responses. Try increasing your sampling rate (and fmax) or reducing n_mels.\n",
      "  mel_basis = filters.mel(sr=sr, n_fft=n_fft, **kwargs)\n"
     ]
    },
    {
     "name": "stdout",
     "output_type": "stream",
     "text": [
      "C:/Users/20192801/Documents/deep_learning_music_project\\onsets_ISMIR_2012\\csv_large_label\\jpb_PianoDebussy_start_end_spect_target.csv\n"
     ]
    },
    {
     "name": "stderr",
     "output_type": "stream",
     "text": [
      "c:\\Users\\20192801\\Anaconda3\\envs\\DeepLearning_labs\\Lib\\site-packages\\librosa\\feature\\spectral.py:2143: UserWarning: Empty filters detected in mel frequency basis. Some channels will produce empty responses. Try increasing your sampling rate (and fmax) or reducing n_mels.\n",
      "  mel_basis = filters.mel(sr=sr, n_fft=n_fft, **kwargs)\n"
     ]
    },
    {
     "name": "stdout",
     "output_type": "stream",
     "text": [
      "C:/Users/20192801/Documents/deep_learning_music_project\\onsets_ISMIR_2012\\csv_large_label\\jpb_tabla_start_end_spect_target.csv\n"
     ]
    },
    {
     "name": "stderr",
     "output_type": "stream",
     "text": [
      "c:\\Users\\20192801\\Anaconda3\\envs\\DeepLearning_labs\\Lib\\site-packages\\librosa\\feature\\spectral.py:2143: UserWarning: Empty filters detected in mel frequency basis. Some channels will produce empty responses. Try increasing your sampling rate (and fmax) or reducing n_mels.\n",
      "  mel_basis = filters.mel(sr=sr, n_fft=n_fft, **kwargs)\n"
     ]
    },
    {
     "name": "stdout",
     "output_type": "stream",
     "text": [
      "C:/Users/20192801/Documents/deep_learning_music_project\\onsets_ISMIR_2012\\csv_large_label\\jpb_violin_start_end_spect_target.csv\n"
     ]
    },
    {
     "name": "stderr",
     "output_type": "stream",
     "text": [
      "c:\\Users\\20192801\\Anaconda3\\envs\\DeepLearning_labs\\Lib\\site-packages\\librosa\\feature\\spectral.py:2143: UserWarning: Empty filters detected in mel frequency basis. Some channels will produce empty responses. Try increasing your sampling rate (and fmax) or reducing n_mels.\n",
      "  mel_basis = filters.mel(sr=sr, n_fft=n_fft, **kwargs)\n"
     ]
    },
    {
     "name": "stdout",
     "output_type": "stream",
     "text": [
      "C:/Users/20192801/Documents/deep_learning_music_project\\onsets_ISMIR_2012\\csv_large_label\\jpb_wilco_start_end_spect_target.csv\n"
     ]
    },
    {
     "name": "stderr",
     "output_type": "stream",
     "text": [
      "c:\\Users\\20192801\\Anaconda3\\envs\\DeepLearning_labs\\Lib\\site-packages\\librosa\\feature\\spectral.py:2143: UserWarning: Empty filters detected in mel frequency basis. Some channels will produce empty responses. Try increasing your sampling rate (and fmax) or reducing n_mels.\n",
      "  mel_basis = filters.mel(sr=sr, n_fft=n_fft, **kwargs)\n"
     ]
    },
    {
     "name": "stdout",
     "output_type": "stream",
     "text": [
      "C:/Users/20192801/Documents/deep_learning_music_project\\onsets_ISMIR_2012\\csv_large_label\\lame_BlackBird_start_end_spect_target.csv\n"
     ]
    },
    {
     "name": "stderr",
     "output_type": "stream",
     "text": [
      "c:\\Users\\20192801\\Anaconda3\\envs\\DeepLearning_labs\\Lib\\site-packages\\librosa\\feature\\spectral.py:2143: UserWarning: Empty filters detected in mel frequency basis. Some channels will produce empty responses. Try increasing your sampling rate (and fmax) or reducing n_mels.\n",
      "  mel_basis = filters.mel(sr=sr, n_fft=n_fft, **kwargs)\n"
     ]
    },
    {
     "name": "stdout",
     "output_type": "stream",
     "text": [
      "C:/Users/20192801/Documents/deep_learning_music_project\\onsets_ISMIR_2012\\csv_large_label\\lame_castanets_start_end_spect_target.csv\n"
     ]
    },
    {
     "name": "stderr",
     "output_type": "stream",
     "text": [
      "c:\\Users\\20192801\\Anaconda3\\envs\\DeepLearning_labs\\Lib\\site-packages\\librosa\\feature\\spectral.py:2143: UserWarning: Empty filters detected in mel frequency basis. Some channels will produce empty responses. Try increasing your sampling rate (and fmax) or reducing n_mels.\n",
      "  mel_basis = filters.mel(sr=sr, n_fft=n_fft, **kwargs)\n"
     ]
    },
    {
     "name": "stdout",
     "output_type": "stream",
     "text": [
      "C:/Users/20192801/Documents/deep_learning_music_project\\onsets_ISMIR_2012\\csv_large_label\\lame_else3_start_end_spect_target.csv\n"
     ]
    },
    {
     "name": "stderr",
     "output_type": "stream",
     "text": [
      "c:\\Users\\20192801\\Anaconda3\\envs\\DeepLearning_labs\\Lib\\site-packages\\librosa\\feature\\spectral.py:2143: UserWarning: Empty filters detected in mel frequency basis. Some channels will produce empty responses. Try increasing your sampling rate (and fmax) or reducing n_mels.\n",
      "  mel_basis = filters.mel(sr=sr, n_fft=n_fft, **kwargs)\n"
     ]
    },
    {
     "name": "stdout",
     "output_type": "stream",
     "text": [
      "C:/Users/20192801/Documents/deep_learning_music_project\\onsets_ISMIR_2012\\csv_large_label\\lame_fatboy_start_end_spect_target.csv\n"
     ]
    },
    {
     "name": "stderr",
     "output_type": "stream",
     "text": [
      "c:\\Users\\20192801\\Anaconda3\\envs\\DeepLearning_labs\\Lib\\site-packages\\librosa\\feature\\spectral.py:2143: UserWarning: Empty filters detected in mel frequency basis. Some channels will produce empty responses. Try increasing your sampling rate (and fmax) or reducing n_mels.\n",
      "  mel_basis = filters.mel(sr=sr, n_fft=n_fft, **kwargs)\n"
     ]
    },
    {
     "name": "stdout",
     "output_type": "stream",
     "text": [
      "C:/Users/20192801/Documents/deep_learning_music_project\\onsets_ISMIR_2012\\csv_large_label\\lame_Fools_start_end_spect_target.csv\n"
     ]
    },
    {
     "name": "stderr",
     "output_type": "stream",
     "text": [
      "c:\\Users\\20192801\\Anaconda3\\envs\\DeepLearning_labs\\Lib\\site-packages\\librosa\\feature\\spectral.py:2143: UserWarning: Empty filters detected in mel frequency basis. Some channels will produce empty responses. Try increasing your sampling rate (and fmax) or reducing n_mels.\n",
      "  mel_basis = filters.mel(sr=sr, n_fft=n_fft, **kwargs)\n"
     ]
    },
    {
     "name": "stdout",
     "output_type": "stream",
     "text": [
      "C:/Users/20192801/Documents/deep_learning_music_project\\onsets_ISMIR_2012\\csv_large_label\\lame_ftb_samp_start_end_spect_target.csv\n"
     ]
    },
    {
     "name": "stderr",
     "output_type": "stream",
     "text": [
      "c:\\Users\\20192801\\Anaconda3\\envs\\DeepLearning_labs\\Lib\\site-packages\\librosa\\feature\\spectral.py:2143: UserWarning: Empty filters detected in mel frequency basis. Some channels will produce empty responses. Try increasing your sampling rate (and fmax) or reducing n_mels.\n",
      "  mel_basis = filters.mel(sr=sr, n_fft=n_fft, **kwargs)\n"
     ]
    },
    {
     "name": "stdout",
     "output_type": "stream",
     "text": [
      "C:/Users/20192801/Documents/deep_learning_music_project\\onsets_ISMIR_2012\\csv_large_label\\lame_hihat_start_end_spect_target.csv\n"
     ]
    },
    {
     "name": "stderr",
     "output_type": "stream",
     "text": [
      "c:\\Users\\20192801\\Anaconda3\\envs\\DeepLearning_labs\\Lib\\site-packages\\librosa\\feature\\spectral.py:2143: UserWarning: Empty filters detected in mel frequency basis. Some channels will produce empty responses. Try increasing your sampling rate (and fmax) or reducing n_mels.\n",
      "  mel_basis = filters.mel(sr=sr, n_fft=n_fft, **kwargs)\n"
     ]
    },
    {
     "name": "stdout",
     "output_type": "stream",
     "text": [
      "C:/Users/20192801/Documents/deep_learning_music_project\\onsets_ISMIR_2012\\csv_large_label\\lame_iron_start_end_spect_target.csv\n"
     ]
    },
    {
     "name": "stderr",
     "output_type": "stream",
     "text": [
      "c:\\Users\\20192801\\Anaconda3\\envs\\DeepLearning_labs\\Lib\\site-packages\\librosa\\feature\\spectral.py:2143: UserWarning: Empty filters detected in mel frequency basis. Some channels will produce empty responses. Try increasing your sampling rate (and fmax) or reducing n_mels.\n",
      "  mel_basis = filters.mel(sr=sr, n_fft=n_fft, **kwargs)\n"
     ]
    },
    {
     "name": "stdout",
     "output_type": "stream",
     "text": [
      "C:/Users/20192801/Documents/deep_learning_music_project\\onsets_ISMIR_2012\\csv_large_label\\lame_main_theme_start_end_spect_target.csv\n"
     ]
    },
    {
     "name": "stderr",
     "output_type": "stream",
     "text": [
      "c:\\Users\\20192801\\Anaconda3\\envs\\DeepLearning_labs\\Lib\\site-packages\\librosa\\feature\\spectral.py:2143: UserWarning: Empty filters detected in mel frequency basis. Some channels will produce empty responses. Try increasing your sampling rate (and fmax) or reducing n_mels.\n",
      "  mel_basis = filters.mel(sr=sr, n_fft=n_fft, **kwargs)\n"
     ]
    },
    {
     "name": "stdout",
     "output_type": "stream",
     "text": [
      "C:/Users/20192801/Documents/deep_learning_music_project\\onsets_ISMIR_2012\\csv_large_label\\lame_pipes_start_end_spect_target.csv\n"
     ]
    },
    {
     "name": "stderr",
     "output_type": "stream",
     "text": [
      "c:\\Users\\20192801\\Anaconda3\\envs\\DeepLearning_labs\\Lib\\site-packages\\librosa\\feature\\spectral.py:2143: UserWarning: Empty filters detected in mel frequency basis. Some channels will produce empty responses. Try increasing your sampling rate (and fmax) or reducing n_mels.\n",
      "  mel_basis = filters.mel(sr=sr, n_fft=n_fft, **kwargs)\n"
     ]
    },
    {
     "name": "stdout",
     "output_type": "stream",
     "text": [
      "C:/Users/20192801/Documents/deep_learning_music_project\\onsets_ISMIR_2012\\csv_large_label\\lame_spahm_start_end_spect_target.csv\n"
     ]
    },
    {
     "name": "stderr",
     "output_type": "stream",
     "text": [
      "c:\\Users\\20192801\\Anaconda3\\envs\\DeepLearning_labs\\Lib\\site-packages\\librosa\\feature\\spectral.py:2143: UserWarning: Empty filters detected in mel frequency basis. Some channels will produce empty responses. Try increasing your sampling rate (and fmax) or reducing n_mels.\n",
      "  mel_basis = filters.mel(sr=sr, n_fft=n_fft, **kwargs)\n"
     ]
    },
    {
     "name": "stdout",
     "output_type": "stream",
     "text": [
      "C:/Users/20192801/Documents/deep_learning_music_project\\onsets_ISMIR_2012\\csv_large_label\\lame_t1_start_end_spect_target.csv\n"
     ]
    },
    {
     "name": "stderr",
     "output_type": "stream",
     "text": [
      "c:\\Users\\20192801\\Anaconda3\\envs\\DeepLearning_labs\\Lib\\site-packages\\librosa\\feature\\spectral.py:2143: UserWarning: Empty filters detected in mel frequency basis. Some channels will produce empty responses. Try increasing your sampling rate (and fmax) or reducing n_mels.\n",
      "  mel_basis = filters.mel(sr=sr, n_fft=n_fft, **kwargs)\n"
     ]
    },
    {
     "name": "stdout",
     "output_type": "stream",
     "text": [
      "C:/Users/20192801/Documents/deep_learning_music_project\\onsets_ISMIR_2012\\csv_large_label\\lame_testsignal2_start_end_spect_target.csv\n"
     ]
    },
    {
     "name": "stderr",
     "output_type": "stream",
     "text": [
      "c:\\Users\\20192801\\Anaconda3\\envs\\DeepLearning_labs\\Lib\\site-packages\\librosa\\feature\\spectral.py:2143: UserWarning: Empty filters detected in mel frequency basis. Some channels will produce empty responses. Try increasing your sampling rate (and fmax) or reducing n_mels.\n",
      "  mel_basis = filters.mel(sr=sr, n_fft=n_fft, **kwargs)\n"
     ]
    },
    {
     "name": "stdout",
     "output_type": "stream",
     "text": [
      "C:/Users/20192801/Documents/deep_learning_music_project\\onsets_ISMIR_2012\\csv_large_label\\lame_vbrtest_start_end_spect_target.csv\n"
     ]
    },
    {
     "name": "stderr",
     "output_type": "stream",
     "text": [
      "c:\\Users\\20192801\\Anaconda3\\envs\\DeepLearning_labs\\Lib\\site-packages\\librosa\\feature\\spectral.py:2143: UserWarning: Empty filters detected in mel frequency basis. Some channels will produce empty responses. Try increasing your sampling rate (and fmax) or reducing n_mels.\n",
      "  mel_basis = filters.mel(sr=sr, n_fft=n_fft, **kwargs)\n"
     ]
    },
    {
     "name": "stdout",
     "output_type": "stream",
     "text": [
      "C:/Users/20192801/Documents/deep_learning_music_project\\onsets_ISMIR_2012\\csv_large_label\\lame_velvet_start_end_spect_target.csv\n"
     ]
    },
    {
     "name": "stderr",
     "output_type": "stream",
     "text": [
      "c:\\Users\\20192801\\Anaconda3\\envs\\DeepLearning_labs\\Lib\\site-packages\\librosa\\feature\\spectral.py:2143: UserWarning: Empty filters detected in mel frequency basis. Some channels will produce empty responses. Try increasing your sampling rate (and fmax) or reducing n_mels.\n",
      "  mel_basis = filters.mel(sr=sr, n_fft=n_fft, **kwargs)\n"
     ]
    },
    {
     "name": "stdout",
     "output_type": "stream",
     "text": [
      "C:/Users/20192801/Documents/deep_learning_music_project\\onsets_ISMIR_2012\\csv_large_label\\lame_youcantdothat_start_end_spect_target.csv\n"
     ]
    },
    {
     "name": "stderr",
     "output_type": "stream",
     "text": [
      "c:\\Users\\20192801\\Anaconda3\\envs\\DeepLearning_labs\\Lib\\site-packages\\librosa\\feature\\spectral.py:2143: UserWarning: Empty filters detected in mel frequency basis. Some channels will produce empty responses. Try increasing your sampling rate (and fmax) or reducing n_mels.\n",
      "  mel_basis = filters.mel(sr=sr, n_fft=n_fft, **kwargs)\n"
     ]
    },
    {
     "name": "stdout",
     "output_type": "stream",
     "text": [
      "C:/Users/20192801/Documents/deep_learning_music_project\\onsets_ISMIR_2012\\csv_large_label\\mck_train1_start_end_spect_target.csv\n"
     ]
    },
    {
     "name": "stderr",
     "output_type": "stream",
     "text": [
      "c:\\Users\\20192801\\Anaconda3\\envs\\DeepLearning_labs\\Lib\\site-packages\\librosa\\feature\\spectral.py:2143: UserWarning: Empty filters detected in mel frequency basis. Some channels will produce empty responses. Try increasing your sampling rate (and fmax) or reducing n_mels.\n",
      "  mel_basis = filters.mel(sr=sr, n_fft=n_fft, **kwargs)\n"
     ]
    },
    {
     "name": "stdout",
     "output_type": "stream",
     "text": [
      "C:/Users/20192801/Documents/deep_learning_music_project\\onsets_ISMIR_2012\\csv_large_label\\mck_train10_start_end_spect_target.csv\n"
     ]
    },
    {
     "name": "stderr",
     "output_type": "stream",
     "text": [
      "c:\\Users\\20192801\\Anaconda3\\envs\\DeepLearning_labs\\Lib\\site-packages\\librosa\\feature\\spectral.py:2143: UserWarning: Empty filters detected in mel frequency basis. Some channels will produce empty responses. Try increasing your sampling rate (and fmax) or reducing n_mels.\n",
      "  mel_basis = filters.mel(sr=sr, n_fft=n_fft, **kwargs)\n"
     ]
    },
    {
     "name": "stdout",
     "output_type": "stream",
     "text": [
      "C:/Users/20192801/Documents/deep_learning_music_project\\onsets_ISMIR_2012\\csv_large_label\\mck_train11_start_end_spect_target.csv\n"
     ]
    },
    {
     "name": "stderr",
     "output_type": "stream",
     "text": [
      "c:\\Users\\20192801\\Anaconda3\\envs\\DeepLearning_labs\\Lib\\site-packages\\librosa\\feature\\spectral.py:2143: UserWarning: Empty filters detected in mel frequency basis. Some channels will produce empty responses. Try increasing your sampling rate (and fmax) or reducing n_mels.\n",
      "  mel_basis = filters.mel(sr=sr, n_fft=n_fft, **kwargs)\n"
     ]
    },
    {
     "name": "stdout",
     "output_type": "stream",
     "text": [
      "C:/Users/20192801/Documents/deep_learning_music_project\\onsets_ISMIR_2012\\csv_large_label\\mck_train13_start_end_spect_target.csv\n"
     ]
    },
    {
     "name": "stderr",
     "output_type": "stream",
     "text": [
      "c:\\Users\\20192801\\Anaconda3\\envs\\DeepLearning_labs\\Lib\\site-packages\\librosa\\feature\\spectral.py:2143: UserWarning: Empty filters detected in mel frequency basis. Some channels will produce empty responses. Try increasing your sampling rate (and fmax) or reducing n_mels.\n",
      "  mel_basis = filters.mel(sr=sr, n_fft=n_fft, **kwargs)\n"
     ]
    },
    {
     "name": "stdout",
     "output_type": "stream",
     "text": [
      "C:/Users/20192801/Documents/deep_learning_music_project\\onsets_ISMIR_2012\\csv_large_label\\mck_train14_start_end_spect_target.csv\n"
     ]
    },
    {
     "name": "stderr",
     "output_type": "stream",
     "text": [
      "c:\\Users\\20192801\\Anaconda3\\envs\\DeepLearning_labs\\Lib\\site-packages\\librosa\\feature\\spectral.py:2143: UserWarning: Empty filters detected in mel frequency basis. Some channels will produce empty responses. Try increasing your sampling rate (and fmax) or reducing n_mels.\n",
      "  mel_basis = filters.mel(sr=sr, n_fft=n_fft, **kwargs)\n"
     ]
    },
    {
     "name": "stdout",
     "output_type": "stream",
     "text": [
      "C:/Users/20192801/Documents/deep_learning_music_project\\onsets_ISMIR_2012\\csv_large_label\\mck_train15_start_end_spect_target.csv\n"
     ]
    },
    {
     "name": "stderr",
     "output_type": "stream",
     "text": [
      "c:\\Users\\20192801\\Anaconda3\\envs\\DeepLearning_labs\\Lib\\site-packages\\librosa\\feature\\spectral.py:2143: UserWarning: Empty filters detected in mel frequency basis. Some channels will produce empty responses. Try increasing your sampling rate (and fmax) or reducing n_mels.\n",
      "  mel_basis = filters.mel(sr=sr, n_fft=n_fft, **kwargs)\n"
     ]
    },
    {
     "name": "stdout",
     "output_type": "stream",
     "text": [
      "C:/Users/20192801/Documents/deep_learning_music_project\\onsets_ISMIR_2012\\csv_large_label\\mck_train16_start_end_spect_target.csv\n"
     ]
    },
    {
     "name": "stderr",
     "output_type": "stream",
     "text": [
      "c:\\Users\\20192801\\Anaconda3\\envs\\DeepLearning_labs\\Lib\\site-packages\\librosa\\feature\\spectral.py:2143: UserWarning: Empty filters detected in mel frequency basis. Some channels will produce empty responses. Try increasing your sampling rate (and fmax) or reducing n_mels.\n",
      "  mel_basis = filters.mel(sr=sr, n_fft=n_fft, **kwargs)\n"
     ]
    },
    {
     "name": "stdout",
     "output_type": "stream",
     "text": [
      "C:/Users/20192801/Documents/deep_learning_music_project\\onsets_ISMIR_2012\\csv_large_label\\mck_train18_start_end_spect_target.csv\n"
     ]
    },
    {
     "name": "stderr",
     "output_type": "stream",
     "text": [
      "c:\\Users\\20192801\\Anaconda3\\envs\\DeepLearning_labs\\Lib\\site-packages\\librosa\\feature\\spectral.py:2143: UserWarning: Empty filters detected in mel frequency basis. Some channels will produce empty responses. Try increasing your sampling rate (and fmax) or reducing n_mels.\n",
      "  mel_basis = filters.mel(sr=sr, n_fft=n_fft, **kwargs)\n"
     ]
    },
    {
     "name": "stdout",
     "output_type": "stream",
     "text": [
      "C:/Users/20192801/Documents/deep_learning_music_project\\onsets_ISMIR_2012\\csv_large_label\\mck_train19_start_end_spect_target.csv\n"
     ]
    },
    {
     "name": "stderr",
     "output_type": "stream",
     "text": [
      "c:\\Users\\20192801\\Anaconda3\\envs\\DeepLearning_labs\\Lib\\site-packages\\librosa\\feature\\spectral.py:2143: UserWarning: Empty filters detected in mel frequency basis. Some channels will produce empty responses. Try increasing your sampling rate (and fmax) or reducing n_mels.\n",
      "  mel_basis = filters.mel(sr=sr, n_fft=n_fft, **kwargs)\n"
     ]
    },
    {
     "name": "stdout",
     "output_type": "stream",
     "text": [
      "C:/Users/20192801/Documents/deep_learning_music_project\\onsets_ISMIR_2012\\csv_large_label\\mck_train2_start_end_spect_target.csv\n"
     ]
    },
    {
     "name": "stderr",
     "output_type": "stream",
     "text": [
      "c:\\Users\\20192801\\Anaconda3\\envs\\DeepLearning_labs\\Lib\\site-packages\\librosa\\feature\\spectral.py:2143: UserWarning: Empty filters detected in mel frequency basis. Some channels will produce empty responses. Try increasing your sampling rate (and fmax) or reducing n_mels.\n",
      "  mel_basis = filters.mel(sr=sr, n_fft=n_fft, **kwargs)\n"
     ]
    },
    {
     "name": "stdout",
     "output_type": "stream",
     "text": [
      "C:/Users/20192801/Documents/deep_learning_music_project\\onsets_ISMIR_2012\\csv_large_label\\mck_train20_start_end_spect_target.csv\n"
     ]
    },
    {
     "name": "stderr",
     "output_type": "stream",
     "text": [
      "c:\\Users\\20192801\\Anaconda3\\envs\\DeepLearning_labs\\Lib\\site-packages\\librosa\\feature\\spectral.py:2143: UserWarning: Empty filters detected in mel frequency basis. Some channels will produce empty responses. Try increasing your sampling rate (and fmax) or reducing n_mels.\n",
      "  mel_basis = filters.mel(sr=sr, n_fft=n_fft, **kwargs)\n"
     ]
    },
    {
     "name": "stdout",
     "output_type": "stream",
     "text": [
      "C:/Users/20192801/Documents/deep_learning_music_project\\onsets_ISMIR_2012\\csv_large_label\\mck_train3_start_end_spect_target.csv\n"
     ]
    },
    {
     "name": "stderr",
     "output_type": "stream",
     "text": [
      "c:\\Users\\20192801\\Anaconda3\\envs\\DeepLearning_labs\\Lib\\site-packages\\librosa\\feature\\spectral.py:2143: UserWarning: Empty filters detected in mel frequency basis. Some channels will produce empty responses. Try increasing your sampling rate (and fmax) or reducing n_mels.\n",
      "  mel_basis = filters.mel(sr=sr, n_fft=n_fft, **kwargs)\n"
     ]
    },
    {
     "name": "stdout",
     "output_type": "stream",
     "text": [
      "C:/Users/20192801/Documents/deep_learning_music_project\\onsets_ISMIR_2012\\csv_large_label\\mck_train4_start_end_spect_target.csv\n"
     ]
    },
    {
     "name": "stderr",
     "output_type": "stream",
     "text": [
      "c:\\Users\\20192801\\Anaconda3\\envs\\DeepLearning_labs\\Lib\\site-packages\\librosa\\feature\\spectral.py:2143: UserWarning: Empty filters detected in mel frequency basis. Some channels will produce empty responses. Try increasing your sampling rate (and fmax) or reducing n_mels.\n",
      "  mel_basis = filters.mel(sr=sr, n_fft=n_fft, **kwargs)\n"
     ]
    },
    {
     "name": "stdout",
     "output_type": "stream",
     "text": [
      "C:/Users/20192801/Documents/deep_learning_music_project\\onsets_ISMIR_2012\\csv_large_label\\mck_train5_start_end_spect_target.csv\n"
     ]
    },
    {
     "name": "stderr",
     "output_type": "stream",
     "text": [
      "c:\\Users\\20192801\\Anaconda3\\envs\\DeepLearning_labs\\Lib\\site-packages\\librosa\\feature\\spectral.py:2143: UserWarning: Empty filters detected in mel frequency basis. Some channels will produce empty responses. Try increasing your sampling rate (and fmax) or reducing n_mels.\n",
      "  mel_basis = filters.mel(sr=sr, n_fft=n_fft, **kwargs)\n"
     ]
    },
    {
     "name": "stdout",
     "output_type": "stream",
     "text": [
      "C:/Users/20192801/Documents/deep_learning_music_project\\onsets_ISMIR_2012\\csv_large_label\\mck_train6_start_end_spect_target.csv\n"
     ]
    },
    {
     "name": "stderr",
     "output_type": "stream",
     "text": [
      "c:\\Users\\20192801\\Anaconda3\\envs\\DeepLearning_labs\\Lib\\site-packages\\librosa\\feature\\spectral.py:2143: UserWarning: Empty filters detected in mel frequency basis. Some channels will produce empty responses. Try increasing your sampling rate (and fmax) or reducing n_mels.\n",
      "  mel_basis = filters.mel(sr=sr, n_fft=n_fft, **kwargs)\n"
     ]
    },
    {
     "name": "stdout",
     "output_type": "stream",
     "text": [
      "C:/Users/20192801/Documents/deep_learning_music_project\\onsets_ISMIR_2012\\csv_large_label\\mck_train7_start_end_spect_target.csv\n"
     ]
    },
    {
     "name": "stderr",
     "output_type": "stream",
     "text": [
      "c:\\Users\\20192801\\Anaconda3\\envs\\DeepLearning_labs\\Lib\\site-packages\\librosa\\feature\\spectral.py:2143: UserWarning: Empty filters detected in mel frequency basis. Some channels will produce empty responses. Try increasing your sampling rate (and fmax) or reducing n_mels.\n",
      "  mel_basis = filters.mel(sr=sr, n_fft=n_fft, **kwargs)\n"
     ]
    },
    {
     "name": "stdout",
     "output_type": "stream",
     "text": [
      "C:/Users/20192801/Documents/deep_learning_music_project\\onsets_ISMIR_2012\\csv_large_label\\mck_train8_start_end_spect_target.csv\n"
     ]
    },
    {
     "name": "stderr",
     "output_type": "stream",
     "text": [
      "c:\\Users\\20192801\\Anaconda3\\envs\\DeepLearning_labs\\Lib\\site-packages\\librosa\\feature\\spectral.py:2143: UserWarning: Empty filters detected in mel frequency basis. Some channels will produce empty responses. Try increasing your sampling rate (and fmax) or reducing n_mels.\n",
      "  mel_basis = filters.mel(sr=sr, n_fft=n_fft, **kwargs)\n"
     ]
    },
    {
     "name": "stdout",
     "output_type": "stream",
     "text": [
      "C:/Users/20192801/Documents/deep_learning_music_project\\onsets_ISMIR_2012\\csv_large_label\\mck_train9_start_end_spect_target.csv\n"
     ]
    },
    {
     "name": "stderr",
     "output_type": "stream",
     "text": [
      "c:\\Users\\20192801\\Anaconda3\\envs\\DeepLearning_labs\\Lib\\site-packages\\librosa\\feature\\spectral.py:2143: UserWarning: Empty filters detected in mel frequency basis. Some channels will produce empty responses. Try increasing your sampling rate (and fmax) or reducing n_mels.\n",
      "  mel_basis = filters.mel(sr=sr, n_fft=n_fft, **kwargs)\n"
     ]
    },
    {
     "name": "stdout",
     "output_type": "stream",
     "text": [
      "C:/Users/20192801/Documents/deep_learning_music_project\\onsets_ISMIR_2012\\csv_large_label\\mit_karaoke_tempo_start_end_spect_target.csv\n"
     ]
    },
    {
     "name": "stderr",
     "output_type": "stream",
     "text": [
      "c:\\Users\\20192801\\Anaconda3\\envs\\DeepLearning_labs\\Lib\\site-packages\\librosa\\feature\\spectral.py:2143: UserWarning: Empty filters detected in mel frequency basis. Some channels will produce empty responses. Try increasing your sampling rate (and fmax) or reducing n_mels.\n",
      "  mel_basis = filters.mel(sr=sr, n_fft=n_fft, **kwargs)\n"
     ]
    },
    {
     "name": "stdout",
     "output_type": "stream",
     "text": [
      "C:/Users/20192801/Documents/deep_learning_music_project\\onsets_ISMIR_2012\\csv_large_label\\mit_track1_start_end_spect_target.csv\n"
     ]
    },
    {
     "name": "stderr",
     "output_type": "stream",
     "text": [
      "c:\\Users\\20192801\\Anaconda3\\envs\\DeepLearning_labs\\Lib\\site-packages\\librosa\\feature\\spectral.py:2143: UserWarning: Empty filters detected in mel frequency basis. Some channels will produce empty responses. Try increasing your sampling rate (and fmax) or reducing n_mels.\n",
      "  mel_basis = filters.mel(sr=sr, n_fft=n_fft, **kwargs)\n"
     ]
    },
    {
     "name": "stdout",
     "output_type": "stream",
     "text": [
      "C:/Users/20192801/Documents/deep_learning_music_project\\onsets_ISMIR_2012\\csv_large_label\\mit_track3_start_end_spect_target.csv\n"
     ]
    },
    {
     "name": "stderr",
     "output_type": "stream",
     "text": [
      "c:\\Users\\20192801\\Anaconda3\\envs\\DeepLearning_labs\\Lib\\site-packages\\librosa\\feature\\spectral.py:2143: UserWarning: Empty filters detected in mel frequency basis. Some channels will produce empty responses. Try increasing your sampling rate (and fmax) or reducing n_mels.\n",
      "  mel_basis = filters.mel(sr=sr, n_fft=n_fft, **kwargs)\n"
     ]
    },
    {
     "name": "stdout",
     "output_type": "stream",
     "text": [
      "C:/Users/20192801/Documents/deep_learning_music_project\\onsets_ISMIR_2012\\csv_large_label\\mit_track4_start_end_spect_target.csv\n"
     ]
    },
    {
     "name": "stderr",
     "output_type": "stream",
     "text": [
      "c:\\Users\\20192801\\Anaconda3\\envs\\DeepLearning_labs\\Lib\\site-packages\\librosa\\feature\\spectral.py:2143: UserWarning: Empty filters detected in mel frequency basis. Some channels will produce empty responses. Try increasing your sampling rate (and fmax) or reducing n_mels.\n",
      "  mel_basis = filters.mel(sr=sr, n_fft=n_fft, **kwargs)\n"
     ]
    },
    {
     "name": "stdout",
     "output_type": "stream",
     "text": [
      "C:/Users/20192801/Documents/deep_learning_music_project\\onsets_ISMIR_2012\\csv_large_label\\mit_track5_start_end_spect_target.csv\n"
     ]
    },
    {
     "name": "stderr",
     "output_type": "stream",
     "text": [
      "c:\\Users\\20192801\\Anaconda3\\envs\\DeepLearning_labs\\Lib\\site-packages\\librosa\\feature\\spectral.py:2143: UserWarning: Empty filters detected in mel frequency basis. Some channels will produce empty responses. Try increasing your sampling rate (and fmax) or reducing n_mels.\n",
      "  mel_basis = filters.mel(sr=sr, n_fft=n_fft, **kwargs)\n"
     ]
    },
    {
     "name": "stdout",
     "output_type": "stream",
     "text": [
      "C:/Users/20192801/Documents/deep_learning_music_project\\onsets_ISMIR_2012\\csv_large_label\\mit_track6_start_end_spect_target.csv\n"
     ]
    },
    {
     "name": "stderr",
     "output_type": "stream",
     "text": [
      "c:\\Users\\20192801\\Anaconda3\\envs\\DeepLearning_labs\\Lib\\site-packages\\librosa\\feature\\spectral.py:2143: UserWarning: Empty filters detected in mel frequency basis. Some channels will produce empty responses. Try increasing your sampling rate (and fmax) or reducing n_mels.\n",
      "  mel_basis = filters.mel(sr=sr, n_fft=n_fft, **kwargs)\n"
     ]
    },
    {
     "name": "stdout",
     "output_type": "stream",
     "text": [
      "C:/Users/20192801/Documents/deep_learning_music_project\\onsets_ISMIR_2012\\csv_large_label\\mit_track7_start_end_spect_target.csv\n"
     ]
    },
    {
     "name": "stderr",
     "output_type": "stream",
     "text": [
      "c:\\Users\\20192801\\Anaconda3\\envs\\DeepLearning_labs\\Lib\\site-packages\\librosa\\feature\\spectral.py:2143: UserWarning: Empty filters detected in mel frequency basis. Some channels will produce empty responses. Try increasing your sampling rate (and fmax) or reducing n_mels.\n",
      "  mel_basis = filters.mel(sr=sr, n_fft=n_fft, **kwargs)\n"
     ]
    },
    {
     "name": "stdout",
     "output_type": "stream",
     "text": [
      "C:/Users/20192801/Documents/deep_learning_music_project\\onsets_ISMIR_2012\\csv_large_label\\sb_Albums-Ballroom_Classics4-01(3.0-13.0)_start_end_spect_target.csv\n"
     ]
    },
    {
     "name": "stderr",
     "output_type": "stream",
     "text": [
      "c:\\Users\\20192801\\Anaconda3\\envs\\DeepLearning_labs\\Lib\\site-packages\\librosa\\feature\\spectral.py:2143: UserWarning: Empty filters detected in mel frequency basis. Some channels will produce empty responses. Try increasing your sampling rate (and fmax) or reducing n_mels.\n",
      "  mel_basis = filters.mel(sr=sr, n_fft=n_fft, **kwargs)\n"
     ]
    },
    {
     "name": "stdout",
     "output_type": "stream",
     "text": [
      "C:/Users/20192801/Documents/deep_learning_music_project\\onsets_ISMIR_2012\\csv_large_label\\sb_Albums-Ballroom_Classics4-11(7.0-17.0)_start_end_spect_target.csv\n"
     ]
    },
    {
     "name": "stderr",
     "output_type": "stream",
     "text": [
      "c:\\Users\\20192801\\Anaconda3\\envs\\DeepLearning_labs\\Lib\\site-packages\\librosa\\feature\\spectral.py:2143: UserWarning: Empty filters detected in mel frequency basis. Some channels will produce empty responses. Try increasing your sampling rate (and fmax) or reducing n_mels.\n",
      "  mel_basis = filters.mel(sr=sr, n_fft=n_fft, **kwargs)\n"
     ]
    },
    {
     "name": "stdout",
     "output_type": "stream",
     "text": [
      "C:/Users/20192801/Documents/deep_learning_music_project\\onsets_ISMIR_2012\\csv_large_label\\sb_Albums-Ballroom_Magic-04(6.0-16.0)_start_end_spect_target.csv\n"
     ]
    },
    {
     "name": "stderr",
     "output_type": "stream",
     "text": [
      "c:\\Users\\20192801\\Anaconda3\\envs\\DeepLearning_labs\\Lib\\site-packages\\librosa\\feature\\spectral.py:2143: UserWarning: Empty filters detected in mel frequency basis. Some channels will produce empty responses. Try increasing your sampling rate (and fmax) or reducing n_mels.\n",
      "  mel_basis = filters.mel(sr=sr, n_fft=n_fft, **kwargs)\n"
     ]
    },
    {
     "name": "stdout",
     "output_type": "stream",
     "text": [
      "C:/Users/20192801/Documents/deep_learning_music_project\\onsets_ISMIR_2012\\csv_large_label\\sb_Albums-Ballroom_Magic-09(4.0-14.0)_start_end_spect_target.csv\n"
     ]
    },
    {
     "name": "stderr",
     "output_type": "stream",
     "text": [
      "c:\\Users\\20192801\\Anaconda3\\envs\\DeepLearning_labs\\Lib\\site-packages\\librosa\\feature\\spectral.py:2143: UserWarning: Empty filters detected in mel frequency basis. Some channels will produce empty responses. Try increasing your sampling rate (and fmax) or reducing n_mels.\n",
      "  mel_basis = filters.mel(sr=sr, n_fft=n_fft, **kwargs)\n"
     ]
    },
    {
     "name": "stdout",
     "output_type": "stream",
     "text": [
      "C:/Users/20192801/Documents/deep_learning_music_project\\onsets_ISMIR_2012\\csv_large_label\\sb_Albums-Cafe_Paradiso-05(4.3-14.3)_start_end_spect_target.csv\n"
     ]
    },
    {
     "name": "stderr",
     "output_type": "stream",
     "text": [
      "c:\\Users\\20192801\\Anaconda3\\envs\\DeepLearning_labs\\Lib\\site-packages\\librosa\\feature\\spectral.py:2143: UserWarning: Empty filters detected in mel frequency basis. Some channels will produce empty responses. Try increasing your sampling rate (and fmax) or reducing n_mels.\n",
      "  mel_basis = filters.mel(sr=sr, n_fft=n_fft, **kwargs)\n"
     ]
    },
    {
     "name": "stdout",
     "output_type": "stream",
     "text": [
      "C:/Users/20192801/Documents/deep_learning_music_project\\onsets_ISMIR_2012\\csv_large_label\\sb_Albums-Cafe_Paradiso-07(13.1-23.1)_start_end_spect_target.csv\n"
     ]
    },
    {
     "name": "stderr",
     "output_type": "stream",
     "text": [
      "c:\\Users\\20192801\\Anaconda3\\envs\\DeepLearning_labs\\Lib\\site-packages\\librosa\\feature\\spectral.py:2143: UserWarning: Empty filters detected in mel frequency basis. Some channels will produce empty responses. Try increasing your sampling rate (and fmax) or reducing n_mels.\n",
      "  mel_basis = filters.mel(sr=sr, n_fft=n_fft, **kwargs)\n"
     ]
    },
    {
     "name": "stdout",
     "output_type": "stream",
     "text": [
      "C:/Users/20192801/Documents/deep_learning_music_project\\onsets_ISMIR_2012\\csv_large_label\\sb_Albums-Chrisanne1-01(3.0-13.0)_start_end_spect_target.csv\n"
     ]
    },
    {
     "name": "stderr",
     "output_type": "stream",
     "text": [
      "c:\\Users\\20192801\\Anaconda3\\envs\\DeepLearning_labs\\Lib\\site-packages\\librosa\\feature\\spectral.py:2143: UserWarning: Empty filters detected in mel frequency basis. Some channels will produce empty responses. Try increasing your sampling rate (and fmax) or reducing n_mels.\n",
      "  mel_basis = filters.mel(sr=sr, n_fft=n_fft, **kwargs)\n"
     ]
    },
    {
     "name": "stdout",
     "output_type": "stream",
     "text": [
      "C:/Users/20192801/Documents/deep_learning_music_project\\onsets_ISMIR_2012\\csv_large_label\\sb_Albums-Chrisanne1-08(9.0-19.0)_start_end_spect_target.csv\n"
     ]
    },
    {
     "name": "stderr",
     "output_type": "stream",
     "text": [
      "c:\\Users\\20192801\\Anaconda3\\envs\\DeepLearning_labs\\Lib\\site-packages\\librosa\\feature\\spectral.py:2143: UserWarning: Empty filters detected in mel frequency basis. Some channels will produce empty responses. Try increasing your sampling rate (and fmax) or reducing n_mels.\n",
      "  mel_basis = filters.mel(sr=sr, n_fft=n_fft, **kwargs)\n"
     ]
    },
    {
     "name": "stdout",
     "output_type": "stream",
     "text": [
      "C:/Users/20192801/Documents/deep_learning_music_project\\onsets_ISMIR_2012\\csv_large_label\\sb_Albums-Chrisanne2-01(16.0-26.0)_start_end_spect_target.csv\n"
     ]
    },
    {
     "name": "stderr",
     "output_type": "stream",
     "text": [
      "c:\\Users\\20192801\\Anaconda3\\envs\\DeepLearning_labs\\Lib\\site-packages\\librosa\\feature\\spectral.py:2143: UserWarning: Empty filters detected in mel frequency basis. Some channels will produce empty responses. Try increasing your sampling rate (and fmax) or reducing n_mels.\n",
      "  mel_basis = filters.mel(sr=sr, n_fft=n_fft, **kwargs)\n"
     ]
    },
    {
     "name": "stdout",
     "output_type": "stream",
     "text": [
      "C:/Users/20192801/Documents/deep_learning_music_project\\onsets_ISMIR_2012\\csv_large_label\\sb_Albums-Chrisanne3-02(12.0-22.0)_start_end_spect_target.csv\n"
     ]
    },
    {
     "name": "stderr",
     "output_type": "stream",
     "text": [
      "c:\\Users\\20192801\\Anaconda3\\envs\\DeepLearning_labs\\Lib\\site-packages\\librosa\\feature\\spectral.py:2143: UserWarning: Empty filters detected in mel frequency basis. Some channels will produce empty responses. Try increasing your sampling rate (and fmax) or reducing n_mels.\n",
      "  mel_basis = filters.mel(sr=sr, n_fft=n_fft, **kwargs)\n"
     ]
    },
    {
     "name": "stdout",
     "output_type": "stream",
     "text": [
      "C:/Users/20192801/Documents/deep_learning_music_project\\onsets_ISMIR_2012\\csv_large_label\\sb_Albums-Chrisanne3-07(3.0-13.0)_start_end_spect_target.csv\n"
     ]
    },
    {
     "name": "stderr",
     "output_type": "stream",
     "text": [
      "c:\\Users\\20192801\\Anaconda3\\envs\\DeepLearning_labs\\Lib\\site-packages\\librosa\\feature\\spectral.py:2143: UserWarning: Empty filters detected in mel frequency basis. Some channels will produce empty responses. Try increasing your sampling rate (and fmax) or reducing n_mels.\n",
      "  mel_basis = filters.mel(sr=sr, n_fft=n_fft, **kwargs)\n"
     ]
    },
    {
     "name": "stdout",
     "output_type": "stream",
     "text": [
      "C:/Users/20192801/Documents/deep_learning_music_project\\onsets_ISMIR_2012\\csv_large_label\\sb_Albums-Fire-13(15.0-25.0)_start_end_spect_target.csv\n"
     ]
    },
    {
     "name": "stderr",
     "output_type": "stream",
     "text": [
      "c:\\Users\\20192801\\Anaconda3\\envs\\DeepLearning_labs\\Lib\\site-packages\\librosa\\feature\\spectral.py:2143: UserWarning: Empty filters detected in mel frequency basis. Some channels will produce empty responses. Try increasing your sampling rate (and fmax) or reducing n_mels.\n",
      "  mel_basis = filters.mel(sr=sr, n_fft=n_fft, **kwargs)\n"
     ]
    },
    {
     "name": "stdout",
     "output_type": "stream",
     "text": [
      "C:/Users/20192801/Documents/deep_learning_music_project\\onsets_ISMIR_2012\\csv_large_label\\sb_Albums-I_Like_It2-01(13.1-23.1)_start_end_spect_target.csv\n"
     ]
    },
    {
     "name": "stderr",
     "output_type": "stream",
     "text": [
      "c:\\Users\\20192801\\Anaconda3\\envs\\DeepLearning_labs\\Lib\\site-packages\\librosa\\feature\\spectral.py:2143: UserWarning: Empty filters detected in mel frequency basis. Some channels will produce empty responses. Try increasing your sampling rate (and fmax) or reducing n_mels.\n",
      "  mel_basis = filters.mel(sr=sr, n_fft=n_fft, **kwargs)\n"
     ]
    },
    {
     "name": "stdout",
     "output_type": "stream",
     "text": [
      "C:/Users/20192801/Documents/deep_learning_music_project\\onsets_ISMIR_2012\\csv_large_label\\sb_Albums-Latin_Jam-13(6.0-16.0)_start_end_spect_target.csv\n"
     ]
    },
    {
     "name": "stderr",
     "output_type": "stream",
     "text": [
      "c:\\Users\\20192801\\Anaconda3\\envs\\DeepLearning_labs\\Lib\\site-packages\\librosa\\feature\\spectral.py:2143: UserWarning: Empty filters detected in mel frequency basis. Some channels will produce empty responses. Try increasing your sampling rate (and fmax) or reducing n_mels.\n",
      "  mel_basis = filters.mel(sr=sr, n_fft=n_fft, **kwargs)\n"
     ]
    },
    {
     "name": "stdout",
     "output_type": "stream",
     "text": [
      "C:/Users/20192801/Documents/deep_learning_music_project\\onsets_ISMIR_2012\\csv_large_label\\sb_Albums-Latin_Jam3-02(3.0-13.0)_start_end_spect_target.csv\n"
     ]
    },
    {
     "name": "stderr",
     "output_type": "stream",
     "text": [
      "c:\\Users\\20192801\\Anaconda3\\envs\\DeepLearning_labs\\Lib\\site-packages\\librosa\\feature\\spectral.py:2143: UserWarning: Empty filters detected in mel frequency basis. Some channels will produce empty responses. Try increasing your sampling rate (and fmax) or reducing n_mels.\n",
      "  mel_basis = filters.mel(sr=sr, n_fft=n_fft, **kwargs)\n"
     ]
    },
    {
     "name": "stdout",
     "output_type": "stream",
     "text": [
      "C:/Users/20192801/Documents/deep_learning_music_project\\onsets_ISMIR_2012\\csv_large_label\\sb_Albums-Step_By_Step-09(2.0-12.0)_start_end_spect_target.csv\n"
     ]
    },
    {
     "name": "stderr",
     "output_type": "stream",
     "text": [
      "c:\\Users\\20192801\\Anaconda3\\envs\\DeepLearning_labs\\Lib\\site-packages\\librosa\\feature\\spectral.py:2143: UserWarning: Empty filters detected in mel frequency basis. Some channels will produce empty responses. Try increasing your sampling rate (and fmax) or reducing n_mels.\n",
      "  mel_basis = filters.mel(sr=sr, n_fft=n_fft, **kwargs)\n"
     ]
    },
    {
     "name": "stdout",
     "output_type": "stream",
     "text": [
      "C:/Users/20192801/Documents/deep_learning_music_project\\onsets_ISMIR_2012\\csv_large_label\\sb_Media-100608(3.0-13.0)_start_end_spect_target.csv\n"
     ]
    },
    {
     "name": "stderr",
     "output_type": "stream",
     "text": [
      "c:\\Users\\20192801\\Anaconda3\\envs\\DeepLearning_labs\\Lib\\site-packages\\librosa\\feature\\spectral.py:2143: UserWarning: Empty filters detected in mel frequency basis. Some channels will produce empty responses. Try increasing your sampling rate (and fmax) or reducing n_mels.\n",
      "  mel_basis = filters.mel(sr=sr, n_fft=n_fft, **kwargs)\n"
     ]
    },
    {
     "name": "stdout",
     "output_type": "stream",
     "text": [
      "C:/Users/20192801/Documents/deep_learning_music_project\\onsets_ISMIR_2012\\csv_large_label\\sb_Media-103302(15.0-25.0)_start_end_spect_target.csv\n"
     ]
    },
    {
     "name": "stderr",
     "output_type": "stream",
     "text": [
      "c:\\Users\\20192801\\Anaconda3\\envs\\DeepLearning_labs\\Lib\\site-packages\\librosa\\feature\\spectral.py:2143: UserWarning: Empty filters detected in mel frequency basis. Some channels will produce empty responses. Try increasing your sampling rate (and fmax) or reducing n_mels.\n",
      "  mel_basis = filters.mel(sr=sr, n_fft=n_fft, **kwargs)\n"
     ]
    },
    {
     "name": "stdout",
     "output_type": "stream",
     "text": [
      "C:/Users/20192801/Documents/deep_learning_music_project\\onsets_ISMIR_2012\\csv_large_label\\sb_Media-103307(4.0-14.0)_start_end_spect_target.csv\n"
     ]
    },
    {
     "name": "stderr",
     "output_type": "stream",
     "text": [
      "c:\\Users\\20192801\\Anaconda3\\envs\\DeepLearning_labs\\Lib\\site-packages\\librosa\\feature\\spectral.py:2143: UserWarning: Empty filters detected in mel frequency basis. Some channels will produce empty responses. Try increasing your sampling rate (and fmax) or reducing n_mels.\n",
      "  mel_basis = filters.mel(sr=sr, n_fft=n_fft, **kwargs)\n"
     ]
    },
    {
     "name": "stdout",
     "output_type": "stream",
     "text": [
      "C:/Users/20192801/Documents/deep_learning_music_project\\onsets_ISMIR_2012\\csv_large_label\\sb_Media-103416(12.0-22.0)_start_end_spect_target.csv\n"
     ]
    },
    {
     "name": "stderr",
     "output_type": "stream",
     "text": [
      "c:\\Users\\20192801\\Anaconda3\\envs\\DeepLearning_labs\\Lib\\site-packages\\librosa\\feature\\spectral.py:2143: UserWarning: Empty filters detected in mel frequency basis. Some channels will produce empty responses. Try increasing your sampling rate (and fmax) or reducing n_mels.\n",
      "  mel_basis = filters.mel(sr=sr, n_fft=n_fft, **kwargs)\n"
     ]
    },
    {
     "name": "stdout",
     "output_type": "stream",
     "text": [
      "C:/Users/20192801/Documents/deep_learning_music_project\\onsets_ISMIR_2012\\csv_large_label\\sb_Media-104111(5.0-15.0)_start_end_spect_target.csv\n"
     ]
    },
    {
     "name": "stderr",
     "output_type": "stream",
     "text": [
      "c:\\Users\\20192801\\Anaconda3\\envs\\DeepLearning_labs\\Lib\\site-packages\\librosa\\feature\\spectral.py:2143: UserWarning: Empty filters detected in mel frequency basis. Some channels will produce empty responses. Try increasing your sampling rate (and fmax) or reducing n_mels.\n",
      "  mel_basis = filters.mel(sr=sr, n_fft=n_fft, **kwargs)\n"
     ]
    },
    {
     "name": "stdout",
     "output_type": "stream",
     "text": [
      "C:/Users/20192801/Documents/deep_learning_music_project\\onsets_ISMIR_2012\\csv_large_label\\sb_Media-104210(2.0-12.0)_start_end_spect_target.csv\n"
     ]
    },
    {
     "name": "stderr",
     "output_type": "stream",
     "text": [
      "c:\\Users\\20192801\\Anaconda3\\envs\\DeepLearning_labs\\Lib\\site-packages\\librosa\\feature\\spectral.py:2143: UserWarning: Empty filters detected in mel frequency basis. Some channels will produce empty responses. Try increasing your sampling rate (and fmax) or reducing n_mels.\n",
      "  mel_basis = filters.mel(sr=sr, n_fft=n_fft, **kwargs)\n"
     ]
    },
    {
     "name": "stdout",
     "output_type": "stream",
     "text": [
      "C:/Users/20192801/Documents/deep_learning_music_project\\onsets_ISMIR_2012\\csv_large_label\\sb_Media-105213(13.0-23.0)_start_end_spect_target.csv\n"
     ]
    },
    {
     "name": "stderr",
     "output_type": "stream",
     "text": [
      "c:\\Users\\20192801\\Anaconda3\\envs\\DeepLearning_labs\\Lib\\site-packages\\librosa\\feature\\spectral.py:2143: UserWarning: Empty filters detected in mel frequency basis. Some channels will produce empty responses. Try increasing your sampling rate (and fmax) or reducing n_mels.\n",
      "  mel_basis = filters.mel(sr=sr, n_fft=n_fft, **kwargs)\n"
     ]
    },
    {
     "name": "stdout",
     "output_type": "stream",
     "text": [
      "C:/Users/20192801/Documents/deep_learning_music_project\\onsets_ISMIR_2012\\csv_large_label\\sb_Media-105215(12.0-22.0)_start_end_spect_target.csv\n"
     ]
    },
    {
     "name": "stderr",
     "output_type": "stream",
     "text": [
      "c:\\Users\\20192801\\Anaconda3\\envs\\DeepLearning_labs\\Lib\\site-packages\\librosa\\feature\\spectral.py:2143: UserWarning: Empty filters detected in mel frequency basis. Some channels will produce empty responses. Try increasing your sampling rate (and fmax) or reducing n_mels.\n",
      "  mel_basis = filters.mel(sr=sr, n_fft=n_fft, **kwargs)\n"
     ]
    },
    {
     "name": "stdout",
     "output_type": "stream",
     "text": [
      "C:/Users/20192801/Documents/deep_learning_music_project\\onsets_ISMIR_2012\\csv_large_label\\sb_Media-105407(6.0-16.0)_start_end_spect_target.csv\n"
     ]
    },
    {
     "name": "stderr",
     "output_type": "stream",
     "text": [
      "c:\\Users\\20192801\\Anaconda3\\envs\\DeepLearning_labs\\Lib\\site-packages\\librosa\\feature\\spectral.py:2143: UserWarning: Empty filters detected in mel frequency basis. Some channels will produce empty responses. Try increasing your sampling rate (and fmax) or reducing n_mels.\n",
      "  mel_basis = filters.mel(sr=sr, n_fft=n_fft, **kwargs)\n"
     ]
    },
    {
     "name": "stdout",
     "output_type": "stream",
     "text": [
      "C:/Users/20192801/Documents/deep_learning_music_project\\onsets_ISMIR_2012\\csv_large_label\\sb_Media-105801(11.0-21.0)_start_end_spect_target.csv\n"
     ]
    },
    {
     "name": "stderr",
     "output_type": "stream",
     "text": [
      "c:\\Users\\20192801\\Anaconda3\\envs\\DeepLearning_labs\\Lib\\site-packages\\librosa\\feature\\spectral.py:2143: UserWarning: Empty filters detected in mel frequency basis. Some channels will produce empty responses. Try increasing your sampling rate (and fmax) or reducing n_mels.\n",
      "  mel_basis = filters.mel(sr=sr, n_fft=n_fft, **kwargs)\n"
     ]
    },
    {
     "name": "stdout",
     "output_type": "stream",
     "text": [
      "C:/Users/20192801/Documents/deep_learning_music_project\\onsets_ISMIR_2012\\csv_large_label\\sb_Media-105810(5.0-15.0)_start_end_spect_target.csv\n"
     ]
    },
    {
     "name": "stderr",
     "output_type": "stream",
     "text": [
      "c:\\Users\\20192801\\Anaconda3\\envs\\DeepLearning_labs\\Lib\\site-packages\\librosa\\feature\\spectral.py:2143: UserWarning: Empty filters detected in mel frequency basis. Some channels will produce empty responses. Try increasing your sampling rate (and fmax) or reducing n_mels.\n",
      "  mel_basis = filters.mel(sr=sr, n_fft=n_fft, **kwargs)\n"
     ]
    },
    {
     "name": "stdout",
     "output_type": "stream",
     "text": [
      "C:/Users/20192801/Documents/deep_learning_music_project\\onsets_ISMIR_2012\\csv_large_label\\sb_Media-105907(0.0-10.0)_start_end_spect_target.csv\n"
     ]
    },
    {
     "name": "stderr",
     "output_type": "stream",
     "text": [
      "c:\\Users\\20192801\\Anaconda3\\envs\\DeepLearning_labs\\Lib\\site-packages\\librosa\\feature\\spectral.py:2143: UserWarning: Empty filters detected in mel frequency basis. Some channels will produce empty responses. Try increasing your sampling rate (and fmax) or reducing n_mels.\n",
      "  mel_basis = filters.mel(sr=sr, n_fft=n_fft, **kwargs)\n"
     ]
    },
    {
     "name": "stdout",
     "output_type": "stream",
     "text": [
      "C:/Users/20192801/Documents/deep_learning_music_project\\onsets_ISMIR_2012\\csv_large_label\\sb_Media-106003(0.2-10.2)_start_end_spect_target.csv\n"
     ]
    },
    {
     "name": "stderr",
     "output_type": "stream",
     "text": [
      "c:\\Users\\20192801\\Anaconda3\\envs\\DeepLearning_labs\\Lib\\site-packages\\librosa\\feature\\spectral.py:2143: UserWarning: Empty filters detected in mel frequency basis. Some channels will produce empty responses. Try increasing your sampling rate (and fmax) or reducing n_mels.\n",
      "  mel_basis = filters.mel(sr=sr, n_fft=n_fft, **kwargs)\n"
     ]
    },
    {
     "name": "stdout",
     "output_type": "stream",
     "text": [
      "C:/Users/20192801/Documents/deep_learning_music_project\\onsets_ISMIR_2012\\csv_large_label\\sb_Media-106103(4.0-14.0)_start_end_spect_target.csv\n"
     ]
    },
    {
     "name": "stderr",
     "output_type": "stream",
     "text": [
      "c:\\Users\\20192801\\Anaconda3\\envs\\DeepLearning_labs\\Lib\\site-packages\\librosa\\feature\\spectral.py:2143: UserWarning: Empty filters detected in mel frequency basis. Some channels will produce empty responses. Try increasing your sampling rate (and fmax) or reducing n_mels.\n",
      "  mel_basis = filters.mel(sr=sr, n_fft=n_fft, **kwargs)\n"
     ]
    },
    {
     "name": "stdout",
     "output_type": "stream",
     "text": [
      "C:/Users/20192801/Documents/deep_learning_music_project\\onsets_ISMIR_2012\\csv_large_label\\sb_Media-106117(7.0-17.0)_start_end_spect_target.csv\n"
     ]
    },
    {
     "name": "stderr",
     "output_type": "stream",
     "text": [
      "c:\\Users\\20192801\\Anaconda3\\envs\\DeepLearning_labs\\Lib\\site-packages\\librosa\\feature\\spectral.py:2143: UserWarning: Empty filters detected in mel frequency basis. Some channels will produce empty responses. Try increasing your sampling rate (and fmax) or reducing n_mels.\n",
      "  mel_basis = filters.mel(sr=sr, n_fft=n_fft, **kwargs)\n"
     ]
    },
    {
     "name": "stdout",
     "output_type": "stream",
     "text": [
      "C:/Users/20192801/Documents/deep_learning_music_project\\onsets_ISMIR_2012\\csv_large_label\\SoundCheck2_60_Vocal_Tenor_opera_start_end_spect_target.csv\n"
     ]
    },
    {
     "name": "stderr",
     "output_type": "stream",
     "text": [
      "c:\\Users\\20192801\\Anaconda3\\envs\\DeepLearning_labs\\Lib\\site-packages\\librosa\\feature\\spectral.py:2143: UserWarning: Empty filters detected in mel frequency basis. Some channels will produce empty responses. Try increasing your sampling rate (and fmax) or reducing n_mels.\n",
      "  mel_basis = filters.mel(sr=sr, n_fft=n_fft, **kwargs)\n"
     ]
    },
    {
     "name": "stdout",
     "output_type": "stream",
     "text": [
      "C:/Users/20192801/Documents/deep_learning_music_project\\onsets_ISMIR_2012\\csv_large_label\\SoundCheck2_61_Vocal_Soprano_opera_start_end_spect_target.csv\n"
     ]
    },
    {
     "name": "stderr",
     "output_type": "stream",
     "text": [
      "c:\\Users\\20192801\\Anaconda3\\envs\\DeepLearning_labs\\Lib\\site-packages\\librosa\\feature\\spectral.py:2143: UserWarning: Empty filters detected in mel frequency basis. Some channels will produce empty responses. Try increasing your sampling rate (and fmax) or reducing n_mels.\n",
      "  mel_basis = filters.mel(sr=sr, n_fft=n_fft, **kwargs)\n"
     ]
    },
    {
     "name": "stdout",
     "output_type": "stream",
     "text": [
      "C:/Users/20192801/Documents/deep_learning_music_project\\onsets_ISMIR_2012\\csv_large_label\\SoundCheck2_62_Vocal_Male_Rock_Vocal_start_end_spect_target.csv\n"
     ]
    },
    {
     "name": "stderr",
     "output_type": "stream",
     "text": [
      "c:\\Users\\20192801\\Anaconda3\\envs\\DeepLearning_labs\\Lib\\site-packages\\librosa\\feature\\spectral.py:2143: UserWarning: Empty filters detected in mel frequency basis. Some channels will produce empty responses. Try increasing your sampling rate (and fmax) or reducing n_mels.\n",
      "  mel_basis = filters.mel(sr=sr, n_fft=n_fft, **kwargs)\n"
     ]
    },
    {
     "name": "stdout",
     "output_type": "stream",
     "text": [
      "C:/Users/20192801/Documents/deep_learning_music_project\\onsets_ISMIR_2012\\csv_large_label\\SoundCheck2_63_Instrumental_Piano_start_end_spect_target.csv\n"
     ]
    },
    {
     "name": "stderr",
     "output_type": "stream",
     "text": [
      "c:\\Users\\20192801\\Anaconda3\\envs\\DeepLearning_labs\\Lib\\site-packages\\librosa\\feature\\spectral.py:2143: UserWarning: Empty filters detected in mel frequency basis. Some channels will produce empty responses. Try increasing your sampling rate (and fmax) or reducing n_mels.\n",
      "  mel_basis = filters.mel(sr=sr, n_fft=n_fft, **kwargs)\n"
     ]
    },
    {
     "name": "stdout",
     "output_type": "stream",
     "text": [
      "C:/Users/20192801/Documents/deep_learning_music_project\\onsets_ISMIR_2012\\csv_large_label\\SoundCheck2_64_Instrumental_Acoustic_steel_strung_guitar_finger_style_start_end_spect_target.csv\n"
     ]
    },
    {
     "name": "stderr",
     "output_type": "stream",
     "text": [
      "c:\\Users\\20192801\\Anaconda3\\envs\\DeepLearning_labs\\Lib\\site-packages\\librosa\\feature\\spectral.py:2143: UserWarning: Empty filters detected in mel frequency basis. Some channels will produce empty responses. Try increasing your sampling rate (and fmax) or reducing n_mels.\n",
      "  mel_basis = filters.mel(sr=sr, n_fft=n_fft, **kwargs)\n"
     ]
    },
    {
     "name": "stdout",
     "output_type": "stream",
     "text": [
      "C:/Users/20192801/Documents/deep_learning_music_project\\onsets_ISMIR_2012\\csv_large_label\\SoundCheck2_65_Instrumental_Acoustic_steel_strung_guitar_strummed_start_end_spect_target.csv\n"
     ]
    },
    {
     "name": "stderr",
     "output_type": "stream",
     "text": [
      "c:\\Users\\20192801\\Anaconda3\\envs\\DeepLearning_labs\\Lib\\site-packages\\librosa\\feature\\spectral.py:2143: UserWarning: Empty filters detected in mel frequency basis. Some channels will produce empty responses. Try increasing your sampling rate (and fmax) or reducing n_mels.\n",
      "  mel_basis = filters.mel(sr=sr, n_fft=n_fft, **kwargs)\n"
     ]
    },
    {
     "name": "stdout",
     "output_type": "stream",
     "text": [
      "C:/Users/20192801/Documents/deep_learning_music_project\\onsets_ISMIR_2012\\csv_large_label\\SoundCheck2_70_Instrumental_Flute_start_end_spect_target.csv\n"
     ]
    },
    {
     "name": "stderr",
     "output_type": "stream",
     "text": [
      "c:\\Users\\20192801\\Anaconda3\\envs\\DeepLearning_labs\\Lib\\site-packages\\librosa\\feature\\spectral.py:2143: UserWarning: Empty filters detected in mel frequency basis. Some channels will produce empty responses. Try increasing your sampling rate (and fmax) or reducing n_mels.\n",
      "  mel_basis = filters.mel(sr=sr, n_fft=n_fft, **kwargs)\n"
     ]
    },
    {
     "name": "stdout",
     "output_type": "stream",
     "text": [
      "C:/Users/20192801/Documents/deep_learning_music_project\\onsets_ISMIR_2012\\csv_large_label\\SoundCheck2_71_Instrumental_Saxophone_start_end_spect_target.csv\n"
     ]
    },
    {
     "name": "stderr",
     "output_type": "stream",
     "text": [
      "c:\\Users\\20192801\\Anaconda3\\envs\\DeepLearning_labs\\Lib\\site-packages\\librosa\\feature\\spectral.py:2143: UserWarning: Empty filters detected in mel frequency basis. Some channels will produce empty responses. Try increasing your sampling rate (and fmax) or reducing n_mels.\n",
      "  mel_basis = filters.mel(sr=sr, n_fft=n_fft, **kwargs)\n"
     ]
    },
    {
     "name": "stdout",
     "output_type": "stream",
     "text": [
      "C:/Users/20192801/Documents/deep_learning_music_project\\onsets_ISMIR_2012\\csv_large_label\\SoundCheck2_72_Instrumental_Bongos_start_end_spect_target.csv\n"
     ]
    },
    {
     "name": "stderr",
     "output_type": "stream",
     "text": [
      "c:\\Users\\20192801\\Anaconda3\\envs\\DeepLearning_labs\\Lib\\site-packages\\librosa\\feature\\spectral.py:2143: UserWarning: Empty filters detected in mel frequency basis. Some channels will produce empty responses. Try increasing your sampling rate (and fmax) or reducing n_mels.\n",
      "  mel_basis = filters.mel(sr=sr, n_fft=n_fft, **kwargs)\n"
     ]
    },
    {
     "name": "stdout",
     "output_type": "stream",
     "text": [
      "C:/Users/20192801/Documents/deep_learning_music_project\\onsets_ISMIR_2012\\csv_large_label\\SoundCheck2_73_Instrumental_Tambourine_start_end_spect_target.csv\n"
     ]
    },
    {
     "name": "stderr",
     "output_type": "stream",
     "text": [
      "c:\\Users\\20192801\\Anaconda3\\envs\\DeepLearning_labs\\Lib\\site-packages\\librosa\\feature\\spectral.py:2143: UserWarning: Empty filters detected in mel frequency basis. Some channels will produce empty responses. Try increasing your sampling rate (and fmax) or reducing n_mels.\n",
      "  mel_basis = filters.mel(sr=sr, n_fft=n_fft, **kwargs)\n"
     ]
    },
    {
     "name": "stdout",
     "output_type": "stream",
     "text": [
      "C:/Users/20192801/Documents/deep_learning_music_project\\onsets_ISMIR_2012\\csv_large_label\\SoundCheck2_74_Instrumental_Kick_drum_start_end_spect_target.csv\n"
     ]
    },
    {
     "name": "stderr",
     "output_type": "stream",
     "text": [
      "c:\\Users\\20192801\\Anaconda3\\envs\\DeepLearning_labs\\Lib\\site-packages\\librosa\\feature\\spectral.py:2143: UserWarning: Empty filters detected in mel frequency basis. Some channels will produce empty responses. Try increasing your sampling rate (and fmax) or reducing n_mels.\n",
      "  mel_basis = filters.mel(sr=sr, n_fft=n_fft, **kwargs)\n"
     ]
    },
    {
     "name": "stdout",
     "output_type": "stream",
     "text": [
      "C:/Users/20192801/Documents/deep_learning_music_project\\onsets_ISMIR_2012\\csv_large_label\\SoundCheck2_75_Instrumental_Snare_drum_start_end_spect_target.csv\n"
     ]
    },
    {
     "name": "stderr",
     "output_type": "stream",
     "text": [
      "c:\\Users\\20192801\\Anaconda3\\envs\\DeepLearning_labs\\Lib\\site-packages\\librosa\\feature\\spectral.py:2143: UserWarning: Empty filters detected in mel frequency basis. Some channels will produce empty responses. Try increasing your sampling rate (and fmax) or reducing n_mels.\n",
      "  mel_basis = filters.mel(sr=sr, n_fft=n_fft, **kwargs)\n"
     ]
    },
    {
     "name": "stdout",
     "output_type": "stream",
     "text": [
      "C:/Users/20192801/Documents/deep_learning_music_project\\onsets_ISMIR_2012\\csv_large_label\\SoundCheck2_77_Instrumental_Toms_start_end_spect_target.csv\n"
     ]
    },
    {
     "name": "stderr",
     "output_type": "stream",
     "text": [
      "c:\\Users\\20192801\\Anaconda3\\envs\\DeepLearning_labs\\Lib\\site-packages\\librosa\\feature\\spectral.py:2143: UserWarning: Empty filters detected in mel frequency basis. Some channels will produce empty responses. Try increasing your sampling rate (and fmax) or reducing n_mels.\n",
      "  mel_basis = filters.mel(sr=sr, n_fft=n_fft, **kwargs)\n"
     ]
    },
    {
     "name": "stdout",
     "output_type": "stream",
     "text": [
      "C:/Users/20192801/Documents/deep_learning_music_project\\onsets_ISMIR_2012\\csv_large_label\\SoundCheck2_78_Instrumental_Whole_drum_kit_start_end_spect_target.csv\n"
     ]
    },
    {
     "name": "stderr",
     "output_type": "stream",
     "text": [
      "c:\\Users\\20192801\\Anaconda3\\envs\\DeepLearning_labs\\Lib\\site-packages\\librosa\\feature\\spectral.py:2143: UserWarning: Empty filters detected in mel frequency basis. Some channels will produce empty responses. Try increasing your sampling rate (and fmax) or reducing n_mels.\n",
      "  mel_basis = filters.mel(sr=sr, n_fft=n_fft, **kwargs)\n"
     ]
    },
    {
     "name": "stdout",
     "output_type": "stream",
     "text": [
      "C:/Users/20192801/Documents/deep_learning_music_project\\onsets_ISMIR_2012\\csv_large_label\\SoundCheck2_79_Instrumental_Violins_start_end_spect_target.csv\n"
     ]
    },
    {
     "name": "stderr",
     "output_type": "stream",
     "text": [
      "c:\\Users\\20192801\\Anaconda3\\envs\\DeepLearning_labs\\Lib\\site-packages\\librosa\\feature\\spectral.py:2143: UserWarning: Empty filters detected in mel frequency basis. Some channels will produce empty responses. Try increasing your sampling rate (and fmax) or reducing n_mels.\n",
      "  mel_basis = filters.mel(sr=sr, n_fft=n_fft, **kwargs)\n"
     ]
    },
    {
     "name": "stdout",
     "output_type": "stream",
     "text": [
      "C:/Users/20192801/Documents/deep_learning_music_project\\onsets_ISMIR_2012\\csv_large_label\\SoundCheck2_80_Instrumental_Cellos_and_violas_start_end_spect_target.csv\n"
     ]
    },
    {
     "name": "stderr",
     "output_type": "stream",
     "text": [
      "c:\\Users\\20192801\\Anaconda3\\envs\\DeepLearning_labs\\Lib\\site-packages\\librosa\\feature\\spectral.py:2143: UserWarning: Empty filters detected in mel frequency basis. Some channels will produce empty responses. Try increasing your sampling rate (and fmax) or reducing n_mels.\n",
      "  mel_basis = filters.mel(sr=sr, n_fft=n_fft, **kwargs)\n"
     ]
    },
    {
     "name": "stdout",
     "output_type": "stream",
     "text": [
      "C:/Users/20192801/Documents/deep_learning_music_project\\onsets_ISMIR_2012\\csv_large_label\\SoundCheck2_82_Yello_-_The_race_start_end_spect_target.csv\n"
     ]
    },
    {
     "name": "stderr",
     "output_type": "stream",
     "text": [
      "c:\\Users\\20192801\\Anaconda3\\envs\\DeepLearning_labs\\Lib\\site-packages\\librosa\\feature\\spectral.py:2143: UserWarning: Empty filters detected in mel frequency basis. Some channels will produce empty responses. Try increasing your sampling rate (and fmax) or reducing n_mels.\n",
      "  mel_basis = filters.mel(sr=sr, n_fft=n_fft, **kwargs)\n"
     ]
    },
    {
     "name": "stdout",
     "output_type": "stream",
     "text": [
      "C:/Users/20192801/Documents/deep_learning_music_project\\onsets_ISMIR_2012\\csv_large_label\\SoundCheck2_83_The_Alan_Parsons_Project_-_Limelight_start_end_spect_target.csv\n"
     ]
    },
    {
     "name": "stderr",
     "output_type": "stream",
     "text": [
      "c:\\Users\\20192801\\Anaconda3\\envs\\DeepLearning_labs\\Lib\\site-packages\\librosa\\feature\\spectral.py:2143: UserWarning: Empty filters detected in mel frequency basis. Some channels will produce empty responses. Try increasing your sampling rate (and fmax) or reducing n_mels.\n",
      "  mel_basis = filters.mel(sr=sr, n_fft=n_fft, **kwargs)\n"
     ]
    },
    {
     "name": "stdout",
     "output_type": "stream",
     "text": [
      "C:/Users/20192801/Documents/deep_learning_music_project\\onsets_ISMIR_2012\\csv_large_label\\SoundCheck2_84_Robin_S_-_Luv_4_Luv_start_end_spect_target.csv\n"
     ]
    },
    {
     "name": "stderr",
     "output_type": "stream",
     "text": [
      "c:\\Users\\20192801\\Anaconda3\\envs\\DeepLearning_labs\\Lib\\site-packages\\librosa\\feature\\spectral.py:2143: UserWarning: Empty filters detected in mel frequency basis. Some channels will produce empty responses. Try increasing your sampling rate (and fmax) or reducing n_mels.\n",
      "  mel_basis = filters.mel(sr=sr, n_fft=n_fft, **kwargs)\n"
     ]
    },
    {
     "name": "stdout",
     "output_type": "stream",
     "text": [
      "C:/Users/20192801/Documents/deep_learning_music_project\\onsets_ISMIR_2012\\csv_large_label\\unknown_violin_start_end_spect_target.csv\n"
     ]
    },
    {
     "name": "stderr",
     "output_type": "stream",
     "text": [
      "c:\\Users\\20192801\\Anaconda3\\envs\\DeepLearning_labs\\Lib\\site-packages\\librosa\\feature\\spectral.py:2143: UserWarning: Empty filters detected in mel frequency basis. Some channels will produce empty responses. Try increasing your sampling rate (and fmax) or reducing n_mels.\n",
      "  mel_basis = filters.mel(sr=sr, n_fft=n_fft, **kwargs)\n"
     ]
    },
    {
     "name": "stdout",
     "output_type": "stream",
     "text": [
      "C:/Users/20192801/Documents/deep_learning_music_project\\onsets_ISMIR_2012\\csv_large_label\\vorbis_11_start_end_spect_target.csv\n"
     ]
    },
    {
     "name": "stderr",
     "output_type": "stream",
     "text": [
      "c:\\Users\\20192801\\Anaconda3\\envs\\DeepLearning_labs\\Lib\\site-packages\\librosa\\feature\\spectral.py:2143: UserWarning: Empty filters detected in mel frequency basis. Some channels will produce empty responses. Try increasing your sampling rate (and fmax) or reducing n_mels.\n",
      "  mel_basis = filters.mel(sr=sr, n_fft=n_fft, **kwargs)\n"
     ]
    },
    {
     "name": "stdout",
     "output_type": "stream",
     "text": [
      "C:/Users/20192801/Documents/deep_learning_music_project\\onsets_ISMIR_2012\\csv_large_label\\vorbis_bassdrum_start_end_spect_target.csv\n"
     ]
    },
    {
     "name": "stderr",
     "output_type": "stream",
     "text": [
      "c:\\Users\\20192801\\Anaconda3\\envs\\DeepLearning_labs\\Lib\\site-packages\\librosa\\feature\\spectral.py:2143: UserWarning: Empty filters detected in mel frequency basis. Some channels will produce empty responses. Try increasing your sampling rate (and fmax) or reducing n_mels.\n",
      "  mel_basis = filters.mel(sr=sr, n_fft=n_fft, **kwargs)\n"
     ]
    },
    {
     "name": "stdout",
     "output_type": "stream",
     "text": [
      "C:/Users/20192801/Documents/deep_learning_music_project\\onsets_ISMIR_2012\\csv_large_label\\vorbis_dr4_start_end_spect_target.csv\n"
     ]
    },
    {
     "name": "stderr",
     "output_type": "stream",
     "text": [
      "c:\\Users\\20192801\\Anaconda3\\envs\\DeepLearning_labs\\Lib\\site-packages\\librosa\\feature\\spectral.py:2143: UserWarning: Empty filters detected in mel frequency basis. Some channels will produce empty responses. Try increasing your sampling rate (and fmax) or reducing n_mels.\n",
      "  mel_basis = filters.mel(sr=sr, n_fft=n_fft, **kwargs)\n"
     ]
    },
    {
     "name": "stdout",
     "output_type": "stream",
     "text": [
      "C:/Users/20192801/Documents/deep_learning_music_project\\onsets_ISMIR_2012\\csv_large_label\\vorbis_lalaw_start_end_spect_target.csv\n"
     ]
    },
    {
     "data": {
      "text/plain": [
       "[\"File 'C:/Users/20192801/Documents/deep_learning_music_project\\\\onsets_ISMIR_2012\\\\csv_large_label\\\\ah_development_guitar_2684_TexasMusicForge_Dandelion_pt1_start_end_spect_target.csv' saved successfully.\",\n",
       " \"File 'C:/Users/20192801/Documents/deep_learning_music_project\\\\onsets_ISMIR_2012\\\\csv_large_label\\\\ah_development_guitar_Guitar_Licks_06-11_start_end_spect_target.csv' saved successfully.\",\n",
       " \"File 'C:/Users/20192801/Documents/deep_learning_music_project\\\\onsets_ISMIR_2012\\\\csv_large_label\\\\ah_development_guitar_Guitar_Licks_06-12_start_end_spect_target.csv' saved successfully.\",\n",
       " \"File 'C:/Users/20192801/Documents/deep_learning_music_project\\\\onsets_ISMIR_2012\\\\csv_large_label\\\\ah_development_guitar_Guitar_Licks_07-06_start_end_spect_target.csv' saved successfully.\",\n",
       " \"File 'C:/Users/20192801/Documents/deep_learning_music_project\\\\onsets_ISMIR_2012\\\\csv_large_label\\\\ah_development_guitar_Guitar_Licks_07-11_start_end_spect_target.csv' saved successfully.\",\n",
       " \"File 'C:/Users/20192801/Documents/deep_learning_music_project\\\\onsets_ISMIR_2012\\\\csv_large_label\\\\ah_development_guitar_Guitar_Licks_15-05_start_end_spect_target.csv' saved successfully.\",\n",
       " \"File 'C:/Users/20192801/Documents/deep_learning_music_project\\\\onsets_ISMIR_2012\\\\csv_large_label\\\\ah_development_guitar_my_guitar1_start_end_spect_target.csv' saved successfully.\",\n",
       " \"File 'C:/Users/20192801/Documents/deep_learning_music_project\\\\onsets_ISMIR_2012\\\\csv_large_label\\\\ah_development_oud_1_start_end_spect_target.csv' saved successfully.\",\n",
       " \"File 'C:/Users/20192801/Documents/deep_learning_music_project\\\\onsets_ISMIR_2012\\\\csv_large_label\\\\ah_development_oud_8_start_end_spect_target.csv' saved successfully.\",\n",
       " \"File 'C:/Users/20192801/Documents/deep_learning_music_project\\\\onsets_ISMIR_2012\\\\csv_large_label\\\\ah_development_oud_Diverse_-_01_-_Taksim_pt1_start_end_spect_target.csv' saved successfully.\",\n",
       " \"File 'C:/Users/20192801/Documents/deep_learning_music_project\\\\onsets_ISMIR_2012\\\\csv_large_label\\\\ah_development_oud_rast_taksim1_start_end_spect_target.csv' saved successfully.\",\n",
       " \"File 'C:/Users/20192801/Documents/deep_learning_music_project\\\\onsets_ISMIR_2012\\\\csv_large_label\\\\ah_development_oud_ud_taksimleri_-_02_-_huezzam_taksim_pt1_start_end_spect_target.csv' saved successfully.\",\n",
       " \"File 'C:/Users/20192801/Documents/deep_learning_music_project\\\\onsets_ISMIR_2012\\\\csv_large_label\\\\ah_development_percussion_bongo1_start_end_spect_target.csv' saved successfully.\",\n",
       " \"File 'C:/Users/20192801/Documents/deep_learning_music_project\\\\onsets_ISMIR_2012\\\\csv_large_label\\\\ah_development_percussion_cajon116_13_start_end_spect_target.csv' saved successfully.\",\n",
       " \"File 'C:/Users/20192801/Documents/deep_learning_music_project\\\\onsets_ISMIR_2012\\\\csv_large_label\\\\ah_development_percussion_castagnet1_start_end_spect_target.csv' saved successfully.\",\n",
       " \"File 'C:/Users/20192801/Documents/deep_learning_music_project\\\\onsets_ISMIR_2012\\\\csv_large_label\\\\ah_development_percussion_conga1_start_end_spect_target.csv' saved successfully.\",\n",
       " \"File 'C:/Users/20192801/Documents/deep_learning_music_project\\\\onsets_ISMIR_2012\\\\csv_large_label\\\\ah_development_percussion_tambourine_start_end_spect_target.csv' saved successfully.\",\n",
       " \"File 'C:/Users/20192801/Documents/deep_learning_music_project\\\\onsets_ISMIR_2012\\\\csv_large_label\\\\ah_development_percussion_triangle_start_end_spect_target.csv' saved successfully.\",\n",
       " \"File 'C:/Users/20192801/Documents/deep_learning_music_project\\\\onsets_ISMIR_2012\\\\csv_large_label\\\\ah_development_piano_autumn_start_end_spect_target.csv' saved successfully.\",\n",
       " \"File 'C:/Users/20192801/Documents/deep_learning_music_project\\\\onsets_ISMIR_2012\\\\csv_large_label\\\\ah_development_piano_MOON_start_end_spect_target.csv' saved successfully.\",\n",
       " \"File 'C:/Users/20192801/Documents/deep_learning_music_project\\\\onsets_ISMIR_2012\\\\csv_large_label\\\\ah_development_piano_mussorgsky_start_end_spect_target.csv' saved successfully.\",\n",
       " \"File 'C:/Users/20192801/Documents/deep_learning_music_project\\\\onsets_ISMIR_2012\\\\csv_large_label\\\\ah_development_piano_p3_start_end_spect_target.csv' saved successfully.\",\n",
       " \"File 'C:/Users/20192801/Documents/deep_learning_music_project\\\\onsets_ISMIR_2012\\\\csv_large_label\\\\ah_development_piano_p5_start_end_spect_target.csv' saved successfully.\",\n",
       " \"File 'C:/Users/20192801/Documents/deep_learning_music_project\\\\onsets_ISMIR_2012\\\\csv_large_label\\\\ah_development_piano_piano1_start_end_spect_target.csv' saved successfully.\",\n",
       " \"File 'C:/Users/20192801/Documents/deep_learning_music_project\\\\onsets_ISMIR_2012\\\\csv_large_label\\\\ah_development_violin_01__hicaz__keman_start_end_spect_target.csv' saved successfully.\",\n",
       " \"File 'C:/Users/20192801/Documents/deep_learning_music_project\\\\onsets_ISMIR_2012\\\\csv_large_label\\\\ah_development_violin_my_violin1_start_end_spect_target.csv' saved successfully.\",\n",
       " \"File 'C:/Users/20192801/Documents/deep_learning_music_project\\\\onsets_ISMIR_2012\\\\csv_large_label\\\\ah_development_violin_violin2_start_end_spect_target.csv' saved successfully.\",\n",
       " \"File 'C:/Users/20192801/Documents/deep_learning_music_project\\\\onsets_ISMIR_2012\\\\csv_large_label\\\\ah_test_cello_03-Cello_Sonata_3__I_Allegro_ma_non_tanto_pt1_start_end_spect_target.csv' saved successfully.\",\n",
       " \"File 'C:/Users/20192801/Documents/deep_learning_music_project\\\\onsets_ISMIR_2012\\\\csv_large_label\\\\ah_test_cello_03_CelloTaksimi_pt1_start_end_spect_target.csv' saved successfully.\",\n",
       " \"File 'C:/Users/20192801/Documents/deep_learning_music_project\\\\onsets_ISMIR_2012\\\\csv_large_label\\\\ah_test_cello_08_-_Bach_(JS)-_Cello_Suite_-4_In_E_Flat_BWV_1010i_-_1._Preludium_start_end_spect_target.csv' saved successfully.\",\n",
       " \"File 'C:/Users/20192801/Documents/deep_learning_music_project\\\\onsets_ISMIR_2012\\\\csv_large_label\\\\ah_test_cello_14_VioloncelloTaksim_pt1_start_end_spect_target.csv' saved successfully.\",\n",
       " \"File 'C:/Users/20192801/Documents/deep_learning_music_project\\\\onsets_ISMIR_2012\\\\csv_large_label\\\\ah_test_cello_cello1_start_end_spect_target.csv' saved successfully.\",\n",
       " \"File 'C:/Users/20192801/Documents/deep_learning_music_project\\\\onsets_ISMIR_2012\\\\csv_large_label\\\\ah_test_clarinet_44361_debudding_Clarinet_ORTF_Stereo_Pair_NT_5_s_01_start_end_spect_target.csv' saved successfully.\",\n",
       " \"File 'C:/Users/20192801/Documents/deep_learning_music_project\\\\onsets_ISMIR_2012\\\\csv_large_label\\\\ah_test_clarinet_44784_alikirodgers_AB_Clarinet_01_pt1_start_end_spect_target.csv' saved successfully.\",\n",
       " \"File 'C:/Users/20192801/Documents/deep_learning_music_project\\\\onsets_ISMIR_2012\\\\csv_large_label\\\\ah_test_clarinet_clarinet1_start_end_spect_target.csv' saved successfully.\",\n",
       " \"File 'C:/Users/20192801/Documents/deep_learning_music_project\\\\onsets_ISMIR_2012\\\\csv_large_label\\\\ah_test_clarinet_my_clarinet1_start_end_spect_target.csv' saved successfully.\",\n",
       " \"File 'C:/Users/20192801/Documents/deep_learning_music_project\\\\onsets_ISMIR_2012\\\\csv_large_label\\\\ah_test_clarinet_SL1_pt1_start_end_spect_target.csv' saved successfully.\",\n",
       " \"File 'C:/Users/20192801/Documents/deep_learning_music_project\\\\onsets_ISMIR_2012\\\\csv_large_label\\\\ah_test_guitar_guitar2_start_end_spect_target.csv' saved successfully.\",\n",
       " \"File 'C:/Users/20192801/Documents/deep_learning_music_project\\\\onsets_ISMIR_2012\\\\csv_large_label\\\\ah_test_guitar_guitar3_start_end_spect_target.csv' saved successfully.\",\n",
       " \"File 'C:/Users/20192801/Documents/deep_learning_music_project\\\\onsets_ISMIR_2012\\\\csv_large_label\\\\ah_test_guitar_Guitar_Licks_15-06_start_end_spect_target.csv' saved successfully.\",\n",
       " \"File 'C:/Users/20192801/Documents/deep_learning_music_project\\\\onsets_ISMIR_2012\\\\csv_large_label\\\\ah_test_guitar_Guitar_Licks_51-10_start_end_spect_target.csv' saved successfully.\",\n",
       " \"File 'C:/Users/20192801/Documents/deep_learning_music_project\\\\onsets_ISMIR_2012\\\\csv_large_label\\\\ah_test_guitar_Summer_Together_110_pt1_start_end_spect_target.csv' saved successfully.\",\n",
       " \"File 'C:/Users/20192801/Documents/deep_learning_music_project\\\\onsets_ISMIR_2012\\\\csv_large_label\\\\ah_test_kemence_01_sultaniyghtaksim_Kemence_start_end_spect_target.csv' saved successfully.\",\n",
       " \"File 'C:/Users/20192801/Documents/deep_learning_music_project\\\\onsets_ISMIR_2012\\\\csv_large_label\\\\ah_test_kemence_08_-_HicazTaksim_cut_start_end_spect_target.csv' saved successfully.\",\n",
       " \"File 'C:/Users/20192801/Documents/deep_learning_music_project\\\\onsets_ISMIR_2012\\\\csv_large_label\\\\ah_test_kemence_10_huseyni_taksim_ve_cecenkizi_cut_start_end_spect_target.csv' saved successfully.\",\n",
       " \"File 'C:/Users/20192801/Documents/deep_learning_music_project\\\\onsets_ISMIR_2012\\\\csv_large_label\\\\ah_test_kemence_11_RastTaksim_Kemence_start_end_spect_target.csv' saved successfully.\",\n",
       " \"File 'C:/Users/20192801/Documents/deep_learning_music_project\\\\onsets_ISMIR_2012\\\\csv_large_label\\\\ah_test_kemence_22_NevaTaksim_Kemence_start_end_spect_target.csv' saved successfully.\",\n",
       " \"File 'C:/Users/20192801/Documents/deep_learning_music_project\\\\onsets_ISMIR_2012\\\\csv_large_label\\\\ah_test_mixtures_classic2_start_end_spect_target.csv' saved successfully.\",\n",
       " \"File 'C:/Users/20192801/Documents/deep_learning_music_project\\\\onsets_ISMIR_2012\\\\csv_large_label\\\\ah_test_mixtures_classic3_start_end_spect_target.csv' saved successfully.\",\n",
       " \"File 'C:/Users/20192801/Documents/deep_learning_music_project\\\\onsets_ISMIR_2012\\\\csv_large_label\\\\ah_test_mixtures_jazz2_start_end_spect_target.csv' saved successfully.\",\n",
       " \"File 'C:/Users/20192801/Documents/deep_learning_music_project\\\\onsets_ISMIR_2012\\\\csv_large_label\\\\ah_test_mixtures_jazz3_start_end_spect_target.csv' saved successfully.\",\n",
       " \"File 'C:/Users/20192801/Documents/deep_learning_music_project\\\\onsets_ISMIR_2012\\\\csv_large_label\\\\ah_test_mixtures_pop1_start_end_spect_target.csv' saved successfully.\",\n",
       " \"File 'C:/Users/20192801/Documents/deep_learning_music_project\\\\onsets_ISMIR_2012\\\\csv_large_label\\\\ah_test_mixtures_rock1_start_end_spect_target.csv' saved successfully.\",\n",
       " \"File 'C:/Users/20192801/Documents/deep_learning_music_project\\\\onsets_ISMIR_2012\\\\csv_large_label\\\\ah_test_ney_ne_icm05_start_end_spect_target.csv' saved successfully.\",\n",
       " \"File 'C:/Users/20192801/Documents/deep_learning_music_project\\\\onsets_ISMIR_2012\\\\csv_large_label\\\\ah_test_ney_ne_icm09_start_end_spect_target.csv' saved successfully.\",\n",
       " \"File 'C:/Users/20192801/Documents/deep_learning_music_project\\\\onsets_ISMIR_2012\\\\csv_large_label\\\\ah_test_ney_ne_icm13_start_end_spect_target.csv' saved successfully.\",\n",
       " \"File 'C:/Users/20192801/Documents/deep_learning_music_project\\\\onsets_ISMIR_2012\\\\csv_large_label\\\\ah_test_ney_ne_se01_start_end_spect_target.csv' saved successfully.\",\n",
       " \"File 'C:/Users/20192801/Documents/deep_learning_music_project\\\\onsets_ISMIR_2012\\\\csv_large_label\\\\ah_test_ney_ne_se03_start_end_spect_target.csv' saved successfully.\",\n",
       " \"File 'C:/Users/20192801/Documents/deep_learning_music_project\\\\onsets_ISMIR_2012\\\\csv_large_label\\\\ah_test_ney_ne_se04_start_end_spect_target.csv' saved successfully.\",\n",
       " \"File 'C:/Users/20192801/Documents/deep_learning_music_project\\\\onsets_ISMIR_2012\\\\csv_large_label\\\\ah_test_ney_ne_tmu2n06_start_end_spect_target.csv' saved successfully.\",\n",
       " \"File 'C:/Users/20192801/Documents/deep_learning_music_project\\\\onsets_ISMIR_2012\\\\csv_large_label\\\\ah_test_oud_Diverse_-_02_-_Mahur_Pesrev_(Ud)_start_end_spect_target.csv' saved successfully.\",\n",
       " \"File 'C:/Users/20192801/Documents/deep_learning_music_project\\\\onsets_ISMIR_2012\\\\csv_large_label\\\\ah_test_oud_Diverse_-_03_-_Muayyer_Kurdi_Taksim_start_end_spect_target.csv' saved successfully.\",\n",
       " \"File 'C:/Users/20192801/Documents/deep_learning_music_project\\\\onsets_ISMIR_2012\\\\csv_large_label\\\\ah_test_oud_Trio_Joubran-04-Safarcut_start_end_spect_target.csv' saved successfully.\",\n",
       " \"File 'C:/Users/20192801/Documents/deep_learning_music_project\\\\onsets_ISMIR_2012\\\\csv_large_label\\\\ah_test_oud_ud_taksimleri_-_06_-_segah_taksim_start_end_spect_target.csv' saved successfully.\",\n",
       " \"File 'C:/Users/20192801/Documents/deep_learning_music_project\\\\onsets_ISMIR_2012\\\\csv_large_label\\\\ah_test_oud_ud_taksimleri_-_17_-_ussak_taksim_start_end_spect_target.csv' saved successfully.\",\n",
       " \"File 'C:/Users/20192801/Documents/deep_learning_music_project\\\\onsets_ISMIR_2012\\\\csv_large_label\\\\ah_test_piano_Chick_Corea_-_03_-_Folk_Song_start_end_spect_target.csv' saved successfully.\",\n",
       " \"File 'C:/Users/20192801/Documents/deep_learning_music_project\\\\onsets_ISMIR_2012\\\\csv_large_label\\\\ah_test_piano_Chick_Corea_-_08_-_So_in_Love_start_end_spect_target.csv' saved successfully.\",\n",
       " \"File 'C:/Users/20192801/Documents/deep_learning_music_project\\\\onsets_ISMIR_2012\\\\csv_large_label\\\\ah_test_piano_Oscar_Peterson_-_02_-_Love_Ballade_start_end_spect_target.csv' saved successfully.\",\n",
       " \"File 'C:/Users/20192801/Documents/deep_learning_music_project\\\\onsets_ISMIR_2012\\\\csv_large_label\\\\ah_test_piano_Oscar_Peterson_-_08_-_I_Love_You_Porgy_start_end_spect_target.csv' saved successfully.\",\n",
       " \"File 'C:/Users/20192801/Documents/deep_learning_music_project\\\\onsets_ISMIR_2012\\\\csv_large_label\\\\ah_test_piano_PianoMic_full_stick_start_end_spect_target.csv' saved successfully.\",\n",
       " \"File 'C:/Users/20192801/Documents/deep_learning_music_project\\\\onsets_ISMIR_2012\\\\csv_large_label\\\\ah_test_sax_20928_stephenchai_Gypsy_1_Alto_Sax_B_103bpm_start_end_spect_target.csv' saved successfully.\",\n",
       " \"File 'C:/Users/20192801/Documents/deep_learning_music_project\\\\onsets_ISMIR_2012\\\\csv_large_label\\\\ah_test_sax_george_russel2_-_dimensions_pt1_start_end_spect_target.csv' saved successfully.\",\n",
       " \"File 'C:/Users/20192801/Documents/deep_learning_music_project\\\\onsets_ISMIR_2012\\\\csv_large_label\\\\ah_test_sax_herbieHanckockTrack06_pt1_start_end_spect_target.csv' saved successfully.\",\n",
       " \"File 'C:/Users/20192801/Documents/deep_learning_music_project\\\\onsets_ISMIR_2012\\\\csv_large_label\\\\ah_test_sax_sax1_start_end_spect_target.csv' saved successfully.\",\n",
       " \"File 'C:/Users/20192801/Documents/deep_learning_music_project\\\\onsets_ISMIR_2012\\\\csv_large_label\\\\ah_test_sax_Tubby_Hayes_-_The_Eighth_Wonder_-_11_-_Unidentified_12_Bar_Theme_pt1_start_end_spect_target.csv' saved successfully.\",\n",
       " \"File 'C:/Users/20192801/Documents/deep_learning_music_project\\\\onsets_ISMIR_2012\\\\csv_large_label\\\\ah_test_tanburpluck_ta_1eb03_start_end_spect_target.csv' saved successfully.\",\n",
       " \"File 'C:/Users/20192801/Documents/deep_learning_music_project\\\\onsets_ISMIR_2012\\\\csv_large_label\\\\ah_test_tanburpluck_ta_1eb06_start_end_spect_target.csv' saved successfully.\",\n",
       " \"File 'C:/Users/20192801/Documents/deep_learning_music_project\\\\onsets_ISMIR_2012\\\\csv_large_label\\\\ah_test_tanburpluck_ta_1eb07_start_end_spect_target.csv' saved successfully.\",\n",
       " \"File 'C:/Users/20192801/Documents/deep_learning_music_project\\\\onsets_ISMIR_2012\\\\csv_large_label\\\\ah_test_tanburpluck_ta_1eb08_start_end_spect_target.csv' saved successfully.\",\n",
       " \"File 'C:/Users/20192801/Documents/deep_learning_music_project\\\\onsets_ISMIR_2012\\\\csv_large_label\\\\ah_test_tanburpluck_ta_1mc08_start_end_spect_target.csv' saved successfully.\",\n",
       " \"File 'C:/Users/20192801/Documents/deep_learning_music_project\\\\onsets_ISMIR_2012\\\\csv_large_label\\\\ah_test_trumpet_1_-_Lost_In_Madrid_Part_1_start_end_spect_target.csv' saved successfully.\",\n",
       " \"File 'C:/Users/20192801/Documents/deep_learning_music_project\\\\onsets_ISMIR_2012\\\\csv_large_label\\\\ah_test_trumpet_chetbaker_start_end_spect_target.csv' saved successfully.\",\n",
       " \"File 'C:/Users/20192801/Documents/deep_learning_music_project\\\\onsets_ISMIR_2012\\\\csv_large_label\\\\ah_test_trumpet_Miles_DAVIS__Michel_LEGRAND_DINGO_02_start_end_spect_target.csv' saved successfully.\",\n",
       " \"File 'C:/Users/20192801/Documents/deep_learning_music_project\\\\onsets_ISMIR_2012\\\\csv_large_label\\\\ah_test_trumpet_trumpet1_start_end_spect_target.csv' saved successfully.\",\n",
       " \"File 'C:/Users/20192801/Documents/deep_learning_music_project\\\\onsets_ISMIR_2012\\\\csv_large_label\\\\ah_test_trumpet_waldhorn33_-_Paloseco_pt1_start_end_spect_target.csv' saved successfully.\",\n",
       " \"File 'C:/Users/20192801/Documents/deep_learning_music_project\\\\onsets_ISMIR_2012\\\\csv_large_label\\\\ah_test_violin_03__kurdilihicazkar__keman_start_end_spect_target.csv' saved successfully.\",\n",
       " \"File 'C:/Users/20192801/Documents/deep_learning_music_project\\\\onsets_ISMIR_2012\\\\csv_large_label\\\\ah_test_violin_42954_FreqMan_hoochie_violin_pt1_start_end_spect_target.csv' saved successfully.\",\n",
       " \"File 'C:/Users/20192801/Documents/deep_learning_music_project\\\\onsets_ISMIR_2012\\\\csv_large_label\\\\ah_test_violin_dark_eyes_viol_start_end_spect_target.csv' saved successfully.\",\n",
       " \"File 'C:/Users/20192801/Documents/deep_learning_music_project\\\\onsets_ISMIR_2012\\\\csv_large_label\\\\ah_test_violin_my_violin2_start_end_spect_target.csv' saved successfully.\",\n",
       " \"File 'C:/Users/20192801/Documents/deep_learning_music_project\\\\onsets_ISMIR_2012\\\\csv_large_label\\\\ah_test_violin_my_violin3_start_end_spect_target.csv' saved successfully.\",\n",
       " \"File 'C:/Users/20192801/Documents/deep_learning_music_project\\\\onsets_ISMIR_2012\\\\csv_large_label\\\\al_Albums-AnaBelen_Veneo-13(1.8-11.8)_start_end_spect_target.csv' saved successfully.\",\n",
       " \"File 'C:/Users/20192801/Documents/deep_learning_music_project\\\\onsets_ISMIR_2012\\\\csv_large_label\\\\al_Albums-Ballroom_Classics4-07(9.8-19.8)_start_end_spect_target.csv' saved successfully.\",\n",
       " \"File 'C:/Users/20192801/Documents/deep_learning_music_project\\\\onsets_ISMIR_2012\\\\csv_large_label\\\\al_Albums-Cafe_Paradiso-09(14.9-24.9)_start_end_spect_target.csv' saved successfully.\",\n",
       " \"File 'C:/Users/20192801/Documents/deep_learning_music_project\\\\onsets_ISMIR_2012\\\\csv_large_label\\\\al_Albums-Cafe_Paradiso-10(1.5-11.5)_start_end_spect_target.csv' saved successfully.\",\n",
       " \"File 'C:/Users/20192801/Documents/deep_learning_music_project\\\\onsets_ISMIR_2012\\\\csv_large_label\\\\al_Albums-Cafe_Paradiso-14(15.9-25.9)_start_end_spect_target.csv' saved successfully.\",\n",
       " \"File 'C:/Users/20192801/Documents/deep_learning_music_project\\\\onsets_ISMIR_2012\\\\csv_large_label\\\\al_Albums-Cafe_Paradiso-16(17.0-27.0)_start_end_spect_target.csv' saved successfully.\",\n",
       " \"File 'C:/Users/20192801/Documents/deep_learning_music_project\\\\onsets_ISMIR_2012\\\\csv_large_label\\\\al_Albums-Fire-03(12.4-22.4)_start_end_spect_target.csv' saved successfully.\",\n",
       " \"File 'C:/Users/20192801/Documents/deep_learning_music_project\\\\onsets_ISMIR_2012\\\\csv_large_label\\\\al_Albums-Latino_Latino-05(3.4-13.4)_start_end_spect_target.csv' saved successfully.\",\n",
       " \"File 'C:/Users/20192801/Documents/deep_learning_music_project\\\\onsets_ISMIR_2012\\\\csv_large_label\\\\al_Albums-Latino_Latino-05(7.8-17.8)_start_end_spect_target.csv' saved successfully.\",\n",
       " \"File 'C:/Users/20192801/Documents/deep_learning_music_project\\\\onsets_ISMIR_2012\\\\csv_large_label\\\\al_Albums-Latino_Latino-09(8.8-18.8)_start_end_spect_target.csv' saved successfully.\",\n",
       " \"File 'C:/Users/20192801/Documents/deep_learning_music_project\\\\onsets_ISMIR_2012\\\\csv_large_label\\\\al_Albums-Latin_Jam-02(6.8-16.8)_start_end_spect_target.csv' saved successfully.\",\n",
       " \"File 'C:/Users/20192801/Documents/deep_learning_music_project\\\\onsets_ISMIR_2012\\\\csv_large_label\\\\al_Albums-Latin_Jam2-03(6.1-16.1)_start_end_spect_target.csv' saved successfully.\",\n",
       " \"File 'C:/Users/20192801/Documents/deep_learning_music_project\\\\onsets_ISMIR_2012\\\\csv_large_label\\\\al_Albums-Latin_Jam2-09(5.3-15.3)_start_end_spect_target.csv' saved successfully.\",\n",
       " \"File 'C:/Users/20192801/Documents/deep_learning_music_project\\\\onsets_ISMIR_2012\\\\csv_large_label\\\\al_Albums-Latin_Jam3-11(11.5-21.5)_start_end_spect_target.csv' saved successfully.\",\n",
       " \"File 'C:/Users/20192801/Documents/deep_learning_music_project\\\\onsets_ISMIR_2012\\\\csv_large_label\\\\al_Albums-Latin_Jam5-01(7.9-17.9)_start_end_spect_target.csv' saved successfully.\",\n",
       " \"File 'C:/Users/20192801/Documents/deep_learning_music_project\\\\onsets_ISMIR_2012\\\\csv_large_label\\\\al_Albums-Step_By_Step-07(1.1-11.1)_start_end_spect_target.csv' saved successfully.\",\n",
       " \"File 'C:/Users/20192801/Documents/deep_learning_music_project\\\\onsets_ISMIR_2012\\\\csv_large_label\\\\al_Media-103505(1.9-11.9)_start_end_spect_target.csv' saved successfully.\",\n",
       " \"File 'C:/Users/20192801/Documents/deep_learning_music_project\\\\onsets_ISMIR_2012\\\\csv_large_label\\\\al_Media-103515(19.7-29.7)_start_end_spect_target.csv' saved successfully.\",\n",
       " \"File 'C:/Users/20192801/Documents/deep_learning_music_project\\\\onsets_ISMIR_2012\\\\csv_large_label\\\\al_Media-103515(9.1-19.1)_start_end_spect_target.csv' saved successfully.\",\n",
       " \"File 'C:/Users/20192801/Documents/deep_learning_music_project\\\\onsets_ISMIR_2012\\\\csv_large_label\\\\al_Media-103605(10.0-20.0)_start_end_spect_target.csv' saved successfully.\",\n",
       " \"File 'C:/Users/20192801/Documents/deep_learning_music_project\\\\onsets_ISMIR_2012\\\\csv_large_label\\\\al_Media-103611(0.2-10.2)_start_end_spect_target.csv' saved successfully.\",\n",
       " \"File 'C:/Users/20192801/Documents/deep_learning_music_project\\\\onsets_ISMIR_2012\\\\csv_large_label\\\\al_Media-103611(8.2-18.2)_start_end_spect_target.csv' saved successfully.\",\n",
       " \"File 'C:/Users/20192801/Documents/deep_learning_music_project\\\\onsets_ISMIR_2012\\\\csv_large_label\\\\al_Media-103714(4.2-14.2)_start_end_spect_target.csv' saved successfully.\",\n",
       " \"File 'C:/Users/20192801/Documents/deep_learning_music_project\\\\onsets_ISMIR_2012\\\\csv_large_label\\\\al_Media-103814(13.8-23.8)_start_end_spect_target.csv' saved successfully.\",\n",
       " \"File 'C:/Users/20192801/Documents/deep_learning_music_project\\\\onsets_ISMIR_2012\\\\csv_large_label\\\\al_Media-103917(13.5-23.5)_start_end_spect_target.csv' saved successfully.\",\n",
       " \"File 'C:/Users/20192801/Documents/deep_learning_music_project\\\\onsets_ISMIR_2012\\\\csv_large_label\\\\al_Media-103919(8.0-18.0)_start_end_spect_target.csv' saved successfully.\",\n",
       " \"File 'C:/Users/20192801/Documents/deep_learning_music_project\\\\onsets_ISMIR_2012\\\\csv_large_label\\\\al_Media-104002(11.3-21.3)_start_end_spect_target.csv' saved successfully.\",\n",
       " \"File 'C:/Users/20192801/Documents/deep_learning_music_project\\\\onsets_ISMIR_2012\\\\csv_large_label\\\\al_Media-104016(5.1-15.1)_start_end_spect_target.csv' saved successfully.\",\n",
       " \"File 'C:/Users/20192801/Documents/deep_learning_music_project\\\\onsets_ISMIR_2012\\\\csv_large_label\\\\al_Media-104105(15.6-25.6)_start_end_spect_target.csv' saved successfully.\",\n",
       " \"File 'C:/Users/20192801/Documents/deep_learning_music_project\\\\onsets_ISMIR_2012\\\\csv_large_label\\\\al_Media-104218(9.3-19.3)_start_end_spect_target.csv' saved successfully.\",\n",
       " \"File 'C:/Users/20192801/Documents/deep_learning_music_project\\\\onsets_ISMIR_2012\\\\csv_large_label\\\\al_Media-104306(5.0-15.0)_start_end_spect_target.csv' saved successfully.\",\n",
       " \"File 'C:/Users/20192801/Documents/deep_learning_music_project\\\\onsets_ISMIR_2012\\\\csv_large_label\\\\al_Media-104317(12.3-22.3)_start_end_spect_target.csv' saved successfully.\",\n",
       " \"File 'C:/Users/20192801/Documents/deep_learning_music_project\\\\onsets_ISMIR_2012\\\\csv_large_label\\\\al_Media-104415(10.7-20.7)_start_end_spect_target.csv' saved successfully.\",\n",
       " \"File 'C:/Users/20192801/Documents/deep_learning_music_project\\\\onsets_ISMIR_2012\\\\csv_large_label\\\\al_Media-104506(3.8-13.8)_start_end_spect_target.csv' saved successfully.\",\n",
       " \"File 'C:/Users/20192801/Documents/deep_learning_music_project\\\\onsets_ISMIR_2012\\\\csv_large_label\\\\al_Media-104717(18.2-28.2)_start_end_spect_target.csv' saved successfully.\",\n",
       " \"File 'C:/Users/20192801/Documents/deep_learning_music_project\\\\onsets_ISMIR_2012\\\\csv_large_label\\\\al_Media-104807(16.5-26.5)_start_end_spect_target.csv' saved successfully.\",\n",
       " \"File 'C:/Users/20192801/Documents/deep_learning_music_project\\\\onsets_ISMIR_2012\\\\csv_large_label\\\\al_Media-104917(15.6-25.6)_start_end_spect_target.csv' saved successfully.\",\n",
       " \"File 'C:/Users/20192801/Documents/deep_learning_music_project\\\\onsets_ISMIR_2012\\\\csv_large_label\\\\al_Media-105009(20.3-30.3)_start_end_spect_target.csv' saved successfully.\",\n",
       " \"File 'C:/Users/20192801/Documents/deep_learning_music_project\\\\onsets_ISMIR_2012\\\\csv_large_label\\\\al_Media-105016(4.1-14.1)_start_end_spect_target.csv' saved successfully.\",\n",
       " \"File 'C:/Users/20192801/Documents/deep_learning_music_project\\\\onsets_ISMIR_2012\\\\csv_large_label\\\\al_Media-105020(11.1-21.1)_start_end_spect_target.csv' saved successfully.\",\n",
       " \"File 'C:/Users/20192801/Documents/deep_learning_music_project\\\\onsets_ISMIR_2012\\\\csv_large_label\\\\al_Media-105306(21.1-31.1)_start_end_spect_target.csv' saved successfully.\",\n",
       " \"File 'C:/Users/20192801/Documents/deep_learning_music_project\\\\onsets_ISMIR_2012\\\\csv_large_label\\\\al_Media-105320(2.5-12.5)_start_end_spect_target.csv' saved successfully.\",\n",
       " \"File 'C:/Users/20192801/Documents/deep_learning_music_project\\\\onsets_ISMIR_2012\\\\csv_large_label\\\\al_Media-105402(9.7-19.7)_start_end_spect_target.csv' saved successfully.\",\n",
       " \"File 'C:/Users/20192801/Documents/deep_learning_music_project\\\\onsets_ISMIR_2012\\\\csv_large_label\\\\al_Media-105404(8.0-18.0)_start_end_spect_target.csv' saved successfully.\",\n",
       " \"File 'C:/Users/20192801/Documents/deep_learning_music_project\\\\onsets_ISMIR_2012\\\\csv_large_label\\\\al_Media-105506(11.4-21.4)_start_end_spect_target.csv' saved successfully.\",\n",
       " \"File 'C:/Users/20192801/Documents/deep_learning_music_project\\\\onsets_ISMIR_2012\\\\csv_large_label\\\\al_Media-105614(20.9-30.9)_start_end_spect_target.csv' saved successfully.\",\n",
       " \"File 'C:/Users/20192801/Documents/deep_learning_music_project\\\\onsets_ISMIR_2012\\\\csv_large_label\\\\al_Media-105615(12.4-22.4)_start_end_spect_target.csv' saved successfully.\",\n",
       " \"File 'C:/Users/20192801/Documents/deep_learning_music_project\\\\onsets_ISMIR_2012\\\\csv_large_label\\\\al_Media-105808(15.5-25.5)_start_end_spect_target.csv' saved successfully.\",\n",
       " \"File 'C:/Users/20192801/Documents/deep_learning_music_project\\\\onsets_ISMIR_2012\\\\csv_large_label\\\\al_Media-105819(8.1-18.1)_start_end_spect_target.csv' saved successfully.\",\n",
       " \"File 'C:/Users/20192801/Documents/deep_learning_music_project\\\\onsets_ISMIR_2012\\\\csv_large_label\\\\al_Media-105905(7.8-17.8)_start_end_spect_target.csv' saved successfully.\",\n",
       " \"File 'C:/Users/20192801/Documents/deep_learning_music_project\\\\onsets_ISMIR_2012\\\\csv_large_label\\\\al_Media-105913(10.6-20.6)_start_end_spect_target.csv' saved successfully.\",\n",
       " \"File 'C:/Users/20192801/Documents/deep_learning_music_project\\\\onsets_ISMIR_2012\\\\csv_large_label\\\\al_Media-106001(9.7-19.7)_start_end_spect_target.csv' saved successfully.\",\n",
       " \"File 'C:/Users/20192801/Documents/deep_learning_music_project\\\\onsets_ISMIR_2012\\\\csv_large_label\\\\al_Media-106011(14.8-24.8)_start_end_spect_target.csv' saved successfully.\",\n",
       " \"File 'C:/Users/20192801/Documents/deep_learning_music_project\\\\onsets_ISMIR_2012\\\\csv_large_label\\\\al_Media-106015(16.4-26.4)_start_end_spect_target.csv' saved successfully.\",\n",
       " \"File 'C:/Users/20192801/Documents/deep_learning_music_project\\\\onsets_ISMIR_2012\\\\csv_large_label\\\\al_Media-106109(12.4-22.4)_start_end_spect_target.csv' saved successfully.\",\n",
       " \"File 'C:/Users/20192801/Documents/deep_learning_music_project\\\\onsets_ISMIR_2012\\\\csv_large_label\\\\al_Media-106110(6.4-16.4)_start_end_spect_target.csv' saved successfully.\",\n",
       " \"File 'C:/Users/20192801/Documents/deep_learning_music_project\\\\onsets_ISMIR_2012\\\\csv_large_label\\\\al_Media-106113(16.4-26.4)_start_end_spect_target.csv' saved successfully.\",\n",
       " \"File 'C:/Users/20192801/Documents/deep_learning_music_project\\\\onsets_ISMIR_2012\\\\csv_large_label\\\\al_Media-106115(15.9-25.9)_start_end_spect_target.csv' saved successfully.\",\n",
       " \"File 'C:/Users/20192801/Documents/deep_learning_music_project\\\\onsets_ISMIR_2012\\\\csv_large_label\\\\api_15-tamerlano_act_i_track_15b_start_end_spect_target.csv' saved successfully.\",\n",
       " \"File 'C:/Users/20192801/Documents/deep_learning_music_project\\\\onsets_ISMIR_2012\\\\csv_large_label\\\\api_2-artificial_start_end_spect_target.csv' saved successfully.\",\n",
       " \"File 'C:/Users/20192801/Documents/deep_learning_music_project\\\\onsets_ISMIR_2012\\\\csv_large_label\\\\api_2-uncle_mean_start_end_spect_target.csv' saved successfully.\",\n",
       " \"File 'C:/Users/20192801/Documents/deep_learning_music_project\\\\onsets_ISMIR_2012\\\\csv_large_label\\\\api_25-rujero_start_end_spect_target.csv' saved successfully.\",\n",
       " \"File 'C:/Users/20192801/Documents/deep_learning_music_project\\\\onsets_ISMIR_2012\\\\csv_large_label\\\\api_3-long_gone_start_end_spect_target.csv' saved successfully.\",\n",
       " \"File 'C:/Users/20192801/Documents/deep_learning_music_project\\\\onsets_ISMIR_2012\\\\csv_large_label\\\\api_3-you_think_too_muchb_start_end_spect_target.csv' saved successfully.\",\n",
       " \"File 'C:/Users/20192801/Documents/deep_learning_music_project\\\\onsets_ISMIR_2012\\\\csv_large_label\\\\api_6-three_start_end_spect_target.csv' saved successfully.\",\n",
       " \"File 'C:/Users/20192801/Documents/deep_learning_music_project\\\\onsets_ISMIR_2012\\\\csv_large_label\\\\api_8-ambrielb_start_end_spect_target.csv' saved successfully.\",\n",
       " \"File 'C:/Users/20192801/Documents/deep_learning_music_project\\\\onsets_ISMIR_2012\\\\csv_large_label\\\\api_its_alright_for_you_o_start_end_spect_target.csv' saved successfully.\",\n",
       " \"File 'C:/Users/20192801/Documents/deep_learning_music_project\\\\onsets_ISMIR_2012\\\\csv_large_label\\\\api_realorgan3_start_end_spect_target.csv' saved successfully.\",\n",
       " \"File 'C:/Users/20192801/Documents/deep_learning_music_project\\\\onsets_ISMIR_2012\\\\csv_large_label\\\\api_RM-C002_start_end_spect_target.csv' saved successfully.\",\n",
       " \"File 'C:/Users/20192801/Documents/deep_learning_music_project\\\\onsets_ISMIR_2012\\\\csv_large_label\\\\api_RM-C003_start_end_spect_target.csv' saved successfully.\",\n",
       " \"File 'C:/Users/20192801/Documents/deep_learning_music_project\\\\onsets_ISMIR_2012\\\\csv_large_label\\\\api_RM-C026_start_end_spect_target.csv' saved successfully.\",\n",
       " \"File 'C:/Users/20192801/Documents/deep_learning_music_project\\\\onsets_ISMIR_2012\\\\csv_large_label\\\\api_RM-C027_start_end_spect_target.csv' saved successfully.\",\n",
       " \"File 'C:/Users/20192801/Documents/deep_learning_music_project\\\\onsets_ISMIR_2012\\\\csv_large_label\\\\api_RM-C036_start_end_spect_target.csv' saved successfully.\",\n",
       " \"File 'C:/Users/20192801/Documents/deep_learning_music_project\\\\onsets_ISMIR_2012\\\\csv_large_label\\\\api_RM-C038_start_end_spect_target.csv' saved successfully.\",\n",
       " \"File 'C:/Users/20192801/Documents/deep_learning_music_project\\\\onsets_ISMIR_2012\\\\csv_large_label\\\\api_RM-G008_start_end_spect_target.csv' saved successfully.\",\n",
       " \"File 'C:/Users/20192801/Documents/deep_learning_music_project\\\\onsets_ISMIR_2012\\\\csv_large_label\\\\api_RM-J001_start_end_spect_target.csv' saved successfully.\",\n",
       " \"File 'C:/Users/20192801/Documents/deep_learning_music_project\\\\onsets_ISMIR_2012\\\\csv_large_label\\\\api_tiersen11_start_end_spect_target.csv' saved successfully.\",\n",
       " \"File 'C:/Users/20192801/Documents/deep_learning_music_project\\\\onsets_ISMIR_2012\\\\csv_large_label\\\\ff123_2nd_vent_clip_start_end_spect_target.csv' saved successfully.\",\n",
       " \"File 'C:/Users/20192801/Documents/deep_learning_music_project\\\\onsets_ISMIR_2012\\\\csv_large_label\\\\ff123_41_30sec_start_end_spect_target.csv' saved successfully.\",\n",
       " \"File 'C:/Users/20192801/Documents/deep_learning_music_project\\\\onsets_ISMIR_2012\\\\csv_large_label\\\\ff123_ATrain_start_end_spect_target.csv' saved successfully.\",\n",
       " \"File 'C:/Users/20192801/Documents/deep_learning_music_project\\\\onsets_ISMIR_2012\\\\csv_large_label\\\\ff123_BachS1007_start_end_spect_target.csv' saved successfully.\",\n",
       " \"File 'C:/Users/20192801/Documents/deep_learning_music_project\\\\onsets_ISMIR_2012\\\\csv_large_label\\\\ff123_BeautySlept_start_end_spect_target.csv' saved successfully.\",\n",
       " \"File 'C:/Users/20192801/Documents/deep_learning_music_project\\\\onsets_ISMIR_2012\\\\csv_large_label\\\\ff123_beo1test_start_end_spect_target.csv' saved successfully.\",\n",
       " \"File 'C:/Users/20192801/Documents/deep_learning_music_project\\\\onsets_ISMIR_2012\\\\csv_large_label\\\\ff123_BigYellow_start_end_spect_target.csv' saved successfully.\",\n",
       " \"File 'C:/Users/20192801/Documents/deep_learning_music_project\\\\onsets_ISMIR_2012\\\\csv_large_label\\\\ff123_Blackwater_start_end_spect_target.csv' saved successfully.\",\n",
       " \"File 'C:/Users/20192801/Documents/deep_learning_music_project\\\\onsets_ISMIR_2012\\\\csv_large_label\\\\ff123_bloodline_start_end_spect_target.csv' saved successfully.\",\n",
       " \"File 'C:/Users/20192801/Documents/deep_learning_music_project\\\\onsets_ISMIR_2012\\\\csv_large_label\\\\ff123_BlueEyesExcerpt_start_end_spect_target.csv' saved successfully.\",\n",
       " \"File 'C:/Users/20192801/Documents/deep_learning_music_project\\\\onsets_ISMIR_2012\\\\csv_large_label\\\\ff123_charlies_start_end_spect_target.csv' saved successfully.\",\n",
       " \"File 'C:/Users/20192801/Documents/deep_learning_music_project\\\\onsets_ISMIR_2012\\\\csv_large_label\\\\ff123_cymbals_start_end_spect_target.csv' saved successfully.\",\n",
       " \"File 'C:/Users/20192801/Documents/deep_learning_music_project\\\\onsets_ISMIR_2012\\\\csv_large_label\\\\ff123_DaFunk_start_end_spect_target.csv' saved successfully.\",\n",
       " \"File 'C:/Users/20192801/Documents/deep_learning_music_project\\\\onsets_ISMIR_2012\\\\csv_large_label\\\\ff123_Debussy_start_end_spect_target.csv' saved successfully.\",\n",
       " \"File 'C:/Users/20192801/Documents/deep_learning_music_project\\\\onsets_ISMIR_2012\\\\csv_large_label\\\\ff123_deerhunter_start_end_spect_target.csv' saved successfully.\",\n",
       " \"File 'C:/Users/20192801/Documents/deep_learning_music_project\\\\onsets_ISMIR_2012\\\\csv_large_label\\\\ff123_dogies_start_end_spect_target.csv' saved successfully.\",\n",
       " \"File 'C:/Users/20192801/Documents/deep_learning_music_project\\\\onsets_ISMIR_2012\\\\csv_large_label\\\\ff123_drone_short_start_end_spect_target.csv' saved successfully.\",\n",
       " \"File 'C:/Users/20192801/Documents/deep_learning_music_project\\\\onsets_ISMIR_2012\\\\csv_large_label\\\\ff123_duel_start_end_spect_target.csv' saved successfully.\",\n",
       " \"File 'C:/Users/20192801/Documents/deep_learning_music_project\\\\onsets_ISMIR_2012\\\\csv_large_label\\\\ff123_eb_andul_short_start_end_spect_target.csv' saved successfully.\",\n",
       " \"File 'C:/Users/20192801/Documents/deep_learning_music_project\\\\onsets_ISMIR_2012\\\\csv_large_label\\\\ff123_Enchantment_start_end_spect_target.csv' saved successfully.\",\n",
       " \"File 'C:/Users/20192801/Documents/deep_learning_music_project\\\\onsets_ISMIR_2012\\\\csv_large_label\\\\ff123_ExitMusic_start_end_spect_target.csv' saved successfully.\",\n",
       " \"File 'C:/Users/20192801/Documents/deep_learning_music_project\\\\onsets_ISMIR_2012\\\\csv_large_label\\\\ff123_FloorEssence_start_end_spect_target.csv' saved successfully.\",\n",
       " \"File 'C:/Users/20192801/Documents/deep_learning_music_project\\\\onsets_ISMIR_2012\\\\csv_large_label\\\\ff123_fossiles_start_end_spect_target.csv' saved successfully.\",\n",
       " \"File 'C:/Users/20192801/Documents/deep_learning_music_project\\\\onsets_ISMIR_2012\\\\csv_large_label\\\\ff123_freeup_start_end_spect_target.csv' saved successfully.\",\n",
       " \"File 'C:/Users/20192801/Documents/deep_learning_music_project\\\\onsets_ISMIR_2012\\\\csv_large_label\\\\ff123_gekkou-intro_start_end_spect_target.csv' saved successfully.\",\n",
       " \"File 'C:/Users/20192801/Documents/deep_learning_music_project\\\\onsets_ISMIR_2012\\\\csv_large_label\\\\ff123_grace1_start_end_spect_target.csv' saved successfully.\",\n",
       " \"File 'C:/Users/20192801/Documents/deep_learning_music_project\\\\onsets_ISMIR_2012\\\\csv_large_label\\\\ff123_Hongroise_start_end_spect_target.csv' saved successfully.\",\n",
       " \"File 'C:/Users/20192801/Documents/deep_learning_music_project\\\\onsets_ISMIR_2012\\\\csv_large_label\\\\ff123_ItCouldBeSweet_start_end_spect_target.csv' saved successfully.\",\n",
       " \"File 'C:/Users/20192801/Documents/deep_learning_music_project\\\\onsets_ISMIR_2012\\\\csv_large_label\\\\ff123_kraftwerk_start_end_spect_target.csv' saved successfully.\",\n",
       " \"File 'C:/Users/20192801/Documents/deep_learning_music_project\\\\onsets_ISMIR_2012\\\\csv_large_label\\\\ff123_rushing_start_end_spect_target.csv' saved successfully.\",\n",
       " \"File 'C:/Users/20192801/Documents/deep_learning_music_project\\\\onsets_ISMIR_2012\\\\csv_large_label\\\\ff123_TheSource_start_end_spect_target.csv' saved successfully.\",\n",
       " \"File 'C:/Users/20192801/Documents/deep_learning_music_project\\\\onsets_ISMIR_2012\\\\csv_large_label\\\\ff123_wait_start_end_spect_target.csv' saved successfully.\",\n",
       " \"File 'C:/Users/20192801/Documents/deep_learning_music_project\\\\onsets_ISMIR_2012\\\\csv_large_label\\\\ff123_Waiting_start_end_spect_target.csv' saved successfully.\",\n",
       " \"File 'C:/Users/20192801/Documents/deep_learning_music_project\\\\onsets_ISMIR_2012\\\\csv_large_label\\\\gs_mix1_0dB_start_end_spect_target.csv' saved successfully.\",\n",
       " \"File 'C:/Users/20192801/Documents/deep_learning_music_project\\\\onsets_ISMIR_2012\\\\csv_large_label\\\\gs_mix2_0dB_start_end_spect_target.csv' saved successfully.\",\n",
       " \"File 'C:/Users/20192801/Documents/deep_learning_music_project\\\\onsets_ISMIR_2012\\\\csv_large_label\\\\jpb_arab60s_start_end_spect_target.csv' saved successfully.\",\n",
       " \"File 'C:/Users/20192801/Documents/deep_learning_music_project\\\\onsets_ISMIR_2012\\\\csv_large_label\\\\jpb_dido_start_end_spect_target.csv' saved successfully.\",\n",
       " \"File 'C:/Users/20192801/Documents/deep_learning_music_project\\\\onsets_ISMIR_2012\\\\csv_large_label\\\\jpb_fiona_start_end_spect_target.csv' saved successfully.\",\n",
       " \"File 'C:/Users/20192801/Documents/deep_learning_music_project\\\\onsets_ISMIR_2012\\\\csv_large_label\\\\jpb_Jaillet15_start_end_spect_target.csv' saved successfully.\",\n",
       " \"File 'C:/Users/20192801/Documents/deep_learning_music_project\\\\onsets_ISMIR_2012\\\\csv_large_label\\\\jpb_Jaillet17_start_end_spect_target.csv' saved successfully.\",\n",
       " \"File 'C:/Users/20192801/Documents/deep_learning_music_project\\\\onsets_ISMIR_2012\\\\csv_large_label\\\\jpb_Jaillet21_start_end_spect_target.csv' saved successfully.\",\n",
       " \"File 'C:/Users/20192801/Documents/deep_learning_music_project\\\\onsets_ISMIR_2012\\\\csv_large_label\\\\jpb_Jaillet27_start_end_spect_target.csv' saved successfully.\",\n",
       " \"File 'C:/Users/20192801/Documents/deep_learning_music_project\\\\onsets_ISMIR_2012\\\\csv_large_label\\\\jpb_Jaillet29_start_end_spect_target.csv' saved successfully.\",\n",
       " \"File 'C:/Users/20192801/Documents/deep_learning_music_project\\\\onsets_ISMIR_2012\\\\csv_large_label\\\\jpb_Jaillet34_start_end_spect_target.csv' saved successfully.\",\n",
       " \"File 'C:/Users/20192801/Documents/deep_learning_music_project\\\\onsets_ISMIR_2012\\\\csv_large_label\\\\jpb_Jaillet64_start_end_spect_target.csv' saved successfully.\",\n",
       " \"File 'C:/Users/20192801/Documents/deep_learning_music_project\\\\onsets_ISMIR_2012\\\\csv_large_label\\\\jpb_Jaillet65_start_end_spect_target.csv' saved successfully.\",\n",
       " \"File 'C:/Users/20192801/Documents/deep_learning_music_project\\\\onsets_ISMIR_2012\\\\csv_large_label\\\\jpb_Jaillet66_start_end_spect_target.csv' saved successfully.\",\n",
       " \"File 'C:/Users/20192801/Documents/deep_learning_music_project\\\\onsets_ISMIR_2012\\\\csv_large_label\\\\jpb_Jaillet67_start_end_spect_target.csv' saved successfully.\",\n",
       " \"File 'C:/Users/20192801/Documents/deep_learning_music_project\\\\onsets_ISMIR_2012\\\\csv_large_label\\\\jpb_Jaillet70_start_end_spect_target.csv' saved successfully.\",\n",
       " \"File 'C:/Users/20192801/Documents/deep_learning_music_project\\\\onsets_ISMIR_2012\\\\csv_large_label\\\\jpb_Jaillet73_start_end_spect_target.csv' saved successfully.\",\n",
       " \"File 'C:/Users/20192801/Documents/deep_learning_music_project\\\\onsets_ISMIR_2012\\\\csv_large_label\\\\jpb_Jaillet74_start_end_spect_target.csv' saved successfully.\",\n",
       " \"File 'C:/Users/20192801/Documents/deep_learning_music_project\\\\onsets_ISMIR_2012\\\\csv_large_label\\\\jpb_Jaillet75_start_end_spect_target.csv' saved successfully.\",\n",
       " \"File 'C:/Users/20192801/Documents/deep_learning_music_project\\\\onsets_ISMIR_2012\\\\csv_large_label\\\\jpb_jaxx_start_end_spect_target.csv' saved successfully.\",\n",
       " \"File 'C:/Users/20192801/Documents/deep_learning_music_project\\\\onsets_ISMIR_2012\\\\csv_large_label\\\\jpb_metheny_start_end_spect_target.csv' saved successfully.\",\n",
       " \"File 'C:/Users/20192801/Documents/deep_learning_music_project\\\\onsets_ISMIR_2012\\\\csv_large_label\\\\jpb_PianoDebussy_start_end_spect_target.csv' saved successfully.\",\n",
       " \"File 'C:/Users/20192801/Documents/deep_learning_music_project\\\\onsets_ISMIR_2012\\\\csv_large_label\\\\jpb_tabla_start_end_spect_target.csv' saved successfully.\",\n",
       " \"File 'C:/Users/20192801/Documents/deep_learning_music_project\\\\onsets_ISMIR_2012\\\\csv_large_label\\\\jpb_violin_start_end_spect_target.csv' saved successfully.\",\n",
       " \"File 'C:/Users/20192801/Documents/deep_learning_music_project\\\\onsets_ISMIR_2012\\\\csv_large_label\\\\jpb_wilco_start_end_spect_target.csv' saved successfully.\",\n",
       " \"File 'C:/Users/20192801/Documents/deep_learning_music_project\\\\onsets_ISMIR_2012\\\\csv_large_label\\\\lame_BlackBird_start_end_spect_target.csv' saved successfully.\",\n",
       " \"File 'C:/Users/20192801/Documents/deep_learning_music_project\\\\onsets_ISMIR_2012\\\\csv_large_label\\\\lame_castanets_start_end_spect_target.csv' saved successfully.\",\n",
       " \"File 'C:/Users/20192801/Documents/deep_learning_music_project\\\\onsets_ISMIR_2012\\\\csv_large_label\\\\lame_else3_start_end_spect_target.csv' saved successfully.\",\n",
       " \"File 'C:/Users/20192801/Documents/deep_learning_music_project\\\\onsets_ISMIR_2012\\\\csv_large_label\\\\lame_fatboy_start_end_spect_target.csv' saved successfully.\",\n",
       " \"File 'C:/Users/20192801/Documents/deep_learning_music_project\\\\onsets_ISMIR_2012\\\\csv_large_label\\\\lame_Fools_start_end_spect_target.csv' saved successfully.\",\n",
       " \"File 'C:/Users/20192801/Documents/deep_learning_music_project\\\\onsets_ISMIR_2012\\\\csv_large_label\\\\lame_ftb_samp_start_end_spect_target.csv' saved successfully.\",\n",
       " \"File 'C:/Users/20192801/Documents/deep_learning_music_project\\\\onsets_ISMIR_2012\\\\csv_large_label\\\\lame_hihat_start_end_spect_target.csv' saved successfully.\",\n",
       " \"File 'C:/Users/20192801/Documents/deep_learning_music_project\\\\onsets_ISMIR_2012\\\\csv_large_label\\\\lame_iron_start_end_spect_target.csv' saved successfully.\",\n",
       " \"File 'C:/Users/20192801/Documents/deep_learning_music_project\\\\onsets_ISMIR_2012\\\\csv_large_label\\\\lame_main_theme_start_end_spect_target.csv' saved successfully.\",\n",
       " \"File 'C:/Users/20192801/Documents/deep_learning_music_project\\\\onsets_ISMIR_2012\\\\csv_large_label\\\\lame_pipes_start_end_spect_target.csv' saved successfully.\",\n",
       " \"File 'C:/Users/20192801/Documents/deep_learning_music_project\\\\onsets_ISMIR_2012\\\\csv_large_label\\\\lame_spahm_start_end_spect_target.csv' saved successfully.\",\n",
       " \"File 'C:/Users/20192801/Documents/deep_learning_music_project\\\\onsets_ISMIR_2012\\\\csv_large_label\\\\lame_t1_start_end_spect_target.csv' saved successfully.\",\n",
       " \"File 'C:/Users/20192801/Documents/deep_learning_music_project\\\\onsets_ISMIR_2012\\\\csv_large_label\\\\lame_testsignal2_start_end_spect_target.csv' saved successfully.\",\n",
       " \"File 'C:/Users/20192801/Documents/deep_learning_music_project\\\\onsets_ISMIR_2012\\\\csv_large_label\\\\lame_vbrtest_start_end_spect_target.csv' saved successfully.\",\n",
       " \"File 'C:/Users/20192801/Documents/deep_learning_music_project\\\\onsets_ISMIR_2012\\\\csv_large_label\\\\lame_velvet_start_end_spect_target.csv' saved successfully.\",\n",
       " \"File 'C:/Users/20192801/Documents/deep_learning_music_project\\\\onsets_ISMIR_2012\\\\csv_large_label\\\\lame_youcantdothat_start_end_spect_target.csv' saved successfully.\",\n",
       " \"File 'C:/Users/20192801/Documents/deep_learning_music_project\\\\onsets_ISMIR_2012\\\\csv_large_label\\\\mck_train1_start_end_spect_target.csv' saved successfully.\",\n",
       " \"File 'C:/Users/20192801/Documents/deep_learning_music_project\\\\onsets_ISMIR_2012\\\\csv_large_label\\\\mck_train10_start_end_spect_target.csv' saved successfully.\",\n",
       " \"File 'C:/Users/20192801/Documents/deep_learning_music_project\\\\onsets_ISMIR_2012\\\\csv_large_label\\\\mck_train11_start_end_spect_target.csv' saved successfully.\",\n",
       " \"File 'C:/Users/20192801/Documents/deep_learning_music_project\\\\onsets_ISMIR_2012\\\\csv_large_label\\\\mck_train13_start_end_spect_target.csv' saved successfully.\",\n",
       " \"File 'C:/Users/20192801/Documents/deep_learning_music_project\\\\onsets_ISMIR_2012\\\\csv_large_label\\\\mck_train14_start_end_spect_target.csv' saved successfully.\",\n",
       " \"File 'C:/Users/20192801/Documents/deep_learning_music_project\\\\onsets_ISMIR_2012\\\\csv_large_label\\\\mck_train15_start_end_spect_target.csv' saved successfully.\",\n",
       " \"File 'C:/Users/20192801/Documents/deep_learning_music_project\\\\onsets_ISMIR_2012\\\\csv_large_label\\\\mck_train16_start_end_spect_target.csv' saved successfully.\",\n",
       " \"File 'C:/Users/20192801/Documents/deep_learning_music_project\\\\onsets_ISMIR_2012\\\\csv_large_label\\\\mck_train18_start_end_spect_target.csv' saved successfully.\",\n",
       " \"File 'C:/Users/20192801/Documents/deep_learning_music_project\\\\onsets_ISMIR_2012\\\\csv_large_label\\\\mck_train19_start_end_spect_target.csv' saved successfully.\",\n",
       " \"File 'C:/Users/20192801/Documents/deep_learning_music_project\\\\onsets_ISMIR_2012\\\\csv_large_label\\\\mck_train2_start_end_spect_target.csv' saved successfully.\",\n",
       " \"File 'C:/Users/20192801/Documents/deep_learning_music_project\\\\onsets_ISMIR_2012\\\\csv_large_label\\\\mck_train20_start_end_spect_target.csv' saved successfully.\",\n",
       " \"File 'C:/Users/20192801/Documents/deep_learning_music_project\\\\onsets_ISMIR_2012\\\\csv_large_label\\\\mck_train3_start_end_spect_target.csv' saved successfully.\",\n",
       " \"File 'C:/Users/20192801/Documents/deep_learning_music_project\\\\onsets_ISMIR_2012\\\\csv_large_label\\\\mck_train4_start_end_spect_target.csv' saved successfully.\",\n",
       " \"File 'C:/Users/20192801/Documents/deep_learning_music_project\\\\onsets_ISMIR_2012\\\\csv_large_label\\\\mck_train5_start_end_spect_target.csv' saved successfully.\",\n",
       " \"File 'C:/Users/20192801/Documents/deep_learning_music_project\\\\onsets_ISMIR_2012\\\\csv_large_label\\\\mck_train6_start_end_spect_target.csv' saved successfully.\",\n",
       " \"File 'C:/Users/20192801/Documents/deep_learning_music_project\\\\onsets_ISMIR_2012\\\\csv_large_label\\\\mck_train7_start_end_spect_target.csv' saved successfully.\",\n",
       " \"File 'C:/Users/20192801/Documents/deep_learning_music_project\\\\onsets_ISMIR_2012\\\\csv_large_label\\\\mck_train8_start_end_spect_target.csv' saved successfully.\",\n",
       " \"File 'C:/Users/20192801/Documents/deep_learning_music_project\\\\onsets_ISMIR_2012\\\\csv_large_label\\\\mck_train9_start_end_spect_target.csv' saved successfully.\",\n",
       " \"File 'C:/Users/20192801/Documents/deep_learning_music_project\\\\onsets_ISMIR_2012\\\\csv_large_label\\\\mit_karaoke_tempo_start_end_spect_target.csv' saved successfully.\",\n",
       " \"File 'C:/Users/20192801/Documents/deep_learning_music_project\\\\onsets_ISMIR_2012\\\\csv_large_label\\\\mit_track1_start_end_spect_target.csv' saved successfully.\",\n",
       " \"File 'C:/Users/20192801/Documents/deep_learning_music_project\\\\onsets_ISMIR_2012\\\\csv_large_label\\\\mit_track3_start_end_spect_target.csv' saved successfully.\",\n",
       " \"File 'C:/Users/20192801/Documents/deep_learning_music_project\\\\onsets_ISMIR_2012\\\\csv_large_label\\\\mit_track4_start_end_spect_target.csv' saved successfully.\",\n",
       " \"File 'C:/Users/20192801/Documents/deep_learning_music_project\\\\onsets_ISMIR_2012\\\\csv_large_label\\\\mit_track5_start_end_spect_target.csv' saved successfully.\",\n",
       " \"File 'C:/Users/20192801/Documents/deep_learning_music_project\\\\onsets_ISMIR_2012\\\\csv_large_label\\\\mit_track6_start_end_spect_target.csv' saved successfully.\",\n",
       " \"File 'C:/Users/20192801/Documents/deep_learning_music_project\\\\onsets_ISMIR_2012\\\\csv_large_label\\\\mit_track7_start_end_spect_target.csv' saved successfully.\",\n",
       " \"File 'C:/Users/20192801/Documents/deep_learning_music_project\\\\onsets_ISMIR_2012\\\\csv_large_label\\\\sb_Albums-Ballroom_Classics4-01(3.0-13.0)_start_end_spect_target.csv' saved successfully.\",\n",
       " \"File 'C:/Users/20192801/Documents/deep_learning_music_project\\\\onsets_ISMIR_2012\\\\csv_large_label\\\\sb_Albums-Ballroom_Classics4-11(7.0-17.0)_start_end_spect_target.csv' saved successfully.\",\n",
       " \"File 'C:/Users/20192801/Documents/deep_learning_music_project\\\\onsets_ISMIR_2012\\\\csv_large_label\\\\sb_Albums-Ballroom_Magic-04(6.0-16.0)_start_end_spect_target.csv' saved successfully.\",\n",
       " \"File 'C:/Users/20192801/Documents/deep_learning_music_project\\\\onsets_ISMIR_2012\\\\csv_large_label\\\\sb_Albums-Ballroom_Magic-09(4.0-14.0)_start_end_spect_target.csv' saved successfully.\",\n",
       " \"File 'C:/Users/20192801/Documents/deep_learning_music_project\\\\onsets_ISMIR_2012\\\\csv_large_label\\\\sb_Albums-Cafe_Paradiso-05(4.3-14.3)_start_end_spect_target.csv' saved successfully.\",\n",
       " \"File 'C:/Users/20192801/Documents/deep_learning_music_project\\\\onsets_ISMIR_2012\\\\csv_large_label\\\\sb_Albums-Cafe_Paradiso-07(13.1-23.1)_start_end_spect_target.csv' saved successfully.\",\n",
       " \"File 'C:/Users/20192801/Documents/deep_learning_music_project\\\\onsets_ISMIR_2012\\\\csv_large_label\\\\sb_Albums-Chrisanne1-01(3.0-13.0)_start_end_spect_target.csv' saved successfully.\",\n",
       " \"File 'C:/Users/20192801/Documents/deep_learning_music_project\\\\onsets_ISMIR_2012\\\\csv_large_label\\\\sb_Albums-Chrisanne1-08(9.0-19.0)_start_end_spect_target.csv' saved successfully.\",\n",
       " \"File 'C:/Users/20192801/Documents/deep_learning_music_project\\\\onsets_ISMIR_2012\\\\csv_large_label\\\\sb_Albums-Chrisanne2-01(16.0-26.0)_start_end_spect_target.csv' saved successfully.\",\n",
       " \"File 'C:/Users/20192801/Documents/deep_learning_music_project\\\\onsets_ISMIR_2012\\\\csv_large_label\\\\sb_Albums-Chrisanne3-02(12.0-22.0)_start_end_spect_target.csv' saved successfully.\",\n",
       " \"File 'C:/Users/20192801/Documents/deep_learning_music_project\\\\onsets_ISMIR_2012\\\\csv_large_label\\\\sb_Albums-Chrisanne3-07(3.0-13.0)_start_end_spect_target.csv' saved successfully.\",\n",
       " \"File 'C:/Users/20192801/Documents/deep_learning_music_project\\\\onsets_ISMIR_2012\\\\csv_large_label\\\\sb_Albums-Fire-13(15.0-25.0)_start_end_spect_target.csv' saved successfully.\",\n",
       " \"File 'C:/Users/20192801/Documents/deep_learning_music_project\\\\onsets_ISMIR_2012\\\\csv_large_label\\\\sb_Albums-I_Like_It2-01(13.1-23.1)_start_end_spect_target.csv' saved successfully.\",\n",
       " \"File 'C:/Users/20192801/Documents/deep_learning_music_project\\\\onsets_ISMIR_2012\\\\csv_large_label\\\\sb_Albums-Latin_Jam-13(6.0-16.0)_start_end_spect_target.csv' saved successfully.\",\n",
       " \"File 'C:/Users/20192801/Documents/deep_learning_music_project\\\\onsets_ISMIR_2012\\\\csv_large_label\\\\sb_Albums-Latin_Jam3-02(3.0-13.0)_start_end_spect_target.csv' saved successfully.\",\n",
       " \"File 'C:/Users/20192801/Documents/deep_learning_music_project\\\\onsets_ISMIR_2012\\\\csv_large_label\\\\sb_Albums-Step_By_Step-09(2.0-12.0)_start_end_spect_target.csv' saved successfully.\",\n",
       " \"File 'C:/Users/20192801/Documents/deep_learning_music_project\\\\onsets_ISMIR_2012\\\\csv_large_label\\\\sb_Media-100608(3.0-13.0)_start_end_spect_target.csv' saved successfully.\",\n",
       " \"File 'C:/Users/20192801/Documents/deep_learning_music_project\\\\onsets_ISMIR_2012\\\\csv_large_label\\\\sb_Media-103302(15.0-25.0)_start_end_spect_target.csv' saved successfully.\",\n",
       " \"File 'C:/Users/20192801/Documents/deep_learning_music_project\\\\onsets_ISMIR_2012\\\\csv_large_label\\\\sb_Media-103307(4.0-14.0)_start_end_spect_target.csv' saved successfully.\",\n",
       " \"File 'C:/Users/20192801/Documents/deep_learning_music_project\\\\onsets_ISMIR_2012\\\\csv_large_label\\\\sb_Media-103416(12.0-22.0)_start_end_spect_target.csv' saved successfully.\",\n",
       " \"File 'C:/Users/20192801/Documents/deep_learning_music_project\\\\onsets_ISMIR_2012\\\\csv_large_label\\\\sb_Media-104111(5.0-15.0)_start_end_spect_target.csv' saved successfully.\",\n",
       " \"File 'C:/Users/20192801/Documents/deep_learning_music_project\\\\onsets_ISMIR_2012\\\\csv_large_label\\\\sb_Media-104210(2.0-12.0)_start_end_spect_target.csv' saved successfully.\",\n",
       " \"File 'C:/Users/20192801/Documents/deep_learning_music_project\\\\onsets_ISMIR_2012\\\\csv_large_label\\\\sb_Media-105213(13.0-23.0)_start_end_spect_target.csv' saved successfully.\",\n",
       " \"File 'C:/Users/20192801/Documents/deep_learning_music_project\\\\onsets_ISMIR_2012\\\\csv_large_label\\\\sb_Media-105215(12.0-22.0)_start_end_spect_target.csv' saved successfully.\",\n",
       " \"File 'C:/Users/20192801/Documents/deep_learning_music_project\\\\onsets_ISMIR_2012\\\\csv_large_label\\\\sb_Media-105407(6.0-16.0)_start_end_spect_target.csv' saved successfully.\",\n",
       " \"File 'C:/Users/20192801/Documents/deep_learning_music_project\\\\onsets_ISMIR_2012\\\\csv_large_label\\\\sb_Media-105801(11.0-21.0)_start_end_spect_target.csv' saved successfully.\",\n",
       " \"File 'C:/Users/20192801/Documents/deep_learning_music_project\\\\onsets_ISMIR_2012\\\\csv_large_label\\\\sb_Media-105810(5.0-15.0)_start_end_spect_target.csv' saved successfully.\",\n",
       " \"File 'C:/Users/20192801/Documents/deep_learning_music_project\\\\onsets_ISMIR_2012\\\\csv_large_label\\\\sb_Media-105907(0.0-10.0)_start_end_spect_target.csv' saved successfully.\",\n",
       " \"File 'C:/Users/20192801/Documents/deep_learning_music_project\\\\onsets_ISMIR_2012\\\\csv_large_label\\\\sb_Media-106003(0.2-10.2)_start_end_spect_target.csv' saved successfully.\",\n",
       " \"File 'C:/Users/20192801/Documents/deep_learning_music_project\\\\onsets_ISMIR_2012\\\\csv_large_label\\\\sb_Media-106103(4.0-14.0)_start_end_spect_target.csv' saved successfully.\",\n",
       " \"File 'C:/Users/20192801/Documents/deep_learning_music_project\\\\onsets_ISMIR_2012\\\\csv_large_label\\\\sb_Media-106117(7.0-17.0)_start_end_spect_target.csv' saved successfully.\",\n",
       " \"File 'C:/Users/20192801/Documents/deep_learning_music_project\\\\onsets_ISMIR_2012\\\\csv_large_label\\\\SoundCheck2_60_Vocal_Tenor_opera_start_end_spect_target.csv' saved successfully.\",\n",
       " \"File 'C:/Users/20192801/Documents/deep_learning_music_project\\\\onsets_ISMIR_2012\\\\csv_large_label\\\\SoundCheck2_61_Vocal_Soprano_opera_start_end_spect_target.csv' saved successfully.\",\n",
       " \"File 'C:/Users/20192801/Documents/deep_learning_music_project\\\\onsets_ISMIR_2012\\\\csv_large_label\\\\SoundCheck2_62_Vocal_Male_Rock_Vocal_start_end_spect_target.csv' saved successfully.\",\n",
       " \"File 'C:/Users/20192801/Documents/deep_learning_music_project\\\\onsets_ISMIR_2012\\\\csv_large_label\\\\SoundCheck2_63_Instrumental_Piano_start_end_spect_target.csv' saved successfully.\",\n",
       " \"File 'C:/Users/20192801/Documents/deep_learning_music_project\\\\onsets_ISMIR_2012\\\\csv_large_label\\\\SoundCheck2_64_Instrumental_Acoustic_steel_strung_guitar_finger_style_start_end_spect_target.csv' saved successfully.\",\n",
       " \"File 'C:/Users/20192801/Documents/deep_learning_music_project\\\\onsets_ISMIR_2012\\\\csv_large_label\\\\SoundCheck2_65_Instrumental_Acoustic_steel_strung_guitar_strummed_start_end_spect_target.csv' saved successfully.\",\n",
       " \"File 'C:/Users/20192801/Documents/deep_learning_music_project\\\\onsets_ISMIR_2012\\\\csv_large_label\\\\SoundCheck2_70_Instrumental_Flute_start_end_spect_target.csv' saved successfully.\",\n",
       " \"File 'C:/Users/20192801/Documents/deep_learning_music_project\\\\onsets_ISMIR_2012\\\\csv_large_label\\\\SoundCheck2_71_Instrumental_Saxophone_start_end_spect_target.csv' saved successfully.\",\n",
       " \"File 'C:/Users/20192801/Documents/deep_learning_music_project\\\\onsets_ISMIR_2012\\\\csv_large_label\\\\SoundCheck2_72_Instrumental_Bongos_start_end_spect_target.csv' saved successfully.\",\n",
       " \"File 'C:/Users/20192801/Documents/deep_learning_music_project\\\\onsets_ISMIR_2012\\\\csv_large_label\\\\SoundCheck2_73_Instrumental_Tambourine_start_end_spect_target.csv' saved successfully.\",\n",
       " \"File 'C:/Users/20192801/Documents/deep_learning_music_project\\\\onsets_ISMIR_2012\\\\csv_large_label\\\\SoundCheck2_74_Instrumental_Kick_drum_start_end_spect_target.csv' saved successfully.\",\n",
       " \"File 'C:/Users/20192801/Documents/deep_learning_music_project\\\\onsets_ISMIR_2012\\\\csv_large_label\\\\SoundCheck2_75_Instrumental_Snare_drum_start_end_spect_target.csv' saved successfully.\",\n",
       " \"File 'C:/Users/20192801/Documents/deep_learning_music_project\\\\onsets_ISMIR_2012\\\\csv_large_label\\\\SoundCheck2_77_Instrumental_Toms_start_end_spect_target.csv' saved successfully.\",\n",
       " \"File 'C:/Users/20192801/Documents/deep_learning_music_project\\\\onsets_ISMIR_2012\\\\csv_large_label\\\\SoundCheck2_78_Instrumental_Whole_drum_kit_start_end_spect_target.csv' saved successfully.\",\n",
       " \"File 'C:/Users/20192801/Documents/deep_learning_music_project\\\\onsets_ISMIR_2012\\\\csv_large_label\\\\SoundCheck2_79_Instrumental_Violins_start_end_spect_target.csv' saved successfully.\",\n",
       " \"File 'C:/Users/20192801/Documents/deep_learning_music_project\\\\onsets_ISMIR_2012\\\\csv_large_label\\\\SoundCheck2_80_Instrumental_Cellos_and_violas_start_end_spect_target.csv' saved successfully.\",\n",
       " \"File 'C:/Users/20192801/Documents/deep_learning_music_project\\\\onsets_ISMIR_2012\\\\csv_large_label\\\\SoundCheck2_82_Yello_-_The_race_start_end_spect_target.csv' saved successfully.\",\n",
       " \"File 'C:/Users/20192801/Documents/deep_learning_music_project\\\\onsets_ISMIR_2012\\\\csv_large_label\\\\SoundCheck2_83_The_Alan_Parsons_Project_-_Limelight_start_end_spect_target.csv' saved successfully.\",\n",
       " \"File 'C:/Users/20192801/Documents/deep_learning_music_project\\\\onsets_ISMIR_2012\\\\csv_large_label\\\\SoundCheck2_84_Robin_S_-_Luv_4_Luv_start_end_spect_target.csv' saved successfully.\",\n",
       " \"File 'C:/Users/20192801/Documents/deep_learning_music_project\\\\onsets_ISMIR_2012\\\\csv_large_label\\\\unknown_violin_start_end_spect_target.csv' saved successfully.\",\n",
       " \"File 'C:/Users/20192801/Documents/deep_learning_music_project\\\\onsets_ISMIR_2012\\\\csv_large_label\\\\vorbis_11_start_end_spect_target.csv' saved successfully.\",\n",
       " \"File 'C:/Users/20192801/Documents/deep_learning_music_project\\\\onsets_ISMIR_2012\\\\csv_large_label\\\\vorbis_bassdrum_start_end_spect_target.csv' saved successfully.\",\n",
       " \"File 'C:/Users/20192801/Documents/deep_learning_music_project\\\\onsets_ISMIR_2012\\\\csv_large_label\\\\vorbis_dr4_start_end_spect_target.csv' saved successfully.\",\n",
       " \"File 'C:/Users/20192801/Documents/deep_learning_music_project\\\\onsets_ISMIR_2012\\\\csv_large_label\\\\vorbis_lalaw_start_end_spect_target.csv' saved successfully.\"]"
      ]
     },
     "execution_count": 35,
     "metadata": {},
     "output_type": "execute_result"
    }
   ],
   "source": [
    "import librosa\n",
    "import librosa.display\n",
    "import pandas as pd\n",
    "import numpy as np\n",
    "import os\n",
    "\n",
    "base_path = 'C:/Users/20192801/Documents/deep_learning_music_project'\n",
    "\n",
    "annotations_dir = os.path.join(base_path, 'onsets_ISMIR_2012', 'annotations', 'onsets')\n",
    "audio_dir = os.path.join(base_path, 'onsets_ISMIR_2012', 'audio')\n",
    "\n",
    "# Retrieve all csv and audio files\n",
    "list_of_onset_paths = [os.path.join(annotations_dir, f) for f in os.listdir(annotations_dir) if f.endswith('.onsets')]\n",
    "list_of_flac_files = [os.path.join(audio_dir, f) for f in os.listdir(audio_dir) if f.endswith('.flac')]\n",
    "\n",
    "n_fft = 512\n",
    "hop_length = 256\n",
    "number_mels = 254\n",
    "\n",
    "\n",
    "def compute_and_save_spect_target_dataframes(list_of_csv_paths, list_of_wav_paths, your_path, hop_length, n_fft,\n",
    "                                             number_mels):\n",
    "    # Ensure the lengths of the lists are the same\n",
    "    if len(list_of_csv_paths) != len(list_of_wav_paths):\n",
    "        raise ValueError(\"The lengths of the CSV and WAV file path lists must be equal.\")\n",
    "\n",
    "    # Initialize a list to hold confirmation messages\n",
    "    confirmation_messages = []\n",
    "\n",
    "    # Iterate over each pair of CSV and WAV file paths\n",
    "    for csv_path, wav_path in zip(list_of_csv_paths, list_of_wav_paths):\n",
    "        # Extract the name of the file (e.g., 'Haslebuskane_happy' from the WAV file path)\n",
    "        file_name = wav_path.split('/')[-1].replace('.flac', '')\n",
    "\n",
    "        # Extract the name of the file without extension\n",
    "        name = os.path.splitext(os.path.basename(wav_path))[0]\n",
    "\n",
    "        # Load the annotations from the CSV file\n",
    "        label_frame = pd.read_csv(csv_path, header=None)\n",
    "        onset_list = label_frame[0].values.tolist()\n",
    "\n",
    "        # Load the audio file\n",
    "        y, sr = librosa.load(wav_path)\n",
    "        \n",
    "        \n",
    "\n",
    "        # Compute the Mel spectrogram\n",
    "        mel_spectrogram = librosa.feature.melspectrogram(y=y, sr=sr, n_fft=n_fft, hop_length=hop_length,\n",
    "                                                         n_mels=number_mels)\n",
    "        num_frames = mel_spectrogram.shape[1]\n",
    "\n",
    "        # Initialize a DataFrame to hold the start, end samples, spectrogram, and onset data\n",
    "        start_end_spect_target = pd.DataFrame(columns=['Start sample', 'End sample', 'Spectrogram', 'onset'])\n",
    "\n",
    "        # Calculate sample time\n",
    "        frame_duration = hop_length / sr\n",
    "\n",
    "        # Prepare data frames for storing the spectrogram information\n",
    "        start_samples = np.arange(num_frames) * frame_duration\n",
    "        end_samples = start_samples + frame_duration\n",
    "\n",
    "        # Create DataFrame\n",
    "        start_end_spect_target = pd.DataFrame({\n",
    "            'Start sample': start_samples,\n",
    "            'End sample': end_samples,\n",
    "            'Spectrogram': [mel_spectrogram[:, i] for i in range(num_frames)],\n",
    "            'onset': 0\n",
    "        })\n",
    "\n",
    "        # Mark the onset frames based on the onset list\n",
    "        for onset in onset_list:\n",
    "            mask = (start_end_spect_target['Start sample']-0.025 <= onset) & (onset <= start_end_spect_target['End sample']+0.025)\n",
    "            start_end_spect_target.loc[mask, 'onset'] = 1\n",
    "\n",
    "        # Construct the path where each CSV will be saved\n",
    "        csv_save_path = os.path.join(your_path, 'onsets_ISMIR_2012', 'csv_large_label',\n",
    "                                     f\"{name}_start_end_spect_target.csv\")\n",
    "\n",
    "        # Ensure the directory exists before saving\n",
    "        os.makedirs(os.path.dirname(csv_save_path), exist_ok=True)\n",
    "        print(csv_save_path)\n",
    "        # Save the computed DataFrame as a CSV file\n",
    "        start_end_spect_target.to_csv(csv_save_path, index=False)\n",
    "\n",
    "        # Add a confirmation message to the list\n",
    "        confirmation_messages.append(f\"File '{csv_save_path}' saved successfully.\")\n",
    "\n",
    "    return confirmation_messages\n",
    "\n",
    "\n",
    "compute_and_save_spect_target_dataframes(list_of_onset_paths, list_of_flac_files, base_path,n_fft,hop_length,number_mels)"
   ]
  }
 ],
 "metadata": {
  "kernelspec": {
   "display_name": "Python 3",
   "language": "python",
   "name": "python3"
  },
  "language_info": {
   "codemirror_mode": {
    "name": "ipython",
    "version": 3
   },
   "file_extension": ".py",
   "mimetype": "text/x-python",
   "name": "python",
   "nbconvert_exporter": "python",
   "pygments_lexer": "ipython3",
   "version": "3.11.7"
  }
 },
 "nbformat": 4,
 "nbformat_minor": 2
}
